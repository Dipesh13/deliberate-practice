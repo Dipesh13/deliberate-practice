{
 "cells": [
  {
   "cell_type": "code",
   "execution_count": 1,
   "metadata": {},
   "outputs": [],
   "source": [
    "# Python ecosystem\n",
    "# 1) Python 2 vs 3 vs 3.6? a) The State of Python b) Differences c) Working with Both\n",
    "# 2) Open Source Philosophy\n",
    "# 3) Implementations\n",
    "\n",
    "# 1) Python 2 vs 3"
   ]
  },
  {
   "cell_type": "code",
   "execution_count": 5,
   "metadata": {},
   "outputs": [
    {
     "name": "stdout",
     "output_type": "stream",
     "text": [
      "The answer is 4\n",
      "10 \n",
      "(10, 20)\n"
     ]
    },
    {
     "name": "stderr",
     "output_type": "stream",
     "text": [
      "fatal error\n"
     ]
    }
   ],
   "source": [
    "# 1.1) print\n",
    "\n",
    "import sys\n",
    "x = 10\n",
    "y = 20\n",
    "\n",
    "# in python3 print is a function\n",
    "print(\"The answer is\", 2*2)\n",
    "\n",
    "# Appends a space instead of a newline\n",
    "print(x, end=\" \")\n",
    "\n",
    "# You must call the function!\n",
    "print()\n",
    "\n",
    "# Print to a file object\n",
    "print(\"fatal error\", file=sys.stderr)\n",
    "\n",
    "# Print a tuple\n",
    "print((x, y))"
   ]
  },
  {
   "cell_type": "code",
   "execution_count": 7,
   "metadata": {},
   "outputs": [],
   "source": [
    "# 2.1) Views and Iterators instead of Lists\n",
    "\n",
    "# # python2\n",
    "# # .items/keys/values->list\n",
    "# d = {'a': 1, 'b': 2}\n",
    "# d.items() # => [('a', 1), ('b', 2)]\n",
    "# d.iteritems() # => iterator\n",
    "\n",
    "# # map/filter -> list\n",
    "\n",
    "# # range->list, xrange->iterator\n",
    "# range(4) # => [0, 1, 2, 3]\n",
    "# xrange(4) # => iterator\n",
    "# zip([4, 1], 'py') # => list = [(4, 'p'), (1, 'y')]"
   ]
  },
  {
   "cell_type": "code",
   "execution_count": 9,
   "metadata": {},
   "outputs": [
    {
     "data": {
      "text/plain": [
       "dict_items([('a', 1), ('b', 2)])"
      ]
     },
     "execution_count": 9,
     "metadata": {},
     "output_type": "execute_result"
    }
   ],
   "source": [
    "# python3\n",
    "# .items/keys/values->view\n",
    "d = {'a': 1, 'b': 2}\n",
    "d.items() # => view"
   ]
  },
  {
   "cell_type": "code",
   "execution_count": 10,
   "metadata": {},
   "outputs": [
    {
     "data": {
      "text/plain": [
       "range(0, 4)"
      ]
     },
     "execution_count": 10,
     "metadata": {},
     "output_type": "execute_result"
    }
   ],
   "source": [
    "# map/filter -> iterator\n",
    "\n",
    "# range->iterator\n",
    "range(4) # => iterator"
   ]
  },
  {
   "cell_type": "code",
   "execution_count": 11,
   "metadata": {},
   "outputs": [
    {
     "data": {
      "text/plain": [
       "<zip at 0x7f32545a6a08>"
      ]
     },
     "execution_count": 11,
     "metadata": {},
     "output_type": "execute_result"
    }
   ],
   "source": [
    "zip([4, 1], 'py') # => iterator"
   ]
  },
  {
   "cell_type": "code",
   "execution_count": 12,
   "metadata": {},
   "outputs": [],
   "source": [
    "# 3.1) input and raw_input\n",
    "\n",
    "# # python2\n",
    "# # input evaluates user input\n",
    "# >>> x = input('Enter: ')\n",
    "# Enter: 3 + 5\n",
    "# >>> print x, type(x)\n",
    "# 8 <type 'int'>\n",
    "# # raw_input returns string\n",
    "# >>> y = raw_input('Enter: ')\n",
    "# Enter: 3 + 5\n",
    "# >>> print y, type(y)\n",
    "# 3 + 5 <type 'str'>"
   ]
  },
  {
   "cell_type": "code",
   "execution_count": 14,
   "metadata": {},
   "outputs": [
    {
     "name": "stdout",
     "output_type": "stream",
     "text": [
      "Enter: 3+5\n",
      "3+5 <class 'str'>\n"
     ]
    }
   ],
   "source": [
    "# python3\n",
    "\n",
    "# input returns string\n",
    "x = input('Enter: ') #Enter: 3 + 5\n",
    "\n",
    "print(x, type(x)) # 3 + 5 <type 'str'>"
   ]
  },
  {
   "cell_type": "code",
   "execution_count": 15,
   "metadata": {},
   "outputs": [],
   "source": [
    "# And Many More\n",
    "# consolidation of integer types\n",
    "# new-style objects\n",
    "# integer division\n",
    "# native unicode support\n",
    "# exception syntax\n",
    "# standard library organization and naming\n",
    "# performance and memory\n",
    "\n",
    "## Translating Python 2 to Python 3\n",
    "# Use 2to3 : \"reads Python 2.x source code and applies a series of fixers to transform it into valid Python 3.x code\"\n",
    "\n",
    "# Writing Code for Python 2 and Python 3\n",
    "# 1) Import from __future__ (docs : http://python-future.org/imports.html)\n",
    "# print_function, division, with_statement, etc.\n",
    "\n",
    "# 2) Use six : https://pythonhosted.org/six/\n",
    "# Useful abstractions, but fairly complicated\n",
    "# Probably only worth it for industry-scale projects"
   ]
  },
  {
   "cell_type": "code",
   "execution_count": 17,
   "metadata": {},
   "outputs": [],
   "source": [
    "# python at stanford\n",
    "# COMM 382: Big Data and Causal Inference\n",
    "# CS 231N: Convolutional Neural Networks for Visual Recognition\n",
    "# LINGUIST 276: Quantitative Methods in Linguistics\n",
    "# MS&E 448: Big Financial Data and Algorithmic Trading\n",
    "# POLISCI 452: Text as Data\n",
    "# STATS 155: Statistical Methods in Computational Genetics"
   ]
  },
  {
   "cell_type": "code",
   "execution_count": null,
   "metadata": {},
   "outputs": [],
   "source": []
  }
 ],
 "metadata": {
  "kernelspec": {
   "display_name": "Python 3",
   "language": "python",
   "name": "python3"
  },
  "language_info": {
   "codemirror_mode": {
    "name": "ipython",
    "version": 3
   },
   "file_extension": ".py",
   "mimetype": "text/x-python",
   "name": "python",
   "nbconvert_exporter": "python",
   "pygments_lexer": "ipython3",
   "version": "3.6.0"
  }
 },
 "nbformat": 4,
 "nbformat_minor": 2
}
