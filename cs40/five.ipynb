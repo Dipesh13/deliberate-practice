{
 "cells": [
  {
   "cell_type": "markdown",
   "metadata": {},
   "source": [
    "## Topics\n",
    "\n",
    "#### Map and Filter\n",
    "#### Lambdas\n",
    "#### Iterators/Generators\n",
    "#### Decorators"
   ]
  },
  {
   "cell_type": "code",
   "execution_count": 2,
   "metadata": {},
   "outputs": [],
   "source": [
    "# programming paradigms\n",
    "# 1) procedural = Sequence of instructions that inform the computer what to do with the program's input\n",
    "# eg) C\n",
    "# 2) declarative = Specification describes the problem to be solved, and language implementation figures out the details\n",
    "# eg) SQL\n",
    "# 3) object oriented = Deal with collections of objects which maintain internal state and support methods that query or modify this internal state in some way.\n",
    "# eg) java\n",
    "# 4) functional = Decomposes into a set of functions, each of which solely takes inputs and produces outputs with no internal\n",
    "# eg) haskell\n",
    "\n",
    "# Multi paradigm = Supports several different paradigms, to be combined freely\n",
    "# eg) C++ , Python"
   ]
  },
  {
   "cell_type": "code",
   "execution_count": 13,
   "metadata": {},
   "outputs": [],
   "source": [
    "# 1) Functional Programming Concepts:\n",
    "# Primary entity is a \"function\"\n",
    "# \"Pure\" functions are mathematical\n",
    "# Output depends only on input\n",
    "# No side effects that modify internal state\n",
    "# print() and file.write() are side effects\n",
    "\n",
    "# Why Functional Programming?\n",
    "# Modularity Encourages small independent functions\n",
    "# Composability Arrange existing functions for new goals\n",
    "# Easy Debugging Behavior depends only on input"
   ]
  },
  {
   "cell_type": "code",
   "execution_count": 14,
   "metadata": {},
   "outputs": [],
   "source": [
    "# # common pattern1\n",
    "\n",
    "# def common1(iterable):\n",
    "#     output = []\n",
    "#     for element in iterable:\n",
    "#         val = function(element)\n",
    "#         output.append(val)\n",
    "#     return output\n",
    "\n",
    "# # or [function(element) for element in iterable]\n",
    "\n",
    "# op = common1([1,2,3])\n",
    "\n",
    "# op"
   ]
  },
  {
   "cell_type": "code",
   "execution_count": 18,
   "metadata": {},
   "outputs": [],
   "source": [
    "# # common pattern2\n",
    "# def common2(iterable):\n",
    "#     output = []\n",
    "#     for element in iterable:\n",
    "#         if predicate(element):\n",
    "#             output.append(element)\n",
    "#         return output\n",
    "\n",
    "# # or [element for element in iterable if predicate(element)]\n",
    "\n",
    "# op = common2([1,2,3])\n",
    "\n",
    "# op"
   ]
  },
  {
   "cell_type": "markdown",
   "metadata": {},
   "source": [
    "# Map / Filter aim : apply some fn(fn not operation) to every element of iterable?"
   ]
  },
  {
   "cell_type": "code",
   "execution_count": 19,
   "metadata": {},
   "outputs": [
    {
     "name": "stdout",
     "output_type": "stream",
     "text": [
      "[6, 4, 4, 3]\n"
     ]
    },
    {
     "data": {
      "text/plain": [
       "<map at 0x7fb6b02a43c8>"
      ]
     },
     "execution_count": 19,
     "metadata": {},
     "output_type": "execute_result"
    }
   ],
   "source": [
    "# 1) MAP\n",
    "# syntax map(fn, iter)\n",
    "\n",
    "languages = [\"python\", \"perl\", \"java\", \"c++\"]\n",
    "print([len(s) for s in languages]) # >> [6,4,4,3]\n",
    "\n",
    "map(len, languages)\n",
    "# does the same thing as [len(s) for s in languages]"
   ]
  },
  {
   "cell_type": "code",
   "execution_count": 20,
   "metadata": {},
   "outputs": [
    {
     "data": {
      "text/plain": [
       "[6, 4, 4, 3]"
      ]
     },
     "execution_count": 20,
     "metadata": {},
     "output_type": "execute_result"
    }
   ],
   "source": [
    "list(map(len,languages))"
   ]
  },
  {
   "cell_type": "code",
   "execution_count": 22,
   "metadata": {},
   "outputs": [
    {
     "name": "stdout",
     "output_type": "stream",
     "text": [
      "[2, 8, 34]\n"
     ]
    },
    {
     "data": {
      "text/plain": [
       "<filter at 0x7fb6b02a4588>"
      ]
     },
     "execution_count": 22,
     "metadata": {},
     "output_type": "execute_result"
    }
   ],
   "source": [
    "# 2) FILTER\n",
    "# syntax filter(pred, iter)\n",
    "\n",
    "def is_even(x):\n",
    "    if x%2 == 0:\n",
    "        return True\n",
    "\n",
    "fibs = [1, 1, 2, 3, 5, 8, 13, 21, 34]\n",
    "print([num for num in fibs if is_even(num)]) # => [2,8,34]\n",
    "\n",
    "filter(is_even, fibs)\n",
    "# does the same thing as [num for num in fibs if is_even(num)"
   ]
  },
  {
   "cell_type": "code",
   "execution_count": 23,
   "metadata": {},
   "outputs": [
    {
     "data": {
      "text/plain": [
       "[2, 8, 34]"
      ]
     },
     "execution_count": 23,
     "metadata": {},
     "output_type": "execute_result"
    }
   ],
   "source": [
    "list(filter(is_even,fibs))"
   ]
  },
  {
   "cell_type": "markdown",
   "metadata": {},
   "source": [
    "## List Comprehensions vs. map + filter\n",
    "\n",
    "##### 1) Memory\n",
    "###### List Comprehensions: buffer all computed results\n",
    "###### Map/Filter: only compute output elements when asked\n",
    "\n",
    "##### 2) Speed\n",
    "###### LCs: no function call overhead, slightly faster usually\n",
    "###### Map/Filter: function calls, faster in some cases"
   ]
  },
  {
   "cell_type": "markdown",
   "metadata": {},
   "source": [
    "## Lambda Functions = Anonymous, on-the-fly, unnamed functions\n",
    "\n",
    "#### eg) keyword lambda creates an anonymous fn , returns an expression\n",
    "#### syntax: lambda params: expr(params)\n",
    "\n",
    "#### def binds a name to a function object. lambda only creates a function objec$t\n",
    "##### lambda val: val ** 2\n",
    "##### lambda x, y: x * y"
   ]
  },
  {
   "cell_type": "code",
   "execution_count": 25,
   "metadata": {},
   "outputs": [],
   "source": [
    "# using lambdas\n",
    "\n",
    "# triple = lambda x: x * 3 # NEVER EVER DO THIS\n",
    "\n",
    "x = map(lambda val: val ** 2, range(10)) # Squares from 0**2 to 9**2"
   ]
  },
  {
   "cell_type": "code",
   "execution_count": 26,
   "metadata": {},
   "outputs": [
    {
     "data": {
      "text/plain": [
       "[0, 1, 4, 9, 16, 25, 36, 49, 64, 81]"
      ]
     },
     "execution_count": 26,
     "metadata": {},
     "output_type": "execute_result"
    }
   ],
   "source": [
    "list(x)"
   ]
  },
  {
   "cell_type": "markdown",
   "metadata": {},
   "source": [
    "# Iterators and Generators = Stream of data,returned one element at a time\n",
    "\n",
    "#### 1) Iterators\n",
    "#### Use iter(data) to build an iterator for a data structure\n",
    "#### Represent finite or infinite data streams\n",
    "#### Use next(iterator) to yield successive values, Raises StopIteration error upon termination\n"
   ]
  },
  {
   "cell_type": "code",
   "execution_count": 28,
   "metadata": {},
   "outputs": [],
   "source": [
    "# eg) Build an iterator over [1,2,3]\n",
    "it = iter([1,2,3])"
   ]
  },
  {
   "cell_type": "code",
   "execution_count": 29,
   "metadata": {},
   "outputs": [
    {
     "name": "stdout",
     "output_type": "stream",
     "text": [
      "1\n",
      "2\n",
      "3\n"
     ]
    },
    {
     "ename": "StopIteration",
     "evalue": "",
     "output_type": "error",
     "traceback": [
      "\u001b[0;31m---------------------------------------------------------------------------\u001b[0m",
      "\u001b[0;31mStopIteration\u001b[0m                             Traceback (most recent call last)",
      "\u001b[0;32m<ipython-input-29-1171f68b7133>\u001b[0m in \u001b[0;36m<module>\u001b[0;34m\u001b[0m\n\u001b[1;32m      2\u001b[0m \u001b[0mprint\u001b[0m\u001b[0;34m(\u001b[0m\u001b[0mnext\u001b[0m\u001b[0;34m(\u001b[0m\u001b[0mit\u001b[0m\u001b[0;34m)\u001b[0m\u001b[0;34m)\u001b[0m \u001b[0;31m# => 2\u001b[0m\u001b[0;34m\u001b[0m\u001b[0m\n\u001b[1;32m      3\u001b[0m \u001b[0mprint\u001b[0m\u001b[0;34m(\u001b[0m\u001b[0mnext\u001b[0m\u001b[0;34m(\u001b[0m\u001b[0mit\u001b[0m\u001b[0;34m)\u001b[0m\u001b[0;34m)\u001b[0m \u001b[0;31m# => 3\u001b[0m\u001b[0;34m\u001b[0m\u001b[0m\n\u001b[0;32m----> 4\u001b[0;31m \u001b[0mprint\u001b[0m\u001b[0;34m(\u001b[0m\u001b[0mnext\u001b[0m\u001b[0;34m(\u001b[0m\u001b[0mit\u001b[0m\u001b[0;34m)\u001b[0m\u001b[0;34m)\u001b[0m \u001b[0;31m# raises StopIteration error\u001b[0m\u001b[0;34m\u001b[0m\u001b[0m\n\u001b[0m",
      "\u001b[0;31mStopIteration\u001b[0m: "
     ]
    }
   ],
   "source": [
    "print(next(it)) # => 1\n",
    "print(next(it)) # => 2\n",
    "print(next(it)) # => 3\n",
    "print(next(it)) # raises StopIteration error"
   ]
  },
  {
   "cell_type": "code",
   "execution_count": 32,
   "metadata": {},
   "outputs": [
    {
     "ename": "NameError",
     "evalue": "name 'data_source' is not defined",
     "output_type": "error",
     "traceback": [
      "\u001b[0;31m---------------------------------------------------------------------------\u001b[0m",
      "\u001b[0;31mNameError\u001b[0m                                 Traceback (most recent call last)",
      "\u001b[0;32m<ipython-input-32-321a16fc1430>\u001b[0m in \u001b[0;36m<module>\u001b[0;34m\u001b[0m\n\u001b[1;32m      1\u001b[0m \u001b[0;31m# For Loops use Iterators\u001b[0m\u001b[0;34m\u001b[0m\u001b[0;34m\u001b[0m\u001b[0m\n\u001b[0;32m----> 2\u001b[0;31m \u001b[0;32mfor\u001b[0m \u001b[0mdata\u001b[0m \u001b[0;32min\u001b[0m \u001b[0mdata_source\u001b[0m\u001b[0;34m:\u001b[0m\u001b[0;34m\u001b[0m\u001b[0m\n\u001b[0m\u001b[1;32m      3\u001b[0m     \u001b[0mprocess\u001b[0m\u001b[0;34m(\u001b[0m\u001b[0mdata\u001b[0m\u001b[0;34m)\u001b[0m\u001b[0;34m\u001b[0m\u001b[0m\n\u001b[1;32m      4\u001b[0m \u001b[0;31m# is really\u001b[0m\u001b[0;34m\u001b[0m\u001b[0;34m\u001b[0m\u001b[0m\n\u001b[1;32m      5\u001b[0m \u001b[0;32mfor\u001b[0m \u001b[0mdata\u001b[0m \u001b[0;32min\u001b[0m \u001b[0miter\u001b[0m\u001b[0;34m(\u001b[0m\u001b[0mdata_source\u001b[0m\u001b[0;34m)\u001b[0m\u001b[0;34m:\u001b[0m\u001b[0;34m\u001b[0m\u001b[0m\n",
      "\u001b[0;31mNameError\u001b[0m: name 'data_source' is not defined"
     ]
    }
   ],
   "source": [
    "# For Loops use Iterators\n",
    "for data in data_source:\n",
    "    process(data)\n",
    "# is really\n",
    "for data in iter(data_source):\n",
    "    process(data)"
   ]
  },
  {
   "cell_type": "code",
   "execution_count": 33,
   "metadata": {},
   "outputs": [],
   "source": [
    "# Builtins use Iterators\n",
    "# 1) Return a value\n",
    "# max(iterable)\n",
    "# min(iterable)\n",
    "# val in iterable\n",
    "# val not in iterable\n",
    "# all(iterable)\n",
    "# any(iterable)"
   ]
  },
  {
   "cell_type": "code",
   "execution_count": 34,
   "metadata": {},
   "outputs": [],
   "source": [
    "# 2) Return an iterable\n",
    "# enumerate(iterable)\n",
    "# zip(*iterables)\n",
    "# map(fn, iterable)\n",
    "# filter(pred, iterable"
   ]
  },
  {
   "cell_type": "code",
   "execution_count": 35,
   "metadata": {},
   "outputs": [],
   "source": [
    "# to convert to list use list(iterable) , similary we can use tuple or set"
   ]
  },
  {
   "cell_type": "markdown",
   "metadata": {},
   "source": [
    "## 2) Generator Expressions = \"Lazy List Comprehensions\"\n",
    "\n",
    "#### For when you just need a stream of data, not all of it\n",
    "#### eg    (expensive_function(data) for data in iterable)\n",
    "\n",
    "\n",
    "### Regular Functions vs. Generator Functions\n",
    "\n",
    "#####  Regular Functions Return a single, computed value\n",
    "#####  Generators Return an iterator that generates a stream of values\n",
    "\n",
    "#####  reg: Each call generates a new private namespace and new local variables,then variables are thrown away\n",
    "##### gen : Local variables aren't thrown away when exiting a function - you can resume where you left off!\n"
   ]
  },
  {
   "cell_type": "code",
   "execution_count": 36,
   "metadata": {},
   "outputs": [],
   "source": [
    "# eg) The yield keyword tells Python to convert the function into a generator\n",
    "def generate_ints(n):\n",
    "    for i in range(n):\n",
    "        yield i"
   ]
  },
  {
   "cell_type": "code",
   "execution_count": 37,
   "metadata": {},
   "outputs": [
    {
     "name": "stdout",
     "output_type": "stream",
     "text": [
      "0\n"
     ]
    }
   ],
   "source": [
    "g = generate_ints(3)\n",
    "print(next(g))"
   ]
  },
  {
   "cell_type": "code",
   "execution_count": 38,
   "metadata": {},
   "outputs": [
    {
     "name": "stdout",
     "output_type": "stream",
     "text": [
      "1\n"
     ]
    }
   ],
   "source": [
    "print(next(g))"
   ]
  },
  {
   "cell_type": "code",
   "execution_count": 39,
   "metadata": {},
   "outputs": [
    {
     "name": "stdout",
     "output_type": "stream",
     "text": [
      "2\n"
     ]
    }
   ],
   "source": [
    "print(next(g))"
   ]
  },
  {
   "cell_type": "code",
   "execution_count": 40,
   "metadata": {},
   "outputs": [],
   "source": [
    "# eg) Infinite stream of fibonaci numbers\n",
    "def generate_fibs():\n",
    "    a, b = 0, 1\n",
    "    while True:\n",
    "        a, b = b, a + b\n",
    "        yield a"
   ]
  },
  {
   "cell_type": "code",
   "execution_count": 41,
   "metadata": {},
   "outputs": [
    {
     "name": "stdout",
     "output_type": "stream",
     "text": [
      "1\n"
     ]
    }
   ],
   "source": [
    "g = generate_fibs()\n",
    "print(next(g))"
   ]
  },
  {
   "cell_type": "code",
   "execution_count": 42,
   "metadata": {},
   "outputs": [
    {
     "name": "stdout",
     "output_type": "stream",
     "text": [
      "1\n"
     ]
    }
   ],
   "source": [
    "print(next(g))"
   ]
  },
  {
   "cell_type": "code",
   "execution_count": 43,
   "metadata": {},
   "outputs": [
    {
     "name": "stdout",
     "output_type": "stream",
     "text": [
      "2\n"
     ]
    }
   ],
   "source": [
    "print(next(g))"
   ]
  },
  {
   "cell_type": "code",
   "execution_count": 44,
   "metadata": {},
   "outputs": [
    {
     "name": "stdout",
     "output_type": "stream",
     "text": [
      "3\n"
     ]
    }
   ],
   "source": [
    "print(next(g))"
   ]
  },
  {
   "cell_type": "code",
   "execution_count": 45,
   "metadata": {},
   "outputs": [
    {
     "name": "stdout",
     "output_type": "stream",
     "text": [
      "5\n"
     ]
    }
   ],
   "source": [
    "print(next(g))"
   ]
  },
  {
   "cell_type": "markdown",
   "metadata": {},
   "source": [
    "## Summary: Why Use Iterators and Generators?\n",
    "\n",
    "#### Compute data on demand\n",
    "#### Reduces in-memory buffering\n",
    "#### Avoid expensive function calls\n",
    "#### Describe (finite or infinite) streams of data\n",
    "#### Asynchronous programming (network/web)\n",
    "#### range, map, filter and others are or use iterables"
   ]
  },
  {
   "cell_type": "markdown",
   "metadata": {},
   "source": [
    "# 3) Decorators "
   ]
  },
  {
   "cell_type": "code",
   "execution_count": 47,
   "metadata": {},
   "outputs": [],
   "source": [
    "# 1) Functions as Arguments\n",
    "\n",
    "# eg)\n",
    "# map(fn, iterable)\n",
    "# filter(pred, iterable)"
   ]
  },
  {
   "cell_type": "code",
   "execution_count": 48,
   "metadata": {},
   "outputs": [
    {
     "name": "stdout",
     "output_type": "stream",
     "text": [
      "5&10...5&10..."
     ]
    }
   ],
   "source": [
    "def perform_twice(fn, *args, **kwargs):\n",
    "    fn(*args, **kwargs)\n",
    "    fn(*args, **kwargs)\n",
    "\n",
    "perform_twice(print, 5, 10, sep='&', end='...') # => 5&10...5&10..."
   ]
  },
  {
   "cell_type": "code",
   "execution_count": 49,
   "metadata": {},
   "outputs": [],
   "source": [
    "# 2) Functions as return values\n",
    "def make_divisibility_test(n):\n",
    "    def divisible_by_n(m):\n",
    "        return m % n == 0\n",
    "    return divisible_by_n"
   ]
  },
  {
   "cell_type": "code",
   "execution_count": 53,
   "metadata": {},
   "outputs": [
    {
     "name": "stdout",
     "output_type": "stream",
     "text": [
      "[0, 3, 6, 9]\n"
     ]
    },
    {
     "data": {
      "text/plain": [
       "True"
      ]
     },
     "execution_count": 53,
     "metadata": {},
     "output_type": "execute_result"
    }
   ],
   "source": [
    "div_by_3 = make_divisibility_test(3)\n",
    "\n",
    "filter(div_by_3, range(10)) # generates 0, 3, 6, 9\n",
    "print(list(filter(div_by_3, range(10))))\n",
    "\n",
    "make_divisibility_test(5)(10) # => True"
   ]
  },
  {
   "cell_type": "code",
   "execution_count": 61,
   "metadata": {},
   "outputs": [],
   "source": [
    "# 3) both function as argument and return value\n",
    "# x -> f(x)\n",
    "# Function as arg -> DECORATOR -> Function as return value\n",
    "# x'-> g(x')\n",
    "\n",
    "def debug(function):\n",
    "    def wrapper(*args, **kwargs):\n",
    "        print(\"Arguments:\", args, kwargs)\n",
    "        return function(*args, **kwargs)\n",
    "    return wrapper"
   ]
  },
  {
   "cell_type": "code",
   "execution_count": 63,
   "metadata": {},
   "outputs": [],
   "source": [
    "# eg)\n",
    "def foo(a, b, c=1):\n",
    "    return (a + b) * c"
   ]
  },
  {
   "cell_type": "code",
   "execution_count": 64,
   "metadata": {},
   "outputs": [
    {
     "name": "stdout",
     "output_type": "stream",
     "text": [
      "Arguments: (2, 3) {}\n"
     ]
    },
    {
     "data": {
      "text/plain": [
       "5"
      ]
     },
     "execution_count": 64,
     "metadata": {},
     "output_type": "execute_result"
    }
   ],
   "source": [
    "foo = debug(foo)\n",
    "foo(2, 3) # prints \"Arguments: (2, 3) {} # => returns 5"
   ]
  },
  {
   "cell_type": "code",
   "execution_count": 65,
   "metadata": {},
   "outputs": [
    {
     "name": "stdout",
     "output_type": "stream",
     "text": [
      "Arguments: (2, 1) {'c': 3}\n"
     ]
    },
    {
     "data": {
      "text/plain": [
       "9"
      ]
     },
     "execution_count": 65,
     "metadata": {},
     "output_type": "execute_result"
    }
   ],
   "source": [
    "foo(2, 1, c=3) # prints \"Arguments: (2, 1) {'c': 3}\" # => returns 9"
   ]
  },
  {
   "cell_type": "code",
   "execution_count": 66,
   "metadata": {},
   "outputs": [
    {
     "name": "stdout",
     "output_type": "stream",
     "text": [
      "Arguments: (5, 3) {'c': 2}\n"
     ]
    },
    {
     "data": {
      "text/plain": [
       "16"
      ]
     },
     "execution_count": 66,
     "metadata": {},
     "output_type": "execute_result"
    }
   ],
   "source": [
    "# using our debug decorator\n",
    "# @decorator applies a decorator to the following function\n",
    "\n",
    "@debug\n",
    "def foo(a, b, c=1):\n",
    "    return (a + b) * c\n",
    "\n",
    "foo(5, 3, c=2) # prints \"Arguments: (5, 3) {'c': 2}\" # => returns 16"
   ]
  },
  {
   "cell_type": "markdown",
   "metadata": {},
   "source": [
    "## Uses of decorators:\n",
    "\n",
    "#### Cache function return value (memoization)\n",
    "#### Set timeout for blocking function\n",
    "#### Mark class properties as readonly\n",
    "#### Mark methods as static methods or class methods\n",
    "#### Handle administrative logic (authorization, routing, etc)"
   ]
  },
  {
   "cell_type": "code",
   "execution_count": 67,
   "metadata": {},
   "outputs": [],
   "source": [
    "# Explore function closures\n",
    "# Build some decorators"
   ]
  },
  {
   "cell_type": "code",
   "execution_count": null,
   "metadata": {},
   "outputs": [],
   "source": []
  }
 ],
 "metadata": {
  "kernelspec": {
   "display_name": "Python 3",
   "language": "python",
   "name": "python3"
  },
  "language_info": {
   "codemirror_mode": {
    "name": "ipython",
    "version": 3
   },
   "file_extension": ".py",
   "mimetype": "text/x-python",
   "name": "python",
   "nbconvert_exporter": "python",
   "pygments_lexer": "ipython3",
   "version": "3.6.0"
  }
 },
 "nbformat": 4,
 "nbformat_minor": 2
}
