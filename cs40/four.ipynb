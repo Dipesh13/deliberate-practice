{
 "cells": [
  {
   "cell_type": "markdown",
   "metadata": {},
   "source": [
    "# Functions"
   ]
  },
  {
   "cell_type": "code",
   "execution_count": 3,
   "metadata": {},
   "outputs": [],
   "source": [
    "# syntax\n",
    "def fn_name(param1, param2):\n",
    "    value = do_something()\n",
    "    return value\n",
    "\n",
    "# all functions return something even if the return value is None"
   ]
  },
  {
   "cell_type": "code",
   "execution_count": 5,
   "metadata": {},
   "outputs": [],
   "source": [
    "# a) multiple return values\n",
    "# Sol: use named tuple return value1,value,value3"
   ]
  },
  {
   "cell_type": "code",
   "execution_count": 10,
   "metadata": {},
   "outputs": [
    {
     "name": "stdout",
     "output_type": "stream",
     "text": [
      "15 5\n"
     ]
    }
   ],
   "source": [
    "#  example\n",
    "\n",
    "def add_sub(a,b):\n",
    "    return a+b,a-b\n",
    "\n",
    "x,y = add_sub(10,5)\n",
    "print(x,y)"
   ]
  },
  {
   "cell_type": "code",
   "execution_count": 20,
   "metadata": {},
   "outputs": [
    {
     "name": "stdout",
     "output_type": "stream",
     "text": [
      "50\n"
     ]
    }
   ],
   "source": [
    "#  example\n",
    "\n",
    "def add_sub_mul(a,b):\n",
    "    return a+b,a-b,a*b\n",
    "\n",
    "x,y,z = add_sub_mul(10,5)\n",
    "print(z)"
   ]
  },
  {
   "cell_type": "code",
   "execution_count": 6,
   "metadata": {},
   "outputs": [],
   "source": [
    "# b) return var,data structure , function , object"
   ]
  },
  {
   "cell_type": "code",
   "execution_count": 27,
   "metadata": {},
   "outputs": [
    {
     "name": "stdout",
     "output_type": "stream",
     "text": [
      "[1, 2, 3]\n"
     ]
    }
   ],
   "source": [
    "def test(a):\n",
    "    if a == \"list\":\n",
    "        return [1,2,3]\n",
    "    elif a == \"dict\":\n",
    "        return {\"a\":\"alexis\"}\n",
    "    elif a == \"fn\":\n",
    "        return test(a)\n",
    "    \n",
    "\n",
    "a = test(\"list\")\n",
    "print(a)"
   ]
  },
  {
   "cell_type": "code",
   "execution_count": 28,
   "metadata": {},
   "outputs": [
    {
     "name": "stdout",
     "output_type": "stream",
     "text": [
      "{'a': 'alexis'}\n"
     ]
    }
   ],
   "source": [
    "b = test(\"dict\")\n",
    "print(b)"
   ]
  },
  {
   "cell_type": "code",
   "execution_count": 29,
   "metadata": {},
   "outputs": [
    {
     "ename": "RecursionError",
     "evalue": "maximum recursion depth exceeded in comparison",
     "output_type": "error",
     "traceback": [
      "\u001b[0;31m---------------------------------------------------------------------------\u001b[0m",
      "\u001b[0;31mRecursionError\u001b[0m                            Traceback (most recent call last)",
      "\u001b[0;32m<ipython-input-29-146158d25ae5>\u001b[0m in \u001b[0;36m<module>\u001b[0;34m\u001b[0m\n\u001b[0;32m----> 1\u001b[0;31m \u001b[0my\u001b[0m \u001b[0;34m=\u001b[0m \u001b[0mtest\u001b[0m\u001b[0;34m(\u001b[0m\u001b[0;34m\"fn\"\u001b[0m\u001b[0;34m)\u001b[0m\u001b[0;34m\u001b[0m\u001b[0m\n\u001b[0m\u001b[1;32m      2\u001b[0m \u001b[0mprint\u001b[0m\u001b[0;34m(\u001b[0m\u001b[0mtype\u001b[0m\u001b[0;34m(\u001b[0m\u001b[0my\u001b[0m\u001b[0;34m)\u001b[0m\u001b[0;34m)\u001b[0m\u001b[0;34m\u001b[0m\u001b[0m\n",
      "\u001b[0;32m<ipython-input-27-69ecd152525e>\u001b[0m in \u001b[0;36mtest\u001b[0;34m(a)\u001b[0m\n\u001b[1;32m      5\u001b[0m         \u001b[0;32mreturn\u001b[0m \u001b[0;34m{\u001b[0m\u001b[0;34m\"a\"\u001b[0m\u001b[0;34m:\u001b[0m\u001b[0;34m\"alexis\"\u001b[0m\u001b[0;34m}\u001b[0m\u001b[0;34m\u001b[0m\u001b[0m\n\u001b[1;32m      6\u001b[0m     \u001b[0;32melif\u001b[0m \u001b[0ma\u001b[0m \u001b[0;34m==\u001b[0m \u001b[0;34m\"fn\"\u001b[0m\u001b[0;34m:\u001b[0m\u001b[0;34m\u001b[0m\u001b[0m\n\u001b[0;32m----> 7\u001b[0;31m         \u001b[0;32mreturn\u001b[0m \u001b[0mtest\u001b[0m\u001b[0;34m(\u001b[0m\u001b[0ma\u001b[0m\u001b[0;34m)\u001b[0m\u001b[0;34m\u001b[0m\u001b[0m\n\u001b[0m\u001b[1;32m      8\u001b[0m \u001b[0;34m\u001b[0m\u001b[0m\n\u001b[1;32m      9\u001b[0m \u001b[0;34m\u001b[0m\u001b[0m\n",
      "... last 1 frames repeated, from the frame below ...\n",
      "\u001b[0;32m<ipython-input-27-69ecd152525e>\u001b[0m in \u001b[0;36mtest\u001b[0;34m(a)\u001b[0m\n\u001b[1;32m      5\u001b[0m         \u001b[0;32mreturn\u001b[0m \u001b[0;34m{\u001b[0m\u001b[0;34m\"a\"\u001b[0m\u001b[0;34m:\u001b[0m\u001b[0;34m\"alexis\"\u001b[0m\u001b[0;34m}\u001b[0m\u001b[0;34m\u001b[0m\u001b[0m\n\u001b[1;32m      6\u001b[0m     \u001b[0;32melif\u001b[0m \u001b[0ma\u001b[0m \u001b[0;34m==\u001b[0m \u001b[0;34m\"fn\"\u001b[0m\u001b[0;34m:\u001b[0m\u001b[0;34m\u001b[0m\u001b[0m\n\u001b[0;32m----> 7\u001b[0;31m         \u001b[0;32mreturn\u001b[0m \u001b[0mtest\u001b[0m\u001b[0;34m(\u001b[0m\u001b[0ma\u001b[0m\u001b[0;34m)\u001b[0m\u001b[0;34m\u001b[0m\u001b[0m\n\u001b[0m\u001b[1;32m      8\u001b[0m \u001b[0;34m\u001b[0m\u001b[0m\n\u001b[1;32m      9\u001b[0m \u001b[0;34m\u001b[0m\u001b[0m\n",
      "\u001b[0;31mRecursionError\u001b[0m: maximum recursion depth exceeded in comparison"
     ]
    }
   ],
   "source": [
    "y = test(\"fn\")\n",
    "print(type(y))"
   ]
  },
  {
   "cell_type": "markdown",
   "metadata": {},
   "source": [
    "## Function execution and scope\n",
    "\n",
    "#### First, look in local symbol table\n",
    "\n",
    "#### Next, check symbol tables of enclosing functions (unusual)\n",
    "\n",
    "#### Then, search global (top-level) symbol table\n",
    "\n",
    "#### Finally, check builtin symbols (print, input, etc)\n",
    "\n",
    "#### Order : Function scope -> enclosing function scope -> global scope -> Builtins"
   ]
  },
  {
   "cell_type": "code",
   "execution_count": 30,
   "metadata": {},
   "outputs": [
    {
     "name": "stdout",
     "output_type": "stream",
     "text": [
      "{'z': 5, 'y': 3}\n",
      "2\n",
      "2 3 5\n"
     ]
    }
   ],
   "source": [
    "# Local Function Scope\n",
    "\n",
    "x = 2\n",
    "def foo(y):\n",
    "    z = 5\n",
    "    print(locals()) # => prints {'y': 3, 'z': 5}\n",
    "    print(globals()['x']) # => print 2\n",
    "    print(x, y, z) # => prints 2, 3, 5\n",
    "\n",
    "foo(3)"
   ]
  },
  {
   "cell_type": "code",
   "execution_count": 32,
   "metadata": {},
   "outputs": [
    {
     "name": "stdout",
     "output_type": "stream",
     "text": [
      "{'z': 5, 'x': 41, 'y': 3}\n",
      "2\n",
      "41 3 5\n"
     ]
    }
   ],
   "source": [
    "x = 2\n",
    "def foo(y):\n",
    "    x = 41\n",
    "    z = 5\n",
    "    print(locals()) # prints {'x': 41, 'y': 3, 'z': 5}\n",
    "    print(globals()['x']) # print 2\n",
    "    print(x, y, z) # prints 41, 3, 5\n",
    "\n",
    "foo(3)"
   ]
  },
  {
   "cell_type": "markdown",
   "metadata": {},
   "source": [
    "## Pass-By-Value or Pass-By-Reference?\n",
    "\n",
    "#### Variables are copied into function's local symbol table.But variables are just references to objects!\n",
    "\n",
    "#### Best to think of it as pass-by-object-reference. Baggage tags in one area can point to suitcases in another"
   ]
  },
  {
   "cell_type": "markdown",
   "metadata": {},
   "source": [
    "# Parameters\n",
    "\n",
    "## 1) Default / Named Parameters\n",
    "eg) def ask_yn(prompt,retries=4)\n",
    "\n",
    "required paramter = prompt . optional param = retries , defaults to 4\n",
    "\n",
    "## 2) Keyword Arguments\n",
    "eg) def ask_yn(prompt,retries=4)\n",
    "\n",
    "Here retries is the keyword argument\n"
   ]
  },
  {
   "cell_type": "markdown",
   "metadata": {},
   "source": [
    "# Order of calling fn with arguments"
   ]
  },
  {
   "cell_type": "code",
   "execution_count": 34,
   "metadata": {},
   "outputs": [],
   "source": [
    "# eg1)\n",
    "def ask_yn(prompt, retries=4, complaint='...'):\n",
    "    print(\"prompt\" , prompt)\n",
    "    print(\"retries\", retries)\n",
    "    print(\"complaint\", complaint)"
   ]
  },
  {
   "cell_type": "code",
   "execution_count": 35,
   "metadata": {},
   "outputs": [
    {
     "name": "stdout",
     "output_type": "stream",
     "text": [
      "prompt Really quit?\n",
      "retries 4\n",
      "complaint ...\n"
     ]
    }
   ],
   "source": [
    "# Call with only the mandatory argument\n",
    "ask_yn('Really quit?')"
   ]
  },
  {
   "cell_type": "code",
   "execution_count": 36,
   "metadata": {},
   "outputs": [
    {
     "name": "stdout",
     "output_type": "stream",
     "text": [
      "prompt OK to overwrite the file?\n",
      "retries 2\n",
      "complaint ...\n"
     ]
    }
   ],
   "source": [
    "# Call with one keyword argument\n",
    "ask_yn('OK to overwrite the file?', retries=2)"
   ]
  },
  {
   "cell_type": "code",
   "execution_count": 37,
   "metadata": {},
   "outputs": [
    {
     "name": "stdout",
     "output_type": "stream",
     "text": [
      "prompt Update status?\n",
      "retries 4\n",
      "complaint Just Y/N\n"
     ]
    }
   ],
   "source": [
    "# Call with one keyword argument - in any order!\n",
    "ask_yn('Update status?', complaint='Just Y/N')"
   ]
  },
  {
   "cell_type": "code",
   "execution_count": 38,
   "metadata": {},
   "outputs": [
    {
     "name": "stdout",
     "output_type": "stream",
     "text": [
      "prompt Send text?\n",
      "retries 2\n",
      "complaint Y/N please!\n"
     ]
    }
   ],
   "source": [
    "# Call with all of the keyword arguments\n",
    "ask_yn('Send text?', retries=2, complaint='Y/N please!')"
   ]
  },
  {
   "cell_type": "code",
   "execution_count": 39,
   "metadata": {},
   "outputs": [],
   "source": [
    "# eg2)\n",
    "def parrot(voltage, state='a stiff', action='voom',type='Norwegian Blue'):\n",
    "    print(\"-- This parrot wouldn't\", action, end=' ')\n",
    "    print(\"if you put\", voltage, \"volts through it.\")\n",
    "    print(\"-- Lovely plumage, the\", type)\n",
    "    print(\"-- It's\", state, \"!\")"
   ]
  },
  {
   "cell_type": "code",
   "execution_count": 40,
   "metadata": {},
   "outputs": [
    {
     "name": "stdout",
     "output_type": "stream",
     "text": [
      "-- This parrot wouldn't voom if you put 1000 volts through it.\n",
      "-- Lovely plumage, the Norwegian Blue\n",
      "-- It's a stiff !\n"
     ]
    }
   ],
   "source": [
    "# 1 positional argument\n",
    "parrot(1000)"
   ]
  },
  {
   "cell_type": "code",
   "execution_count": 41,
   "metadata": {},
   "outputs": [
    {
     "name": "stdout",
     "output_type": "stream",
     "text": [
      "-- This parrot wouldn't voom if you put 1000 volts through it.\n",
      "-- Lovely plumage, the Norwegian Blue\n",
      "-- It's a stiff !\n"
     ]
    }
   ],
   "source": [
    "# 1 keyword argument\n",
    "parrot(voltage=1000)"
   ]
  },
  {
   "cell_type": "code",
   "execution_count": 42,
   "metadata": {},
   "outputs": [
    {
     "name": "stdout",
     "output_type": "stream",
     "text": [
      "-- This parrot wouldn't VOOOOOM if you put 1000000 volts through it.\n",
      "-- Lovely plumage, the Norwegian Blue\n",
      "-- It's a stiff !\n"
     ]
    }
   ],
   "source": [
    "# 2 keyword arguments\n",
    "parrot(voltage=1000000, action='VOOOOOM')"
   ]
  },
  {
   "cell_type": "code",
   "execution_count": 43,
   "metadata": {},
   "outputs": [
    {
     "name": "stdout",
     "output_type": "stream",
     "text": [
      "-- This parrot wouldn't VOOOOOM if you put 1000000 volts through it.\n",
      "-- Lovely plumage, the Norwegian Blue\n",
      "-- It's a stiff !\n"
     ]
    }
   ],
   "source": [
    "# 2 keyword arguments\n",
    "parrot(action='VOOOOOM', voltage=1000000)"
   ]
  },
  {
   "cell_type": "code",
   "execution_count": 44,
   "metadata": {},
   "outputs": [
    {
     "name": "stdout",
     "output_type": "stream",
     "text": [
      "-- This parrot wouldn't jump if you put a million volts through it.\n",
      "-- Lovely plumage, the Norwegian Blue\n",
      "-- It's bereft of life !\n"
     ]
    }
   ],
   "source": [
    "# 3 positional arguments\n",
    "parrot('a million', 'bereft of life', 'jump')"
   ]
  },
  {
   "cell_type": "code",
   "execution_count": 46,
   "metadata": {},
   "outputs": [
    {
     "name": "stdout",
     "output_type": "stream",
     "text": [
      "-- This parrot wouldn't voom if you put a thousand volts through it.\n",
      "-- Lovely plumage, the Norwegian Blue\n",
      "-- It's pushing up the daisies !\n"
     ]
    }
   ],
   "source": [
    "# 1 positional, 1 keyword\n",
    "parrot('a thousand', state='pushing up the daisies')"
   ]
  },
  {
   "cell_type": "code",
   "execution_count": 47,
   "metadata": {},
   "outputs": [
    {
     "ename": "SyntaxError",
     "evalue": "positional argument follows keyword argument (<ipython-input-47-9abf0ad0d9e6>, line 3)",
     "output_type": "error",
     "traceback": [
      "\u001b[0;36m  File \u001b[0;32m\"<ipython-input-47-9abf0ad0d9e6>\"\u001b[0;36m, line \u001b[0;32m3\u001b[0m\n\u001b[0;31m    parrot(voltage=5.0, 'dead') # non-keyword argument after a keyword argument\u001b[0m\n\u001b[0m                       ^\u001b[0m\n\u001b[0;31mSyntaxError\u001b[0m\u001b[0;31m:\u001b[0m positional argument follows keyword argument\n"
     ]
    }
   ],
   "source": [
    "# invalid calls\n",
    "parrot() # required argument missing\n",
    "parrot(voltage=5.0, 'dead') # non-keyword argument after a keyword argument\n",
    "parrot(110, voltage=220) # duplicate value for the same argument\n",
    "parrot(actor='John Cleese') # unknown keyword argument"
   ]
  },
  {
   "cell_type": "markdown",
   "metadata": {},
   "source": [
    "## Rules about function calls\n",
    "\n",
    "#### 1) Keyword arguments (x = 4) must follow positional arguments (4)\n",
    "\n",
    "#### 2) All keyword arguments must identify some parameter\n",
    "\n",
    "#### 3) fn(4)-> postional arg -> *args = any no of positional arguments\n",
    "\n",
    "#### 4) fn(x=4)-> keyword arg -> **kwargs = any no of keyword arguments"
   ]
  },
  {
   "cell_type": "markdown",
   "metadata": {},
   "source": [
    "## Variadic Positional Arguments = any no of positional arguments\n",
    "\n",
    "#### A parameter of form *args captures excess positional args.\n",
    "\n",
    "#### These excess arguments are bundled into an args tuple\n",
    "\n",
    "#### Why? Call functions with any number of positional arguments"
   ]
  },
  {
   "cell_type": "code",
   "execution_count": 49,
   "metadata": {},
   "outputs": [],
   "source": [
    "# eg) product accepts any number of arguments\n",
    "def product(*nums,scale=1):\n",
    "    p = scale\n",
    "    for n in nums:\n",
    "        p *= n # p = p*n\n",
    "    return p"
   ]
  },
  {
   "cell_type": "markdown",
   "metadata": {},
   "source": [
    "Summary : return values , args(/params) , keyword/positional , args,kwargs , decorators"
   ]
  },
  {
   "cell_type": "code",
   "execution_count": 51,
   "metadata": {},
   "outputs": [
    {
     "data": {
      "text/plain": [
       "15"
      ]
     },
     "execution_count": 51,
     "metadata": {},
     "output_type": "execute_result"
    }
   ],
   "source": [
    "# Suppose we want a product function that works as so:\n",
    "product(3, 5) # => 15"
   ]
  },
  {
   "cell_type": "code",
   "execution_count": 53,
   "metadata": {},
   "outputs": [
    {
     "data": {
      "text/plain": [
       "24"
      ]
     },
     "execution_count": 53,
     "metadata": {},
     "output_type": "execute_result"
    }
   ],
   "source": [
    "product(3, 4, 2) # => 24"
   ]
  },
  {
   "cell_type": "code",
   "execution_count": 54,
   "metadata": {},
   "outputs": [
    {
     "data": {
      "text/plain": [
       "150"
      ]
     },
     "execution_count": 54,
     "metadata": {},
     "output_type": "execute_result"
    }
   ],
   "source": [
    "product(3, 5, scale=10) # => 150"
   ]
  },
  {
   "cell_type": "code",
   "execution_count": 55,
   "metadata": {},
   "outputs": [],
   "source": [
    "# Unpacking Variadic Positional Arguments"
   ]
  },
  {
   "cell_type": "code",
   "execution_count": 56,
   "metadata": {},
   "outputs": [
    {
     "name": "stdout",
     "output_type": "stream",
     "text": [
      "1\n"
     ]
    }
   ],
   "source": [
    "# eg) Suppose we want to find 2 * 3 * 5 * 7 * ... up to 100\n",
    "\n",
    "def is_prime(n):\n",
    "    pass # Some implementation\n",
    "\n",
    "# Extract all the primes\n",
    "primes = [number for number in range(2, 100) if is_prime(number)]\n",
    "\n",
    "print(product(*primes)) # equiv. to product(2, 3, 5, ...)\n",
    "\n",
    "# The syntax *seq (here *primes) unpacks a sequence into its constituent components"
   ]
  },
  {
   "cell_type": "markdown",
   "metadata": {},
   "source": [
    "## Variadic Keyword Arguments\n",
    "\n",
    "#### A parameter of the form **kwargs captures all excess keyword arguments.\n",
    "\n",
    "#### These excess arguments are bundled into a kwargs dict\n",
    "\n",
    "#### Why? Allow arbitrary named parameters, usually for configuration."
   ]
  },
  {
   "cell_type": "code",
   "execution_count": 58,
   "metadata": {},
   "outputs": [],
   "source": [
    "# eg) quote positional arg , speaker_info var keyword arg\n",
    "\n",
    "def authorize(quote, **speaker_info):\n",
    "    print(\">\", quote)\n",
    "    print(\"-\" * (len(quote) + 2))\n",
    "    for k, v in speaker_info.items():\n",
    "        print(k, v, sep=': ')\n"
   ]
  },
  {
   "cell_type": "code",
   "execution_count": 60,
   "metadata": {},
   "outputs": [
    {
     "name": "stdout",
     "output_type": "stream",
     "text": [
      "> If music be the food of love, play on.\n",
      "----------------------------------------\n",
      "playwright: Shakespeare\n",
      "act: 1\n",
      "scene: 1\n",
      "speaker: Duke Orsino\n"
     ]
    }
   ],
   "source": [
    "authorize(\"If music be the food of love, play on.\",\n",
    "playwright=\"Shakespeare\",\n",
    "act=1,\n",
    "scene=1,\n",
    "speaker=\"Duke Orsino\"\n",
    ")\n"
   ]
  },
  {
   "cell_type": "markdown",
   "metadata": {},
   "source": [
    "# fstr.format(*args, **kwargs)\n",
    "\n",
    "### All positional arguments go into args. All keyword arguments go into kwargs"
   ]
  },
  {
   "cell_type": "code",
   "execution_count": 61,
   "metadata": {},
   "outputs": [
    {
     "name": "stdout",
     "output_type": "stream",
     "text": [
      "5x8z59\n"
     ]
    }
   ],
   "source": [
    "print(\"{0}{b}{1}{a}{0}{2}\".format(5, 8, 9, a='z', b='x')) # => 5x8z59\n",
    "# args = (5, 8, 9)\n",
    "# kwargs = {'a':'z', 'b':'x'}"
   ]
  },
  {
   "cell_type": "code",
   "execution_count": 62,
   "metadata": {},
   "outputs": [],
   "source": [
    "# summary eg)\n",
    "def foo(a, b, c=1, *d, e=1, **f):\n",
    "    pass\n",
    "\n",
    "# a,b = Mandatory positional arguments\n",
    "# c = Optional keyword argument\n",
    "# *d = Variadic positional argument list - scoops up excess positional args into a tuple\n",
    "# e = Optional keyword-only argument\n",
    "# **f = Variadic keyword argument list – scoops up excess keyword args into a dictionary"
   ]
  },
  {
   "cell_type": "code",
   "execution_count": 63,
   "metadata": {},
   "outputs": [],
   "source": [
    "foo(1,2)"
   ]
  },
  {
   "cell_type": "markdown",
   "metadata": {},
   "source": [
    "# DOCSTRING"
   ]
  },
  {
   "cell_type": "code",
   "execution_count": 66,
   "metadata": {},
   "outputs": [
    {
     "name": "stdout",
     "output_type": "stream",
     "text": [
      "Summary line: do nothing, but document it.\n",
      "\n",
      "    Description: No, really, it doesn't do anything.\n",
      "    \n"
     ]
    }
   ],
   "source": [
    "# The first string literal inside a function body is a docstring\n",
    "# First line: one-line summary of the function\n",
    "# Subsequent lines: extended description of function\n",
    "# Describe parameters (value / expected type) and return\n",
    "# Many standards have emerged (javadoc, reST, Google)\n",
    "# The usual rules apply too! List pre-/post-conditions, if any.\n",
    "\n",
    "def my_function():\n",
    "    \"\"\"Summary line: do nothing, but document it.\n",
    "\n",
    "    Description: No, really, it doesn't do anything.\n",
    "    \"\"\"\n",
    "    pass\n",
    "\n",
    "print(my_function.__doc__)\n"
   ]
  },
  {
   "cell_type": "code",
   "execution_count": 67,
   "metadata": {},
   "outputs": [],
   "source": [
    "# Function comments (ref:PEP257)"
   ]
  },
  {
   "cell_type": "markdown",
   "metadata": {},
   "source": [
    "## Good practises: PEP8\n",
    "\n",
    "#### Spacing Use 4 spaces to indent. Don't use tabs.\n",
    "#### Use blank lines to separate functions and logical sections inside functions.\n",
    "#### Use spaces around operators and after commas, but not directly inside delimiters eg) a = f(1, 2) + g(3, 4)\n",
    "#### Commenting Comment all nontrivial functions.\n",
    "#### Add header comments at the top of files before any imports.\n",
    "#### If possible, put comments on a line of their own.\n",
    "#### Naming Use snake_case for variables and functions (CamelCase for classes)\n",
    "#### Decomposition and Logic Same as in 106s"
   ]
  },
  {
   "cell_type": "code",
   "execution_count": 69,
   "metadata": {},
   "outputs": [
    {
     "name": "stdout",
     "output_type": "stream",
     "text": [
      "<function echo at 0x7ffaadbc8c80>\n"
     ]
    }
   ],
   "source": [
    "# First-Class Functions\n",
    "\n",
    "def echo(arg): return arg\n",
    "foo = echo\n",
    "print(foo)"
   ]
  },
  {
   "cell_type": "code",
   "execution_count": 70,
   "metadata": {},
   "outputs": [],
   "source": [
    "# To-Do\n",
    "# What are function objects?\n",
    "# What can you do with function objects?\n",
    "# What attributes does a function object possess?\n",
    "# Can I pass a function as a parameters to other functions?\n",
    "# Can a function return another function?\n",
    "# How can I modify a function object?"
   ]
  },
  {
   "cell_type": "code",
   "execution_count": null,
   "metadata": {},
   "outputs": [],
   "source": []
  }
 ],
 "metadata": {
  "kernelspec": {
   "display_name": "Python 3",
   "language": "python",
   "name": "python3"
  },
  "language_info": {
   "codemirror_mode": {
    "name": "ipython",
    "version": 3
   },
   "file_extension": ".py",
   "mimetype": "text/x-python",
   "name": "python",
   "nbconvert_exporter": "python",
   "pygments_lexer": "ipython3",
   "version": "3.6.0"
  }
 },
 "nbformat": 4,
 "nbformat_minor": 2
}
