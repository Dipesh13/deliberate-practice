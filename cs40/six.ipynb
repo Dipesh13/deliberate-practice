{
 "cells": [
  {
   "cell_type": "markdown",
   "metadata": {},
   "source": [
    "## CLASSES\n",
    "\n",
    "#### Class Objects\n",
    "#### Instance Objects\n",
    "#### Methods vs. Functions\n",
    "#### Class methods\n",
    "#### Instance methods\n",
    "#### object as argument and return value for methods\n",
    "\n",
    "==============================================================\n",
    "\n",
    "#### Decoraters ( @property , @static method)\n",
    "#### Inheritance (single / multi) , polymorphism , abstract classes\n",
    "#### Meta Classes\n",
    "#### Getter setter\n",
    "#### Class Designs\n",
    "#### Method resolution order"
   ]
  },
  {
   "cell_type": "markdown",
   "metadata": {},
   "source": [
    "## oop\n",
    "\n",
    "#### Objects, Names, Attributes\n",
    "#### An object has identity\n",
    "#### A name is a reference to an object\n",
    "#### A namespace is an associative mapping from names to objects\n",
    "#### An attribute can be accessed using dot ('.')"
   ]
  },
  {
   "cell_type": "code",
   "execution_count": 2,
   "metadata": {},
   "outputs": [],
   "source": [
    "# Defining a class == creating a class object (like int, str)\n",
    "# Defining a class != instantiating a class\n",
    "\n",
    "# Class Objects vs. Instance Objects\n",
    "# Defining a class creates a class object.Supports 1) attribute reference and 2) instantiation\n",
    "# Instantiating a class object creates an instance object. Only supports 1) attribute reference\n"
   ]
  },
  {
   "cell_type": "code",
   "execution_count": 3,
   "metadata": {},
   "outputs": [],
   "source": [
    "class MyClass:\n",
    "    \"\"\"A simple example class\"\"\"\n",
    "    num = 12345\n",
    "    def greet(self):\n",
    "        return \"Hello world!\""
   ]
  },
  {
   "cell_type": "code",
   "execution_count": 4,
   "metadata": {},
   "outputs": [
    {
     "name": "stdout",
     "output_type": "stream",
     "text": [
      "12345\n",
      "<function MyClass.greet at 0x7f1bfc936ea0>\n"
     ]
    }
   ],
   "source": [
    "print(MyClass.num) # => 12345 (int object)\n",
    "print(MyClass.greet) # => <function f> (function object)"
   ]
  },
  {
   "cell_type": "code",
   "execution_count": 8,
   "metadata": {},
   "outputs": [],
   "source": [
    "# Class Instantiation\n",
    "\n",
    "# Classes are instantiated using parentheses and an optional argument list\n",
    "x = MyClass()\n",
    "\n",
    "# \"Instantiating\" a class constructs an instance object of that class object.\n",
    "# In this case, x is an instance object of the MyClass class object"
   ]
  },
  {
   "cell_type": "code",
   "execution_count": 10,
   "metadata": {},
   "outputs": [
    {
     "data": {
      "text/plain": [
       "(<__main__.MyClass at 0x7f1bfc0c3048>, __main__.MyClass)"
      ]
     },
     "execution_count": 10,
     "metadata": {},
     "output_type": "execute_result"
    }
   ],
   "source": [
    "x,type(x)"
   ]
  },
  {
   "cell_type": "code",
   "execution_count": 11,
   "metadata": {},
   "outputs": [],
   "source": [
    "# Custom Constructor(Instantiation) using __init__\n"
   ]
  },
  {
   "cell_type": "code",
   "execution_count": 12,
   "metadata": {},
   "outputs": [],
   "source": [
    "class Complex:\n",
    "    def __init__(self, realpart=0, imagpart=0):\n",
    "        self.real = realpart\n",
    "        self.imag = imagpart"
   ]
  },
  {
   "cell_type": "code",
   "execution_count": 22,
   "metadata": {},
   "outputs": [
    {
     "data": {
      "text/plain": [
       "(3.0, -4.5)"
      ]
     },
     "execution_count": 22,
     "metadata": {},
     "output_type": "execute_result"
    }
   ],
   "source": [
    "# Make an instance object `c`!\n",
    "c = Complex(3.0, -4.5)\n",
    "\n",
    "c.real, c.imag # => (3.0, -4.5)"
   ]
  },
  {
   "cell_type": "code",
   "execution_count": 23,
   "metadata": {},
   "outputs": [],
   "source": [
    "# Class instantiation calls the special method __init__ if it exists\n",
    "# You can't overload __init__  ,Use keyword arguments or factory methods\n",
    "\n",
    "# Instance Objects only support attribute reference"
   ]
  },
  {
   "cell_type": "markdown",
   "metadata": {},
   "source": [
    "# 1) Data attributes = \"instance variables\" = \"data members\""
   ]
  },
  {
   "cell_type": "code",
   "execution_count": 24,
   "metadata": {},
   "outputs": [
    {
     "name": "stdout",
     "output_type": "stream",
     "text": [
      "3.0 -4.5\n",
      "-9.2 4.1\n"
     ]
    }
   ],
   "source": [
    "# Get attributes\n",
    "c.real, c.imag # => (3.0, -4.5)\n",
    "print(c.real,c.imag)\n",
    "\n",
    "# Set attributes\n",
    "c.real = -9.2\n",
    "c.imag = 4.1\n",
    "print(c.real,c.imag)"
   ]
  },
  {
   "cell_type": "code",
   "execution_count": 25,
   "metadata": {},
   "outputs": [],
   "source": [
    "# Instance Attribute Reference Resolution\n",
    "class MyOtherClass():\n",
    "    num = 12345\n",
    "    def __init__(self):\n",
    "        self.num = 0"
   ]
  },
  {
   "cell_type": "code",
   "execution_count": 26,
   "metadata": {},
   "outputs": [
    {
     "name": "stdout",
     "output_type": "stream",
     "text": [
      "0\n"
     ]
    }
   ],
   "source": [
    "x = MyOtherClass()\n",
    "print(x.num) # 0 or 12345?"
   ]
  },
  {
   "cell_type": "code",
   "execution_count": 27,
   "metadata": {},
   "outputs": [
    {
     "name": "stdout",
     "output_type": "stream",
     "text": [
      "12345\n"
     ]
    }
   ],
   "source": [
    "del x.num\n",
    "print(x.num) # 0 or 12345?"
   ]
  },
  {
   "cell_type": "code",
   "execution_count": 28,
   "metadata": {},
   "outputs": [],
   "source": [
    "#Attribute references first search the instance's __dict__ attribute, then the class object's __dict__"
   ]
  },
  {
   "cell_type": "code",
   "execution_count": 29,
   "metadata": {},
   "outputs": [],
   "source": [
    "# Setting Data Attributes\n",
    "# Setting attributes actually inserts into the instance object's __dict__ attribute"
   ]
  },
  {
   "cell_type": "code",
   "execution_count": 30,
   "metadata": {},
   "outputs": [],
   "source": [
    "# You can set attributes on instance (and class) objects on the fly (we used this in the constructor!)"
   ]
  },
  {
   "cell_type": "code",
   "execution_count": 35,
   "metadata": {},
   "outputs": [],
   "source": [
    "# c.counter = 1\n",
    "# while c.counter < 10:\n",
    "#     c.counter = x.counter * 2\n",
    "#     print(c.counter)\n",
    "# del c.counter # Leaves no trace\n",
    "# # prints 1, 2, 4, 8"
   ]
  },
  {
   "cell_type": "markdown",
   "metadata": {},
   "source": [
    "# 2) Methods"
   ]
  },
  {
   "cell_type": "code",
   "execution_count": 36,
   "metadata": {},
   "outputs": [],
   "source": [
    "class MyClass:\n",
    "    \"\"\"A simple example class\"\"\"\n",
    "    num = 12345\n",
    "    def greet(self):\n",
    "        return \"Hello world!\""
   ]
  },
  {
   "cell_type": "code",
   "execution_count": 37,
   "metadata": {},
   "outputs": [
    {
     "data": {
      "text/plain": [
       "'Hello world!'"
      ]
     },
     "execution_count": 37,
     "metadata": {},
     "output_type": "execute_result"
    }
   ],
   "source": [
    "# Calling Methods\n",
    "x = MyClass()\n",
    "\n",
    "x.greet() # => 'Hello world!'\n",
    "# Weird... doesn't `greet` accept an argument? yes it does, try out"
   ]
  },
  {
   "cell_type": "code",
   "execution_count": 38,
   "metadata": {},
   "outputs": [
    {
     "name": "stdout",
     "output_type": "stream",
     "text": [
      "<class 'method'>\n",
      "<class 'function'>\n"
     ]
    }
   ],
   "source": [
    "print(type(x.greet)) # => method\n",
    "print(type(MyClass.greet)) # => function"
   ]
  },
  {
   "cell_type": "code",
   "execution_count": 39,
   "metadata": {},
   "outputs": [],
   "source": [
    "# class method vs instance method"
   ]
  },
  {
   "cell_type": "markdown",
   "metadata": {},
   "source": [
    "## Methods vs. Functions\n",
    "\n",
    "##### A method is a function bound to an object.\n",
    "##### method ≈ (object, function)\n",
    "\n",
    "##### Methods calls invoke special semantics\n",
    "##### object.method(arguments) = function(object, arguments)"
   ]
  },
  {
   "cell_type": "code",
   "execution_count": 41,
   "metadata": {},
   "outputs": [],
   "source": [
    "class Pizza:\n",
    "    def __init__(self, radius, toppings, slices=8):\n",
    "        self.radius = radius\n",
    "        self.toppings = toppings\n",
    "        self.slices_left = slices\n",
    "\n",
    "    def eat_slice(self):\n",
    "        if self.slices_left > 0:\n",
    "            self.slices_left -= 1\n",
    "        else:\n",
    "            print(\"Oh no! Out of pizza\")\n",
    "\n",
    "    def __repr__(self):\n",
    "        return '{}\" pizza'.format(self.radius)"
   ]
  },
  {
   "cell_type": "code",
   "execution_count": 46,
   "metadata": {},
   "outputs": [
    {
     "name": "stdout",
     "output_type": "stream",
     "text": [
      "<function Pizza.eat_slice at 0x7f1bfc05c510>\n",
      "<bound method Pizza.eat_slice of 14\" pizza>\n"
     ]
    }
   ],
   "source": [
    "p = Pizza(14, (\"Pepperoni\", \"Olives\"), slices=12)\n",
    "\n",
    "print(Pizza.eat_slice) # => <function Pizza.eat_slice>\n",
    "print(p.eat_slice) # => <bound method Pizza.eat_slice of 14\" Pizza>"
   ]
  },
  {
   "cell_type": "code",
   "execution_count": 47,
   "metadata": {},
   "outputs": [
    {
     "data": {
      "text/plain": [
       "14\" pizza"
      ]
     },
     "execution_count": 47,
     "metadata": {},
     "output_type": "execute_result"
    }
   ],
   "source": [
    "method = p.eat_slice\n",
    "method.__self__ # => 14\" Pizza"
   ]
  },
  {
   "cell_type": "code",
   "execution_count": 48,
   "metadata": {},
   "outputs": [
    {
     "data": {
      "text/plain": [
       "<function __main__.Pizza.eat_slice(self)>"
      ]
     },
     "execution_count": 48,
     "metadata": {},
     "output_type": "execute_result"
    }
   ],
   "source": [
    "method.__func__ # => <function Pizza.eat_slice>"
   ]
  },
  {
   "cell_type": "code",
   "execution_count": 49,
   "metadata": {},
   "outputs": [],
   "source": [
    "p.eat_slice() # Implicitly calls Pizza.eat_slice(p)"
   ]
  },
  {
   "cell_type": "code",
   "execution_count": 50,
   "metadata": {},
   "outputs": [
    {
     "data": {
      "text/plain": [
       "11"
      ]
     },
     "execution_count": 50,
     "metadata": {},
     "output_type": "execute_result"
    }
   ],
   "source": [
    "p.slices_left"
   ]
  },
  {
   "cell_type": "code",
   "execution_count": 51,
   "metadata": {},
   "outputs": [
    {
     "data": {
      "text/plain": [
       "10"
      ]
     },
     "execution_count": 51,
     "metadata": {},
     "output_type": "execute_result"
    }
   ],
   "source": [
    "p.eat_slice() \n",
    "\n",
    "p.slices_left"
   ]
  },
  {
   "cell_type": "markdown",
   "metadata": {},
   "source": [
    "# Class and Instance Attributes\n",
    "\n",
    "### Class Variables VS Instance Variables"
   ]
  },
  {
   "cell_type": "code",
   "execution_count": 52,
   "metadata": {},
   "outputs": [],
   "source": [
    "class Dog:\n",
    "    kind = 'Canine' # class variable shared by all instances\n",
    "    def __init__(self, name):\n",
    "        self.name = name # instance variable unique to each instance"
   ]
  },
  {
   "cell_type": "code",
   "execution_count": 53,
   "metadata": {},
   "outputs": [
    {
     "data": {
      "text/plain": [
       "'Mr. Peanut Butter'"
      ]
     },
     "execution_count": 53,
     "metadata": {},
     "output_type": "execute_result"
    }
   ],
   "source": [
    "a = Dog('Astro')\n",
    "pb = Dog('Mr. Peanut Butter')"
   ]
  },
  {
   "cell_type": "code",
   "execution_count": 55,
   "metadata": {},
   "outputs": [
    {
     "data": {
      "text/plain": [
       "'Canine'"
      ]
     },
     "execution_count": 55,
     "metadata": {},
     "output_type": "execute_result"
    }
   ],
   "source": [
    "a.kind # 'Canine' (shared by all dogs)"
   ]
  },
  {
   "cell_type": "code",
   "execution_count": 56,
   "metadata": {},
   "outputs": [
    {
     "data": {
      "text/plain": [
       "'Canine'"
      ]
     },
     "execution_count": 56,
     "metadata": {},
     "output_type": "execute_result"
    }
   ],
   "source": [
    "pb.kind # 'Canine' (shared by all dogs)"
   ]
  },
  {
   "cell_type": "code",
   "execution_count": 57,
   "metadata": {},
   "outputs": [
    {
     "data": {
      "text/plain": [
       "'Astro'"
      ]
     },
     "execution_count": 57,
     "metadata": {},
     "output_type": "execute_result"
    }
   ],
   "source": [
    "a.name # 'Astro' (unique to a)"
   ]
  },
  {
   "cell_type": "code",
   "execution_count": 58,
   "metadata": {},
   "outputs": [
    {
     "data": {
      "text/plain": [
       "'Mr. Peanut Butter'"
      ]
     },
     "execution_count": 58,
     "metadata": {},
     "output_type": "execute_result"
    }
   ],
   "source": [
    "pb.name # 'Mr. Peanut Butter' (unique to pb)"
   ]
  },
  {
   "cell_type": "markdown",
   "metadata": {},
   "source": [
    "# what could go wrong (in common shared class attributes)"
   ]
  },
  {
   "cell_type": "code",
   "execution_count": 62,
   "metadata": {},
   "outputs": [],
   "source": [
    "class Dog:\n",
    "    tricks = []\n",
    "    def __init__(self, name):\n",
    "        self.name = name\n",
    "    def add_trick(self, trick):\n",
    "        self.tricks.append(trick)\n"
   ]
  },
  {
   "cell_type": "code",
   "execution_count": 63,
   "metadata": {},
   "outputs": [
    {
     "name": "stdout",
     "output_type": "stream",
     "text": [
      "['roll over', 'play dead']\n"
     ]
    }
   ],
   "source": [
    "d = Dog('Fido')\n",
    "e = Dog('Buddy')\n",
    "d.add_trick('roll over')\n",
    "e.add_trick('play dead')\n",
    "print(d.tricks) # => ['roll over', 'play dead'] (shared value)\n"
   ]
  },
  {
   "cell_type": "markdown",
   "metadata": {},
   "source": [
    "## how to solve it?"
   ]
  },
  {
   "cell_type": "code",
   "execution_count": 71,
   "metadata": {},
   "outputs": [],
   "source": [
    "class Dog:\n",
    "    # Let's try a default argument!\n",
    "    def __init__(self, name='', tricks=[]):\n",
    "        self.name = name\n",
    "        self.tricks = tricks\n",
    "\n",
    "    def add_trick(self, trick):\n",
    "        self.tricks.append(trick)"
   ]
  },
  {
   "cell_type": "code",
   "execution_count": 72,
   "metadata": {},
   "outputs": [
    {
     "name": "stdout",
     "output_type": "stream",
     "text": [
      "['roll over', 'roll', 'play dead']\n"
     ]
    }
   ],
   "source": [
    "d = Dog('Fido')\n",
    "e = Dog('Buddy')\n",
    "d.add_trick('roll over')\n",
    "d.add_trick('roll')\n",
    "e.add_trick('play dead')\n",
    "print(d.tricks) # => ['roll over', 'play dead']   BUT (shared value)\n"
   ]
  },
  {
   "cell_type": "markdown",
   "metadata": {},
   "source": [
    "## solution = Seperate list for each dog (via object attributes)"
   ]
  },
  {
   "cell_type": "code",
   "execution_count": 73,
   "metadata": {},
   "outputs": [],
   "source": [
    "class Dog:\n",
    "    def __init__(self, name):\n",
    "        self.name = name\n",
    "        self.tricks = [] # New list for each dog\n",
    "    def add_trick(self, trick):\n",
    "        self.tricks.append(trick)"
   ]
  },
  {
   "cell_type": "code",
   "execution_count": 74,
   "metadata": {},
   "outputs": [
    {
     "name": "stdout",
     "output_type": "stream",
     "text": [
      "['roll over', 'added trick']\n",
      "['play dead']\n"
     ]
    }
   ],
   "source": [
    "d = Dog('Fido')\n",
    "e = Dog('Buddy')\n",
    "d.add_trick('roll over')\n",
    "d.add_trick('added trick')\n",
    "e.add_trick('play dead')\n",
    "print(d.tricks) # => ['roll over']\n",
    "print(e.tricks) # => ['play dead']"
   ]
  },
  {
   "cell_type": "code",
   "execution_count": 1,
   "metadata": {},
   "outputs": [],
   "source": [
    "# Privacy\n",
    "# Nothing is truly private. Clients can modify anything\n",
    "\n",
    "# Style\n",
    "# A method's first parameter should always be self. Why? Explicitly differentiate instance and local variables\n",
    "# Method calls already provide the calling object as the first argument to the class function\n",
    "# Use verbs for methods and nouns for data attributes\n",
    "# Attribute names prefixed with a leading underscore are intended to be private (e.g. _spam) (imp)"
   ]
  },
  {
   "cell_type": "markdown",
   "metadata": {},
   "source": [
    "# Inheritance"
   ]
  },
  {
   "cell_type": "code",
   "execution_count": 2,
   "metadata": {},
   "outputs": [
    {
     "ename": "NameError",
     "evalue": "name 'BaseClassName' is not defined",
     "traceback": [
      "\u001b[0;31m---------------------------------------------------------------------------\u001b[0m",
      "\u001b[0;31mNameError\u001b[0m                                 Traceback (most recent call last)",
      "\u001b[0;32m<ipython-input-2-c5abf72bea6a>\u001b[0m in \u001b[0;36m<module>\u001b[0;34m\u001b[0m\n\u001b[1;32m      1\u001b[0m \u001b[0;31m# Single Inheritance\u001b[0m\u001b[0;34m\u001b[0m\u001b[0;34m\u001b[0m\u001b[0m\n\u001b[1;32m      2\u001b[0m \u001b[0;34m\u001b[0m\u001b[0m\n\u001b[0;32m----> 3\u001b[0;31m \u001b[0;32mclass\u001b[0m \u001b[0mDerivedClassName\u001b[0m\u001b[0;34m(\u001b[0m\u001b[0mBaseClassName\u001b[0m\u001b[0;34m)\u001b[0m\u001b[0;34m:\u001b[0m\u001b[0;34m\u001b[0m\u001b[0m\n\u001b[0m\u001b[1;32m      4\u001b[0m     \u001b[0;32mpass\u001b[0m\u001b[0;34m\u001b[0m\u001b[0m\n\u001b[1;32m      5\u001b[0m \u001b[0;34m\u001b[0m\u001b[0m\n",
      "\u001b[0;31mNameError\u001b[0m: name 'BaseClassName' is not defined"
     ],
     "output_type": "error"
    }
   ],
   "source": [
    "# Single Inheritance\n",
    "\n",
    "class DerivedClassName(BaseClassName):\n",
    "    pass\n",
    "\n",
    "# A class object 'remembers' its base class\n",
    "# Python 3 class objects inherit from object (by default)\n",
    "# Method and attribute lookup begins in the derived class\n",
    "# Proceeds down the chain of base classes\n",
    "# Derived methods override (shadow) base methods . Like `virtual` in C++"
   ]
  },
  {
   "cell_type": "code",
   "execution_count": 3,
   "metadata": {},
   "outputs": [
    {
     "ename": "NameError",
     "evalue": "name 'Base1' is not defined",
     "traceback": [
      "\u001b[0;31m---------------------------------------------------------------------------\u001b[0m",
      "\u001b[0;31mNameError\u001b[0m                                 Traceback (most recent call last)",
      "\u001b[0;32m<ipython-input-3-b6101ed63cae>\u001b[0m in \u001b[0;36m<module>\u001b[0;34m\u001b[0m\n\u001b[1;32m      1\u001b[0m \u001b[0;31m# Multiple Inheritance\u001b[0m\u001b[0;34m\u001b[0m\u001b[0;34m\u001b[0m\u001b[0m\n\u001b[0;32m----> 2\u001b[0;31m \u001b[0;32mclass\u001b[0m \u001b[0mDerived\u001b[0m\u001b[0;34m(\u001b[0m\u001b[0mBase1\u001b[0m\u001b[0;34m,\u001b[0m \u001b[0mBase2\u001b[0m\u001b[0;34m,\u001b[0m \u001b[0;34m...\u001b[0m\u001b[0;34m,\u001b[0m \u001b[0mBaseN\u001b[0m\u001b[0;34m)\u001b[0m\u001b[0;34m:\u001b[0m\u001b[0;34m\u001b[0m\u001b[0m\n\u001b[0m\u001b[1;32m      3\u001b[0m     \"\"\"\n\u001b[1;32m      4\u001b[0m     \u001b[0mOrder\u001b[0m \u001b[0mmatters\u001b[0m\u001b[0;34m.\u001b[0m\u001b[0;34m\u001b[0m\u001b[0m\n\u001b[1;32m      5\u001b[0m     \"\"\"\n",
      "\u001b[0;31mNameError\u001b[0m: name 'Base1' is not defined"
     ],
     "output_type": "error"
    }
   ],
   "source": [
    "# Multiple Inheritance\n",
    "class Derived(Base1, Base2, ..., BaseN):\n",
    "    \"\"\"\n",
    "    Order matters.\n",
    "    \"\"\"\n",
    "    pass"
   ]
  },
  {
   "cell_type": "markdown",
   "metadata": {},
   "source": [
    "# MRO (Attribute Resolution)"
   ]
  },
  {
   "cell_type": "code",
   "execution_count": 6,
   "metadata": {},
   "outputs": [],
   "source": [
    "# Attribute lookup is (almost) depth-first, left-to-right\n",
    "# Officially, \"C3 superclass linearization\"\n",
    "# Class objects have a (hidden) function attribute .mro()\n",
    "# Shows linearization of base classes"
   ]
  },
  {
   "cell_type": "code",
   "execution_count": 7,
   "metadata": {},
   "outputs": [
    {
     "name": "stdout",
     "output_type": "stream",
     "text": [
      "[<class '__main__.Z'>, <class '__main__.K1'>, <class '__main__.K2'>, <class '__main__.K3'>, <class '__main__.D'>, <class '__main__.A'>, <class '__main__.B'>, <class '__main__.C'>, <class '__main__.E'>, <class 'object'>]\n"
     ]
    }
   ],
   "source": [
    "# Attribute Resolution In Action\n",
    "class A: pass\n",
    "class B: pass\n",
    "class C: pass\n",
    "class D: pass\n",
    "class E: pass\n",
    "class K1(A, B, C): pass\n",
    "class K2(D, B, E): pass\n",
    "class K3(D, A): pass\n",
    "class Z(K1, K2, K3): pass\n",
    "\n",
    "print(Z.mro()) # => [Z, K1, K2, K3, D, A, B, C, E, object]"
   ]
  },
  {
   "cell_type": "markdown",
   "metadata": {},
   "source": [
    "# Magic Methods"
   ]
  },
  {
   "cell_type": "code",
   "execution_count": 8,
   "metadata": {},
   "outputs": [],
   "source": [
    "# Python uses __init__ to build classes\n",
    "# Overriding __init__ lets us hook into the language\n",
    "# What else can we do? Can we define classes that act like:\n",
    "# iterators? lists? sets? dictionaries? numbers? comparables? to do "
   ]
  },
  {
   "cell_type": "code",
   "execution_count": 13,
   "metadata": {},
   "outputs": [],
   "source": [
    "# Implementing Magic Methods\n",
    "class MagicClass:\n",
    "    def __init__(self):\n",
    "        pass\n",
    "    \n",
    "    def __contains__(self, key):\n",
    "        pass\n",
    "    \n",
    "    def __add__(self, other):\n",
    "        pass\n",
    "    \n",
    "    def __iter__(self):\n",
    "        pass\n",
    "    \n",
    "    def __next__(self):\n",
    "        pass\n",
    "    \n",
    "    def __getitem__(self, key):\n",
    "        pass\n",
    "    \n",
    "    def __len__(self):\n",
    "        pass\n",
    "    \n",
    "    def __lt__(self, other):\n",
    "        pass\n",
    "    \n",
    "    def __eq__(self, other):\n",
    "        pass\n",
    "    \n",
    "    def __str__(self):\n",
    "        pass\n",
    "    \n",
    "    def __repr__(self): pass # And even more...\n"
   ]
  },
  {
   "cell_type": "code",
   "execution_count": 14,
   "metadata": {},
   "outputs": [
    {
     "ename": "TypeError",
     "evalue": "__str__ returned non-string (type NoneType)",
     "traceback": [
      "\u001b[0;31m---------------------------------------------------------------------------\u001b[0m",
      "\u001b[0;31mTypeError\u001b[0m                                 Traceback (most recent call last)",
      "\u001b[0;32m<ipython-input-14-e377000969f3>\u001b[0m in \u001b[0;36m<module>\u001b[0;34m\u001b[0m\n\u001b[1;32m      2\u001b[0m \u001b[0my\u001b[0m \u001b[0;34m=\u001b[0m \u001b[0mMagicClass\u001b[0m\u001b[0;34m(\u001b[0m\u001b[0;34m)\u001b[0m\u001b[0;34m\u001b[0m\u001b[0m\n\u001b[1;32m      3\u001b[0m \u001b[0;34m\u001b[0m\u001b[0m\n\u001b[0;32m----> 4\u001b[0;31m \u001b[0mprint\u001b[0m\u001b[0;34m(\u001b[0m\u001b[0mstr\u001b[0m\u001b[0;34m(\u001b[0m\u001b[0mx\u001b[0m\u001b[0;34m)\u001b[0m\u001b[0;34m)\u001b[0m \u001b[0;31m# => x.__str__()\u001b[0m\u001b[0;34m\u001b[0m\u001b[0m\n\u001b[0m\u001b[1;32m      5\u001b[0m \u001b[0mprint\u001b[0m\u001b[0;34m(\u001b[0m\u001b[0mx\u001b[0m \u001b[0;34m==\u001b[0m \u001b[0my\u001b[0m\u001b[0;34m)\u001b[0m \u001b[0;31m# => x.__eq__(y)\u001b[0m\u001b[0;34m\u001b[0m\u001b[0m\n\u001b[1;32m      6\u001b[0m \u001b[0mprint\u001b[0m\u001b[0;34m(\u001b[0m\u001b[0mx\u001b[0m \u001b[0;34m<\u001b[0m \u001b[0my\u001b[0m\u001b[0;34m)\u001b[0m \u001b[0;31m# => x.__lt__(y)\u001b[0m\u001b[0;34m\u001b[0m\u001b[0m\n",
      "\u001b[0;31mTypeError\u001b[0m: __str__ returned non-string (type NoneType)"
     ],
     "output_type": "error"
    }
   ],
   "source": [
    "x = MagicClass()\n",
    "y = MagicClass()\n",
    "\n",
    "print(str(x)) # => x.__str__()\n",
    "print(x == y) # => x.__eq__(y)\n",
    "print(x < y) # => x.__lt__(y)\n",
    "print(x + y) # => x.__add__(y)\n",
    "print(iter(x)) # => x.__iter__()\n",
    "print(next(x)) # => x.__next__()\n",
    "print(len(x)) # => x.__len__()\n",
    "print(el in x) # => x.__contains__(el)"
   ]
  },
  {
   "cell_type": "code",
   "execution_count": 15,
   "metadata": {},
   "outputs": [],
   "source": [
    "# http://www.diveintopython3.net/special-method-names.html\n",
    "# https://docs.python.org/3.4/reference/datamodel.html#specialnames"
   ]
  },
  {
   "cell_type": "markdown",
   "metadata": {},
   "source": [
    "# pass object as argument and return object\n",
    "\n",
    "\n",
    "#### different types of args(positional , keyword etc) for methods"
   ]
  },
  {
   "cell_type": "code",
   "execution_count": 18,
   "metadata": {},
   "outputs": [],
   "source": [
    "class Point:\n",
    "    def __init__(self, x=0, y=0):\n",
    "        self.x = x\n",
    "        self.y = y\n",
    "\n",
    "    def rotate_90_CC(self):\n",
    "        self.x, self.y = -self.y, self.x\n",
    "\n",
    "    def __add__(self, other):\n",
    "        return Point(self.x + other.x, self.y + other.y)\n",
    "\n",
    "    def __str__(self):\n",
    "        return \"Point({0}, {1})\".format(self.x, self.y)\n",
    "    "
   ]
  },
  {
   "cell_type": "code",
   "execution_count": 19,
   "metadata": {},
   "outputs": [
    {
     "name": "stdout",
     "output_type": "stream",
     "text": [
      "Point(0, 0)\n",
      "Point(3, 5) Point(4, 6)\n",
      "Point(-5, 3)\n",
      "Point(-1, 9)\n"
     ]
    }
   ],
   "source": [
    "o = Point()\n",
    "print(o) # => Point(0, 0)\n",
    "p1 = Point(3, 5)\n",
    "p2 = Point(4, 6)\n",
    "print(p1, p2) # => Point(3, 5) Point(4, 6)\n",
    "p1.rotate_90_CC()\n",
    "print(p1) # => Point(-5, 3)\n",
    "print(p1 + p2) # => Point(-1, 9)"
   ]
  },
  {
   "cell_type": "markdown",
   "metadata": {},
   "source": [
    "## OOP Case Study: Errors and Exceptions\n",
    "\n",
    "#### 1) Syntax errors : errors before execution\n",
    "#### 2) Exceptions \"Errors during execution\""
   ]
  },
  {
   "cell_type": "markdown",
   "metadata": {},
   "source": [
    "# Handling Exceptions"
   ]
  },
  {
   "cell_type": "code",
   "execution_count": 20,
   "metadata": {},
   "outputs": [],
   "source": [
    "def read_int():\n",
    "    \"\"\"Reads an integer from the user (broken)\"\"\"\n",
    "    return int(input(\"Please enter a number: \"))"
   ]
  },
  {
   "cell_type": "code",
   "execution_count": 21,
   "metadata": {},
   "outputs": [
    {
     "name": "stdout",
     "output_type": "stream",
     "text": [
      "Please enter a number: 1\n"
     ]
    },
    {
     "data": {
      "text/plain": [
       "1"
      ]
     },
     "execution_count": 21,
     "metadata": {},
     "output_type": "execute_result"
    }
   ],
   "source": [
    "read_int()"
   ]
  },
  {
   "cell_type": "code",
   "execution_count": 22,
   "metadata": {},
   "outputs": [
    {
     "name": "stdout",
     "output_type": "stream",
     "text": [
      "Please enter a number: foo\n"
     ]
    },
    {
     "ename": "ValueError",
     "evalue": "invalid literal for int() with base 10: 'foo'",
     "traceback": [
      "\u001b[0;31m---------------------------------------------------------------------------\u001b[0m",
      "\u001b[0;31mValueError\u001b[0m                                Traceback (most recent call last)",
      "\u001b[0;32m<ipython-input-22-c59064380388>\u001b[0m in \u001b[0;36m<module>\u001b[0;34m\u001b[0m\n\u001b[1;32m      1\u001b[0m \u001b[0;31m# what happens if the user enters non numeric input?\u001b[0m\u001b[0;34m\u001b[0m\u001b[0;34m\u001b[0m\u001b[0m\n\u001b[1;32m      2\u001b[0m \u001b[0;34m\u001b[0m\u001b[0m\n\u001b[0;32m----> 3\u001b[0;31m \u001b[0mread_int\u001b[0m\u001b[0;34m(\u001b[0m\u001b[0;34m)\u001b[0m\u001b[0;34m\u001b[0m\u001b[0m\n\u001b[0m",
      "\u001b[0;32m<ipython-input-20-db9dac3866d4>\u001b[0m in \u001b[0;36mread_int\u001b[0;34m()\u001b[0m\n\u001b[1;32m      1\u001b[0m \u001b[0;32mdef\u001b[0m \u001b[0mread_int\u001b[0m\u001b[0;34m(\u001b[0m\u001b[0;34m)\u001b[0m\u001b[0;34m:\u001b[0m\u001b[0;34m\u001b[0m\u001b[0m\n\u001b[1;32m      2\u001b[0m     \u001b[0;34m\"\"\"Reads an integer from the user (broken)\"\"\"\u001b[0m\u001b[0;34m\u001b[0m\u001b[0m\n\u001b[0;32m----> 3\u001b[0;31m     \u001b[0;32mreturn\u001b[0m \u001b[0mint\u001b[0m\u001b[0;34m(\u001b[0m\u001b[0minput\u001b[0m\u001b[0;34m(\u001b[0m\u001b[0;34m\"Please enter a number: \"\u001b[0m\u001b[0;34m)\u001b[0m\u001b[0;34m)\u001b[0m\u001b[0;34m\u001b[0m\u001b[0m\n\u001b[0m",
      "\u001b[0;31mValueError\u001b[0m: invalid literal for int() with base 10: 'foo'"
     ],
     "output_type": "error"
    }
   ],
   "source": [
    "# what happens if the user enters non numeric input?\n",
    "\n",
    "read_int()"
   ]
  },
  {
   "cell_type": "code",
   "execution_count": 23,
   "metadata": {},
   "outputs": [],
   "source": [
    "# solution\n",
    "def read_int():\n",
    "    \"\"\"Reads an integer from the user (fixed)\"\"\"\n",
    "    while True:\n",
    "        try:\n",
    "            x = int(input(\"Please enter a number: \"))\n",
    "            break\n",
    "        except ValueError:\n",
    "            print(\"Oops! Invalid input. Try again...\")\n",
    "    return x"
   ]
  },
  {
   "cell_type": "code",
   "execution_count": 24,
   "metadata": {},
   "outputs": [
    {
     "name": "stdout",
     "output_type": "stream",
     "text": [
      "Please enter a number: foo\n",
      "Oops! Invalid input. Try again...\n",
      "Please enter a number: 1\n"
     ]
    },
    {
     "data": {
      "text/plain": [
       "1"
      ]
     },
     "execution_count": 24,
     "metadata": {},
     "output_type": "execute_result"
    }
   ],
   "source": [
    "read_int()"
   ]
  },
  {
   "cell_type": "code",
   "execution_count": 26,
   "metadata": {},
   "outputs": [],
   "source": [
    "# Mechanics of try statement\n",
    "# 1) Attempt to execute the try clause\n",
    "# 2a) If no exception occurs, skip the except clause. \"Done\"\n",
    "# 2b) If an exception occurs, skip the rest of the try clause.\n",
    "# 2b i) If the exception's type matches (/ is a subclass of) that named by except, then execute the except clause.\"Done\"\n",
    "# 2b ii) Otherwise, hand off the exception to any outer try statements. If unhandled, 'halt execution'. \"Done\"\n"
   ]
  },
  {
   "cell_type": "code",
   "execution_count": 27,
   "metadata": {},
   "outputs": [
    {
     "name": "stdout",
     "output_type": "stream",
     "text": [
      "How far? 12\n",
      "Bad Car\n"
     ]
    }
   ],
   "source": [
    "# Conveniences\n",
    "try:\n",
    "    distance = int(input(\"How far? \"))\n",
    "    time = car.speed / distance\n",
    "    car.drive(time)\n",
    "except ValueError as e: # Bind a name to the exception instance\n",
    "    print(e)\n",
    "except ZeroDivisionError:\n",
    "    print(\"Division by zero!\")\n",
    "except (NameError, AttributeError): # Catch multiple exceptions\n",
    "    print(\"Bad Car\")\n",
    "except: # \"Wildcard\" catches everything\n",
    "    print(\"Car unexpectedly crashed!\")"
   ]
  },
  {
   "cell_type": "code",
   "execution_count": 28,
   "metadata": {},
   "outputs": [
    {
     "name": "stdout",
     "output_type": "stream",
     "text": [
      "Looks like an exception to me!\n"
     ]
    },
    {
     "ename": "NotImplementedError",
     "evalue": "TODO",
     "traceback": [
      "\u001b[0;31m---------------------------------------------------------------------------\u001b[0m",
      "\u001b[0;31mNotImplementedError\u001b[0m                       Traceback (most recent call last)",
      "\u001b[0;32m<ipython-input-28-ff8abda8dd1a>\u001b[0m in \u001b[0;36m<module>\u001b[0;34m\u001b[0m\n\u001b[1;32m      1\u001b[0m \u001b[0;31m# good python : raise keyword\u001b[0m\u001b[0;34m\u001b[0m\u001b[0;34m\u001b[0m\u001b[0m\n\u001b[1;32m      2\u001b[0m \u001b[0;32mtry\u001b[0m\u001b[0;34m:\u001b[0m\u001b[0;34m\u001b[0m\u001b[0m\n\u001b[0;32m----> 3\u001b[0;31m     \u001b[0;32mraise\u001b[0m \u001b[0mNotImplementedError\u001b[0m\u001b[0;34m(\u001b[0m\u001b[0;34m\"TODO\"\u001b[0m\u001b[0;34m)\u001b[0m\u001b[0;34m\u001b[0m\u001b[0m\n\u001b[0m\u001b[1;32m      4\u001b[0m \u001b[0;32mexcept\u001b[0m \u001b[0mNotImplementedError\u001b[0m\u001b[0;34m:\u001b[0m\u001b[0;34m\u001b[0m\u001b[0m\n\u001b[1;32m      5\u001b[0m     \u001b[0mprint\u001b[0m\u001b[0;34m(\u001b[0m\u001b[0;34m'Looks like an exception to me!'\u001b[0m\u001b[0;34m)\u001b[0m\u001b[0;34m\u001b[0m\u001b[0m\n",
      "\u001b[0;31mNotImplementedError\u001b[0m: TODO"
     ],
     "output_type": "error"
    }
   ],
   "source": [
    "# good python : raise keyword\n",
    "try:\n",
    "    raise NotImplementedError(\"TODO\")\n",
    "except NotImplementedError:\n",
    "    print('Looks like an exception to me!')\n",
    "    raise\n",
    "# Re-raises the currently active exception"
   ]
  },
  {
   "cell_type": "code",
   "execution_count": 29,
   "metadata": {},
   "outputs": [
    {
     "ename": "NameError",
     "evalue": "name 'do_something' is not defined",
     "traceback": [
      "\u001b[0;31m---------------------------------------------------------------------------\u001b[0m",
      "\u001b[0;31mNameError\u001b[0m                                 Traceback (most recent call last)",
      "\u001b[0;32m<ipython-input-29-d3eafb36a703>\u001b[0m in \u001b[0;36m<module>\u001b[0;34m\u001b[0m\n\u001b[1;32m      6\u001b[0m     \u001b[0;32mpass\u001b[0m\u001b[0;34m\u001b[0m\u001b[0m\n\u001b[1;32m      7\u001b[0m \u001b[0;32melse\u001b[0m\u001b[0;34m:\u001b[0m\u001b[0;34m\u001b[0m\u001b[0m\n\u001b[0;32m----> 8\u001b[0;31m     \u001b[0mdo_something\u001b[0m\u001b[0;34m(\u001b[0m\u001b[0;34m)\u001b[0m \u001b[0;31m# Code that executes if the try clause does not raise an exception\u001b[0m\u001b[0;34m\u001b[0m\u001b[0m\n\u001b[0m",
      "\u001b[0;31mNameError\u001b[0m: name 'do_something' is not defined"
     ],
     "output_type": "error"
    }
   ],
   "source": [
    "# Good Python: Using else\n",
    "# syntax\n",
    "try:\n",
    "    pass\n",
    "except Exception as e:\n",
    "    pass\n",
    "else:\n",
    "    do_something() # Code that executes if the try clause does not raise an exception\n"
   ]
  },
  {
   "cell_type": "code",
   "execution_count": 30,
   "metadata": {},
   "outputs": [],
   "source": [
    "# Why? Avoid accidentally catching an exception, raised by something other than the code being protected\n",
    "# eg) database transaction"
   ]
  },
  {
   "cell_type": "code",
   "execution_count": 31,
   "metadata": {},
   "outputs": [
    {
     "ename": "NameError",
     "evalue": "name 'TransactionError' is not defined",
     "traceback": [
      "\u001b[0;31m---------------------------------------------------------------------------\u001b[0m",
      "\u001b[0;31mNameError\u001b[0m                                 Traceback (most recent call last)",
      "\u001b[0;32m<ipython-input-31-cf53ede213f6>\u001b[0m in \u001b[0;36m<module>\u001b[0;34m\u001b[0m\n\u001b[1;32m      1\u001b[0m \u001b[0;32mtry\u001b[0m\u001b[0;34m:\u001b[0m\u001b[0;34m\u001b[0m\u001b[0m\n\u001b[0;32m----> 2\u001b[0;31m     \u001b[0mupdate_the_database\u001b[0m\u001b[0;34m(\u001b[0m\u001b[0;34m)\u001b[0m\u001b[0;34m\u001b[0m\u001b[0m\n\u001b[0m\u001b[1;32m      3\u001b[0m \u001b[0;32mexcept\u001b[0m \u001b[0mTransactionError\u001b[0m\u001b[0;34m:\u001b[0m\u001b[0;34m\u001b[0m\u001b[0m\n",
      "\u001b[0;31mNameError\u001b[0m: name 'update_the_database' is not defined",
      "\nDuring handling of the above exception, another exception occurred:\n",
      "\u001b[0;31mNameError\u001b[0m                                 Traceback (most recent call last)",
      "\u001b[0;32m<ipython-input-31-cf53ede213f6>\u001b[0m in \u001b[0;36m<module>\u001b[0;34m\u001b[0m\n\u001b[1;32m      1\u001b[0m \u001b[0;32mtry\u001b[0m\u001b[0;34m:\u001b[0m\u001b[0;34m\u001b[0m\u001b[0m\n\u001b[1;32m      2\u001b[0m     \u001b[0mupdate_the_database\u001b[0m\u001b[0;34m(\u001b[0m\u001b[0;34m)\u001b[0m\u001b[0;34m\u001b[0m\u001b[0m\n\u001b[0;32m----> 3\u001b[0;31m \u001b[0;32mexcept\u001b[0m \u001b[0mTransactionError\u001b[0m\u001b[0;34m:\u001b[0m\u001b[0;34m\u001b[0m\u001b[0m\n\u001b[0m\u001b[1;32m      4\u001b[0m     \u001b[0mrollback\u001b[0m\u001b[0;34m(\u001b[0m\u001b[0;34m)\u001b[0m\u001b[0;34m\u001b[0m\u001b[0m\n\u001b[1;32m      5\u001b[0m     \u001b[0;32mraise\u001b[0m\u001b[0;34m\u001b[0m\u001b[0m\n",
      "\u001b[0;31mNameError\u001b[0m: name 'TransactionError' is not defined"
     ],
     "output_type": "error"
    }
   ],
   "source": [
    "try:\n",
    "    update_the_database()\n",
    "except TransactionError:\n",
    "    rollback()\n",
    "    raise\n",
    "else:\n",
    "    commit()"
   ]
  },
  {
   "cell_type": "code",
   "execution_count": 32,
   "metadata": {},
   "outputs": [],
   "source": [
    "# Aside: Python Philosophy\n",
    "# Don't check if a file exists, then open it. Just try to open it!\n",
    "# Handle exceptional cases with an except clause (or two)(avoids race conditions too)\n",
    "# Don't check if a queue is nonempty before popping Just try to pop the element!"
   ]
  },
  {
   "cell_type": "code",
   "execution_count": 33,
   "metadata": {},
   "outputs": [],
   "source": [
    "# Good Python: Custom Exceptions\n",
    "class Error(Exception):\n",
    "    \"\"\"Base class for errors in this module.\"\"\"\n",
    "    pass\n",
    "\n",
    "class BadLoginError(Error):\n",
    "    \"\"\"A user attempted to login with\n",
    "    an incorrect password.\"\"\"\n",
    "    pass"
   ]
  },
  {
   "cell_type": "markdown",
   "metadata": {},
   "source": [
    "# The finally clause"
   ]
  },
  {
   "cell_type": "code",
   "execution_count": 34,
   "metadata": {},
   "outputs": [
    {
     "name": "stdout",
     "output_type": "stream",
     "text": [
      "Goodbye, world!\n"
     ]
    },
    {
     "ename": "NotImplementedError",
     "evalue": "",
     "traceback": [
      "\u001b[0;31m---------------------------------------------------------------------------\u001b[0m",
      "\u001b[0;31mNotImplementedError\u001b[0m                       Traceback (most recent call last)",
      "\u001b[0;32m<ipython-input-34-1233ebffccda>\u001b[0m in \u001b[0;36m<module>\u001b[0;34m\u001b[0m\n\u001b[1;32m      1\u001b[0m \u001b[0;31m# executed upon leaving the try except block\u001b[0m\u001b[0;34m\u001b[0m\u001b[0;34m\u001b[0m\u001b[0m\n\u001b[1;32m      2\u001b[0m \u001b[0;32mtry\u001b[0m\u001b[0;34m:\u001b[0m\u001b[0;34m\u001b[0m\u001b[0m\n\u001b[0;32m----> 3\u001b[0;31m     \u001b[0;32mraise\u001b[0m \u001b[0mNotImplementedError\u001b[0m\u001b[0;34m\u001b[0m\u001b[0m\n\u001b[0m\u001b[1;32m      4\u001b[0m \u001b[0;32mfinally\u001b[0m\u001b[0;34m:\u001b[0m\u001b[0;34m\u001b[0m\u001b[0m\n\u001b[1;32m      5\u001b[0m     \u001b[0mprint\u001b[0m\u001b[0;34m(\u001b[0m\u001b[0;34m'Goodbye, world!'\u001b[0m\u001b[0;34m)\u001b[0m\u001b[0;34m\u001b[0m\u001b[0m\n",
      "\u001b[0;31mNotImplementedError\u001b[0m: "
     ],
     "output_type": "error"
    }
   ],
   "source": [
    "# executed upon leaving the try except block\n",
    "try:\n",
    "    raise NotImplementedError\n",
    "finally:\n",
    "    print('Goodbye, world!')\n",
    "\n",
    "# How finally works\n",
    "# Always executed before leaving the try statement.\n",
    "# Unhandled exceptions (not caught, or raised in except) are re-raised after finally executes.\n",
    "# Also executed \"on the way out\" (break, continue, return)"
   ]
  },
  {
   "cell_type": "code",
   "execution_count": null,
   "metadata": {},
   "outputs": [],
   "source": []
  }
 ],
 "metadata": {
  "kernelspec": {
   "display_name": "Python 3",
   "language": "python",
   "name": "python3"
  },
  "language_info": {
   "codemirror_mode": {
    "name": "ipython",
    "version": 3
   },
   "file_extension": ".py",
   "mimetype": "text/x-python",
   "name": "python",
   "nbconvert_exporter": "python",
   "pygments_lexer": "ipython3",
   "version": "3.6.0"
  }
 },
 "nbformat": 4,
 "nbformat_minor": 2
}
