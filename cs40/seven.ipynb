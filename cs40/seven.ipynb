{
 "cells": [
  {
   "cell_type": "markdown",
   "metadata": {},
   "source": [
    "## The Python Standard Library\n",
    "\n",
    "##### Module = smallest unit of code reusability. File containing Python definitions and statements\n",
    "##### Package = logical collection of modules. Often bundles large products and broad functionality\n",
    "##### Standard Library = collection of packages and modules. Distributed with Python by default\n",
    "##### Script = Any Python code invoked as an executable. Usually from the command line"
   ]
  },
  {
   "cell_type": "code",
   "execution_count": 2,
   "metadata": {},
   "outputs": [],
   "source": [
    "# 1)  Import from a Module\n",
    "\n",
    "import math\n",
    "\n",
    "# Any python file (including your own) can be a module\n",
    "# from my_script import my_function, my_variable"
   ]
  },
  {
   "cell_type": "code",
   "execution_count": 3,
   "metadata": {},
   "outputs": [],
   "source": [
    "# Import from a Package\n",
    "\n",
    "# Packages give structure to modules\n",
    "# __init__.py distinguishes packages from normal directories"
   ]
  },
  {
   "cell_type": "code",
   "execution_count": 4,
   "metadata": {},
   "outputs": [],
   "source": [
    "# eg)\n",
    "\n",
    "# sound/\n",
    "# ├── __init__.py\n",
    "# ├── effects/\n",
    "# │ ├── __init__.py\n",
    "# │ ├── echo.py\n",
    "# │ ├── reverse.py\n",
    "# │ └── surround.py\n",
    "\n",
    "# from sound.effects import echo"
   ]
  },
  {
   "cell_type": "code",
   "execution_count": 5,
   "metadata": {},
   "outputs": [],
   "source": [
    "# Import Conventions\n",
    "\n",
    "# Prefer import ... instead of from ... import ...  Why? Explicit namespaces avoid name conflicts\n",
    "\n",
    "# Avoid from ... import *  Why? Unclear what is being imported, strange behavior"
   ]
  },
  {
   "cell_type": "code",
   "execution_count": 6,
   "metadata": {},
   "outputs": [],
   "source": [
    "# Executing Modules as Scripts\n",
    "\n",
    "# Refresher: Running Modules as Scripts\n",
    "# We can run a module (demo.py) as a script\n",
    "# $ python3 demo.py # Doing so sets __name__ = '__main__'\n",
    "# <output>"
   ]
  },
  {
   "cell_type": "code",
   "execution_count": 7,
   "metadata": {},
   "outputs": [],
   "source": [
    "# Aside: Finding Modules\n",
    "\n",
    "# if builtin module exists: load builtin module\n",
    "# else:\n",
    "# look for builtin module in the current directory of script\n",
    "# look through PYTHONPATH\n",
    "# look in installation default\n",
    "# load if found, else raise ImportError"
   ]
  },
  {
   "cell_type": "markdown",
   "metadata": {},
   "source": [
    "# Collections: container datatypes"
   ]
  },
  {
   "cell_type": "markdown",
   "metadata": {},
   "source": [
    "### 1) collections.namedtuple : create tuple subclasses with named fields"
   ]
  },
  {
   "cell_type": "code",
   "execution_count": 9,
   "metadata": {},
   "outputs": [],
   "source": [
    "# eg) \n",
    "import collections\n",
    "\n",
    "Point = collections.namedtuple('Point', ['x', 'y'])"
   ]
  },
  {
   "cell_type": "code",
   "execution_count": 10,
   "metadata": {},
   "outputs": [],
   "source": [
    "p = Point(11, y=22) # positional or keyword arguments"
   ]
  },
  {
   "cell_type": "code",
   "execution_count": 11,
   "metadata": {},
   "outputs": [
    {
     "data": {
      "text/plain": [
       "(-11, 44)"
      ]
     },
     "execution_count": 11,
     "metadata": {},
     "output_type": "execute_result"
    }
   ],
   "source": [
    "# Fields are accessible by name! \"Readability counts.\"\n",
    "-p.x, 2 * p.y # => -11, 44"
   ]
  },
  {
   "cell_type": "code",
   "execution_count": 12,
   "metadata": {},
   "outputs": [
    {
     "name": "stdout",
     "output_type": "stream",
     "text": [
      "Point(x=11, y=22)\n"
     ]
    }
   ],
   "source": [
    "# readable __repr__ with a name=value style\n",
    "print(p) # Point(x=11, y=22)"
   ]
  },
  {
   "cell_type": "code",
   "execution_count": 13,
   "metadata": {},
   "outputs": [
    {
     "data": {
      "text/plain": [
       "242"
      ]
     },
     "execution_count": 13,
     "metadata": {},
     "output_type": "execute_result"
    }
   ],
   "source": [
    "# Subscriptable, like regular tuples\n",
    "p[0] * p[1] # => 242"
   ]
  },
  {
   "cell_type": "code",
   "execution_count": 14,
   "metadata": {},
   "outputs": [],
   "source": [
    "# Unpack, like regular tuples\n",
    "x, y = p # x == 11, y == 22"
   ]
  },
  {
   "cell_type": "code",
   "execution_count": 15,
   "metadata": {},
   "outputs": [
    {
     "data": {
      "text/plain": [
       "(11, 22)"
      ]
     },
     "execution_count": 15,
     "metadata": {},
     "output_type": "execute_result"
    }
   ],
   "source": [
    "x,y"
   ]
  },
  {
   "cell_type": "code",
   "execution_count": 17,
   "metadata": {},
   "outputs": [
    {
     "data": {
      "text/plain": [
       "21.0"
      ]
     },
     "execution_count": 17,
     "metadata": {},
     "output_type": "execute_result"
    }
   ],
   "source": [
    "# Usually don't need to unpack if attributes have names\n",
    "\n",
    "other = Point(11,43)\n",
    "\n",
    "math.hypot(p.x - other.x, p.y - other.y)"
   ]
  },
  {
   "cell_type": "code",
   "execution_count": 18,
   "metadata": {},
   "outputs": [
    {
     "name": "stdout",
     "output_type": "stream",
     "text": [
      "Wow, that is light!\n"
     ]
    }
   ],
   "source": [
    "# bad\n",
    "# Can you guess the context of this code?\n",
    "p = (170, 0.1, 0.6)\n",
    "if p[1] >= 0.5:\n",
    "    print(\"Whew, that is bright!\")\n",
    "if p[2] >= 0.5:\n",
    "    print(\"Wow, that is light!\")"
   ]
  },
  {
   "cell_type": "code",
   "execution_count": 19,
   "metadata": {},
   "outputs": [
    {
     "name": "stdout",
     "output_type": "stream",
     "text": [
      "Wow, that is light!\n"
     ]
    }
   ],
   "source": [
    "# good\n",
    "Color = collections.namedtuple(\"Color\",[\"hue\", \"saturation\", \"luminosity\"])\n",
    "pixel = Color(170, 0.1, 0.6)\n",
    "if pixel.saturation >= 0.5:\n",
    "    print(\"Whew, that is bright!\")\n",
    "if pixel.luminosity >= 0.5:\n",
    "    print(\"Wow, that is light!\")"
   ]
  },
  {
   "cell_type": "markdown",
   "metadata": {},
   "source": [
    "### 2) collections.defaultdict :  dict subclass with factory function for missing values"
   ]
  },
  {
   "cell_type": "code",
   "execution_count": 21,
   "metadata": {},
   "outputs": [],
   "source": [
    "# Have:\n",
    "input_data = [('yellow', 1), ('blue', 2),('yellow', 3), ('blue', 4), ('red', 1)]\n",
    "\n",
    "# Want:\n",
    "# output = {'blue': [2, 4], 'red': [1], 'yellow': [1, 3]}"
   ]
  },
  {
   "cell_type": "code",
   "execution_count": 22,
   "metadata": {},
   "outputs": [
    {
     "name": "stdout",
     "output_type": "stream",
     "text": [
      "{'yellow': [1], 'blue': [2], 'red': [1]}\n"
     ]
    }
   ],
   "source": [
    "# One approach\n",
    "output = {}\n",
    "for k, v in input_data:\n",
    "    if k not in output:\n",
    "        output[k] = []\n",
    "        output[k].append(v)\n",
    "\n",
    "print(output) # => {'blue': [2, 4], 'red': [1], 'yellow': [1, 3]}"
   ]
  },
  {
   "cell_type": "code",
   "execution_count": 23,
   "metadata": {},
   "outputs": [
    {
     "name": "stdout",
     "output_type": "stream",
     "text": [
      "defaultdict(<function <lambda> at 0x7f1b32ff3378>, {'yellow': [1, 3], 'blue': [2, 4], 'red': [1]})\n"
     ]
    }
   ],
   "source": [
    "# A better approach\n",
    "output = collections.defaultdict(lambda: list())\n",
    "for k, v in input_data:\n",
    "    output[k].append(v)\n",
    "\n",
    "print(output) # => {'red': [1], 'yellow': [1, 3], 'blue': [2, 4]})"
   ]
  },
  {
   "cell_type": "code",
   "execution_count": 24,
   "metadata": {},
   "outputs": [
    {
     "data": {
      "text/plain": [
       "{'yellow': [1, 3], 'blue': [2, 4], 'red': [1]}"
      ]
     },
     "execution_count": 24,
     "metadata": {},
     "output_type": "execute_result"
    }
   ],
   "source": [
    "dict(output)"
   ]
  },
  {
   "cell_type": "code",
   "execution_count": 25,
   "metadata": {},
   "outputs": [],
   "source": [
    "# Zero-Argument Callable"
   ]
  },
  {
   "cell_type": "code",
   "execution_count": 26,
   "metadata": {},
   "outputs": [
    {
     "data": {
      "text/plain": [
       "defaultdict(list, {})"
      ]
     },
     "execution_count": 26,
     "metadata": {},
     "output_type": "execute_result"
    }
   ],
   "source": [
    "# defaultdict with default value []\n",
    "collections.defaultdict(lambda: list())\n",
    "# equivalent to\n",
    "collections.defaultdict(list)"
   ]
  },
  {
   "cell_type": "code",
   "execution_count": 27,
   "metadata": {},
   "outputs": [],
   "source": [
    "# example"
   ]
  },
  {
   "cell_type": "code",
   "execution_count": 28,
   "metadata": {},
   "outputs": [
    {
     "data": {
      "text/plain": [
       "defaultdict(int, {})"
      ]
     },
     "execution_count": 28,
     "metadata": {},
     "output_type": "execute_result"
    }
   ],
   "source": [
    "# defaultdict with default value 0\n",
    "collections.defaultdict(lambda: 0)\n",
    "# equivalent to\n",
    "collections.defaultdict(int)"
   ]
  },
  {
   "cell_type": "code",
   "execution_count": 31,
   "metadata": {},
   "outputs": [],
   "source": [
    "# example\n",
    "\n",
    "s = 'mississippi'\n",
    "# Want: d = {'i': 4, 'p': 2, 'm': 1, 's': 4}"
   ]
  },
  {
   "cell_type": "code",
   "execution_count": 33,
   "metadata": {},
   "outputs": [
    {
     "name": "stdout",
     "output_type": "stream",
     "text": [
      "defaultdict(<class 'int'>, {'m': 1, 'i': 4, 's': 4, 'p': 2})\n"
     ]
    }
   ],
   "source": [
    "d = collections.defaultdict(int) # or... lambda: 0\n",
    "\n",
    "for letter in s:\n",
    "    d[letter] += 1\n",
    "    \n",
    "\n",
    "print(d)# => defaultdict(<class 'int'>, {'i': 4, 'p': 2, 'm': 1, 's': 4})"
   ]
  },
  {
   "cell_type": "code",
   "execution_count": 34,
   "metadata": {},
   "outputs": [
    {
     "data": {
      "text/plain": [
       "{'m': 1, 'i': 4, 's': 4, 'p': 2}"
      ]
     },
     "execution_count": 34,
     "metadata": {},
     "output_type": "execute_result"
    }
   ],
   "source": [
    "dict(d)"
   ]
  },
  {
   "cell_type": "markdown",
   "metadata": {},
   "source": [
    "### 3) collections.Counter: dict subclass for counting hashable objects"
   ]
  },
  {
   "cell_type": "code",
   "execution_count": 35,
   "metadata": {},
   "outputs": [],
   "source": [
    "# Have \n",
    "s = 'mississippi'\n",
    "\n",
    "# Want: [('s', 4), ('m', 1), ('i', 4), ('p', 2)]\n",
    "# count of occurences of each alphabet"
   ]
  },
  {
   "cell_type": "code",
   "execution_count": 36,
   "metadata": {},
   "outputs": [
    {
     "name": "stdout",
     "output_type": "stream",
     "text": [
      "Counter({'i': 4, 's': 4, 'p': 2, 'm': 1})\n"
     ]
    }
   ],
   "source": [
    "count = collections.Counter(s)\n",
    "\n",
    "print(count) # => Counter({'i': 4, 'm': 1, 'p': 2, 's': 4})"
   ]
  },
  {
   "cell_type": "code",
   "execution_count": 37,
   "metadata": {},
   "outputs": [
    {
     "name": "stdout",
     "output_type": "stream",
     "text": [
      "[('m', 1), ('i', 4), ('s', 4), ('p', 2)]\n"
     ]
    }
   ],
   "source": [
    "print(list(count.items())) # => [('s', 4), ('m', 1), ('i', 4), ('p', 2)]"
   ]
  },
  {
   "cell_type": "code",
   "execution_count": 38,
   "metadata": {},
   "outputs": [
    {
     "data": {
      "text/plain": [
       "['m', 'i', 's', 'p']"
      ]
     },
     "execution_count": 38,
     "metadata": {},
     "output_type": "execute_result"
    }
   ],
   "source": [
    "list(count)"
   ]
  },
  {
   "cell_type": "code",
   "execution_count": 39,
   "metadata": {},
   "outputs": [
    {
     "data": {
      "text/plain": [
       "dict_values([1, 4, 4, 2])"
      ]
     },
     "execution_count": 39,
     "metadata": {},
     "output_type": "execute_result"
    }
   ],
   "source": [
    "count.values()"
   ]
  },
  {
   "cell_type": "code",
   "execution_count": 43,
   "metadata": {},
   "outputs": [],
   "source": [
    "# eg)\n",
    "# Tally occurrences of words in a list\n",
    "\n",
    "colors = ['red', 'blue', 'red', 'green', 'blue']"
   ]
  },
  {
   "cell_type": "code",
   "execution_count": 44,
   "metadata": {},
   "outputs": [
    {
     "name": "stdout",
     "output_type": "stream",
     "text": [
      "Counter({'red': 2, 'blue': 2, 'green': 1})\n"
     ]
    }
   ],
   "source": [
    "# One approach\n",
    "counter = collections.Counter()\n",
    "for color in colors:\n",
    "    counter[color] += 1\n",
    "    \n",
    "print(counter) # => Counter({'blue': 2, 'green': 1, 'red': 2})"
   ]
  },
  {
   "cell_type": "code",
   "execution_count": 45,
   "metadata": {},
   "outputs": [
    {
     "name": "stdout",
     "output_type": "stream",
     "text": [
      "Counter({'red': 2, 'blue': 2, 'green': 1})\n"
     ]
    }
   ],
   "source": [
    "# A better approach\n",
    "counter = collections.Counter(colors)\n",
    "print(counter) # => Counter({'blue': 2, 'green': 1, 'red': 2})"
   ]
  },
  {
   "cell_type": "code",
   "execution_count": 47,
   "metadata": {},
   "outputs": [
    {
     "data": {
      "text/plain": [
       "[('a', 5), ('b', 2), ('r', 2)]"
      ]
     },
     "execution_count": 47,
     "metadata": {},
     "output_type": "execute_result"
    }
   ],
   "source": [
    "# Get most common elements!\n",
    "collections.Counter('abracadabra').most_common(3) # => [('a', 5), ('b', 2), ('r', 2)]"
   ]
  },
  {
   "cell_type": "code",
   "execution_count": 51,
   "metadata": {},
   "outputs": [],
   "source": [
    "# Supports basic arithmetic"
   ]
  },
  {
   "cell_type": "code",
   "execution_count": 52,
   "metadata": {},
   "outputs": [
    {
     "data": {
      "text/plain": [
       "Counter({'w': 2, 'h': 3, 'i': 2, 'c': 2, 't': 1})"
      ]
     },
     "execution_count": 52,
     "metadata": {},
     "output_type": "execute_result"
    }
   ],
   "source": [
    "collections.Counter('which') + collections.Counter('witch') # => Counter({'c': 2, 'h': 3, 'i': 2, 't': 1, 'w': 2})"
   ]
  },
  {
   "cell_type": "code",
   "execution_count": 53,
   "metadata": {},
   "outputs": [
    {
     "data": {
      "text/plain": [
       "Counter({'a': 1, 'b': 2, 'r': 2, 'c': 1, 'd': 1})"
      ]
     },
     "execution_count": 53,
     "metadata": {},
     "output_type": "execute_result"
    }
   ],
   "source": [
    "collections.Counter('abracadabra') - collections.Counter('alakazam') # => Counter({'a': 1, 'b': 2, 'c': 1, 'd': 1, 'r': 2})"
   ]
  },
  {
   "cell_type": "markdown",
   "metadata": {},
   "source": [
    "## re : Regular expression operations\n",
    "\n",
    "#### \"regular expression\" == \"search pattern\" for strings"
   ]
  },
  {
   "cell_type": "markdown",
   "metadata": {},
   "source": [
    "##### 1) Search for pattern match anywhere in string; return None if not found"
   ]
  },
  {
   "cell_type": "code",
   "execution_count": 55,
   "metadata": {},
   "outputs": [
    {
     "name": "stdout",
     "output_type": "stream",
     "text": [
      "Physicist Isaac\n",
      "Physicist\n",
      "Isaac\n"
     ]
    }
   ],
   "source": [
    "import re\n",
    "\n",
    "m = re.search(r\"(\\w+) (\\w+)\", \"Physicist Isaac Newton\")\n",
    "print(m.group(0)) # \"Isaac Newton\" - the entire match\n",
    "print(m.group(1)) # \"Isaac\" - first parenthesized subgroup\n",
    "print(m.group(2)) # \"Newton\" - second parenthesized subgroup"
   ]
  },
  {
   "cell_type": "markdown",
   "metadata": {},
   "source": [
    "##### 2) Match pattern against start of string; return None if not found"
   ]
  },
  {
   "cell_type": "code",
   "execution_count": 57,
   "metadata": {},
   "outputs": [
    {
     "name": "stdout",
     "output_type": "stream",
     "text": [
      "Malcolm\n",
      "Reynolds\n"
     ]
    }
   ],
   "source": [
    "m = re.match(r\"(?P<fname>\\w+) (?P<lname>\\w+)\", \"Malcolm Reynolds\")\n",
    "print(m.group('fname')) # => 'Malcolm'\n",
    "print(m.group('lname')) # => 'Reynolds'"
   ]
  },
  {
   "cell_type": "markdown",
   "metadata": {},
   "source": [
    "##### 3) Substitute occurrences of one pattern with another"
   ]
  },
  {
   "cell_type": "code",
   "execution_count": 59,
   "metadata": {},
   "outputs": [
    {
     "data": {
      "text/plain": [
       "'sam@stanford.edu poohbear@stanford.edu'"
      ]
     },
     "execution_count": 59,
     "metadata": {},
     "output_type": "execute_result"
    }
   ],
   "source": [
    "re.sub(r'@\\w+\\.com', '@stanford.edu', 'sam@go.com poohbear@bears.com')# => sam@stanford.edu poohbear@stanford.edu"
   ]
  },
  {
   "cell_type": "markdown",
   "metadata": {},
   "source": [
    "##### 4) Compile patterns"
   ]
  },
  {
   "cell_type": "code",
   "execution_count": 62,
   "metadata": {},
   "outputs": [
    {
     "name": "stdout",
     "output_type": "stream",
     "text": [
      "(3, 9)\n"
     ]
    }
   ],
   "source": [
    "pattern = re.compile(r'[a-z]+[0-9]{3}') # compile pattern for fast ops\n",
    "match = re.search(pattern, '@@@abc123') # pattern is first argument\n",
    "print(match.span()) # (3, 9)"
   ]
  },
  {
   "cell_type": "markdown",
   "metadata": {},
   "source": [
    "example\n",
    "\n",
    "Write a regular expression to match a phone number like\n",
    "650 867-5309\n",
    "Hint: \\d captures [0-9], i.e. any digit\n",
    "Hint: \\d{3} captures 3 consecutive digits\n",
    "\n",
    "is_phone(\"650 867-5309\") # => True\n",
    "is_phone(\"650.867.5309\") # => False\n",
    "\n",
    "Hint: Use named groups to return the area code"
   ]
  },
  {
   "cell_type": "code",
   "execution_count": 64,
   "metadata": {},
   "outputs": [],
   "source": [
    "# solution\n",
    "\n",
    "def is_phone(num):\n",
    "    return bool(re.match('\\d{3} \\d{3}-\\d{4}', num))\n",
    "\n",
    "def get_area_code(num):\n",
    "    m = re.match('(?P<areacode>\\d{3}) \\d{3}-\\d{4}', num)\n",
    "    if not m:\n",
    "        return None\n",
    "    return m.group('areacode')"
   ]
  },
  {
   "cell_type": "code",
   "execution_count": 65,
   "metadata": {},
   "outputs": [
    {
     "data": {
      "text/plain": [
       "True"
      ]
     },
     "execution_count": 65,
     "metadata": {},
     "output_type": "execute_result"
    }
   ],
   "source": [
    "is_phone(\"650 867-5309\")"
   ]
  },
  {
   "cell_type": "code",
   "execution_count": 66,
   "metadata": {},
   "outputs": [
    {
     "data": {
      "text/plain": [
       "'650'"
      ]
     },
     "execution_count": 66,
     "metadata": {},
     "output_type": "execute_result"
    }
   ],
   "source": [
    "get_area_code(\"650 867-5309\")"
   ]
  },
  {
   "cell_type": "markdown",
   "metadata": {},
   "source": [
    "### 4) collections.Counter and re"
   ]
  },
  {
   "cell_type": "code",
   "execution_count": 69,
   "metadata": {},
   "outputs": [
    {
     "ename": "FileNotFoundError",
     "evalue": "[Errno 2] No such file or directory: 'hamlet.txt'",
     "output_type": "error",
     "traceback": [
      "\u001b[0;31m---------------------------------------------------------------------------\u001b[0m",
      "\u001b[0;31mFileNotFoundError\u001b[0m                         Traceback (most recent call last)",
      "\u001b[0;32m<ipython-input-69-a71e23fd7a31>\u001b[0m in \u001b[0;36m<module>\u001b[0;34m\u001b[0m\n\u001b[1;32m      2\u001b[0m \u001b[0;32mimport\u001b[0m \u001b[0mre\u001b[0m\u001b[0;34m\u001b[0m\u001b[0m\n\u001b[1;32m      3\u001b[0m \u001b[0;34m\u001b[0m\u001b[0m\n\u001b[0;32m----> 4\u001b[0;31m \u001b[0;32mwith\u001b[0m \u001b[0mopen\u001b[0m\u001b[0;34m(\u001b[0m\u001b[0;34m'hamlet.txt'\u001b[0m\u001b[0;34m)\u001b[0m \u001b[0;32mas\u001b[0m \u001b[0mf\u001b[0m\u001b[0;34m:\u001b[0m\u001b[0;34m\u001b[0m\u001b[0m\n\u001b[0m\u001b[1;32m      5\u001b[0m     \u001b[0mwords\u001b[0m \u001b[0;34m=\u001b[0m \u001b[0mre\u001b[0m\u001b[0;34m.\u001b[0m\u001b[0mfindall\u001b[0m\u001b[0;34m(\u001b[0m\u001b[0;34mr'\\w+'\u001b[0m\u001b[0;34m,\u001b[0m \u001b[0mf\u001b[0m\u001b[0;34m.\u001b[0m\u001b[0mread\u001b[0m\u001b[0;34m(\u001b[0m\u001b[0;34m)\u001b[0m\u001b[0;34m.\u001b[0m\u001b[0mlower\u001b[0m\u001b[0;34m(\u001b[0m\u001b[0;34m)\u001b[0m\u001b[0;34m)\u001b[0m\u001b[0;34m\u001b[0m\u001b[0m\n\u001b[1;32m      6\u001b[0m \u001b[0;34m\u001b[0m\u001b[0m\n",
      "\u001b[0;31mFileNotFoundError\u001b[0m: [Errno 2] No such file or directory: 'hamlet.txt'"
     ]
    }
   ],
   "source": [
    "# Find the three most common words in Hamlet\n",
    "import re\n",
    "\n",
    "with open('hamlet.txt') as f:\n",
    "    words = re.findall(r'\\w+', f.read().lower())\n",
    "\n",
    "print(collections.Counter(words).most_common(3))# => [('the', 1091), ('and', 969), ('to', 767)]"
   ]
  },
  {
   "cell_type": "markdown",
   "metadata": {},
   "source": [
    "# itertools : iterators for efficient looping"
   ]
  },
  {
   "cell_type": "markdown",
   "metadata": {},
   "source": [
    "## 1) Combinatorics"
   ]
  },
  {
   "cell_type": "code",
   "execution_count": 73,
   "metadata": {},
   "outputs": [],
   "source": [
    "import itertools\n",
    "\n",
    "def view(it):\n",
    "    print(*[''.join(els) for els in it])"
   ]
  },
  {
   "cell_type": "code",
   "execution_count": 75,
   "metadata": {},
   "outputs": [
    {
     "name": "stdout",
     "output_type": "stream",
     "text": [
      "AE AF AG AH BE BF BG BH CE CF CG CH DE DF DG DH\n",
      "None\n"
     ]
    }
   ],
   "source": [
    "print(view(itertools.product('ABCD', 'EFGH'))) # => AE AF AG AH BE BF BG BH CE CF CG CH DE DF DG DH\n"
   ]
  },
  {
   "cell_type": "code",
   "execution_count": 76,
   "metadata": {},
   "outputs": [
    {
     "name": "stdout",
     "output_type": "stream",
     "text": [
      "AA AB AC AD BA BB BC BD CA CB CC CD DA DB DC DD\n",
      "None\n"
     ]
    }
   ],
   "source": [
    "print(view(itertools.product('ABCD', repeat=2))) # => AA AB AC AD BA BB BC BD CA CB CC CD DA DB DC DD"
   ]
  },
  {
   "cell_type": "code",
   "execution_count": 77,
   "metadata": {},
   "outputs": [
    {
     "name": "stdout",
     "output_type": "stream",
     "text": [
      "AB AC AD BA BC BD CA CB CD DA DB DC\n",
      "None\n"
     ]
    }
   ],
   "source": [
    "print(view(itertools.permutations('ABCD', 2))) # => AB AC AD BA BC BD CA CB CD DA DB DC"
   ]
  },
  {
   "cell_type": "code",
   "execution_count": 78,
   "metadata": {},
   "outputs": [
    {
     "name": "stdout",
     "output_type": "stream",
     "text": [
      "AB AC AD BC BD CD\n",
      "None\n"
     ]
    }
   ],
   "source": [
    "print(view(itertools.combinations('ABCD', 2))) # => AB AC AD BC BD CD"
   ]
  },
  {
   "cell_type": "code",
   "execution_count": 79,
   "metadata": {},
   "outputs": [
    {
     "name": "stdout",
     "output_type": "stream",
     "text": [
      "AA AB AC AD BB BC BD CC CD DD\n",
      "None\n"
     ]
    }
   ],
   "source": [
    "print(view(itertools.combinations_with_replacement('ABCD', 2))) # => AA AB AC AD BB BC BD CC CD D"
   ]
  },
  {
   "cell_type": "markdown",
   "metadata": {},
   "source": [
    "## 2) Infinite Iterators"
   ]
  },
  {
   "cell_type": "code",
   "execution_count": 84,
   "metadata": {},
   "outputs": [
    {
     "data": {
      "text/plain": [
       "count(10)"
      ]
     },
     "execution_count": 84,
     "metadata": {},
     "output_type": "execute_result"
    }
   ],
   "source": [
    "# start, [step] -> start, start + step, ...\n",
    "itertools.count(10) # -> 10, 11, 12, 13, 14, ..."
   ]
  },
  {
   "cell_type": "code",
   "execution_count": 85,
   "metadata": {},
   "outputs": [
    {
     "data": {
      "text/plain": [
       "<itertools.cycle at 0x7f1b32703048>"
      ]
     },
     "execution_count": 85,
     "metadata": {},
     "output_type": "execute_result"
    }
   ],
   "source": [
    "# Cycle through elements of an iterable\n",
    "itertools.cycle('ABC') # -> 'A', 'B', 'C', 'A', ..."
   ]
  },
  {
   "cell_type": "code",
   "execution_count": 86,
   "metadata": {},
   "outputs": [
    {
     "data": {
      "text/plain": [
       "repeat(10)"
      ]
     },
     "execution_count": 86,
     "metadata": {},
     "output_type": "execute_result"
    }
   ],
   "source": [
    "# Repeat a single element over and over.\n",
    "itertools.repeat(10) # -> 10, 10, 10, 10, ..."
   ]
  },
  {
   "cell_type": "markdown",
   "metadata": {},
   "source": [
    "## 3) json:  JSON encoder and decoder"
   ]
  },
  {
   "cell_type": "code",
   "execution_count": 92,
   "metadata": {},
   "outputs": [],
   "source": [
    "import json\n",
    "\n",
    "squares = {1:1, 2:4, 3:9, 4:16}"
   ]
  },
  {
   "cell_type": "code",
   "execution_count": 95,
   "metadata": {},
   "outputs": [],
   "source": [
    "# Serialize to/from string\n",
    "\n",
    "output = json.dumps(squares) # output == \"{1:1, 2:4, 3:9, 4:16}\""
   ]
  },
  {
   "cell_type": "code",
   "execution_count": 96,
   "metadata": {},
   "outputs": [
    {
     "name": "stdout",
     "output_type": "stream",
     "text": [
      "<class 'str'> {\"1\": 1, \"2\": 4, \"3\": 9, \"4\": 16}\n"
     ]
    }
   ],
   "source": [
    "print(type(output),output)"
   ]
  },
  {
   "cell_type": "code",
   "execution_count": 97,
   "metadata": {},
   "outputs": [
    {
     "data": {
      "text/plain": [
       "{'1': 1, '2': 4, '3': 9, '4': 16}"
      ]
     },
     "execution_count": 97,
     "metadata": {},
     "output_type": "execute_result"
    }
   ],
   "source": [
    "json.loads(output) # => {1:1, 2:4, 3:9, 4:16}"
   ]
  },
  {
   "cell_type": "code",
   "execution_count": 99,
   "metadata": {},
   "outputs": [],
   "source": [
    "# Serialize to/from file\n",
    "\n",
    "with open('tmp.json', 'w') as outfile:\n",
    "    json.dump(squares, outfile)\n",
    "\n",
    "with open('tmp.json', 'r') as infile:\n",
    "    input = json.load(infile)"
   ]
  },
  {
   "cell_type": "code",
   "execution_count": 100,
   "metadata": {},
   "outputs": [
    {
     "data": {
      "text/plain": [
       "'{\\n    \"1\": 1,\\n    \"2\": 4,\\n    \"3\": 9,\\n    \"4\": 16\\n}'"
      ]
     },
     "execution_count": 100,
     "metadata": {},
     "output_type": "execute_result"
    }
   ],
   "source": [
    "# All variants support useful keyword arguments\n",
    "json.dumps(squares, indent=4, sort_keys=True, separators=(',', ': '))"
   ]
  },
  {
   "cell_type": "code",
   "execution_count": 1,
   "metadata": {},
   "outputs": [],
   "source": [
    "# functools \n",
    "# python one liners"
   ]
  },
  {
   "cell_type": "markdown",
   "metadata": {},
   "source": [
    "## 4) random : Generate pseudo-random numbers"
   ]
  },
  {
   "cell_type": "code",
   "execution_count": null,
   "metadata": {},
   "outputs": [],
   "source": []
  }
 ],
 "metadata": {
  "kernelspec": {
   "display_name": "Python 3",
   "language": "python",
   "name": "python3"
  },
  "language_info": {
   "codemirror_mode": {
    "name": "ipython",
    "version": 3
   },
   "file_extension": ".py",
   "mimetype": "text/x-python",
   "name": "python",
   "nbconvert_exporter": "python",
   "pygments_lexer": "ipython3",
   "version": "3.6.0"
  }
 },
 "nbformat": 4,
 "nbformat_minor": 2
}
