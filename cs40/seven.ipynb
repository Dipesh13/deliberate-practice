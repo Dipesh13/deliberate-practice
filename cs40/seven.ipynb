{
 "cells": [
  {
   "cell_type": "markdown",
   "metadata": {},
   "source": [
    "## The Python Standard Library\n",
    "\n",
    "##### Module = smallest unit of code reusability. File containing Python definitions and statements\n",
    "##### Package = logical collection of modules. Often bundles large products and broad functionality\n",
    "##### Standard Library = collection of packages and modules. Distributed with Python by default\n",
    "##### Script = Any Python code invoked as an executable. Usually from the command line"
   ]
  },
  {
   "cell_type": "code",
   "execution_count": 2,
   "metadata": {},
   "outputs": [],
   "source": [
    "# 1)  Import from a Module\n",
    "\n",
    "import math\n",
    "\n",
    "# Any python file (including your own) can be a module\n",
    "# from my_script import my_function, my_variable"
   ]
  },
  {
   "cell_type": "code",
   "execution_count": 3,
   "metadata": {},
   "outputs": [],
   "source": [
    "# Import from a Package\n",
    "\n",
    "# Packages give structure to modules\n",
    "# __init__.py distinguishes packages from normal directories"
   ]
  },
  {
   "cell_type": "code",
   "execution_count": 4,
   "metadata": {},
   "outputs": [],
   "source": [
    "# eg)\n",
    "\n",
    "# sound/\n",
    "# ├── __init__.py\n",
    "# ├── effects/\n",
    "# │ ├── __init__.py\n",
    "# │ ├── echo.py\n",
    "# │ ├── reverse.py\n",
    "# │ └── surround.py\n",
    "\n",
    "# from sound.effects import echo"
   ]
  },
  {
   "cell_type": "code",
   "execution_count": 5,
   "metadata": {},
   "outputs": [],
   "source": [
    "# Import Conventions\n",
    "\n",
    "# Prefer import ... instead of from ... import ...  Why? Explicit namespaces avoid name conflicts\n",
    "\n",
    "# Avoid from ... import *  Why? Unclear what is being imported, strange behavior"
   ]
  },
  {
   "cell_type": "code",
   "execution_count": 6,
   "metadata": {},
   "outputs": [],
   "source": [
    "# Executing Modules as Scripts\n",
    "\n",
    "# Refresher: Running Modules as Scripts\n",
    "# We can run a module (demo.py) as a script\n",
    "# $ python3 demo.py # Doing so sets __name__ = '__main__'\n",
    "# <output>"
   ]
  },
  {
   "cell_type": "code",
   "execution_count": 7,
   "metadata": {},
   "outputs": [],
   "source": [
    "# Aside: Finding Modules\n",
    "\n",
    "# if builtin module exists: load builtin module\n",
    "# else:\n",
    "# look for builtin module in the current directory of script\n",
    "# look through PYTHONPATH\n",
    "# look in installation default\n",
    "# load if found, else raise ImportError"
   ]
  },
  {
   "cell_type": "markdown",
   "metadata": {},
   "source": [
    "# Collections: container datatypes"
   ]
  },
  {
   "cell_type": "markdown",
   "metadata": {},
   "source": [
    "### 1) collections.namedtuple : create tuple subclasses with named fields"
   ]
  },
  {
   "cell_type": "code",
   "execution_count": 9,
   "metadata": {},
   "outputs": [],
   "source": [
    "# eg) \n",
    "import collections\n",
    "\n",
    "Point = collections.namedtuple('Point', ['x', 'y'])"
   ]
  },
  {
   "cell_type": "code",
   "execution_count": 10,
   "metadata": {},
   "outputs": [],
   "source": [
    "p = Point(11, y=22) # positional or keyword arguments"
   ]
  },
  {
   "cell_type": "code",
   "execution_count": 11,
   "metadata": {},
   "outputs": [
    {
     "data": {
      "text/plain": [
       "(-11, 44)"
      ]
     },
     "execution_count": 11,
     "metadata": {},
     "output_type": "execute_result"
    }
   ],
   "source": [
    "# Fields are accessible by name! \"Readability counts.\"\n",
    "-p.x, 2 * p.y # => -11, 44"
   ]
  },
  {
   "cell_type": "code",
   "execution_count": 12,
   "metadata": {},
   "outputs": [
    {
     "name": "stdout",
     "output_type": "stream",
     "text": [
      "Point(x=11, y=22)\n"
     ]
    }
   ],
   "source": [
    "# readable __repr__ with a name=value style\n",
    "print(p) # Point(x=11, y=22)"
   ]
  },
  {
   "cell_type": "code",
   "execution_count": 13,
   "metadata": {},
   "outputs": [
    {
     "data": {
      "text/plain": [
       "242"
      ]
     },
     "execution_count": 13,
     "metadata": {},
     "output_type": "execute_result"
    }
   ],
   "source": [
    "# Subscriptable, like regular tuples\n",
    "p[0] * p[1] # => 242"
   ]
  },
  {
   "cell_type": "code",
   "execution_count": 14,
   "metadata": {},
   "outputs": [],
   "source": [
    "# Unpack, like regular tuples\n",
    "x, y = p # x == 11, y == 22"
   ]
  },
  {
   "cell_type": "code",
   "execution_count": 15,
   "metadata": {},
   "outputs": [
    {
     "data": {
      "text/plain": [
       "(11, 22)"
      ]
     },
     "execution_count": 15,
     "metadata": {},
     "output_type": "execute_result"
    }
   ],
   "source": [
    "x,y"
   ]
  },
  {
   "cell_type": "code",
   "execution_count": 17,
   "metadata": {},
   "outputs": [
    {
     "data": {
      "text/plain": [
       "21.0"
      ]
     },
     "execution_count": 17,
     "metadata": {},
     "output_type": "execute_result"
    }
   ],
   "source": [
    "# Usually don't need to unpack if attributes have names\n",
    "\n",
    "other = Point(11,43)\n",
    "\n",
    "math.hypot(p.x - other.x, p.y - other.y)"
   ]
  },
  {
   "cell_type": "code",
   "execution_count": 18,
   "metadata": {},
   "outputs": [
    {
     "name": "stdout",
     "output_type": "stream",
     "text": [
      "Wow, that is light!\n"
     ]
    }
   ],
   "source": [
    "# bad\n",
    "# Can you guess the context of this code?\n",
    "p = (170, 0.1, 0.6)\n",
    "if p[1] >= 0.5:\n",
    "    print(\"Whew, that is bright!\")\n",
    "if p[2] >= 0.5:\n",
    "    print(\"Wow, that is light!\")"
   ]
  },
  {
   "cell_type": "code",
   "execution_count": 19,
   "metadata": {},
   "outputs": [
    {
     "name": "stdout",
     "output_type": "stream",
     "text": [
      "Wow, that is light!\n"
     ]
    }
   ],
   "source": [
    "# good\n",
    "Color = collections.namedtuple(\"Color\",[\"hue\", \"saturation\", \"luminosity\"])\n",
    "pixel = Color(170, 0.1, 0.6)\n",
    "if pixel.saturation >= 0.5:\n",
    "    print(\"Whew, that is bright!\")\n",
    "if pixel.luminosity >= 0.5:\n",
    "    print(\"Wow, that is light!\")"
   ]
  },
  {
   "cell_type": "markdown",
   "metadata": {},
   "source": [
    "### 2) collections.defaultdict :  dict subclass with factory function for missing values"
   ]
  },
  {
   "cell_type": "code",
   "execution_count": 21,
   "metadata": {},
   "outputs": [],
   "source": [
    "# Have:\n",
    "input_data = [('yellow', 1), ('blue', 2),('yellow', 3), ('blue', 4), ('red', 1)]\n",
    "\n",
    "# Want:\n",
    "# output = {'blue': [2, 4], 'red': [1], 'yellow': [1, 3]}"
   ]
  },
  {
   "cell_type": "code",
   "execution_count": 22,
   "metadata": {},
   "outputs": [
    {
     "name": "stdout",
     "output_type": "stream",
     "text": [
      "{'yellow': [1], 'blue': [2], 'red': [1]}\n"
     ]
    }
   ],
   "source": [
    "# One approach\n",
    "output = {}\n",
    "for k, v in input_data:\n",
    "    if k not in output:\n",
    "        output[k] = []\n",
    "        output[k].append(v)\n",
    "\n",
    "print(output) # => {'blue': [2, 4], 'red': [1], 'yellow': [1, 3]}"
   ]
  },
  {
   "cell_type": "code",
   "execution_count": 23,
   "metadata": {},
   "outputs": [
    {
     "name": "stdout",
     "output_type": "stream",
     "text": [
      "defaultdict(<function <lambda> at 0x7f1b32ff3378>, {'yellow': [1, 3], 'blue': [2, 4], 'red': [1]})\n"
     ]
    }
   ],
   "source": [
    "# A better approach\n",
    "output = collections.defaultdict(lambda: list())\n",
    "for k, v in input_data:\n",
    "    output[k].append(v)\n",
    "\n",
    "print(output) # => {'red': [1], 'yellow': [1, 3], 'blue': [2, 4]})"
   ]
  },
  {
   "cell_type": "code",
   "execution_count": 24,
   "metadata": {},
   "outputs": [
    {
     "data": {
      "text/plain": [
       "{'yellow': [1, 3], 'blue': [2, 4], 'red': [1]}"
      ]
     },
     "execution_count": 24,
     "metadata": {},
     "output_type": "execute_result"
    }
   ],
   "source": [
    "dict(output)"
   ]
  },
  {
   "cell_type": "code",
   "execution_count": 25,
   "metadata": {},
   "outputs": [],
   "source": [
    "# Zero-Argument Callable"
   ]
  },
  {
   "cell_type": "code",
   "execution_count": 26,
   "metadata": {},
   "outputs": [
    {
     "data": {
      "text/plain": [
       "defaultdict(list, {})"
      ]
     },
     "execution_count": 26,
     "metadata": {},
     "output_type": "execute_result"
    }
   ],
   "source": [
    "# defaultdict with default value []\n",
    "collections.defaultdict(lambda: list())\n",
    "# equivalent to\n",
    "collections.defaultdict(list)"
   ]
  },
  {
   "cell_type": "code",
   "execution_count": 27,
   "metadata": {},
   "outputs": [],
   "source": [
    "# example"
   ]
  },
  {
   "cell_type": "code",
   "execution_count": 28,
   "metadata": {},
   "outputs": [
    {
     "data": {
      "text/plain": [
       "defaultdict(int, {})"
      ]
     },
     "execution_count": 28,
     "metadata": {},
     "output_type": "execute_result"
    }
   ],
   "source": [
    "# defaultdict with default value 0\n",
    "collections.defaultdict(lambda: 0)\n",
    "# equivalent to\n",
    "collections.defaultdict(int)"
   ]
  },
  {
   "cell_type": "code",
   "execution_count": 31,
   "metadata": {},
   "outputs": [],
   "source": [
    "# example\n",
    "\n",
    "s = 'mississippi'\n",
    "# Want: d = {'i': 4, 'p': 2, 'm': 1, 's': 4}"
   ]
  },
  {
   "cell_type": "code",
   "execution_count": 33,
   "metadata": {},
   "outputs": [
    {
     "name": "stdout",
     "output_type": "stream",
     "text": [
      "defaultdict(<class 'int'>, {'m': 1, 'i': 4, 's': 4, 'p': 2})\n"
     ]
    }
   ],
   "source": [
    "d = collections.defaultdict(int) # or... lambda: 0\n",
    "\n",
    "for letter in s:\n",
    "    d[letter] += 1\n",
    "    \n",
    "\n",
    "print(d)# => defaultdict(<class 'int'>, {'i': 4, 'p': 2, 'm': 1, 's': 4})"
   ]
  },
  {
   "cell_type": "code",
   "execution_count": 34,
   "metadata": {},
   "outputs": [
    {
     "data": {
      "text/plain": [
       "{'m': 1, 'i': 4, 's': 4, 'p': 2}"
      ]
     },
     "execution_count": 34,
     "metadata": {},
     "output_type": "execute_result"
    }
   ],
   "source": [
    "dict(d)"
   ]
  },
  {
   "cell_type": "markdown",
   "metadata": {},
   "source": [
    "### 3) collections.Counter: dict subclass for counting hashable objects"
   ]
  },
  {
   "cell_type": "code",
   "execution_count": 35,
   "metadata": {},
   "outputs": [],
   "source": [
    "# Have \n",
    "s = 'mississippi'\n",
    "\n",
    "# Want: [('s', 4), ('m', 1), ('i', 4), ('p', 2)]\n",
    "# count of occurences of each alphabet"
   ]
  },
  {
   "cell_type": "code",
   "execution_count": 36,
   "metadata": {},
   "outputs": [
    {
     "name": "stdout",
     "output_type": "stream",
     "text": [
      "Counter({'i': 4, 's': 4, 'p': 2, 'm': 1})\n"
     ]
    }
   ],
   "source": [
    "count = collections.Counter(s)\n",
    "\n",
    "print(count) # => Counter({'i': 4, 'm': 1, 'p': 2, 's': 4})"
   ]
  },
  {
   "cell_type": "code",
   "execution_count": 37,
   "metadata": {},
   "outputs": [
    {
     "name": "stdout",
     "output_type": "stream",
     "text": [
      "[('m', 1), ('i', 4), ('s', 4), ('p', 2)]\n"
     ]
    }
   ],
   "source": [
    "print(list(count.items())) # => [('s', 4), ('m', 1), ('i', 4), ('p', 2)]"
   ]
  },
  {
   "cell_type": "code",
   "execution_count": 38,
   "metadata": {},
   "outputs": [
    {
     "data": {
      "text/plain": [
       "['m', 'i', 's', 'p']"
      ]
     },
     "execution_count": 38,
     "metadata": {},
     "output_type": "execute_result"
    }
   ],
   "source": [
    "list(count)"
   ]
  },
  {
   "cell_type": "code",
   "execution_count": 39,
   "metadata": {},
   "outputs": [
    {
     "data": {
      "text/plain": [
       "dict_values([1, 4, 4, 2])"
      ]
     },
     "execution_count": 39,
     "metadata": {},
     "output_type": "execute_result"
    }
   ],
   "source": [
    "count.values()"
   ]
  },
  {
   "cell_type": "code",
   "execution_count": 43,
   "metadata": {},
   "outputs": [],
   "source": [
    "# eg)\n",
    "# Tally occurrences of words in a list\n",
    "\n",
    "colors = ['red', 'blue', 'red', 'green', 'blue']"
   ]
  },
  {
   "cell_type": "code",
   "execution_count": 44,
   "metadata": {},
   "outputs": [
    {
     "name": "stdout",
     "output_type": "stream",
     "text": [
      "Counter({'red': 2, 'blue': 2, 'green': 1})\n"
     ]
    }
   ],
   "source": [
    "# One approach\n",
    "counter = collections.Counter()\n",
    "for color in colors:\n",
    "    counter[color] += 1\n",
    "    \n",
    "print(counter) # => Counter({'blue': 2, 'green': 1, 'red': 2})"
   ]
  },
  {
   "cell_type": "code",
   "execution_count": 45,
   "metadata": {},
   "outputs": [
    {
     "name": "stdout",
     "output_type": "stream",
     "text": [
      "Counter({'red': 2, 'blue': 2, 'green': 1})\n"
     ]
    }
   ],
   "source": [
    "# A better approach\n",
    "counter = collections.Counter(colors)\n",
    "print(counter) # => Counter({'blue': 2, 'green': 1, 'red': 2})"
   ]
  },
  {
   "cell_type": "code",
   "execution_count": 47,
   "metadata": {},
   "outputs": [
    {
     "data": {
      "text/plain": [
       "[('a', 5), ('b', 2), ('r', 2)]"
      ]
     },
     "execution_count": 47,
     "metadata": {},
     "output_type": "execute_result"
    }
   ],
   "source": [
    "# Get most common elements!\n",
    "collections.Counter('abracadabra').most_common(3) # => [('a', 5), ('b', 2), ('r', 2)]"
   ]
  },
  {
   "cell_type": "code",
   "execution_count": 51,
   "metadata": {},
   "outputs": [],
   "source": [
    "# Supports basic arithmetic"
   ]
  },
  {
   "cell_type": "code",
   "execution_count": 52,
   "metadata": {},
   "outputs": [
    {
     "data": {
      "text/plain": [
       "Counter({'w': 2, 'h': 3, 'i': 2, 'c': 2, 't': 1})"
      ]
     },
     "execution_count": 52,
     "metadata": {},
     "output_type": "execute_result"
    }
   ],
   "source": [
    "collections.Counter('which') + collections.Counter('witch') # => Counter({'c': 2, 'h': 3, 'i': 2, 't': 1, 'w': 2})"
   ]
  },
  {
   "cell_type": "code",
   "execution_count": 53,
   "metadata": {},
   "outputs": [
    {
     "data": {
      "text/plain": [
       "Counter({'a': 1, 'b': 2, 'r': 2, 'c': 1, 'd': 1})"
      ]
     },
     "execution_count": 53,
     "metadata": {},
     "output_type": "execute_result"
    }
   ],
   "source": [
    "collections.Counter('abracadabra') - collections.Counter('alakazam') # => Counter({'a': 1, 'b': 2, 'c': 1, 'd': 1, 'r': 2})"
   ]
  },
  {
   "cell_type": "markdown",
   "metadata": {},
   "source": [
    "## re : Regular expression operations\n",
    "\n",
    "#### \"regular expression\" == \"search pattern\" for strings"
   ]
  },
  {
   "cell_type": "markdown",
   "metadata": {},
   "source": [
    "##### 1) Search for pattern match anywhere in string; return None if not found"
   ]
  },
  {
   "cell_type": "code",
   "execution_count": 55,
   "metadata": {},
   "outputs": [
    {
     "name": "stdout",
     "output_type": "stream",
     "text": [
      "Physicist Isaac\n",
      "Physicist\n",
      "Isaac\n"
     ]
    }
   ],
   "source": [
    "import re\n",
    "\n",
    "m = re.search(r\"(\\w+) (\\w+)\", \"Physicist Isaac Newton\")\n",
    "print(m.group(0)) # \"Isaac Newton\" - the entire match\n",
    "print(m.group(1)) # \"Isaac\" - first parenthesized subgroup\n",
    "print(m.group(2)) # \"Newton\" - second parenthesized subgroup"
   ]
  },
  {
   "cell_type": "markdown",
   "metadata": {},
   "source": [
    "##### 2) Match pattern against start of string; return None if not found"
   ]
  },
  {
   "cell_type": "code",
   "execution_count": 57,
   "metadata": {},
   "outputs": [
    {
     "name": "stdout",
     "output_type": "stream",
     "text": [
      "Malcolm\n",
      "Reynolds\n"
     ]
    }
   ],
   "source": [
    "m = re.match(r\"(?P<fname>\\w+) (?P<lname>\\w+)\", \"Malcolm Reynolds\")\n",
    "print(m.group('fname')) # => 'Malcolm'\n",
    "print(m.group('lname')) # => 'Reynolds'"
   ]
  },
  {
   "cell_type": "markdown",
   "metadata": {},
   "source": [
    "##### 3) Substitute occurrences of one pattern with another"
   ]
  },
  {
   "cell_type": "code",
   "execution_count": 59,
   "metadata": {},
   "outputs": [
    {
     "data": {
      "text/plain": [
       "'sam@stanford.edu poohbear@stanford.edu'"
      ]
     },
     "execution_count": 59,
     "metadata": {},
     "output_type": "execute_result"
    }
   ],
   "source": [
    "re.sub(r'@\\w+\\.com', '@stanford.edu', 'sam@go.com poohbear@bears.com')# => sam@stanford.edu poohbear@stanford.edu"
   ]
  },
  {
   "cell_type": "markdown",
   "metadata": {},
   "source": [
    "##### 4) Compile patterns"
   ]
  },
  {
   "cell_type": "code",
   "execution_count": 62,
   "metadata": {},
   "outputs": [
    {
     "name": "stdout",
     "output_type": "stream",
     "text": [
      "(3, 9)\n"
     ]
    }
   ],
   "source": [
    "pattern = re.compile(r'[a-z]+[0-9]{3}') # compile pattern for fast ops\n",
    "match = re.search(pattern, '@@@abc123') # pattern is first argument\n",
    "print(match.span()) # (3, 9)"
   ]
  },
  {
   "cell_type": "markdown",
   "metadata": {},
   "source": [
    "example\n",
    "\n",
    "Write a regular expression to match a phone number like\n",
    "650 867-5309\n",
    "Hint: \\d captures [0-9], i.e. any digit\n",
    "Hint: \\d{3} captures 3 consecutive digits\n",
    "\n",
    "is_phone(\"650 867-5309\") # => True\n",
    "is_phone(\"650.867.5309\") # => False\n",
    "\n",
    "Hint: Use named groups to return the area code"
   ]
  },
  {
   "cell_type": "code",
   "execution_count": 64,
   "metadata": {},
   "outputs": [],
   "source": [
    "# solution\n",
    "\n",
    "def is_phone(num):\n",
    "    return bool(re.match('\\d{3} \\d{3}-\\d{4}', num))\n",
    "\n",
    "def get_area_code(num):\n",
    "    m = re.match('(?P<areacode>\\d{3}) \\d{3}-\\d{4}', num)\n",
    "    if not m:\n",
    "        return None\n",
    "    return m.group('areacode')"
   ]
  },
  {
   "cell_type": "code",
   "execution_count": 65,
   "metadata": {},
   "outputs": [
    {
     "data": {
      "text/plain": [
       "True"
      ]
     },
     "execution_count": 65,
     "metadata": {},
     "output_type": "execute_result"
    }
   ],
   "source": [
    "is_phone(\"650 867-5309\")"
   ]
  },
  {
   "cell_type": "code",
   "execution_count": 66,
   "metadata": {},
   "outputs": [
    {
     "data": {
      "text/plain": [
       "'650'"
      ]
     },
     "execution_count": 66,
     "metadata": {},
     "output_type": "execute_result"
    }
   ],
   "source": [
    "get_area_code(\"650 867-5309\")"
   ]
  },
  {
   "cell_type": "markdown",
   "metadata": {},
   "source": [
    "### 4) collections.Counter and re"
   ]
  },
  {
   "cell_type": "code",
   "execution_count": 69,
   "metadata": {},
   "outputs": [
    {
     "ename": "FileNotFoundError",
     "evalue": "[Errno 2] No such file or directory: 'hamlet.txt'",
     "output_type": "error",
     "traceback": [
      "\u001b[0;31m---------------------------------------------------------------------------\u001b[0m",
      "\u001b[0;31mFileNotFoundError\u001b[0m                         Traceback (most recent call last)",
      "\u001b[0;32m<ipython-input-69-a71e23fd7a31>\u001b[0m in \u001b[0;36m<module>\u001b[0;34m\u001b[0m\n\u001b[1;32m      2\u001b[0m \u001b[0;32mimport\u001b[0m \u001b[0mre\u001b[0m\u001b[0;34m\u001b[0m\u001b[0m\n\u001b[1;32m      3\u001b[0m \u001b[0;34m\u001b[0m\u001b[0m\n\u001b[0;32m----> 4\u001b[0;31m \u001b[0;32mwith\u001b[0m \u001b[0mopen\u001b[0m\u001b[0;34m(\u001b[0m\u001b[0;34m'hamlet.txt'\u001b[0m\u001b[0;34m)\u001b[0m \u001b[0;32mas\u001b[0m \u001b[0mf\u001b[0m\u001b[0;34m:\u001b[0m\u001b[0;34m\u001b[0m\u001b[0m\n\u001b[0m\u001b[1;32m      5\u001b[0m     \u001b[0mwords\u001b[0m \u001b[0;34m=\u001b[0m \u001b[0mre\u001b[0m\u001b[0;34m.\u001b[0m\u001b[0mfindall\u001b[0m\u001b[0;34m(\u001b[0m\u001b[0;34mr'\\w+'\u001b[0m\u001b[0;34m,\u001b[0m \u001b[0mf\u001b[0m\u001b[0;34m.\u001b[0m\u001b[0mread\u001b[0m\u001b[0;34m(\u001b[0m\u001b[0;34m)\u001b[0m\u001b[0;34m.\u001b[0m\u001b[0mlower\u001b[0m\u001b[0;34m(\u001b[0m\u001b[0;34m)\u001b[0m\u001b[0;34m)\u001b[0m\u001b[0;34m\u001b[0m\u001b[0m\n\u001b[1;32m      6\u001b[0m \u001b[0;34m\u001b[0m\u001b[0m\n",
      "\u001b[0;31mFileNotFoundError\u001b[0m: [Errno 2] No such file or directory: 'hamlet.txt'"
     ]
    }
   ],
   "source": [
    "# Find the three most common words in Hamlet\n",
    "import re\n",
    "\n",
    "with open('hamlet.txt') as f:\n",
    "    words = re.findall(r'\\w+', f.read().lower())\n",
    "\n",
    "print(collections.Counter(words).most_common(3))# => [('the', 1091), ('and', 969), ('to', 767)]"
   ]
  },
  {
   "cell_type": "markdown",
   "metadata": {},
   "source": [
    "# itertools : iterators for efficient looping"
   ]
  },
  {
   "cell_type": "markdown",
   "metadata": {},
   "source": [
    "## 1) Combinatorics"
   ]
  },
  {
   "cell_type": "code",
   "execution_count": 73,
   "metadata": {},
   "outputs": [],
   "source": [
    "import itertools\n",
    "\n",
    "def view(it):\n",
    "    print(*[''.join(els) for els in it])"
   ]
  },
  {
   "cell_type": "code",
   "execution_count": 75,
   "metadata": {},
   "outputs": [
    {
     "name": "stdout",
     "output_type": "stream",
     "text": [
      "AE AF AG AH BE BF BG BH CE CF CG CH DE DF DG DH\n",
      "None\n"
     ]
    }
   ],
   "source": [
    "print(view(itertools.product('ABCD', 'EFGH'))) # => AE AF AG AH BE BF BG BH CE CF CG CH DE DF DG DH\n"
   ]
  },
  {
   "cell_type": "code",
   "execution_count": 76,
   "metadata": {},
   "outputs": [
    {
     "name": "stdout",
     "output_type": "stream",
     "text": [
      "AA AB AC AD BA BB BC BD CA CB CC CD DA DB DC DD\n",
      "None\n"
     ]
    }
   ],
   "source": [
    "print(view(itertools.product('ABCD', repeat=2))) # => AA AB AC AD BA BB BC BD CA CB CC CD DA DB DC DD"
   ]
  },
  {
   "cell_type": "code",
   "execution_count": 77,
   "metadata": {},
   "outputs": [
    {
     "name": "stdout",
     "output_type": "stream",
     "text": [
      "AB AC AD BA BC BD CA CB CD DA DB DC\n",
      "None\n"
     ]
    }
   ],
   "source": [
    "print(view(itertools.permutations('ABCD', 2))) # => AB AC AD BA BC BD CA CB CD DA DB DC"
   ]
  },
  {
   "cell_type": "code",
   "execution_count": 78,
   "metadata": {},
   "outputs": [
    {
     "name": "stdout",
     "output_type": "stream",
     "text": [
      "AB AC AD BC BD CD\n",
      "None\n"
     ]
    }
   ],
   "source": [
    "print(view(itertools.combinations('ABCD', 2))) # => AB AC AD BC BD CD"
   ]
  },
  {
   "cell_type": "code",
   "execution_count": 79,
   "metadata": {},
   "outputs": [
    {
     "name": "stdout",
     "output_type": "stream",
     "text": [
      "AA AB AC AD BB BC BD CC CD DD\n",
      "None\n"
     ]
    }
   ],
   "source": [
    "print(view(itertools.combinations_with_replacement('ABCD', 2))) # => AA AB AC AD BB BC BD CC CD D"
   ]
  },
  {
   "cell_type": "markdown",
   "metadata": {},
   "source": [
    "## 2) Infinite Iterators"
   ]
  },
  {
   "cell_type": "code",
   "execution_count": 84,
   "metadata": {},
   "outputs": [
    {
     "data": {
      "text/plain": [
       "count(10)"
      ]
     },
     "execution_count": 84,
     "metadata": {},
     "output_type": "execute_result"
    }
   ],
   "source": [
    "# start, [step] -> start, start + step, ...\n",
    "itertools.count(10) # -> 10, 11, 12, 13, 14, ..."
   ]
  },
  {
   "cell_type": "code",
   "execution_count": 85,
   "metadata": {},
   "outputs": [
    {
     "data": {
      "text/plain": [
       "<itertools.cycle at 0x7f1b32703048>"
      ]
     },
     "execution_count": 85,
     "metadata": {},
     "output_type": "execute_result"
    }
   ],
   "source": [
    "# Cycle through elements of an iterable\n",
    "itertools.cycle('ABC') # -> 'A', 'B', 'C', 'A', ..."
   ]
  },
  {
   "cell_type": "code",
   "execution_count": 86,
   "metadata": {},
   "outputs": [
    {
     "data": {
      "text/plain": [
       "repeat(10)"
      ]
     },
     "execution_count": 86,
     "metadata": {},
     "output_type": "execute_result"
    }
   ],
   "source": [
    "# Repeat a single element over and over.\n",
    "itertools.repeat(10) # -> 10, 10, 10, 10, ..."
   ]
  },
  {
   "cell_type": "markdown",
   "metadata": {},
   "source": [
    "## 3) json:  JSON encoder and decoder"
   ]
  },
  {
   "cell_type": "code",
   "execution_count": 92,
   "metadata": {},
   "outputs": [],
   "source": [
    "import json\n",
    "\n",
    "squares = {1:1, 2:4, 3:9, 4:16}"
   ]
  },
  {
   "cell_type": "code",
   "execution_count": 95,
   "metadata": {},
   "outputs": [],
   "source": [
    "# Serialize to/from string\n",
    "\n",
    "output = json.dumps(squares) # output == \"{1:1, 2:4, 3:9, 4:16}\""
   ]
  },
  {
   "cell_type": "code",
   "execution_count": 96,
   "metadata": {},
   "outputs": [
    {
     "name": "stdout",
     "output_type": "stream",
     "text": [
      "<class 'str'> {\"1\": 1, \"2\": 4, \"3\": 9, \"4\": 16}\n"
     ]
    }
   ],
   "source": [
    "print(type(output),output)"
   ]
  },
  {
   "cell_type": "code",
   "execution_count": 97,
   "metadata": {},
   "outputs": [
    {
     "data": {
      "text/plain": [
       "{'1': 1, '2': 4, '3': 9, '4': 16}"
      ]
     },
     "execution_count": 97,
     "metadata": {},
     "output_type": "execute_result"
    }
   ],
   "source": [
    "json.loads(output) # => {1:1, 2:4, 3:9, 4:16}"
   ]
  },
  {
   "cell_type": "code",
   "execution_count": 99,
   "metadata": {},
   "outputs": [],
   "source": [
    "# Serialize to/from file\n",
    "\n",
    "with open('tmp.json', 'w') as outfile:\n",
    "    json.dump(squares, outfile)\n",
    "\n",
    "with open('tmp.json', 'r') as infile:\n",
    "    input = json.load(infile)"
   ]
  },
  {
   "cell_type": "code",
   "execution_count": 100,
   "metadata": {},
   "outputs": [
    {
     "data": {
      "text/plain": [
       "'{\\n    \"1\": 1,\\n    \"2\": 4,\\n    \"3\": 9,\\n    \"4\": 16\\n}'"
      ]
     },
     "execution_count": 100,
     "metadata": {},
     "output_type": "execute_result"
    }
   ],
   "source": [
    "# All variants support useful keyword arguments\n",
    "json.dumps(squares, indent=4, sort_keys=True, separators=(',', ': '))"
   ]
  },
  {
   "cell_type": "code",
   "execution_count": 1,
   "metadata": {},
   "outputs": [],
   "source": [
    "# functools \n",
    "# python one liners"
   ]
  },
  {
   "cell_type": "markdown",
   "metadata": {},
   "source": [
    "## 4) random : Generate pseudo-random numbers"
   ]
  },
  {
   "cell_type": "code",
   "execution_count": 5,
   "metadata": {},
   "outputs": [
    {
     "name": "stdout",
     "output_type": "stream",
     "text": [
      "0.04280974235063639\n",
      "1.8158373774217313\n",
      "6\n",
      "8\n",
      "72\n",
      "h\n",
      "[4, 7, 6, 1, 3, 5, 2]\n",
      "[4, 2, 1]\n",
      "1.535517085270559\n"
     ]
    }
   ],
   "source": [
    "import random\n",
    "\n",
    "# Random float x with 0.0 <= x < 1.0\n",
    "print(random.random()) # => 0.37444887175646646\n",
    "\n",
    "# Random float x, 1.0 <= x < 10.0\n",
    "print(random.uniform(1, 10)) # => 1.1800146073117523\n",
    "\n",
    "# Random integer from 1 to 6 (inclusive)\n",
    "print(random.randint(1, 6)) # => 4 (https://xkcd.com/221/)\n",
    "\n",
    "# Random integer from 0 to 9 (inclusive)\n",
    "print(random.randrange(10)) # => 7\n",
    "\n",
    "# Random even integer from 0 to 100 (inclusive)\n",
    "print(random.randrange(0, 101, 2)) # => 26\n",
    "\n",
    "# Choose a single element\n",
    "print(random.choice('abcdefghij')) # => 'c'\n",
    "\n",
    "items = [1, 2, 3, 4, 5, 6, 7]\n",
    "random.shuffle(items)\n",
    "print(items) # => [7, 3, 2, 5, 6, 4, 1]\n",
    "\n",
    "# k samples without replacement\n",
    "print(random.sample(range(5), k=3)) # => [3, 1, 4]\n",
    "\n",
    "# Sample from statistical distributions (others exist)\n",
    "print(random.normalvariate(mu=0, sigma=3)) # => 2.373780578271"
   ]
  },
  {
   "cell_type": "markdown",
   "metadata": {},
   "source": [
    "# 5) sys : System-specific parameters and functions"
   ]
  },
  {
   "cell_type": "code",
   "execution_count": 8,
   "metadata": {},
   "outputs": [
    {
     "name": "stderr",
     "output_type": "stream",
     "text": [
      "hello world\n"
     ]
    },
    {
     "ename": "NameError",
     "evalue": "name 'arg' is not defined",
     "output_type": "error",
     "traceback": [
      "\u001b[0;31m---------------------------------------------------------------------------\u001b[0m",
      "\u001b[0;31mNameError\u001b[0m                                 Traceback (most recent call last)",
      "\u001b[0;32m<ipython-input-8-97544420fb4b>\u001b[0m in \u001b[0;36m<module>\u001b[0;34m\u001b[0m\n\u001b[1;32m      7\u001b[0m \u001b[0msys\u001b[0m\u001b[0;34m.\u001b[0m\u001b[0mstdout\u001b[0m\u001b[0;34m.\u001b[0m\u001b[0mflush\u001b[0m\u001b[0;34m(\u001b[0m\u001b[0;34m)\u001b[0m\u001b[0;34m\u001b[0m\u001b[0m\n\u001b[1;32m      8\u001b[0m \u001b[0;31m# Raise SystemExit\u001b[0m\u001b[0;34m\u001b[0m\u001b[0;34m\u001b[0m\u001b[0m\n\u001b[0;32m----> 9\u001b[0;31m \u001b[0msys\u001b[0m\u001b[0;34m.\u001b[0m\u001b[0mexit\u001b[0m\u001b[0;34m(\u001b[0m\u001b[0marg\u001b[0m\u001b[0;34m)\u001b[0m\u001b[0;34m\u001b[0m\u001b[0m\n\u001b[0m",
      "\u001b[0;31mNameError\u001b[0m: name 'arg' is not defined"
     ]
    }
   ],
   "source": [
    "import sys\n",
    "\n",
    "# Open file objects for standard input, error, output\n",
    "# sys.stdin ('r') / sys.stderr ('w') / sys.stdout ('w')\n",
    "sys.stdin.readline()\n",
    "sys.stderr.write('hello world\\n')\n",
    "sys.stdout.flush()\n",
    "# Raise SystemExit\n",
    "sys.exit(arg)"
   ]
  },
  {
   "cell_type": "code",
   "execution_count": 10,
   "metadata": {},
   "outputs": [
    {
     "ename": "SyntaxError",
     "evalue": "invalid syntax (<ipython-input-10-04c6d50f1890>, line 10)",
     "output_type": "error",
     "traceback": [
      "\u001b[0;36m  File \u001b[0;32m\"<ipython-input-10-04c6d50f1890>\"\u001b[0;36m, line \u001b[0;32m10\u001b[0m\n\u001b[0;31m    python3 demo.py 1 2 3\u001b[0m\n\u001b[0m               ^\u001b[0m\n\u001b[0;31mSyntaxError\u001b[0m\u001b[0;31m:\u001b[0m invalid syntax\n"
     ]
    }
   ],
   "source": [
    "# What if we want to do something like...\n",
    "# $ python3 -i demo.py <arguments>\n",
    "# sys.argv to the rescue\n",
    "\n",
    "# File: demo.py\n",
    "if __name__ == '__main__':\n",
    "    import sys\n",
    "    print(sys.argv)\n",
    "\n",
    "python3 demo.py 1 2 3\n",
    "['demo.py', '1', '2', '3']\n",
    "\n",
    "python3 subdir/../demo.py foo\n",
    "['subdir/../demo.py', 'foo']\n",
    "\n",
    "# For more advanced command line tools,use argparse (if needed, cmd and getopt)"
   ]
  },
  {
   "cell_type": "markdown",
   "metadata": {},
   "source": [
    "### 1) pathlib — Object-oriented filesystem paths"
   ]
  },
  {
   "cell_type": "code",
   "execution_count": 14,
   "metadata": {},
   "outputs": [
    {
     "data": {
      "text/plain": [
       "PosixPath('/etc/ssh')"
      ]
     },
     "execution_count": 14,
     "metadata": {},
     "output_type": "execute_result"
    }
   ],
   "source": [
    "import pathlib\n",
    "\n",
    "p = pathlib.Path('/etc')\n",
    "q = p / 'ssh' # Overloaded __div__ method\n",
    "q # => PosixPath('/etc/ssh')"
   ]
  },
  {
   "cell_type": "code",
   "execution_count": 15,
   "metadata": {},
   "outputs": [
    {
     "data": {
      "text/plain": [
       "True"
      ]
     },
     "execution_count": 15,
     "metadata": {},
     "output_type": "execute_result"
    }
   ],
   "source": [
    "q.exists() # => True"
   ]
  },
  {
   "cell_type": "code",
   "execution_count": 16,
   "metadata": {},
   "outputs": [
    {
     "data": {
      "text/plain": [
       "True"
      ]
     },
     "execution_count": 16,
     "metadata": {},
     "output_type": "execute_result"
    }
   ],
   "source": [
    "q.is_dir() # => True"
   ]
  },
  {
   "cell_type": "code",
   "execution_count": 17,
   "metadata": {},
   "outputs": [
    {
     "name": "stdout",
     "output_type": "stream",
     "text": [
      "/home/dipesh/python-deliberate-practice/cs40/one.py\n",
      "/home/dipesh/python-deliberate-practice/cs40/two.py\n",
      "/home/dipesh/python-deliberate-practice/cs40/tldr.py\n",
      "/home/dipesh/python-deliberate-practice/cs40/eight.py\n",
      "/home/dipesh/python-deliberate-practice/cs40/five.py\n",
      "/home/dipesh/python-deliberate-practice/cs40/seven.py\n",
      "/home/dipesh/python-deliberate-practice/cs40/ten.py\n",
      "/home/dipesh/python-deliberate-practice/cs40/four.py\n",
      "/home/dipesh/python-deliberate-practice/cs40/three.py\n",
      "/home/dipesh/python-deliberate-practice/cs40/nine.py\n",
      "/home/dipesh/python-deliberate-practice/cs40/ref.py\n",
      "/home/dipesh/python-deliberate-practice/cs40/six.py\n"
     ]
    }
   ],
   "source": [
    "# Print all python files somewhere in the current dir\n",
    "p = pathlib.Path.cwd() # Current working directory\n",
    "for f in p.glob('**/*.py'):\n",
    "    print(f)"
   ]
  },
  {
   "cell_type": "markdown",
   "metadata": {},
   "source": [
    "### 2) subprocess and shlex"
   ]
  },
  {
   "cell_type": "code",
   "execution_count": 21,
   "metadata": {},
   "outputs": [
    {
     "ename": "NameError",
     "evalue": "name 'shlex' is not defined",
     "output_type": "error",
     "traceback": [
      "\u001b[0;31m---------------------------------------------------------------------------\u001b[0m",
      "\u001b[0;31mNameError\u001b[0m                                 Traceback (most recent call last)",
      "\u001b[0;32m<ipython-input-21-ce3ba1c1f7f8>\u001b[0m in \u001b[0;36m<module>\u001b[0;34m\u001b[0m\n\u001b[1;32m      3\u001b[0m \u001b[0msubprocess\u001b[0m\u001b[0;34m.\u001b[0m\u001b[0mcall\u001b[0m\u001b[0;34m(\u001b[0m\u001b[0;34m[\u001b[0m\u001b[0;34m\"ls\"\u001b[0m\u001b[0;34m,\u001b[0m \u001b[0;34m\"-l\"\u001b[0m\u001b[0;34m]\u001b[0m\u001b[0;34m)\u001b[0m \u001b[0;31m# => Automatically authenticate to Myth servers\u001b[0m\u001b[0;34m\u001b[0m\u001b[0m\n\u001b[1;32m      4\u001b[0m \u001b[0mcommand\u001b[0m \u001b[0;34m=\u001b[0m \u001b[0;34m\"kinit name@myth.stanford.edu --keytab=/etc/some-keytab\"\u001b[0m\u001b[0;34m\u001b[0m\u001b[0m\n\u001b[0;32m----> 5\u001b[0;31m \u001b[0margs\u001b[0m \u001b[0;34m=\u001b[0m \u001b[0mshlex\u001b[0m\u001b[0;34m.\u001b[0m\u001b[0msplit\u001b[0m\u001b[0;34m(\u001b[0m\u001b[0mcommand\u001b[0m\u001b[0;34m)\u001b[0m \u001b[0;31m# args = [\"kinit\", ... ]\u001b[0m\u001b[0;34m\u001b[0m\u001b[0m\n\u001b[0m\u001b[1;32m      6\u001b[0m \u001b[0msubprocess\u001b[0m\u001b[0;34m.\u001b[0m\u001b[0mcall\u001b[0m\u001b[0;34m(\u001b[0m\u001b[0margs\u001b[0m\u001b[0;34m)\u001b[0m \u001b[0;31m# => 0\u001b[0m\u001b[0;34m\u001b[0m\u001b[0m\n\u001b[1;32m      7\u001b[0m \u001b[0;34m\u001b[0m\u001b[0m\n",
      "\u001b[0;31mNameError\u001b[0m: name 'shlex' is not defined"
     ]
    }
   ],
   "source": [
    "import subprocess\n",
    "\n",
    "subprocess.call([\"ls\", \"-l\"]) # => Automatically authenticate to Myth servers\n",
    "command = \"kinit name@myth.stanford.edu --keytab=/etc/some-keytab\"\n",
    "args = shlex.split(command) # args = [\"kinit\", ... ]\n",
    "subprocess.call(args) # => 0\n",
    "\n",
    "# For more complex needs, use Popen\n",
    "# Emulate 'ps aux | grep Spotify'\n",
    "sp_ps = subprocess.Popen([\"ps\", \"aux\"], stdout=subprocess.PIPE)\n",
    "sp_grep = subprocess.Popen([\"grep\", \"Spotify\"], stdin=sp_ps.stdout)\n"
   ]
  },
  {
   "cell_type": "markdown",
   "metadata": {},
   "source": [
    "### Debugging Tools\n",
    "\n",
    "###### 1) pprint — data pretty printer"
   ]
  },
  {
   "cell_type": "code",
   "execution_count": 22,
   "metadata": {},
   "outputs": [
    {
     "name": "stdout",
     "output_type": "stream",
     "text": [
      "{'data': {'after': 't3_3q8aog', 'before': None, 'kind': 'pagination', 'children': [{'a': 1}, {'a': 2}, {'b': 1}, {}], 'uuid': '40b6f818'}, 'recursive': {...}}\n"
     ]
    }
   ],
   "source": [
    "ugly = {\n",
    "    'data': {\n",
    "        'after': 't3_3q8aog',\n",
    "        'before': None,\n",
    "        'kind': 'pagination',\n",
    "        'children': [{'a':1}, {'a':2}, {'b':1}, {}],\n",
    "        'uuid': '40b6f818'\n",
    "    }\n",
    "}\n",
    "ugly['recursive'] = ugly # Contains recursive reference\n",
    "\n",
    "print(ugly)\n",
    "# {'data': {'before': None, 'kind': 'pagination',\n",
    "# 'uuid': '40b6f818', 'after': 't3_3q8aog', 'children':\n",
    "# [{'a': 1}, {'a': 2}, {'b': 1}, {}]}, 'recursive': {...}}"
   ]
  },
  {
   "cell_type": "code",
   "execution_count": 23,
   "metadata": {},
   "outputs": [
    {
     "name": "stdout",
     "output_type": "stream",
     "text": [
      "{'data': {'after': 't3_3q8aog',\n",
      "          'before': None,\n",
      "          'children': [...],\n",
      "          'kind': 'pagination',\n",
      "          'uuid': '40b6f818'},\n",
      " 'recursive': <Recursion on dict with id=140405718608632>}\n"
     ]
    }
   ],
   "source": [
    "import pprint\n",
    "\n",
    "pprint.pprint(ugly, width=56, depth=2)\n",
    "# {'data': {'after': 't3_3q8aog',\n",
    "# 'before': None,\n",
    "# 'children': [...],\n",
    "# 'kind': 'pagination',\n",
    "# 'uuid': '40b6f818'},\n",
    "# 'recursive': <Recursion on dict with id=4372885384>}"
   ]
  },
  {
   "cell_type": "markdown",
   "metadata": {},
   "source": [
    "##### 2) timeit - time short snippets"
   ]
  },
  {
   "cell_type": "code",
   "execution_count": 25,
   "metadata": {},
   "outputs": [
    {
     "ename": "SyntaxError",
     "evalue": "invalid syntax (<ipython-input-25-651e1ec30e91>, line 2)",
     "output_type": "error",
     "traceback": [
      "\u001b[0;36m  File \u001b[0;32m\"<ipython-input-25-651e1ec30e91>\"\u001b[0;36m, line \u001b[0;32m2\u001b[0m\n\u001b[0;31m    python3 -m timeit '\"-\".join(str(n) for n in range(100))'\u001b[0m\n\u001b[0m                    ^\u001b[0m\n\u001b[0;31mSyntaxError\u001b[0m\u001b[0;31m:\u001b[0m invalid syntax\n"
     ]
    }
   ],
   "source": [
    "# Command Line Interface\n",
    "python3 -m timeit '\"-\".join(str(n) for n in range(100))'\n",
    "# 10000 loops, best of 3: 30.2 usec per loop\n",
    "python3 -m timeit '\"-\".join([str(n) for n in range(100)])'\n",
    "# 10000 loops, best of 3: 27.5 usec per loop\n",
    "python3 -m timeit '\"-\".join(map(str, range(100)))'\n",
    "# 10000 loops, best of 3: 23.2 usec per loop"
   ]
  },
  {
   "cell_type": "code",
   "execution_count": 27,
   "metadata": {},
   "outputs": [
    {
     "data": {
      "text/plain": [
       "0.6407003019999138"
      ]
     },
     "execution_count": 27,
     "metadata": {},
     "output_type": "execute_result"
    }
   ],
   "source": [
    "# Python Interface\n",
    "import timeit\n",
    "\n",
    "timeit.timeit('\"-\".join(str(n) for n in range(100))', number=10000) # => 0.3018611848820001"
   ]
  },
  {
   "cell_type": "code",
   "execution_count": 28,
   "metadata": {},
   "outputs": [
    {
     "data": {
      "text/plain": [
       "0.5675450219998766"
      ]
     },
     "execution_count": 28,
     "metadata": {},
     "output_type": "execute_result"
    }
   ],
   "source": [
    "timeit.timeit('\"-\".join([str(n) for n in range(100)])', number=10000) # => 0.2727368790656328"
   ]
  },
  {
   "cell_type": "code",
   "execution_count": 29,
   "metadata": {},
   "outputs": [
    {
     "data": {
      "text/plain": [
       "0.3037543929999629"
      ]
     },
     "execution_count": 29,
     "metadata": {},
     "output_type": "execute_result"
    }
   ],
   "source": [
    "timeit.timeit('\"-\".join(map(str, range(100)))', number=10000) # => 0.23702679807320237"
   ]
  },
  {
   "cell_type": "markdown",
   "metadata": {},
   "source": [
    "## \"Cute\" Modules"
   ]
  },
  {
   "cell_type": "code",
   "execution_count": 32,
   "metadata": {},
   "outputs": [
    {
     "name": "stdout",
     "output_type": "stream",
     "text": [
      "🍕\n"
     ]
    }
   ],
   "source": [
    "import unicodedata\n",
    "\n",
    "# 1) turtle — Turtle graphics\n",
    "# 2) unicodedata — Unicode Database\n",
    "print(unicodedata.lookup('SLICE OF PIZZA'))\n",
    "# 3) antigravity"
   ]
  },
  {
   "cell_type": "code",
   "execution_count": 40,
   "metadata": {},
   "outputs": [
    {
     "name": "stdout",
     "output_type": "stream",
     "text": [
      "True\n",
      "False\n"
     ]
    }
   ],
   "source": [
    "# Builtin Functions\n",
    "# 1) Common One-Liners\n",
    "print(any([True, True, False])) # => True\n",
    "print(all([True, True, False])) # => False"
   ]
  },
  {
   "cell_type": "code",
   "execution_count": 42,
   "metadata": {},
   "outputs": [
    {
     "name": "stdout",
     "output_type": "stream",
     "text": [
      "45\n",
      "42\n",
      "11\n",
      "0x2a\n",
      "0b101010\n",
      "97\n",
      "a\n",
      "123.5\n",
      "100.0\n",
      "3\n",
      "4\n",
      "pear\n",
      "15\n",
      "243\n",
      "3\n",
      "1 4\n"
     ]
    }
   ],
   "source": [
    "print(int('45')) # => 45\n",
    "print(int('0x2a', 16)) # => 42\n",
    "print(int('1011', 2)) # => 11\n",
    "print(hex(42)) # => '0x2a'\n",
    "print(bin(42)) # => '0b101010'\n",
    "print(ord('a')) # => 97\n",
    "print(chr(97)) # => 'a'\n",
    "print(round(123.45, 1)) # => 123.4\n",
    "print(round(123.45, -2)) # => 100\n",
    "print(max(2, 3)) # => 3\n",
    "print(max([0, 4, 1])) # => 4\n",
    "print(min(['apple', 'banana', 'pear'], key=len)) # => 0\n",
    "print(sum([3, 5, 7])) # => 15\n",
    "print(pow(3, 5)) # => 243 (= 3 ** 5)\n",
    "print(pow(3, 5, 10)) # => 3 (= (3 ** 5) % 10, efficiently)\n",
    "\n",
    "quotient, remainder = divmod(10, 6) # quotient, remainder => (1, 4)\n",
    "print(quotient,remainder )"
   ]
  },
  {
   "cell_type": "code",
   "execution_count": 43,
   "metadata": {},
   "outputs": [
    {
     "data": {
      "text/plain": [
       "[3, 5, 1, 7, 4]"
      ]
     },
     "execution_count": 43,
     "metadata": {},
     "output_type": "execute_result"
    }
   ],
   "source": [
    "# Flatten a list of lists (slower than itertools.chain)\n",
    "sum([[3, 5], [1, 7], [4]], []) # => [3, 5, 1, 7, 4]"
   ]
  },
  {
   "cell_type": "code",
   "execution_count": 44,
   "metadata": {},
   "outputs": [],
   "source": [
    "# Other Modules\n",
    "# 6.1. string — Common string operations\n",
    "# 7.1. struct — Interpret bytes as packed binary data\n",
    "# 8.1. datetime — Basic date and time types\n",
    "# 9.5. fractions — Rational numbers\n",
    "# 9.7. statistics — Mathematical statistics functions\n",
    "# 10.3. operator — Standard operators as functions\n",
    "# 12.1. pickle — Python object serialization\n",
    "# 14.1. csv — CSV File Reading and Writing\n",
    "# 16.1. os — Miscellaneous operating system interfaces\n",
    "# 16.3. time — Time access and conversions\n",
    "# 16.4. argparse — Parser for command-line options,arguments and sub-commands\n",
    "# 16.6. logging — Logging facility for Python\n",
    "# 17.1. threading — Thread-based parallelism\n",
    "# 17.2. multiprocessing — Process-based parallelism\n",
    "# 18.1. socket — Low-level networking interface\n",
    "# 18.5. asyncio – Asynchronous I/O, event loop, coroutines and tasks\n",
    "# 18.8. signal — Set handlers for asynchronous events\n",
    "# 26.3. unittest — Unit testing framework\n",
    "# 26.6. 2to3 - Automated Python 2 to 3 code translation\n",
    "# 27.3. pdb — The Python Debugger\n",
    "# 27.6. trace — Trace or track Python statement execution\n",
    "# 29.12. inspect — Inspect live objects"
   ]
  },
  {
   "cell_type": "code",
   "execution_count": null,
   "metadata": {},
   "outputs": [],
   "source": []
  }
 ],
 "metadata": {
  "kernelspec": {
   "display_name": "Python 3",
   "language": "python",
   "name": "python3"
  },
  "language_info": {
   "codemirror_mode": {
    "name": "ipython",
    "version": 3
   },
   "file_extension": ".py",
   "mimetype": "text/x-python",
   "name": "python",
   "nbconvert_exporter": "python",
   "pygments_lexer": "ipython3",
   "version": "3.6.0"
  }
 },
 "nbformat": 4,
 "nbformat_minor": 2
}
