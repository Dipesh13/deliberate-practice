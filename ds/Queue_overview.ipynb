{
 "cells": [
  {
   "cell_type": "markdown",
   "metadata": {},
   "source": [
    "A Queue is a linear structure which follows a particular order in which the operations are performed.\n",
    "The order is First In First Out (FIFO).\n",
    "\n",
    "A good example of a queue is any queue of consumers for a resource where the consumer that came first is served first.\n",
    "\n",
    "The difference between stacks and queues is in removing. In a stack we remove the item the most recently added; in a queue, we remove the item the least recently added."
   ]
  },
  {
   "cell_type": "markdown",
   "metadata": {},
   "source": [
    "Summary : FIFO / enqueue(insert at rear) / dequeue(remove from front) "
   ]
  },
  {
   "cell_type": "markdown",
   "metadata": {},
   "source": [
    "APPLICATIONS OF QUEUE DATA STRUCTURE"
   ]
  },
  {
   "cell_type": "markdown",
   "metadata": {},
   "source": [
    "Queue is used when things don’t have to be processed immediately, but have to be processed in First In First Out order like Breadth First Search.\n",
    "\n",
    "This property of Queue makes it also useful in following kind of scenarios:\n",
    "\n",
    "1) When a resource is shared among multiple consumers. Examples include CPU scheduling, Disk Scheduling.\n",
    "\n",
    "2) When data is transferred asynchronously (data not necessarily received at same rate as sent) between two processes. Examples include IO Buffers, pipes, file IO, etc."
   ]
  },
  {
   "cell_type": "markdown",
   "metadata": {},
   "source": [
    "OPERATIONS ON QUEUE\n",
    "\n",
    "Mainly the following four basic operations are performed on queue:\n",
    "\n",
    "Enqueue: Adds an item to the queue. If the queue is full, then it is said to be an Overflow condition.\n",
    "\n",
    "Dequeue: Removes an item from the queue. The items are popped in the same order in which they are pushed. If the queue is empty, then it is said to be an Underflow condition.\n",
    "\n",
    "Front: Get the front item from queue.\n",
    "\n",
    "Rear: Get the last item from queue."
   ]
  },
  {
   "cell_type": "markdown",
   "metadata": {},
   "source": [
    "ARRAY IMPLEMENTATION OF QUEUE"
   ]
  },
  {
   "cell_type": "markdown",
   "metadata": {},
   "source": [
    "For implementing queue, we need to keep track of two indices, front and rear.\n",
    "We enqueue an item at the rear and dequeue an item from front.\n",
    "\n",
    "If we simply increment front and rear indices, then there may be problems, front may reach end of the array. The solution to this problem is to increase front and rear in circular manner."
   ]
  },
  {
   "cell_type": "code",
   "execution_count": 13,
   "metadata": {},
   "outputs": [],
   "source": [
    "# Python3 program for array implementation of queue \n",
    "  \n",
    "# Class Queue to represent a queue \n",
    "class Queue: \n",
    "\n",
    "    def __init__(self, capacity): \n",
    "        self.front = self.size = 0\n",
    "        self.rear = capacity -1\n",
    "        self.Q = [None]*capacity \n",
    "        self.capacity = capacity \n",
    "      \n",
    "    # Queue is full when size becomes equal to the capacity  \n",
    "    def isFull(self): \n",
    "        return self.size == self.capacity \n",
    "      \n",
    "    # Queue is empty when size is 0 \n",
    "    def isEmpty(self): \n",
    "        return self.size == 0\n",
    "  \n",
    "    # Function to add an item to the queue. It changes rear and size \n",
    "    def EnQueue(self, item): \n",
    "        if self.isFull(): \n",
    "            print(\"Full\") \n",
    "            return\n",
    "        self.rear = (self.rear + 1) % (self.capacity) \n",
    "        self.Q[self.rear] = item \n",
    "        self.size = self.size + 1\n",
    "        print(\"%s enqueued to queue\"  %str(item)) \n",
    "  \n",
    "    # Function to remove an item from queue. It changes front and size \n",
    "    def DeQueue(self): \n",
    "        if self.isEmpty(): \n",
    "            print(\"Empty\") \n",
    "            return\n",
    "          \n",
    "        print(\"%s dequeued from queue\" %str(self.Q[self.front])) \n",
    "        self.front = (self.front + 1) % (self.capacity) \n",
    "        self.size = self.size -1\n",
    "          \n",
    "    # Function to get front of queue \n",
    "    def que_front(self): \n",
    "        if self.isEmpty(): \n",
    "            print(\"Queue is empty\") \n",
    "  \n",
    "        print(\"Front item is\", self.Q[self.front]) \n",
    "          \n",
    "    # Function to get rear of queue \n",
    "    def que_rear(self): \n",
    "        if self.isEmpty(): \n",
    "            print(\"Queue is empty\") \n",
    "        print(\"Rear item is\",  self.Q[self.rear]) "
   ]
  },
  {
   "cell_type": "code",
   "execution_count": 14,
   "metadata": {},
   "outputs": [
    {
     "name": "stdout",
     "output_type": "stream",
     "text": [
      "10 enqueued to queue\n",
      "20 enqueued to queue\n",
      "30 enqueued to queue\n",
      "40 enqueued to queue\n",
      "10 dequeued from queue\n",
      "Front item is 20\n"
     ]
    }
   ],
   "source": [
    "# Driver Code \n",
    "queue = Queue(30) \n",
    "queue.EnQueue(10) \n",
    "queue.EnQueue(20) \n",
    "queue.EnQueue(30) \n",
    "queue.EnQueue(40) \n",
    "queue.DeQueue() \n",
    "queue.que_front() "
   ]
  },
  {
   "cell_type": "code",
   "execution_count": 19,
   "metadata": {},
   "outputs": [
    {
     "data": {
      "text/plain": [
       "[10,\n",
       " 20,\n",
       " 30,\n",
       " 40,\n",
       " None,\n",
       " None,\n",
       " None,\n",
       " None,\n",
       " None,\n",
       " None,\n",
       " None,\n",
       " None,\n",
       " None,\n",
       " None,\n",
       " None,\n",
       " None,\n",
       " None,\n",
       " None,\n",
       " None,\n",
       " None,\n",
       " None,\n",
       " None,\n",
       " None,\n",
       " None,\n",
       " None,\n",
       " None,\n",
       " None,\n",
       " None,\n",
       " None,\n",
       " None]"
      ]
     },
     "execution_count": 19,
     "metadata": {},
     "output_type": "execute_result"
    }
   ],
   "source": [
    "queue.Q"
   ]
  },
  {
   "cell_type": "markdown",
   "metadata": {},
   "source": [
    "Time Complexity: Time complexity of all operations like enqueue(), dequeue(), isFull(), isEmpty(), front() and rear() is O(1). There is no loop in any of the operations."
   ]
  },
  {
   "cell_type": "markdown",
   "metadata": {},
   "source": [
    "LINKED LIST IMPLEMENTATION OF QUEUE"
   ]
  },
  {
   "cell_type": "markdown",
   "metadata": {},
   "source": [
    "In a Queue data structure, we maintain two pointers, front and rear. The front points the first item of queue and rear points to last item.\n",
    "\n",
    "enQueue() This operation adds a new node after rear and moves rear to the next node.\n",
    "\n",
    "deQueue() This operation removes the front node and moves front to the next node."
   ]
  },
  {
   "cell_type": "code",
   "execution_count": 15,
   "metadata": {},
   "outputs": [],
   "source": [
    "# Python3 program to demonstrate linked list based implementation of queue \n",
    "  \n",
    "# A linked list (LL) node to store a queue entry \n",
    "class Node: \n",
    "      \n",
    "    def __init__(self, data): \n",
    "        self.data = data \n",
    "        self.next = None\n",
    "  \n",
    "\n",
    "# A class to represent a queue \n",
    "# The queue, front stores the front node of LL and rear stores ths last node of LL \n",
    "class Queue: \n",
    "      \n",
    "    def __init__(self): \n",
    "        self.front = self.rear = None\n",
    "  \n",
    "    def isEmpty(self): \n",
    "        return self.front == None\n",
    "      \n",
    "    # Method to add an item to the queue \n",
    "    def EnQueue(self, item): \n",
    "        temp = Node(item) \n",
    "          \n",
    "        if self.rear == None: \n",
    "            self.front = self.rear = temp \n",
    "            return\n",
    "        self.rear.next = temp \n",
    "        self.rear = temp \n",
    "  \n",
    "    # Method to remove an item from queue \n",
    "    def DeQueue(self): \n",
    "          \n",
    "        if self.isEmpty(): \n",
    "            return\n",
    "        temp = self.front \n",
    "        self.front = temp.next\n",
    "  \n",
    "        if(self.front == None): \n",
    "            self.rear = None\n",
    "        return str(temp.data) "
   ]
  },
  {
   "cell_type": "code",
   "execution_count": 16,
   "metadata": {},
   "outputs": [
    {
     "name": "stdout",
     "output_type": "stream",
     "text": [
      "Dequeued item is 30\n"
     ]
    }
   ],
   "source": [
    "# Driver Code \n",
    "q = Queue() \n",
    "q.EnQueue(10) \n",
    "q.EnQueue(20) \n",
    "q.DeQueue() \n",
    "q.DeQueue() \n",
    "q.EnQueue(30) \n",
    "q.EnQueue(40) \n",
    "q.EnQueue(50) \n",
    "\n",
    "print(\"Dequeued item is \" + q.DeQueue()) "
   ]
  },
  {
   "cell_type": "code",
   "execution_count": null,
   "metadata": {},
   "outputs": [],
   "source": []
  }
 ],
 "metadata": {
  "kernelspec": {
   "display_name": "Python 3",
   "language": "python",
   "name": "python3"
  },
  "language_info": {
   "codemirror_mode": {
    "name": "ipython",
    "version": 3
   },
   "file_extension": ".py",
   "mimetype": "text/x-python",
   "name": "python",
   "nbconvert_exporter": "python",
   "pygments_lexer": "ipython3",
   "version": "3.4.3"
  }
 },
 "nbformat": 4,
 "nbformat_minor": 2
}
