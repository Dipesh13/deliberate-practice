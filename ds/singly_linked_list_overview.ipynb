{
 "cells": [
  {
   "cell_type": "markdown",
   "metadata": {},
   "source": [
    "A linked list is a linear data structure, in which the elements are not stored at contiguous memory locations. The elements in a linked list are linked using pointers "
   ]
  },
  {
   "cell_type": "markdown",
   "metadata": {},
   "source": [
    "https://www.geeksforgeeks.org/wp-content/uploads/gq/2013/03/Linkedlist.png"
   ]
  },
  {
   "cell_type": "markdown",
   "metadata": {},
   "source": [
    "In simple words, a linked list consists of nodes where each node contains a data field and a reference(link) to the next node in the list."
   ]
  },
  {
   "cell_type": "markdown",
   "metadata": {},
   "source": [
    "WHY NOT ARRAY?"
   ]
  },
  {
   "cell_type": "markdown",
   "metadata": {},
   "source": [
    "Arrays can be used to store linear data of similar types, but arrays have following limitations.\n",
    "\n",
    "1) The size of the arrays is fixed: So we must know the upper limit on the number of elements in advance. Also, generally, the allocated memory is equal to the upper limit irrespective of the usage.\n",
    "\n",
    "2) Inserting a new element in an array of elements is expensive, because room has to be created for the new elements and to create room existing elements have to shifted.\n",
    "\n",
    "For example, in a system if we maintain a sorted list of IDs in an array id[].\n",
    "\n",
    "id[] = [1000, 1010, 1050, 2000, 2040].\n",
    "\n",
    "And if we want to insert a new ID 1005, then to maintain the sorted order, we have to move all the elements after 1000 (excluding 1000).\n",
    "\n",
    "3) Deletion is also expensive with arrays until unless some special techniques are used. For example, to delete 1010 in id[], everything after 1010 has to be moved."
   ]
  },
  {
   "cell_type": "markdown",
   "metadata": {},
   "source": [
    "Summary : size in advace(no dynamic memory)/insert/delete"
   ]
  },
  {
   "cell_type": "markdown",
   "metadata": {},
   "source": [
    "WHY LINKED LISTS / ADVANTAGE OVER ARRAY?"
   ]
  },
  {
   "cell_type": "markdown",
   "metadata": {},
   "source": [
    "1) Dynamic size\n",
    "2) Ease of insertion/deletion"
   ]
  },
  {
   "cell_type": "markdown",
   "metadata": {},
   "source": [
    "DRAWBACKS:"
   ]
  },
  {
   "cell_type": "markdown",
   "metadata": {},
   "source": [
    "1) Random access is not allowed. We have to access elements sequentially starting from the first node. So we cannot do binary search with linked lists efficiently with its default implementation. Read about it here.\n",
    "\n",
    "2) Extra memory space for a pointer is required with each element of the list.\n",
    "\n",
    "3) Not cache friendly. Since array elements are contiguous locations, there is locality of reference which is not there in case of linked lists."
   ]
  },
  {
   "cell_type": "markdown",
   "metadata": {},
   "source": [
    "REPRESENTATION"
   ]
  },
  {
   "cell_type": "markdown",
   "metadata": {},
   "source": [
    "A linked list is represented by a pointer to the first node of the linked list.\n",
    "\n",
    "The first node is called head. If the linked list is empty, then value of head is NULL.\n",
    "\n",
    "Each node in a list consists of at least two parts:\n",
    "\n",
    "1) data\n",
    "\n",
    "2) Pointer (Or Reference) to the next node"
   ]
  },
  {
   "cell_type": "markdown",
   "metadata": {},
   "source": [
    "# A simple Python program to introduce a linked list \n",
    "  \n",
    "# Node class \n",
    "class Node: \n",
    "  \n",
    "    # Function to initialise the node object \n",
    "    def __init__(self, data): \n",
    "        self.data = data  # Assign data \n",
    "        self.next = None  # Initialize next as null \n",
    "  \n",
    "  \n",
    "# Linked List class contains a Node object \n",
    "class LinkedList: \n",
    "  \n",
    "    # Function to initialize head \n",
    "    def __init__(self): \n",
    "        self.head = None\n",
    "  \n",
    "  \n",
    "# Code execution starts here \n",
    "if __name__=='__main__': \n",
    "  \n",
    "    # Start with the empty list \n",
    "    llist = LinkedList() \n",
    "  \n",
    "    llist.head  = Node(1) \n",
    "    second = Node(2) \n",
    "    third  = Node(3) \n",
    "  \n",
    "    ''' \n",
    "    Three nodes have been created. \n",
    "    We have references to these three blocks as first, \n",
    "    second and third \n",
    "  \n",
    "    llist.head        second              third \n",
    "         |                |                  | \n",
    "         |                |                  | \n",
    "    +----+------+     +----+------+     +----+------+ \n",
    "    | 1  | None |     | 2  | None |     |  3 | None | \n",
    "    +----+------+     +----+------+     +----+------+ \n",
    "    '''\n",
    "  \n",
    "    llist.head.next = second; # Link first node with second  \n",
    "  \n",
    "    ''' \n",
    "    Now next of first Node refers to second.  So they \n",
    "    both are linked. \n",
    "  \n",
    "    llist.head        second              third \n",
    "         |                |                  | \n",
    "         |                |                  | \n",
    "    +----+------+     +----+------+     +----+------+ \n",
    "    | 1  |  o-------->| 2  | null |     |  3 | null | \n",
    "    +----+------+     +----+------+     +----+------+  \n",
    "    '''\n",
    "  \n",
    "    second.next = third; # Link second node with the third node \n",
    "  \n",
    "    ''' \n",
    "    Now next of second Node refers to third.  So all three \n",
    "    nodes are linked. \n",
    "  \n",
    "    llist.head        second              third \n",
    "         |                |                  | \n",
    "         |                |                  | \n",
    "    +----+------+     +----+------+     +----+------+ \n",
    "    | 1  |  o-------->| 2  |  o-------->|  3 | null | \n",
    "    +----+------+     +----+------+     +----+------+  "
   ]
  },
  {
   "cell_type": "code",
   "execution_count": 11,
   "metadata": {},
   "outputs": [],
   "source": [
    "# A simple Python program to introduce a linked list \n",
    "  \n",
    "# Node class \n",
    "class Node: \n",
    "  \n",
    "    # Function to initialise the node object \n",
    "    def __init__(self, data): \n",
    "        self.data = data  # Assign data \n",
    "        self.next = None  # Initialize next as null \n",
    "  \n",
    "  \n",
    "# Linked List class contains a Node object \n",
    "class LinkedList: \n",
    "  \n",
    "    # Function to initialize head \n",
    "    def __init__(self): \n",
    "        self.head = None\n",
    "        \n",
    "    # This function prints contents of linked list starting from head \n",
    "    def printList(self): \n",
    "        temp = self.head \n",
    "        while (temp): \n",
    "            print(temp.data)\n",
    "            temp = temp.next"
   ]
  },
  {
   "cell_type": "code",
   "execution_count": 12,
   "metadata": {},
   "outputs": [],
   "source": [
    "# Code execution\n",
    "\n",
    "# Start with the empty list \n",
    "llist = LinkedList() \n",
    "\n",
    "# assigns first node as head\n",
    "llist.head  = Node(1) \n",
    "\n",
    "# create second and third node\n",
    "second = Node(2) \n",
    "third  = Node(3) \n",
    "\n",
    "# link all the nodes to each other.\n",
    "\n",
    "llist.head.next = second; # Link first node with second  \n",
    "\n",
    "second.next = third; # Link second node with the third node "
   ]
  },
  {
   "cell_type": "markdown",
   "metadata": {},
   "source": [
    "LINKED LIST TRAVERSAL"
   ]
  },
  {
   "cell_type": "markdown",
   "metadata": {},
   "source": [
    "In the previous program, we have created a simple linked list with three nodes. Let us traverse the created list and print the data of each node. For traversal, let us write a general purpose function printList() that prints any given list."
   ]
  },
  {
   "cell_type": "code",
   "execution_count": 13,
   "metadata": {},
   "outputs": [
    {
     "name": "stdout",
     "output_type": "stream",
     "text": [
      "1\n",
      "2\n",
      "3\n"
     ]
    }
   ],
   "source": [
    "llist.printList() "
   ]
  },
  {
   "cell_type": "code",
   "execution_count": null,
   "metadata": {},
   "outputs": [],
   "source": []
  }
 ],
 "metadata": {
  "kernelspec": {
   "display_name": "Python 3",
   "language": "python",
   "name": "python3"
  },
  "language_info": {
   "codemirror_mode": {
    "name": "ipython",
    "version": 3
   },
   "file_extension": ".py",
   "mimetype": "text/x-python",
   "name": "python",
   "nbconvert_exporter": "python",
   "pygments_lexer": "ipython3",
   "version": "3.4.3"
  }
 },
 "nbformat": 4,
 "nbformat_minor": 2
}
