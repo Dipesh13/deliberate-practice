{
 "cells": [
  {
   "cell_type": "markdown",
   "metadata": {},
   "source": [
    "A tree whose elements have at most 2 children is called a binary tree. Since each element in a binary tree can have only 2 children, we typically name them the left and right child."
   ]
  },
  {
   "cell_type": "markdown",
   "metadata": {},
   "source": [
    "A Binary Tree node contains following parts.\n",
    "\n",
    "Data\n",
    "Pointer to left child\n",
    "Pointer to right child"
   ]
  },
  {
   "cell_type": "markdown",
   "metadata": {},
   "source": [
    "Trees: Unlike Arrays, Linked Lists, Stack and queues, which are linear data structures, trees are hierarchical data structures.\n",
    "\n",
    "TREE VOCAB\n",
    "The topmost node is called root of the tree.\n",
    "\n",
    "The elements that are directly under an element are called its children.\n",
    "\n",
    "The element directly above something is called its parent.\n",
    "\n",
    "Finally, elements with no children are called leaves."
   ]
  },
  {
   "cell_type": "markdown",
   "metadata": {},
   "source": [
    "WHY TREES ?"
   ]
  },
  {
   "cell_type": "markdown",
   "metadata": {},
   "source": [
    "One reason to use trees might be because you want to store information that naturally forms a hierarchy. For example, the file system on a computer:\n",
    "\n",
    "Trees (with some ordering e.g., BST) provide moderate access/search (quicker than Linked List and slower than arrays).\n",
    "\n",
    "Trees provide moderate insertion/deletion (quicker than Arrays and slower than Unordered Linked Lists).\n",
    "\n",
    "Like Linked Lists and unlike Arrays, Trees don’t have an upper limit on number of nodes as nodes are linked using pointers."
   ]
  },
  {
   "cell_type": "markdown",
   "metadata": {},
   "source": [
    "MAIN APPLICATIONS OF TREES INCLUDE"
   ]
  },
  {
   "cell_type": "markdown",
   "metadata": {},
   "source": [
    "1. Manipulate hierarchical data.\n",
    "\n",
    "2. Make information easy to search (see tree traversal).\n",
    "\n",
    "3. Manipulate sorted lists of data.\n",
    "\n",
    "4. As a workflow for compositing digital images for visual effects.\n",
    "\n",
    "5. Router algorithms\n",
    "\n",
    "6. Form of a multi-stage decision-making (see business chess)."
   ]
  },
  {
   "cell_type": "markdown",
   "metadata": {},
   "source": [
    "BINARY TREE"
   ]
  },
  {
   "cell_type": "markdown",
   "metadata": {},
   "source": [
    "A tree whose elements have at most 2 children is called a binary tree. Since each element in a binary tree can have only 2 children, we typically name them the left and right child."
   ]
  },
  {
   "cell_type": "markdown",
   "metadata": {},
   "source": [
    "REPRESENTATION\n",
    "\n",
    "A tree is represented by a pointer to the topmost node in tree. If the tree is empty, then value of root is NULL.\n",
    "\n",
    "\n",
    "A Tree node contains following parts.\n",
    "\n",
    "1. Data\n",
    "\n",
    "2. Pointer to left child\n",
    "\n",
    "3. Pointer to right child"
   ]
  },
  {
   "cell_type": "code",
   "execution_count": 4,
   "metadata": {},
   "outputs": [],
   "source": [
    "# A Python class that represents an individual node in a Binary Tree \n",
    "class Node: \n",
    "    def __init__(self,key): \n",
    "        self.left = None\n",
    "        self.right = None\n",
    "        self.val = key "
   ]
  },
  {
   "cell_type": "markdown",
   "metadata": {},
   "source": [
    "# Python program to introduce Binary Tree \n",
    "  \n",
    "# A class that represents an individual node in a \n",
    "# Binary Tree \n",
    "class Node: \n",
    "    def __init__(self,key): \n",
    "        self.left = None\n",
    "        self.right = None\n",
    "        self.val = key \n",
    "  \n",
    "  \n",
    "# create root \n",
    "root = Node(1) \n",
    "''' following is the tree after above statement \n",
    "        1 \n",
    "      /   \\ \n",
    "     None  None'''\n",
    "  \n",
    "root.left      = Node(2); \n",
    "root.right     = Node(3); \n",
    "    \n",
    "''' 2 and 3 become left and right children of 1 \n",
    "           1 \n",
    "         /   \\ \n",
    "        2      3 \n",
    "     /    \\    /  \\ \n",
    "   None None None None'''\n",
    "  \n",
    "  \n",
    "root.left.left  = Node(4); \n",
    "'''4 becomes left child of 2 \n",
    "           1 \n",
    "       /       \\ \n",
    "      2          3 \n",
    "    /   \\       /  \\ \n",
    "   4    None  None  None \n",
    "  /  \\ \n",
    "None None'''\n"
   ]
  },
  {
   "cell_type": "code",
   "execution_count": 9,
   "metadata": {},
   "outputs": [],
   "source": [
    "# Python program to introduce Binary Tree \n",
    "  \n",
    "# A class that represents an individual node in a Binary Tree \n",
    "class Node: \n",
    "    def __init__(self,key): \n",
    "        self.left = None\n",
    "        self.right = None\n",
    "        self.val = key \n",
    "  \n",
    "  \n",
    "# create root \n",
    "root = Node(1) \n",
    "root.left = Node(2); \n",
    "root.right = Node(3); \n",
    "root.left.left  = Node(4); "
   ]
  },
  {
   "cell_type": "code",
   "execution_count": 10,
   "metadata": {},
   "outputs": [
    {
     "data": {
      "text/plain": [
       "2"
      ]
     },
     "execution_count": 10,
     "metadata": {},
     "output_type": "execute_result"
    }
   ],
   "source": [
    "root.left.val"
   ]
  },
  {
   "cell_type": "markdown",
   "metadata": {},
   "source": [
    "Summary: Tree is a hierarchical data structure. Main uses of trees include maintaining hierarchical data, providing moderate access and insert/delete operations. Binary trees are special cases of tree where every node has at most two children."
   ]
  },
  {
   "cell_type": "markdown",
   "metadata": {},
   "source": [
    "Properties : https://www.geeksforgeeks.org/binary-tree-set-2-properties/"
   ]
  },
  {
   "cell_type": "markdown",
   "metadata": {},
   "source": [
    "Types of binary tree : https://www.geeksforgeeks.org/binary-tree-set-3-types-of-binary-tree/"
   ]
  },
  {
   "cell_type": "markdown",
   "metadata": {},
   "source": [
    "TREE TRAVERSALS (INORDER , PREORDER AND POSTORDER)\n",
    "\n",
    "https://www.geeksforgeeks.org/wp-content/uploads/2009/06/tree12.gif"
   ]
  },
  {
   "cell_type": "markdown",
   "metadata": {},
   "source": [
    "Depth First Traversals:\n",
    "\n",
    "(a) Inorder (Left, Root, Right) : 4 2 5 1 3\n",
    "\n",
    "(b) Preorder (Root, Left, Right) : 1 2 4 5 3\n",
    "\n",
    "(c) Postorder (Left, Right, Root) : 4 5 2 3 1\n",
    "\n",
    "\n",
    "Breadth First or Level Order Traversal : 1 2 3 4 5"
   ]
  },
  {
   "cell_type": "markdown",
   "metadata": {},
   "source": [
    "1) INORDER TRAVERSAL\n",
    "\n",
    "Algorithm Inorder(tree)\n",
    "\n",
    "1. Traverse the left subtree, i.e., call Inorder(left-subtree)\n",
    "\n",
    "2. Visit the root.\n",
    "\n",
    "3. Traverse the right subtree, i.e., call Inorder(right-subtree)"
   ]
  },
  {
   "cell_type": "markdown",
   "metadata": {},
   "source": [
    "2) PRE ORDER TRAVERSAL\n",
    "\n",
    "Algorithm Preorder(tree)\n",
    "\n",
    "1. Visit the root.\n",
    "\n",
    "2. Traverse the left subtree, i.e., call Preorder(left-subtree)\n",
    "\n",
    "3. Traverse the right subtree, i.e., call Preorder(right-subtree) "
   ]
  },
  {
   "cell_type": "markdown",
   "metadata": {},
   "source": [
    "3) POST ORDER TRAVERSAL\n",
    "\n",
    "Algorithm Postorder(tree)\n",
    "\n",
    "1. Traverse the left subtree, i.e., call Postorder(left-subtree)\n",
    "\n",
    "2. Traverse the right subtree, i.e., call Postorder(right-subtree)\n",
    "\n",
    "3. Visit the root."
   ]
  },
  {
   "cell_type": "code",
   "execution_count": 15,
   "metadata": {},
   "outputs": [],
   "source": [
    "# Python program to for tree traversals \n",
    "  \n",
    "# A class that represents an individual node in a Binary Tree \n",
    "class Node: \n",
    "    def __init__(self,key): \n",
    "        self.left = None\n",
    "        self.right = None\n",
    "        self.val = key \n",
    "  \n",
    "  \n",
    "# A function to do inorder tree traversal \n",
    "def printInorder(root): \n",
    "  \n",
    "    if root: \n",
    "  \n",
    "        # First recur on left child \n",
    "        printInorder(root.left) \n",
    "\n",
    "        # then print the data of node \n",
    "        print(root.val)\n",
    "  \n",
    "        # now recur on right child \n",
    "        printInorder(root.right) \n",
    "  \n",
    "  \n",
    "  \n",
    "# A function to do postorder tree traversal \n",
    "def printPostorder(root): \n",
    "  \n",
    "    if root: \n",
    "  \n",
    "        # First recur on left child \n",
    "        printPostorder(root.left) \n",
    "  \n",
    "        # the recur on right child \n",
    "        printPostorder(root.right) \n",
    "  \n",
    "        # now print the data of node \n",
    "        print(root.val)\n",
    "  \n",
    "  \n",
    "# A function to do preorder tree traversal \n",
    "def printPreorder(root): \n",
    "  \n",
    "    if root: \n",
    "  \n",
    "        # First print the data of node \n",
    "        print(root.val)\n",
    "  \n",
    "        # Then recur on left child \n",
    "        printPreorder(root.left) \n",
    "  \n",
    "        # Finally recur on right child \n",
    "        printPreorder(root.right) "
   ]
  },
  {
   "cell_type": "code",
   "execution_count": 16,
   "metadata": {},
   "outputs": [
    {
     "name": "stdout",
     "output_type": "stream",
     "text": [
      "Preorder traversal of binary tree is\n",
      "1\n",
      "2\n",
      "4\n",
      "5\n",
      "3\n",
      "\n",
      "Inorder traversal of binary tree is\n",
      "4\n",
      "2\n",
      "5\n",
      "1\n",
      "3\n",
      "\n",
      "Postorder traversal of binary tree is\n",
      "4\n",
      "5\n",
      "2\n",
      "3\n",
      "1\n"
     ]
    }
   ],
   "source": [
    "# Driver code \n",
    "root = Node(1) \n",
    "root.left      = Node(2) \n",
    "root.right     = Node(3) \n",
    "root.left.left  = Node(4) \n",
    "root.left.right  = Node(5) \n",
    "print(\"Preorder traversal of binary tree is\")\n",
    "printPreorder(root) \n",
    "  \n",
    "print(\"\\nInorder traversal of binary tree is\")\n",
    "printInorder(root) \n",
    "  \n",
    "print(\"\\nPostorder traversal of binary tree is\")\n",
    "printPostorder(root) "
   ]
  },
  {
   "cell_type": "markdown",
   "metadata": {},
   "source": [
    "Time Complexity: O(n)\n",
    "    \n",
    "Auxiliary Space : If we don’t consider size of stack for function calls then O(1) otherwise O(n)."
   ]
  },
  {
   "cell_type": "markdown",
   "metadata": {},
   "source": [
    "LEVEL ORDER TREE TRAVERSAL\n",
    "\n",
    "Level order traversal of a tree is breadth first traversal for the tree."
   ]
  },
  {
   "cell_type": "code",
   "execution_count": 38,
   "metadata": {},
   "outputs": [
    {
     "ename": "SyntaxError",
     "evalue": "invalid syntax (<ipython-input-38-e8b1970c5fda>, line 1)",
     "output_type": "error",
     "traceback": [
      "\u001b[0;36m  File \u001b[0;32m\"<ipython-input-38-e8b1970c5fda>\"\u001b[0;36m, line \u001b[0;32m1\u001b[0m\n\u001b[0;31m    1 USE FUNCTION TO PRINT A GIVEN LEVEL\u001b[0m\n\u001b[0m        ^\u001b[0m\n\u001b[0;31mSyntaxError\u001b[0m\u001b[0;31m:\u001b[0m invalid syntax\n"
     ]
    }
   ],
   "source": [
    "1 USE FUNCTION TO PRINT A GIVEN LEVEL"
   ]
  },
  {
   "cell_type": "code",
   "execution_count": 39,
   "metadata": {
    "scrolled": true
   },
   "outputs": [
    {
     "ename": "SyntaxError",
     "evalue": "invalid syntax (<ipython-input-39-6c8701c4d521>, line 2)",
     "output_type": "error",
     "traceback": [
      "\u001b[0;36m  File \u001b[0;32m\"<ipython-input-39-6c8701c4d521>\"\u001b[0;36m, line \u001b[0;32m2\u001b[0m\n\u001b[0;31m    There are basically two functions in this method.\u001b[0m\n\u001b[0m            ^\u001b[0m\n\u001b[0;31mSyntaxError\u001b[0m\u001b[0;31m:\u001b[0m invalid syntax\n"
     ]
    }
   ],
   "source": [
    "Algorithm\n",
    "There are basically two functions in this method.\n",
    "One is to print all nodes at a given level (printGivenLevel),\n",
    "\n",
    "and other is to print level order traversal of the tree (printLevelorder).\n",
    "\n",
    "printLevelorder makes use of printGivenLevel to print nodes at all levels one by one starting from root."
   ]
  },
  {
   "cell_type": "code",
   "execution_count": 40,
   "metadata": {},
   "outputs": [
    {
     "ename": "SyntaxError",
     "evalue": "invalid syntax (<ipython-input-40-4f8c2b49c656>, line 1)",
     "output_type": "error",
     "traceback": [
      "\u001b[0;36m  File \u001b[0;32m\"<ipython-input-40-4f8c2b49c656>\"\u001b[0;36m, line \u001b[0;32m1\u001b[0m\n\u001b[0;31m    *Function(to, print, level, order, traversal, of, tree*/)\u001b[0m\n\u001b[0m                                                           ^\u001b[0m\n\u001b[0;31mSyntaxError\u001b[0m\u001b[0;31m:\u001b[0m invalid syntax\n"
     ]
    }
   ],
   "source": [
    "/*Function to print level order traversal of tree*/\n",
    "printLevelorder(tree)\n",
    "for d = 1 to height(tree)\n",
    "   printGivenLevel(tree, d);\n",
    "\n",
    "/*Function to print all nodes at a given level*/\n",
    "printGivenLevel(tree, level)\n",
    "if tree is NULL then return;\n",
    "if level is 1, then\n",
    "    print(tree->data);\n",
    "else if level greater than 1, then\n",
    "    printGivenLevel(tree->left, level-1);\n",
    "    printGivenLevel(tree->right, level-1);\n"
   ]
  },
  {
   "cell_type": "code",
   "execution_count": 41,
   "metadata": {},
   "outputs": [],
   "source": [
    "# Recursive Python program for level order traversal of Binary Tree \n",
    "  \n",
    "# A node structure \n",
    "class Node: \n",
    "  \n",
    "    # A utility function to create a new node \n",
    "    def __init__(self, key): \n",
    "        self.data = key  \n",
    "        self.left = None\n",
    "        self.right = None\n",
    "  \n",
    "  \n",
    "# Function to  print level order traversal of tree \n",
    "def printLevelOrder(root): \n",
    "    h = height(root) \n",
    "    for i in range(1, h+1): \n",
    "        printGivenLevel(root, i) \n",
    "  \n",
    "  \n",
    "# Print nodes at a given level \n",
    "def printGivenLevel(root , level): \n",
    "    if root is None: \n",
    "        return\n",
    "    if level == 1: \n",
    "        print(root.data)\n",
    "    elif level > 1 : \n",
    "        printGivenLevel(root.left , level-1) \n",
    "        printGivenLevel(root.right , level-1) \n",
    "  \n",
    "  \n",
    "\"\"\" Compute the height of a tree--the number of nodes \n",
    "    along the longest path from the root node down to \n",
    "    the farthest leaf node \n",
    "\"\"\"\n",
    "def height(node): \n",
    "    if node is None: \n",
    "        return 0 \n",
    "    else : \n",
    "        # Compute the height of each subtree  \n",
    "        lheight = height(node.left) \n",
    "        rheight = height(node.right) \n",
    "  \n",
    "        #Use the larger one \n",
    "        if lheight > rheight : \n",
    "            return lheight+1\n",
    "        else: \n",
    "            return rheight+1"
   ]
  },
  {
   "cell_type": "code",
   "execution_count": 43,
   "metadata": {},
   "outputs": [
    {
     "name": "stdout",
     "output_type": "stream",
     "text": [
      "Level order traversal of binary tree is -\n",
      "1\n",
      "2\n",
      "3\n",
      "4\n",
      "5\n"
     ]
    }
   ],
   "source": [
    "# Driver program to test above function \n",
    "root = Node(1) \n",
    "root.left = Node(2) \n",
    "root.right = Node(3) \n",
    "root.left.left = Node(4) \n",
    "root.left.right = Node(5) \n",
    "  \n",
    "print(\"Level order traversal of binary tree is -\")\n",
    "printLevelOrder(root) "
   ]
  },
  {
   "cell_type": "code",
   "execution_count": 44,
   "metadata": {},
   "outputs": [
    {
     "ename": "SyntaxError",
     "evalue": "invalid syntax (<ipython-input-44-447e5d483fdd>, line 1)",
     "output_type": "error",
     "traceback": [
      "\u001b[0;36m  File \u001b[0;32m\"<ipython-input-44-447e5d483fdd>\"\u001b[0;36m, line \u001b[0;32m1\u001b[0m\n\u001b[0;31m    Time Complexity: O(n^2) in worst case. For a skewed tree, printGivenLevel() takes O(n) time where n is the number of nodes in the skewed tree. So time complexity of printLevelOrder() is O(n) + O(n-1) + O(n-2) + .. + O(1) which is O(n^2).\u001b[0m\n\u001b[0m                  ^\u001b[0m\n\u001b[0;31mSyntaxError\u001b[0m\u001b[0;31m:\u001b[0m invalid syntax\n"
     ]
    }
   ],
   "source": [
    "Time Complexity: O(n^2) in worst case. For a skewed tree, printGivenLevel() takes O(n) time where n is the number of nodes in the skewed tree. So time complexity of printLevelOrder() is O(n) + O(n-1) + O(n-2) + .. + O(1) which is O(n^2)."
   ]
  },
  {
   "cell_type": "code",
   "execution_count": 46,
   "metadata": {},
   "outputs": [
    {
     "ename": "SyntaxError",
     "evalue": "invalid syntax (<ipython-input-46-cc2d7e9805d8>, line 1)",
     "output_type": "error",
     "traceback": [
      "\u001b[0;36m  File \u001b[0;32m\"<ipython-input-46-cc2d7e9805d8>\"\u001b[0;36m, line \u001b[0;32m1\u001b[0m\n\u001b[0;31m    METHOD 2 USE QUEUE\u001b[0m\n\u001b[0m           ^\u001b[0m\n\u001b[0;31mSyntaxError\u001b[0m\u001b[0;31m:\u001b[0m invalid syntax\n"
     ]
    }
   ],
   "source": [
    "METHOD 2 USE QUEUE"
   ]
  },
  {
   "cell_type": "code",
   "execution_count": 47,
   "metadata": {},
   "outputs": [
    {
     "ename": "SyntaxError",
     "evalue": "invalid syntax (<ipython-input-47-8045f621786a>, line 1)",
     "output_type": "error",
     "traceback": [
      "\u001b[0;36m  File \u001b[0;32m\"<ipython-input-47-8045f621786a>\"\u001b[0;36m, line \u001b[0;32m1\u001b[0m\n\u001b[0;31m    Algorithm:\u001b[0m\n\u001b[0m             ^\u001b[0m\n\u001b[0;31mSyntaxError\u001b[0m\u001b[0;31m:\u001b[0m invalid syntax\n"
     ]
    }
   ],
   "source": [
    "Algorithm:\n",
    "For each node, first the node is visited and then it’s child nodes are put in a FIFO queue."
   ]
  },
  {
   "cell_type": "code",
   "execution_count": 48,
   "metadata": {},
   "outputs": [
    {
     "ename": "SyntaxError",
     "evalue": "invalid syntax (<ipython-input-48-a95cbdafa484>, line 2)",
     "output_type": "error",
     "traceback": [
      "\u001b[0;36m  File \u001b[0;32m\"<ipython-input-48-a95cbdafa484>\"\u001b[0;36m, line \u001b[0;32m2\u001b[0m\n\u001b[0;31m    1) Create an empty queue q\u001b[0m\n\u001b[0m     ^\u001b[0m\n\u001b[0;31mSyntaxError\u001b[0m\u001b[0;31m:\u001b[0m invalid syntax\n"
     ]
    }
   ],
   "source": [
    "printLevelorder(tree)\n",
    "1) Create an empty queue q\n",
    "2) temp_node = root /*start from root*/\n",
    "3) Loop while temp_node is not NULL\n",
    "    a) print temp_node->data.\n",
    "    b) Enqueue temp_node’s children (first left then right children) to q\n",
    "    c) Dequeue a node from q and assign it’s value to temp_node"
   ]
  },
  {
   "cell_type": "code",
   "execution_count": 49,
   "metadata": {},
   "outputs": [],
   "source": [
    "# Python program to print level order traversal using Queue \n",
    "  \n",
    "# A node structure \n",
    "class Node: \n",
    "    # A utility function to create a new node \n",
    "    def __init__(self ,key): \n",
    "        self.data = key \n",
    "        self.left = None\n",
    "        self.right = None\n",
    "  \n",
    "# Iterative Method to print the height of binary tree \n",
    "def printLevelOrder(root): \n",
    "    # Base Case \n",
    "    if root is None: \n",
    "        return\n",
    "      \n",
    "    # Create an empty queue for level order traversal \n",
    "    queue = [] \n",
    "  \n",
    "    # Enqueue Root and initialize height \n",
    "    queue.append(root) \n",
    "  \n",
    "    while(len(queue) > 0): \n",
    "        # Print front of queue and remove it from queue \n",
    "        print(queue[0].data)\n",
    "        node = queue.pop(0) \n",
    "  \n",
    "        #Enqueue left child \n",
    "        if node.left is not None: \n",
    "            queue.append(node.left) \n",
    "  \n",
    "        # Enqueue right child \n",
    "        if node.right is not None: \n",
    "            queue.append(node.right) "
   ]
  },
  {
   "cell_type": "code",
   "execution_count": 50,
   "metadata": {},
   "outputs": [
    {
     "name": "stdout",
     "output_type": "stream",
     "text": [
      "Level Order Traversal of binary tree is -\n",
      "1\n",
      "2\n",
      "3\n",
      "4\n",
      "5\n"
     ]
    }
   ],
   "source": [
    "#Driver Program to test above function \n",
    "root = Node(1) \n",
    "root.left = Node(2) \n",
    "root.right = Node(3) \n",
    "root.left.left = Node(4) \n",
    "root.left.right = Node(5) \n",
    "  \n",
    "print(\"Level Order Traversal of binary tree is -\")\n",
    "printLevelOrder(root) "
   ]
  },
  {
   "cell_type": "code",
   "execution_count": 51,
   "metadata": {},
   "outputs": [
    {
     "ename": "SyntaxError",
     "evalue": "invalid syntax (<ipython-input-51-ef9442bb7ba1>, line 1)",
     "output_type": "error",
     "traceback": [
      "\u001b[0;36m  File \u001b[0;32m\"<ipython-input-51-ef9442bb7ba1>\"\u001b[0;36m, line \u001b[0;32m1\u001b[0m\n\u001b[0;31m    Time Complexity: O(n) where n is number of nodes in the binary tree\u001b[0m\n\u001b[0m                  ^\u001b[0m\n\u001b[0;31mSyntaxError\u001b[0m\u001b[0;31m:\u001b[0m invalid syntax\n"
     ]
    }
   ],
   "source": [
    "Time Complexity: O(n) where n is number of nodes in the binary tree"
   ]
  },
  {
   "cell_type": "code",
   "execution_count": null,
   "metadata": {},
   "outputs": [],
   "source": []
  }
 ],
 "metadata": {
  "kernelspec": {
   "display_name": "Python 3",
   "language": "python",
   "name": "python3"
  },
  "language_info": {
   "codemirror_mode": {
    "name": "ipython",
    "version": 3
   },
   "file_extension": ".py",
   "mimetype": "text/x-python",
   "name": "python",
   "nbconvert_exporter": "python",
   "pygments_lexer": "ipython3",
   "version": "3.4.3"
  }
 },
 "nbformat": 4,
 "nbformat_minor": 2
}
