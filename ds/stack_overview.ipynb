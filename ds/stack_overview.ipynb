{
 "cells": [
  {
   "cell_type": "markdown",
   "metadata": {},
   "source": [
    "Stack is a linear data structure which follows a particular order in which the operations are performed.\n",
    "\n",
    "The order may be LIFO(Last In First Out) or FILO(First In Last Out)."
   ]
  },
  {
   "cell_type": "markdown",
   "metadata": {},
   "source": [
    "Mainly the following three basic operations are performed in the stack:\n",
    "\n",
    "Push: Adds an item in the stack. If the stack is full, then it is said to be an Overflow condition.\n",
    "    \n",
    "Pop: Removes an item from the stack. The items are popped in the reversed order in which they are pushed. If the stack is empty, then it is said to be an Underflow condition.\n",
    "\n",
    "Peek or Top: Returns top element of stack.\n",
    "\n",
    "isEmpty: Returns true if stack is empty, else false."
   ]
  },
  {
   "cell_type": "markdown",
   "metadata": {},
   "source": [
    "Time Complexities of operations on stack:\n",
    "\n",
    "push(), pop(), isEmpty() and peek() all take O(1) time.\n",
    "\n",
    "We do not run any loop in any of these operations."
   ]
  },
  {
   "cell_type": "markdown",
   "metadata": {},
   "source": [
    "APPLICATIONS OF STACK"
   ]
  },
  {
   "cell_type": "markdown",
   "metadata": {},
   "source": [
    "Balancing of symbols\n",
    "\n",
    "Infix to Postfix /Prefix conversion\n",
    "\n",
    "Redo-undo features at many places like editors, photoshop.\n",
    "\n",
    "Forward and backward feature in web browsers\n",
    "\n",
    "Used in many algorithms like Tower of Hanoi, tree traversals, stock span problem, histogram problem.\n",
    "\n",
    "Other applications can be Backtracking, Knight tour problem, rat in a maze, N queen problem and sudoku solver\n",
    "\n",
    "In Graph Algorithms like Topological Sorting and Strongly Connected Components"
   ]
  },
  {
   "cell_type": "markdown",
   "metadata": {},
   "source": [
    "IMPLEMENTATION\n",
    "\n",
    "There are two ways to implement a stack:\n",
    "\n",
    "Using array\n",
    "\n",
    "Using linked list"
   ]
  },
  {
   "cell_type": "markdown",
   "metadata": {},
   "source": [
    "1) Implementing Stack using Arrays"
   ]
  },
  {
   "cell_type": "code",
   "execution_count": 8,
   "metadata": {},
   "outputs": [],
   "source": [
    "# Python program for implementation of stack \n",
    "  \n",
    "# import maxsize from sys module: Used to return -infinite when stack is empty \n",
    "from sys import maxsize \n",
    "  \n",
    "# Function to create a stack. It initializes size of stack as 0 \n",
    "def createStack(): \n",
    "    stack = [] \n",
    "    return stack \n",
    "  \n",
    "# Stack is empty when stack size is 0 \n",
    "def isEmpty(stack): \n",
    "    return len(stack) == 0\n",
    "  \n",
    "# Function to add an item to stack. It increases size by 1 \n",
    "def push(stack, item): \n",
    "    stack.append(item) \n",
    "    print(item + \" pushed to stack \") \n",
    "      \n",
    "# Function to remove an item from stack. It decreases size by 1 \n",
    "def pop(stack): \n",
    "    if (isEmpty(stack)): \n",
    "        return str(-maxsize -1) #return minus infinite \n",
    "      \n",
    "    return stack.pop() "
   ]
  },
  {
   "cell_type": "code",
   "execution_count": 9,
   "metadata": {},
   "outputs": [
    {
     "name": "stdout",
     "output_type": "stream",
     "text": [
      "10 pushed to stack \n",
      "20 pushed to stack \n",
      "30 pushed to stack \n",
      "30 popped from stack\n"
     ]
    }
   ],
   "source": [
    "# Driver program to test above functions     \n",
    "stack = createStack() \n",
    "push(stack, str(10)) \n",
    "push(stack, str(20)) \n",
    "push(stack, str(30)) \n",
    "print(pop(stack) + \" popped from stack\") "
   ]
  },
  {
   "cell_type": "code",
   "execution_count": 11,
   "metadata": {},
   "outputs": [
    {
     "data": {
      "text/plain": [
       "['10', '20']"
      ]
     },
     "execution_count": 11,
     "metadata": {},
     "output_type": "execute_result"
    }
   ],
   "source": [
    "stack"
   ]
  },
  {
   "cell_type": "markdown",
   "metadata": {},
   "source": [
    "Pros: Easy to implement. Memory is saved as pointers are not involved.\n",
    "\n",
    "Cons: It is not dynamic. It doesn’t grow and shrink depending on needs at runtime."
   ]
  },
  {
   "cell_type": "markdown",
   "metadata": {},
   "source": [
    "Implementing Stack using Linked List"
   ]
  },
  {
   "cell_type": "code",
   "execution_count": 6,
   "metadata": {},
   "outputs": [],
   "source": [
    "# Python program for linked list implementation of stack \n",
    "  \n",
    "# Class to represent a node \n",
    "class StackNode: \n",
    "  \n",
    "    # Constructor to initialize a node \n",
    "    def __init__(self, data): \n",
    "        self.data = data  \n",
    "        self.next = None\n",
    "  \n",
    "class Stack: \n",
    "      \n",
    "    # Constructor to initialize the root of linked list \n",
    "    def __init__(self): \n",
    "        self.root = None\n",
    "  \n",
    "    def isEmpty(self): \n",
    "        return True if self.root is None else False \n",
    "  \n",
    "    def push(self, data): \n",
    "        newNode = StackNode(data) \n",
    "        newNode.next = self.root  \n",
    "        self.root = newNode \n",
    "        print(\"%d pushed to stack\" %(data)) \n",
    "      \n",
    "    def pop(self): \n",
    "        if (self.isEmpty()): \n",
    "            return float(\"-inf\") \n",
    "        temp = self.root  \n",
    "        self.root = self.root.next \n",
    "        popped = temp.data \n",
    "        return popped \n",
    "      \n",
    "    def peek(self): \n",
    "        if self.isEmpty(): \n",
    "            return float(\"-inf\") \n",
    "        return self.root.data "
   ]
  },
  {
   "cell_type": "code",
   "execution_count": 14,
   "metadata": {},
   "outputs": [
    {
     "name": "stdout",
     "output_type": "stream",
     "text": [
      "10 pushed to stack\n",
      "20 pushed to stack\n",
      "30 pushed to stack\n",
      "top element 30 popped from stack\n",
      "Top element using peek is 20 \n"
     ]
    }
   ],
   "source": [
    "# Driver program to test above class  \n",
    "stack = Stack() \n",
    "stack.push(10)         \n",
    "stack.push(20) \n",
    "stack.push(30) \n",
    "  \n",
    "print(\"top element %d popped from stack\" %(stack.pop()))\n",
    "print(\"Top element using peek is %d \" %(stack.peek())) "
   ]
  },
  {
   "cell_type": "markdown",
   "metadata": {},
   "source": [
    "Pros: The linked list implementation of stack can grow and shrink according to the needs at runtime.\n",
    "\n",
    "Cons: Requires extra memory due to involvement of pointers."
   ]
  },
  {
   "cell_type": "code",
   "execution_count": null,
   "metadata": {},
   "outputs": [],
   "source": []
  }
 ],
 "metadata": {
  "kernelspec": {
   "display_name": "Python 3",
   "language": "python",
   "name": "python3"
  },
  "language_info": {
   "codemirror_mode": {
    "name": "ipython",
    "version": 3
   },
   "file_extension": ".py",
   "mimetype": "text/x-python",
   "name": "python",
   "nbconvert_exporter": "python",
   "pygments_lexer": "ipython3",
   "version": "3.4.3"
  }
 },
 "nbformat": 4,
 "nbformat_minor": 2
}
