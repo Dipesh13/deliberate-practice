{
 "cells": [
  {
   "cell_type": "markdown",
   "metadata": {},
   "source": [
    "Circular linked list is a linked list where all nodes are connected to form a circle. There is no NULL at the end. A circular linked list can be a singly circular linked list or doubly circular linked list."
   ]
  },
  {
   "cell_type": "markdown",
   "metadata": {},
   "source": [
    "https://cdncontribute.geeksforgeeks.org/wp-content/uploads/CircularLinkeList.png"
   ]
  },
  {
   "cell_type": "markdown",
   "metadata": {},
   "source": [
    "ADVANTAGES OF CIRCULAR LINKED LIST"
   ]
  },
  {
   "cell_type": "markdown",
   "metadata": {},
   "source": [
    "1) Any node can be a starting point. We can traverse the whole list by starting from any point. We just need to stop when the first visited node is visited again.\n",
    "\n",
    "2) Useful for implementation of queue. Unlike this implementation, we don’t need to maintain two pointers for front and rear if we use circular linked list. We can maintain a pointer to the last inserted node and front can always be obtained as next of last.\n",
    "\n",
    "3) Circular lists are useful in applications to repeatedly go around the list. For example, when multiple applications are running on a PC, it is common for the operating system to put the running applications on a list and then to cycle through them, giving each of them a slice of time to execute, and then making them wait while the CPU is given to another application. It is convenient for the operating system to use a circular list so that when it reaches the end of the list it can cycle around to the front of the list.\n",
    "\n",
    "4) Circular Doubly Linked Lists are used for implementation of advanced data structures like Fibonacci Heap."
   ]
  },
  {
   "cell_type": "markdown",
   "metadata": {},
   "source": [
    "Summary : any start point/ queue / cycle around / fibonacci heap "
   ]
  },
  {
   "cell_type": "markdown",
   "metadata": {},
   "source": [
    "CIRCULAR LINKED LIST TRAVERSAL"
   ]
  },
  {
   "cell_type": "markdown",
   "metadata": {},
   "source": [
    "In a conventional linked list, we traverse the list from the head node and stop the traversal when we reach NULL. In a circular linked list, we stop traversal when we reach the first node again. "
   ]
  },
  {
   "cell_type": "code",
   "execution_count": 7,
   "metadata": {},
   "outputs": [],
   "source": [
    "# Python program to demonstrate circular linked list traversal  \n",
    "  \n",
    "# Structure for a Node \n",
    "class Node: \n",
    "      \n",
    "    # Constructor to create  a new node \n",
    "    def __init__(self, data): \n",
    "        self.data = data  \n",
    "        self.next = None\n",
    "  \n",
    "class CircularLinkedList: \n",
    "      \n",
    "    # Constructor to create a empty circular linked list \n",
    "    def __init__(self): \n",
    "        self.head = None\n",
    "  \n",
    "    # Function to insert a node at the beginning of a circular linked list \n",
    "    def push(self, data): \n",
    "        ptr1 = Node(data) \n",
    "        temp = self.head           \n",
    "        ptr1.next = self.head \n",
    "  \n",
    "        # If linked list is not None then set the next of last node \n",
    "        if self.head is not None: \n",
    "            while(temp.next != self.head): \n",
    "                temp = temp.next \n",
    "            temp.next = ptr1 \n",
    "        else: \n",
    "            ptr1.next = ptr1 # For the first node \n",
    "  \n",
    "        self.head = ptr1  \n",
    "  \n",
    "    # Function to print nodes in a given circular linked list \n",
    "    def printList(self): \n",
    "        temp = self.head \n",
    "        if self.head is not None: \n",
    "            while(True): \n",
    "                print(temp.data) \n",
    "                temp = temp.next\n",
    "                if (temp == self.head): \n",
    "                    break \n",
    "  "
   ]
  },
  {
   "cell_type": "code",
   "execution_count": 8,
   "metadata": {},
   "outputs": [
    {
     "name": "stdout",
     "output_type": "stream",
     "text": [
      "11\n",
      "2\n",
      "56\n",
      "12\n"
     ]
    }
   ],
   "source": [
    "# Initialize list as empty \n",
    "cllist = CircularLinkedList() \n",
    "  \n",
    "# Created linked list will be 11->2->56->12 \n",
    "cllist.push(12) \n",
    "cllist.push(56) \n",
    "cllist.push(2) \n",
    "cllist.push(11) \n",
    "\n",
    "cllist.printList() "
   ]
  },
  {
   "cell_type": "code",
   "execution_count": null,
   "metadata": {},
   "outputs": [],
   "source": []
  }
 ],
 "metadata": {
  "kernelspec": {
   "display_name": "Python 3",
   "language": "python",
   "name": "python3"
  },
  "language_info": {
   "codemirror_mode": {
    "name": "ipython",
    "version": 3
   },
   "file_extension": ".py",
   "mimetype": "text/x-python",
   "name": "python",
   "nbconvert_exporter": "python",
   "pygments_lexer": "ipython3",
   "version": "3.4.3"
  }
 },
 "nbformat": 4,
 "nbformat_minor": 2
}
