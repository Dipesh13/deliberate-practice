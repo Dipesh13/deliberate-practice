{
 "cells": [
  {
   "cell_type": "markdown",
   "metadata": {},
   "source": [
    "A Graph is a non-linear data structure consisting of nodes and edges. The nodes are sometimes also referred to as vertices and the edges are lines or arcs that connect any two nodes in the graph. More formally a Graph can be defined as,\n",
    "\n",
    "A Graph consists of a finite set of vertices(or nodes) and set of Edges which connect a pair of nodes.\n",
    "\n",
    "In the above Graph, the set of vertices V = {0,1,2,3,4} and the set of edges E = {01, 12, 23, 34, 04, 14, 13}."
   ]
  },
  {
   "cell_type": "markdown",
   "metadata": {},
   "source": [
    "Graph is a data structure that consists of following two components:\n",
    "\n",
    "1. A finite set of vertices also called as nodes.\n",
    "\n",
    "2. A finite set of ordered pair of the form (u, v) called as edge. The pair is ordered because (u, v) is not same as (v, u) in case of a directed graph(di-graph). The pair of the form (u, v) indicates that there is an edge from vertex u to vertex v. The edges may contain weight/value/cost."
   ]
  },
  {
   "cell_type": "markdown",
   "metadata": {},
   "source": [
    "Graphs are used to solve many real-life problems. Graphs are used to represent networks. The networks may include paths in a city or telephone network or circuit network. Graphs are also used in social networks like linkedIn, Facebook. For example, in Facebook, each person is represented with a vertex(or node). Each node is a structure and contains information like person id, name, gender, locale etc."
   ]
  },
  {
   "cell_type": "markdown",
   "metadata": {},
   "source": [
    "Following two are the most commonly used representations of a graph.\n",
    "\n",
    "1. Adjacency Matrix\n",
    "\n",
    "2. Adjacency List\n",
    "\n",
    "There are other representations also like, Incidence Matrix and Incidence List. The choice of the graph representation is situation specific. It totally depends on the type of operations to be performed and ease of use."
   ]
  },
  {
   "cell_type": "markdown",
   "metadata": {},
   "source": [
    "1) ADJACENCY MATRIX\n",
    "\n",
    "Adjacency Matrix is a 2D array of size V x V where V is the number of vertices in a graph. Let the 2D array be adj[][], a slot adj[i][j] = 1 indicates that there is an edge from vertex i to vertex j. Adjacency matrix for undirected graph is always symmetric. Adjacency Matrix is also used to represent weighted graphs. If adj[i][j] = w, then there is an edge from vertex i to vertex j with weight w."
   ]
  },
  {
   "cell_type": "markdown",
   "metadata": {},
   "source": [
    "Pros:\n",
    "    \n",
    "Representation is easier to implement and follow. \n",
    "    \n",
    "Removing an edge takes O(1) time.\n",
    "\n",
    "Queries like whether there is an edge from vertex ‘u’ to vertex ‘v’ are efficient and can be done O(1).\n",
    "\n",
    " \n",
    "\n",
    "Cons:\n",
    "    \n",
    "Consumes more space O(V^2).\n",
    "\n",
    "Even if the graph is sparse(contains less number of edges), it consumes the same space.\n",
    "\n",
    "Adding a vertex is O(V^2) time."
   ]
  },
  {
   "cell_type": "markdown",
   "metadata": {},
   "source": [
    "ADJACENCY LIST\n",
    "\n",
    "An array of lists is used. Size of the array is equal to the number of vertices.\n",
    "\n",
    "Let the array be array[]. An entry array[i] represents the list of vertices adjacent to the ith vertex.\n",
    "\n",
    "This representation can also be used to represent a weighted graph. The weights of edges can be represented as lists of pairs. Following is adjacency list representation of the above graph."
   ]
  },
  {
   "cell_type": "code",
   "execution_count": 3,
   "metadata": {},
   "outputs": [],
   "source": [
    "\"\"\" \n",
    "A Python program to demonstrate the adjacency \n",
    "list representation of the graph \n",
    "\"\"\"\n",
    "  \n",
    "# A class to represent the adjacency list of the node \n",
    "class AdjNode: \n",
    "    def __init__(self, data): \n",
    "        self.vertex = data \n",
    "        self.next = None\n",
    "  \n",
    "  \n",
    "# A class to represent a graph. A graph is the list of the adjacency lists. \n",
    "# Size of the array will be the no. of the vertices \"V\" \n",
    "class Graph: \n",
    "    def __init__(self, vertices): \n",
    "        self.V = vertices \n",
    "        self.graph = [None] * self.V \n",
    "  \n",
    "    # Function to add an edge in an undirected graph \n",
    "    def add_edge(self, src, dest): \n",
    "        # Adding the node to the source node \n",
    "        node = AdjNode(dest) \n",
    "        node.next = self.graph[src] \n",
    "        self.graph[src] = node \n",
    "  \n",
    "        # Adding the source node to the destination as it is the undirected graph \n",
    "        node = AdjNode(src) \n",
    "        node.next = self.graph[dest] \n",
    "        self.graph[dest] = node \n",
    "  \n",
    "    # Function to print the graph \n",
    "    def print_graph(self): \n",
    "        for i in range(self.V): \n",
    "            print(\"Adjacency list of vertex {}\\n head\".format(i), end=\"\") \n",
    "            temp = self.graph[i] \n",
    "            while temp: \n",
    "                print(\" -> {}\".format(temp.vertex), end=\"\") \n",
    "                temp = temp.next\n",
    "            print(\" \\n\") "
   ]
  },
  {
   "cell_type": "code",
   "execution_count": 4,
   "metadata": {},
   "outputs": [
    {
     "name": "stdout",
     "output_type": "stream",
     "text": [
      "Adjacency list of vertex 0\n",
      " head -> 4 -> 1 \n",
      "\n",
      "Adjacency list of vertex 1\n",
      " head -> 4 -> 3 -> 2 -> 0 \n",
      "\n",
      "Adjacency list of vertex 2\n",
      " head -> 3 -> 1 \n",
      "\n",
      "Adjacency list of vertex 3\n",
      " head -> 4 -> 2 -> 1 \n",
      "\n",
      "Adjacency list of vertex 4\n",
      " head -> 3 -> 1 -> 0 \n",
      "\n"
     ]
    }
   ],
   "source": [
    "# Driver program to the above graph class \n",
    "V = 5\n",
    "graph = Graph(V) \n",
    "graph.add_edge(0, 1) \n",
    "graph.add_edge(0, 4) \n",
    "graph.add_edge(1, 2) \n",
    "graph.add_edge(1, 3) \n",
    "graph.add_edge(1, 4) \n",
    "graph.add_edge(2, 3) \n",
    "graph.add_edge(3, 4) \n",
    "\n",
    "graph.print_graph() "
   ]
  },
  {
   "cell_type": "markdown",
   "metadata": {},
   "source": [
    "Pros: Saves space O(|V|+|E|) . In the worst case, there can be C(V, 2) number of edges in a graph thus consuming O(V^2) space. Adding a vertex is easier.\n",
    "\n",
    "Cons: Queries like whether there is an edge from vertex u to vertex v are not efficient and can be done O(V)."
   ]
  },
  {
   "cell_type": "markdown",
   "metadata": {},
   "source": [
    "TO DO\n",
    "\n",
    "BFS\n",
    "https://www.geeksforgeeks.org/breadth-first-search-or-bfs-for-a-graph/\n",
    "\n",
    "DFS\n",
    "https://www.geeksforgeeks.org/depth-first-search-or-dfs-for-a-graph/"
   ]
  }
 ],
 "metadata": {
  "kernelspec": {
   "display_name": "Python 3",
   "language": "python",
   "name": "python3"
  },
  "language_info": {
   "codemirror_mode": {
    "name": "ipython",
    "version": 3
   },
   "file_extension": ".py",
   "mimetype": "text/x-python",
   "name": "python",
   "nbconvert_exporter": "python",
   "pygments_lexer": "ipython3",
   "version": "3.4.3"
  }
 },
 "nbformat": 4,
 "nbformat_minor": 2
}
