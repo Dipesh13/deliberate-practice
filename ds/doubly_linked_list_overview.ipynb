{
 "cells": [
  {
   "cell_type": "markdown",
   "metadata": {},
   "source": [
    "A Doubly Linked List (DLL) contains an extra pointer, typically called previous pointer, together with next pointer and data which are there in singly linked list."
   ]
  },
  {
   "cell_type": "markdown",
   "metadata": {},
   "source": [
    "https://www.geeksforgeeks.org/wp-content/uploads/gq/2014/03/DLL1.png"
   ]
  },
  {
   "cell_type": "code",
   "execution_count": 7,
   "metadata": {},
   "outputs": [],
   "source": [
    "# Node of a doubly linked list  \n",
    "class Node: \n",
    "    def __init__(self, next=None, prev=None, data=None): \n",
    "        self.next = next # reference to next node in DLL \n",
    "        self.prev = prev # reference to previous node in DLL \n",
    "        self.data = data"
   ]
  },
  {
   "cell_type": "markdown",
   "metadata": {},
   "source": [
    "Following are advantages/disadvantages of doubly linked list over singly linked list."
   ]
  },
  {
   "cell_type": "markdown",
   "metadata": {},
   "source": [
    "1) A DLL can be traversed in both forward and backward direction.\n",
    "\n",
    "2) The delete operation in DLL is more efficient if pointer to the node to be deleted is given.\n",
    "\n",
    "3) We can quickly insert a new node before a given node."
   ]
  },
  {
   "cell_type": "markdown",
   "metadata": {},
   "source": [
    "Summary : traverse / delete / insert operations"
   ]
  },
  {
   "cell_type": "markdown",
   "metadata": {},
   "source": [
    "Disadvantages over singly linked list"
   ]
  },
  {
   "cell_type": "markdown",
   "metadata": {},
   "source": [
    "1) Every node of DLL Require extra space for an previous pointer. It is possible to implement DLL with single pointer though (See this and this).\n",
    "\n",
    "2) All operations require an extra pointer previous to be maintained. For example, in insertion, we need to modify previous pointers together with next pointers. "
   ]
  },
  {
   "cell_type": "markdown",
   "metadata": {},
   "source": [
    "Summary : space and operations require extra pointer. "
   ]
  },
  {
   "cell_type": "markdown",
   "metadata": {},
   "source": [
    "INSERTION"
   ]
  },
  {
   "cell_type": "markdown",
   "metadata": {},
   "source": [
    "A node can be added in four ways:\n",
    "\n",
    "1) At the front of the DLL\n",
    "\n",
    "2) After a given node.\n",
    "\n",
    "3) At the end of the DLL\n",
    "\n",
    "4) Before a given node."
   ]
  },
  {
   "cell_type": "markdown",
   "metadata": {},
   "source": [
    "1) Add a node at the front: (A 5 steps process):"
   ]
  },
  {
   "cell_type": "markdown",
   "metadata": {},
   "source": [
    "The new node is always added before the head of the given Linked List. And newly added node becomes the new head of DLL.\n",
    "For example if the given Linked List is 10152025 and we add an item 5 at the front, then the Linked List becomes 510152025.\n",
    "\n",
    "Let us call the function that adds at the front of the list is push().\n",
    "The push() must receive a pointer to the head pointer, because push must change the head pointer to point to the new node"
   ]
  },
  {
   "cell_type": "code",
   "execution_count": 12,
   "metadata": {},
   "outputs": [],
   "source": [
    "# Adding a node at the front of the list \n",
    "def push(self, new_data): \n",
    "  \n",
    "    # 1 & 2: Allocate the Node & Put in the data \n",
    "    new_node = Node(data = new_data) \n",
    "  \n",
    "    # 3. Make next of new node as head and previous as NULL \n",
    "    new_node.next = self.head \n",
    "    new_node.prev = None\n",
    "  \n",
    "    # 4. change prev of head node to new node  \n",
    "    if self.head is not None: \n",
    "        self.head.prev = new_node \n",
    "  \n",
    "    # 5. move the head to point to the new node \n",
    "    self.head = new_node  "
   ]
  },
  {
   "cell_type": "markdown",
   "metadata": {},
   "source": [
    "Four steps of the above five steps are same as the 4 steps used for inserting at the front in singly linked list. The only extra step is to change previous of head."
   ]
  },
  {
   "cell_type": "markdown",
   "metadata": {},
   "source": [
    "2) Add a node after a given node.: (A 7 steps process)\n",
    "\n",
    "We are given pointer to a node as prev_node, and the new node is inserted after the given node."
   ]
  },
  {
   "cell_type": "code",
   "execution_count": 14,
   "metadata": {},
   "outputs": [],
   "source": [
    "# Given a node as prev_node, insert a new node after the given node \n",
    "  \n",
    "def insertAfter(self, prev_node, new_data): \n",
    "  \n",
    "        # 1. check if the given prev_node is NULL \n",
    "        if prev_node is None: \n",
    "            print(\"This node doesn't exist in DLL\") \n",
    "            return\n",
    "  \n",
    "        #2. allocate node  & 3. put in the data \n",
    "        new_node = Node(data = new_data) \n",
    "  \n",
    "        # 4. Make next of new node as next of prev_node \n",
    "        new_node.next = prev_node.next\n",
    "  \n",
    "        # 5. Make the next of prev_node as new_node  \n",
    "        prev_node.next = new_node \n",
    "  \n",
    "        # 6. Make prev_node as previous of new_node \n",
    "        new_node.prev = prev_node \n",
    "  \n",
    "        # 7. Change previous of new_node's next node\n",
    "        if new_node.next is not None: \n",
    "            new_node.next.prev = new_node "
   ]
  },
  {
   "cell_type": "markdown",
   "metadata": {},
   "source": [
    "Five of the above steps step process are same as the 5 steps used for inserting after a given node in singly linked list. The two extra steps are needed to change previous pointer of new node and previous pointer of new node’s next node."
   ]
  },
  {
   "cell_type": "markdown",
   "metadata": {},
   "source": [
    "3) Add a node at the end: (7 steps process)\n",
    "    \n",
    "The new node is always added after the last node of the given Linked List. For example if the given DLL is 510152025 and we add an item 30 at the end, then the DLL becomes 51015202530.\n",
    "\n",
    "Since a Linked List is typically represented by the head of it, we have to traverse the list till end and then change the next of last node to new node."
   ]
  },
  {
   "cell_type": "code",
   "execution_count": 16,
   "metadata": {},
   "outputs": [],
   "source": [
    "# Add a node at the end of the DLL \n",
    "def append(self, new_data): \n",
    "  \n",
    "        # 1. allocate node 2. put in the data \n",
    "        new_node = Node(data = new_data) \n",
    "        last = self.head \n",
    "  \n",
    "        # 3. This new node is going to be the  \n",
    "        # last node, so make next of it as NULL \n",
    "        new_node.next = None\n",
    "  \n",
    "        # 4. If the Linked List is empty, then \n",
    "        #  make the new node as head \n",
    "        if self.head is None: \n",
    "            new_node.prev = None\n",
    "            self.head = new_node \n",
    "            return\n",
    "  \n",
    "        # 5. Else traverse till the last node  \n",
    "        while (last.next is not None): \n",
    "            last = last.next\n",
    "  \n",
    "        # 6. Change the next of last node  \n",
    "        last.next = new_node \n",
    "        # 7. Make last node as previous of new node */ \n",
    "        new_node.prev = last "
   ]
  },
  {
   "cell_type": "markdown",
   "metadata": {},
   "source": [
    "WORKING EXAMPLE"
   ]
  },
  {
   "cell_type": "code",
   "execution_count": 20,
   "metadata": {},
   "outputs": [
    {
     "name": "stdout",
     "output_type": "stream",
     "text": [
      "\n",
      "Traversal in forward direction\n",
      "1\n",
      "7\n",
      "8\n",
      "6\n",
      "4\n",
      "\n",
      "Traversal in reverse direction\n",
      "4\n",
      "6\n",
      "8\n",
      "7\n",
      "1\n"
     ]
    }
   ],
   "source": [
    "# A linked list node \n",
    "class Node: \n",
    "  \n",
    "    # Constructor to create a new node \n",
    "    def __init__(self, data): \n",
    "        self.data = data \n",
    "        self.next = None\n",
    "        self.prev = None\n",
    "  \n",
    "# Class to create a Doubly Linked List \n",
    "class DoublyLinkedList: \n",
    "  \n",
    "    # Constructor for empty Doubly Linked List \n",
    "    def __init__(self): \n",
    "        self.head = None\n",
    "  \n",
    "    # Given a reference to the head of a list and an \n",
    "    # integer, inserts a new node on the front of list \n",
    "    def push(self, new_data): \n",
    "  \n",
    "        # 1. Allocates node \n",
    "        # 2. Put the data in it \n",
    "        new_node = Node(new_data) \n",
    "  \n",
    "        # 3. Make next of new node as head and \n",
    "        # previous as None (already None) \n",
    "        new_node.next = self.head \n",
    "  \n",
    "        # 4. change prev of head node to new_node \n",
    "        if self.head is not None: \n",
    "            self.head.prev = new_node \n",
    "  \n",
    "        # 5. move the head to point to the new node \n",
    "        self.head = new_node \n",
    "  \n",
    "    # Given a node as prev_node, insert a new node after \n",
    "    # the given node \n",
    "    def insertAfter(self, prev_node, new_data): \n",
    "  \n",
    "        # 1. Check if the given prev_node is None \n",
    "        if prev_node is None: \n",
    "            print(\"the given previous node cannot be NULL\")\n",
    "            return \n",
    "  \n",
    "        # 2. allocate new node \n",
    "        # 3. put in the data \n",
    "        new_node = Node(new_data) \n",
    "  \n",
    "        # 4. Make net of new node as next of prev node \n",
    "        new_node.next = prev_node.next\n",
    "  \n",
    "        # 5. Make prev_node as previous of new_node \n",
    "        prev_node.next = new_node \n",
    "  \n",
    "        # 6. Make prev_node ass previous of new_node \n",
    "        new_node.prev = prev_node \n",
    "  \n",
    "        # 7. Change previous of new_nodes's next node \n",
    "        if new_node.next is not None: \n",
    "            new_node.next.prev = new_node \n",
    "  \n",
    "    # Given a reference to the head of DLL and integer, \n",
    "    # appends a new node at the end \n",
    "    def append(self, new_data): \n",
    "  \n",
    "        # 1. Allocates node \n",
    "        # 2. Put in the data \n",
    "        new_node = Node(new_data) \n",
    "  \n",
    "        # 3. This new node is going to be the last node, \n",
    "        # so make next of it as None \n",
    "        new_node.next = None\n",
    "  \n",
    "        # 4. If the Linked List is empty, then make the \n",
    "        # new node as head \n",
    "        if self.head is None: \n",
    "            new_node.prev = None\n",
    "            self.head = new_node \n",
    "            return \n",
    "  \n",
    "        # 5. Else traverse till the last node \n",
    "        last = self.head \n",
    "        while(last.next is not None): \n",
    "            last = last.next\n",
    "  \n",
    "        # 6. Change the next of last node \n",
    "        last.next = new_node \n",
    "  \n",
    "        # 7. Make last node as previous of new node \n",
    "        new_node.prev = last \n",
    "  \n",
    "        return\n",
    "  \n",
    "    # This function prints contents of linked list \n",
    "    # starting from the given node \n",
    "    def printList(self, node): \n",
    "  \n",
    "        print(\"\\nTraversal in forward direction\")\n",
    "        while(node is not None): \n",
    "            print(node.data) \n",
    "            last = node \n",
    "            node = node.next\n",
    "  \n",
    "        print(\"\\nTraversal in reverse direction\")\n",
    "        while(last is not None): \n",
    "            print(last.data) \n",
    "            last = last.prev \n",
    "  \n",
    "  \n",
    "# Start with empty list \n",
    "llist = DoublyLinkedList() \n",
    "  \n",
    "# Insert 6. So the list becomes 6->None \n",
    "llist.append(6) \n",
    "  \n",
    "# Insert 7 at the beginning. \n",
    "# So linked list becomes 7->6->None \n",
    "llist.push(7) \n",
    "  \n",
    "# Insert 1 at the beginning. \n",
    "# So linked list becomes 1->7->6->None \n",
    "llist.push(1) \n",
    "  \n",
    "# Insert 4 at the end. \n",
    "# So linked list becomes 1->7->6->4->None \n",
    "llist.append(4) \n",
    "  \n",
    "# Insert 8, after 7. \n",
    "# So linked list becomes 1->7->8->6->4->None \n",
    "llist.insertAfter(llist.head.next, 8) \n",
    "\n",
    "llist.printList(llist.head) "
   ]
  },
  {
   "cell_type": "code",
   "execution_count": null,
   "metadata": {},
   "outputs": [],
   "source": []
  }
 ],
 "metadata": {
  "kernelspec": {
   "display_name": "Python 3",
   "language": "python",
   "name": "python3"
  },
  "language_info": {
   "codemirror_mode": {
    "name": "ipython",
    "version": 3
   },
   "file_extension": ".py",
   "mimetype": "text/x-python",
   "name": "python",
   "nbconvert_exporter": "python",
   "pygments_lexer": "ipython3",
   "version": "3.4.3"
  }
 },
 "nbformat": 4,
 "nbformat_minor": 2
}
