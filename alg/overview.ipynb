{
 "cells": [
  {
   "cell_type": "markdown",
   "metadata": {},
   "source": [
    "Algorithm is a step-by-step procedure, which defines a set of instructions to be executed in a certain order to get the desired output."
   ]
  },
  {
   "cell_type": "markdown",
   "metadata": {},
   "source": [
    "From the data structure point of view, following are some important categories of algorithms −\n",
    "\n",
    "Search − Algorithm to search an item in a data structure.\n",
    "\n",
    "Sort − Algorithm to sort items in a certain order.\n",
    "\n",
    "Insert − Algorithm to insert item in a data structure.\n",
    "\n",
    "Update − Algorithm to update an existing item in a data structure.\n",
    "\n",
    "Delete − Algorithm to delete an existing item from a data structure."
   ]
  },
  {
   "cell_type": "markdown",
   "metadata": {},
   "source": [
    "ALGORITHM ANALYSIS\n",
    "\n",
    "Efficiency of an algorithm can be analyzed at two different stages, before implementation and after implementation. They are the following −\n",
    "\n",
    "A Priori Analysis − This is a theoretical analysis of an algorithm. Efficiency of an algorithm is measured by assuming that all other factors, for example, processor speed, are constant and have no effect on the implementation.\n",
    "\n",
    "A Posterior Analysis − This is an empirical analysis of an algorithm. The selected algorithm is implemented using programming language. This is then executed on target computer machine. In this analysis, actual statistics like running time and space required, are collected."
   ]
  },
  {
   "cell_type": "markdown",
   "metadata": {},
   "source": [
    "ALGORITHM COMPLEXITY\n",
    "\n",
    "Suppose X is an algorithm and n is the size of input data, the time and space used by the algorithm X are the two main factors, which decide the efficiency of X.\n",
    "\n",
    "Time Factor − Time is measured by counting the number of key operations such as comparisons in the sorting algorithm.\n",
    "\n",
    "Space Factor − Space is measured by counting the maximum memory space required by the algorithm.\n",
    "\n",
    "The complexity of an algorithm f(n) gives the running time and/or the storage space required by the algorithm in terms of n as the size of input data.\n",
    "\n"
   ]
  },
  {
   "cell_type": "markdown",
   "metadata": {},
   "source": [
    "A) SPACE COMPLEXITY\n",
    "\n",
    "Space complexity of an algorithm represents the amount of memory space required by the algorithm in its life cycle. The space required by an algorithm is equal to the sum of the following two components −\n",
    "\n",
    "A fixed part that is a space required to store certain data and variables, that are independent of the size of the problem. For example, simple variables and constants used, program size, etc.\n",
    "\n",
    "A variable part is a space required by variables, whose size depends on the size of the problem. For example, dynamic memory allocation, recursion stack space, etc.\n",
    "\n",
    "Space complexity S(P) of any algorithm P is S(P) = C + SP(I), where C is the fixed part and S(I) is the variable part of the algorithm, which depends on instance characteristic I. Following is a simple example that tries to explain the concept −\n",
    "\n",
    "Algorithm: SUM(A, B)\n",
    "Step 1 -  START\n",
    "Step 2 -  C ← A + B + 10\n",
    "Step 3 -  Stop\n",
    "Here we have three variables A, B, and C and one constant. Hence S(P) = 1 + 3. Now, space depends on data types of given variables and constant types and it will be multiplied accordingly.\n",
    "\n",
    "\n",
    "\n",
    "B) TIME COMPLEXITY\n",
    "\n",
    "\n",
    "Time complexity of an algorithm represents the amount of time required by the algorithm to run to completion. Time requirements can be defined as a numerical function T(n), where T(n) can be measured as the number of steps, provided each step consumes constant time.\n",
    "\n",
    "For example, addition of two n-bit integers takes n steps. Consequently, the total computational time is T(n) = c ∗ n, where c is the time taken for the addition of two bits. Here, we observe that T(n) grows linearly as the input size increases."
   ]
  },
  {
   "cell_type": "markdown",
   "metadata": {},
   "source": [
    "1) DIVIDE AND CONQUER\n",
    "\n",
    "In divide and conquer approach, the problem in hand, is divided into smaller sub-problems and then each problem is solved independently.\n",
    "\n",
    "When we keep on dividing the subproblems into even smaller sub-problems, we may eventually reach a stage where no more division is possible.\n",
    "\n",
    "Those \"atomic\" smallest possible sub-problem (fractions) are solved.\n",
    "\n",
    "The solution of all sub-problems is finally merged in order to obtain the solution of an original problem."
   ]
  },
  {
   "cell_type": "markdown",
   "metadata": {},
   "source": [
    "Broadly, we can understand divide-and-conquer approach in a three-step process.\n",
    "\n",
    "a) Divide/Break\n",
    "This step involves breaking the problem into smaller sub-problems. Sub-problems should represent a part of the original problem. This step generally takes a recursive approach to divide the problem until no sub-problem is further divisible. At this stage, sub-problems become atomic in nature but still represent some part of the actual problem.\n",
    "\n",
    "b) Conquer/Solve\n",
    "This step receives a lot of smaller sub-problems to be solved. Generally, at this level, the problems are considered 'solved' on their own.\n",
    "\n",
    "c) Merge/Combine\n",
    "When the smaller sub-problems are solved, this stage recursively combines them until they formulate a solution of the original problem. This algorithmic approach works recursively and conquer & merge steps works so close that they appear as one."
   ]
  },
  {
   "cell_type": "markdown",
   "metadata": {},
   "source": [
    "example) BINARY SEARCH ON SORTED ARRAY:\n",
    "The following program is an example of divide-and-conquer programming approach where the binary search is implemented using python.\n",
    "\n",
    "Binary Search implementation\n",
    "\n",
    "In binary search we take a SORTED list of elements and start looking for an element at the middle of the list. If the search value matches with the middle value in the list we complete the search. Otherwise we eleminate half of the list of elements by choosing whether to process with the right or left half of the list depending on the value of the item searched. This is possible as the list is sorted and it is much quicker than linear search."
   ]
  },
  {
   "cell_type": "code",
   "execution_count": 2,
   "metadata": {},
   "outputs": [],
   "source": [
    "def bsearch(list, val):\n",
    "\n",
    "    list_size = len(list) - 1\n",
    "\n",
    "    idx0 = 0\n",
    "    idxn = list_size\n",
    "    \n",
    "    # Find the middle most value\n",
    "    while idx0 <= idxn:\n",
    "        midval = (idx0 + idxn)// 2\n",
    "\n",
    "        if list[midval] == val:\n",
    "            return midval\n",
    "\n",
    "        # Compare the value the middle most value\n",
    "        if val > list[midval]:\n",
    "            idx0 = midval + 1\n",
    "        else:\n",
    "            idxn = midval - 1\n",
    "\n",
    "    if idx0 > idxn:\n",
    "        return None"
   ]
  },
  {
   "cell_type": "code",
   "execution_count": 3,
   "metadata": {},
   "outputs": [
    {
     "name": "stdout",
     "output_type": "stream",
     "text": [
      "5\n",
      "None\n"
     ]
    }
   ],
   "source": [
    "# Initialize the sorted list\n",
    "list = [2,7,19,34,53,72]\n",
    "\n",
    "# Print the search result\n",
    "print(bsearch(list,72))\n",
    "print(bsearch(list,11))"
   ]
  },
  {
   "cell_type": "markdown",
   "metadata": {},
   "source": [
    "2) Recursion\n",
    "\n",
    "Recursion allows a function to call itself. Fixed steps of code get executed again and again for new values. We also have to set criteria for deciding when the recursive call ends. In the below example we see a recursive approach to the binary search."
   ]
  },
  {
   "cell_type": "markdown",
   "metadata": {},
   "source": [
    "Binary Search using Recursion\n",
    "We implement the algorithm of binary search using python as shown below. We use an ORDERED list of items and design a recursive function to take in the list along with starting and ending index as input. Then the binary search function calls itself till find the the searched item or concludes about its absence in the list."
   ]
  },
  {
   "cell_type": "code",
   "execution_count": 5,
   "metadata": {},
   "outputs": [],
   "source": [
    "def bsearch(list, idx0, idxn, val):\n",
    "\n",
    "    if (idxn < idx0):\n",
    "        return None\n",
    "    else:\n",
    "        midval = idx0 + ((idxn - idx0) // 2)\n",
    "\n",
    "        # Compare the search item with middle most value\n",
    "        if list[midval] > val:\n",
    "            return bsearch(list, idx0, midval-1,val)\n",
    "        elif list[midval] < val:\n",
    "            return bsearch(list, midval+1, idxn, val)\n",
    "        else:\n",
    "            return midval"
   ]
  },
  {
   "cell_type": "code",
   "execution_count": 7,
   "metadata": {},
   "outputs": [
    {
     "name": "stdout",
     "output_type": "stream",
     "text": [
      "2\n",
      "None\n"
     ]
    }
   ],
   "source": [
    "# idx0 = 0 and idxn = 5 , implement without taking these parameters\n",
    "list = [8,11,24,56,88,131]\n",
    "print(bsearch(list, 0, 5, 24))\n",
    "print(bsearch(list, 0, 5, 51))"
   ]
  },
  {
   "cell_type": "markdown",
   "metadata": {},
   "source": [
    "3) BACKTRACKING\n",
    "\n",
    "Backtracking is a form of recursion. But it involves choosing only option out of any possibilities.\n",
    "\n",
    "We begin by choosing an option and backtrack from it, if we reach a state where we conclude that this specific option does not give the required solution.\n",
    "\n",
    "We repeat these steps by going across each available option until we get the desired solution."
   ]
  },
  {
   "cell_type": "markdown",
   "metadata": {},
   "source": [
    "Below is an example of finding all possible order of arrangements of a given set of letters. When we choose a pair we apply backtracking to verify if that exact pair has already been created or not. If not already created, the pair is added to the answer list else it is ignored."
   ]
  },
  {
   "cell_type": "code",
   "execution_count": 9,
   "metadata": {},
   "outputs": [],
   "source": [
    "def permute(list, s):\n",
    "    if list == 1:\n",
    "        return s\n",
    "    else:\n",
    "        return [ y + x\n",
    "                 for y in permute(1, s)\n",
    "                 for x in permute(list - 1, s)\n",
    "                 ]"
   ]
  },
  {
   "cell_type": "code",
   "execution_count": 12,
   "metadata": {},
   "outputs": [
    {
     "name": "stdout",
     "output_type": "stream",
     "text": [
      "['a', 'b', 'c']\n"
     ]
    }
   ],
   "source": [
    "print(permute(1, [\"a\",\"b\",\"c\"]))"
   ]
  },
  {
   "cell_type": "code",
   "execution_count": 13,
   "metadata": {},
   "outputs": [
    {
     "name": "stdout",
     "output_type": "stream",
     "text": [
      "['aa', 'ab', 'ac', 'ba', 'bb', 'bc', 'ca', 'cb', 'cc']\n"
     ]
    }
   ],
   "source": [
    "print(permute(2, [\"a\",\"b\",\"c\"]))"
   ]
  },
  {
   "cell_type": "markdown",
   "metadata": {},
   "source": [
    "4) TREE TRAVERSAL ALGORITHMS\n",
    "\n",
    "Traversal is a process to visit all the nodes of a tree and may print their values too. Because, all nodes are connected via edges (links) we always start from the root (head) node. That is, we cannot randomly access a node in a tree. There are three ways which we use to traverse a tree −\n",
    "\n",
    "In-order Traversal\n",
    "\n",
    "Pre-order Traversal\n",
    "\n",
    "Post-order Traversal"
   ]
  },
  {
   "cell_type": "markdown",
   "metadata": {},
   "source": [
    "a) In order traversal\n",
    "\n",
    "In-order Traversal\n",
    "In this traversal method, the left subtree is visited first, then the root and later the right sub-tree. We should always remember that every node may represent a subtree itself."
   ]
  },
  {
   "cell_type": "code",
   "execution_count": 16,
   "metadata": {},
   "outputs": [],
   "source": [
    "class Node:\n",
    "\n",
    "    def __init__(self, data):\n",
    "\n",
    "        self.left = None\n",
    "        self.right = None\n",
    "        self.data = data\n",
    "\n",
    "    # Insert Node\n",
    "    def insert(self, data):\n",
    "\n",
    "        if self.data:\n",
    "            if data < self.data:\n",
    "                if self.left is None:\n",
    "                    self.left = Node(data)\n",
    "                else:\n",
    "                    self.left.insert(data)\n",
    "            elif data > self.data:\n",
    "                if self.right is None:\n",
    "                    self.right = Node(data)\n",
    "                else:\n",
    "                    self.right.insert(data)\n",
    "        else:\n",
    "            self.data = data\n",
    "\n",
    "    # Print the Tree\n",
    "    def PrintTree(self):\n",
    "        if self.left:\n",
    "            self.left.PrintTree()\n",
    "        print( self.data),\n",
    "        if self.right:\n",
    "            self.right.PrintTree()\n",
    "\n",
    "    # Inorder traversal: Left -> Root -> Right\n",
    "    def inorderTraversal(self, root):\n",
    "        res = []\n",
    "        if root:\n",
    "            res = self.inorderTraversal(root.left)\n",
    "            res.append(root.data)\n",
    "            res = res + self.inorderTraversal(root.right)\n",
    "        return res"
   ]
  },
  {
   "cell_type": "code",
   "execution_count": 17,
   "metadata": {},
   "outputs": [
    {
     "name": "stdout",
     "output_type": "stream",
     "text": [
      "[10, 14, 19, 27, 31, 35, 42]\n"
     ]
    }
   ],
   "source": [
    "root = Node(27)\n",
    "root.insert(14)\n",
    "root.insert(35)\n",
    "root.insert(10)\n",
    "root.insert(19)\n",
    "root.insert(31)\n",
    "root.insert(42)\n",
    "print(root.inorderTraversal(root))"
   ]
  },
  {
   "cell_type": "markdown",
   "metadata": {},
   "source": [
    "b) Pre-order Traversal\n",
    "\n",
    "In this traversal method, the root node is visited first, then the left subtree and finally the right subtree."
   ]
  },
  {
   "cell_type": "code",
   "execution_count": 19,
   "metadata": {},
   "outputs": [],
   "source": [
    "class Node:\n",
    "\n",
    "    def __init__(self, data):\n",
    "\n",
    "        self.left = None\n",
    "        self.right = None\n",
    "        self.data = data\n",
    "    \n",
    "    # Insert Node\n",
    "    def insert(self, data):\n",
    "\n",
    "        if self.data:\n",
    "            if data < self.data:\n",
    "                if self.left is None:\n",
    "                    self.left = Node(data)\n",
    "                else:\n",
    "                    self.left.insert(data)\n",
    "            elif data > self.data:\n",
    "                if self.right is None:\n",
    "                    self.right = Node(data)\n",
    "                else:\n",
    "                    self.right.insert(data)\n",
    "        else:\n",
    "            self.data = data\n",
    "\n",
    "    # Print the Tree\n",
    "    def PrintTree(self):\n",
    "        if self.left:\n",
    "            self.left.PrintTree()\n",
    "        print( self.data),\n",
    "        if self.right:\n",
    "            self.right.PrintTree()\n",
    "\n",
    "    # Preorder traversal : Root -> Left ->Right\n",
    "    def PreorderTraversal(self, root):\n",
    "        res = []\n",
    "        if root:\n",
    "            res.append(root.data)\n",
    "            res = res + self.PreorderTraversal(root.left)\n",
    "            res = res + self.PreorderTraversal(root.right)\n",
    "        return res"
   ]
  },
  {
   "cell_type": "code",
   "execution_count": 20,
   "metadata": {},
   "outputs": [
    {
     "name": "stdout",
     "output_type": "stream",
     "text": [
      "[27, 14, 10, 19, 35, 31, 42]\n"
     ]
    }
   ],
   "source": [
    "root = Node(27)\n",
    "root.insert(14)\n",
    "root.insert(35)\n",
    "root.insert(10)\n",
    "root.insert(19)\n",
    "root.insert(31)\n",
    "root.insert(42)\n",
    "print(root.PreorderTraversal(root))"
   ]
  },
  {
   "cell_type": "markdown",
   "metadata": {},
   "source": [
    "Post-order Traversal\n",
    "\n",
    "In this traversal method, the root node is visited last, hence the name. First we traverse the left subtree, then the right subtree and finally the root node."
   ]
  },
  {
   "cell_type": "code",
   "execution_count": 21,
   "metadata": {},
   "outputs": [],
   "source": [
    "class Node:\n",
    "\n",
    "    def __init__(self, data):\n",
    "\n",
    "        self.left = None\n",
    "        self.right = None\n",
    "        self.data = data\n",
    "\n",
    "    # Insert Node\n",
    "    def insert(self, data):\n",
    "\n",
    "        if self.data:\n",
    "            if data < self.data:\n",
    "                if self.left is None:\n",
    "                    self.left = Node(data)\n",
    "                else:\n",
    "                    self.left.insert(data)\n",
    "            elif data > self.data:\n",
    "                if self.right is None:\n",
    "                    self.right = Node(data)\n",
    "                else:\n",
    "                    self.right.insert(data)\n",
    "        else:\n",
    "            self.data = data\n",
    "\n",
    "    # Print the Tree\n",
    "    def PrintTree(self):\n",
    "        if self.left:\n",
    "            self.left.PrintTree()\n",
    "        print( self.data),\n",
    "        if self.right:\n",
    "            self.right.PrintTree()\n",
    "\n",
    "    # Postorder traversal : Left ->Right -> Root\n",
    "    def PostorderTraversal(self, root):\n",
    "        res = []\n",
    "        if root:\n",
    "            res = self.PostorderTraversal(root.left)\n",
    "            res = res + self.PostorderTraversal(root.right)\n",
    "            res.append(root.data)\n",
    "        return res"
   ]
  },
  {
   "cell_type": "code",
   "execution_count": 22,
   "metadata": {},
   "outputs": [
    {
     "name": "stdout",
     "output_type": "stream",
     "text": [
      "[10, 19, 14, 31, 42, 35, 27]\n"
     ]
    }
   ],
   "source": [
    "root = Node(27)\n",
    "root.insert(14)\n",
    "root.insert(35)\n",
    "root.insert(10)\n",
    "root.insert(19)\n",
    "root.insert(31)\n",
    "root.insert(42)\n",
    "print(root.PostorderTraversal(root))"
   ]
  },
  {
   "cell_type": "markdown",
   "metadata": {},
   "source": [
    "5) SORTING ALGORITHMS\n",
    "\n",
    "Sorting refers to arranging data in a particular format. Sorting algorithm specifies the way to arrange data in a particular order.\n",
    "Most common orders are in numerical or lexicographical order.\n",
    "\n",
    "The importance of sorting lies in the fact that data searching can be optimized to a very high level, if data is stored in a sorted manner.\n",
    "\n",
    "Below we see five such implementations of sorting in python.\n",
    "\n",
    "-> Bubble Sort\n",
    "\n",
    "-> Merge Sort\n",
    "\n",
    "-> Insertion Sort\n",
    "\n",
    "-> Shell Sort\n",
    "\n",
    "-> Selection Sort"
   ]
  },
  {
   "cell_type": "markdown",
   "metadata": {},
   "source": [
    "A) BUBBLE SORT\n",
    "\n",
    "It is a comparison-based algorithm in which each pair of adjacent elements is compared and the elements are swapped if they are not in order."
   ]
  },
  {
   "cell_type": "code",
   "execution_count": 23,
   "metadata": {},
   "outputs": [],
   "source": [
    "def bubblesort(list):\n",
    "    \"\"\"Swap the elements to arrange in order\"\"\"\n",
    "    for iter_num in range(len(list)-1,0,-1):\n",
    "        for idx in range(iter_num):\n",
    "            if list[idx]>list[idx+1]:\n",
    "                temp = list[idx]\n",
    "                list[idx] = list[idx+1]\n",
    "                list[idx+1] = temp\n"
   ]
  },
  {
   "cell_type": "code",
   "execution_count": 24,
   "metadata": {},
   "outputs": [
    {
     "name": "stdout",
     "output_type": "stream",
     "text": [
      "[2, 6, 11, 19, 27, 31, 45, 121]\n"
     ]
    }
   ],
   "source": [
    "list = [19,2,31,45,6,11,121,27]\n",
    "bubblesort(list)\n",
    "print(list)"
   ]
  },
  {
   "cell_type": "markdown",
   "metadata": {},
   "source": [
    "B) MERGE SORT\n",
    "\n",
    "Merge sort first divides the array into equal halves and then combines them in a sorted manner."
   ]
  },
  {
   "cell_type": "code",
   "execution_count": 47,
   "metadata": {},
   "outputs": [],
   "source": [
    "def merge_sort(unsorted_list):\n",
    "    if len(unsorted_list) <= 1:\n",
    "        return unsorted_list\n",
    "    # Find the middle point and devide it\n",
    "    middle = len(unsorted_list) // 2\n",
    "    left_list = unsorted_list[:middle]\n",
    "    right_list = unsorted_list[middle:]\n",
    "\n",
    "    left_list = merge_sort(left_list)\n",
    "    right_list = merge_sort(right_list)\n",
    "    return merge(left_list, right_list)\n",
    "\n",
    "\n",
    "# Merge the sorted halves\n",
    "def merge(left_half,right_half):\n",
    "    res = []\n",
    "    while len(left_half) != 0 and len(right_half) != 0:\n",
    "        if left_half[0] < right_half[0]:\n",
    "            res.append(left_half[0])\n",
    "            left_half.remove(left_half[0])\n",
    "        else:\n",
    "            res.append(right_half[0])\n",
    "            right_half.remove(right_half[0])\n",
    "    if len(left_half) == 0:\n",
    "        res = res + right_half\n",
    "    else:\n",
    "        res = res + left_half\n",
    "    return res"
   ]
  },
  {
   "cell_type": "code",
   "execution_count": 48,
   "metadata": {},
   "outputs": [
    {
     "name": "stdout",
     "output_type": "stream",
     "text": [
      "[11, 12, 22, 25, 34, 64, 90]\n"
     ]
    }
   ],
   "source": [
    "unsorted_list = [64, 34, 25, 12, 22, 11, 90]\n",
    "print(merge_sort(unsorted_list))"
   ]
  },
  {
   "cell_type": "markdown",
   "metadata": {},
   "source": [
    "C) INSERTION SORT\n",
    "\n",
    "Insertion sort involves finding the right place for a given element in a sorted list.\n",
    "\n",
    "So in beginning we compare the first two elements and sort them by comparing them.\n",
    "\n",
    "Then we pick the third element and find its proper position among the previous two sorted elements."
   ]
  },
  {
   "cell_type": "code",
   "execution_count": 49,
   "metadata": {},
   "outputs": [],
   "source": [
    "def insertion_sort(InputList):\n",
    "    for i in range(1, len(InputList)):\n",
    "        j = i-1\n",
    "        nxt_element = InputList[i]\n",
    "        \n",
    "        # Compare the current element with next one\n",
    "        while (InputList[j] > nxt_element) and (j >= 0):\n",
    "            InputList[j+1] = InputList[j]\n",
    "            j=j-1\n",
    "        InputList[j+1] = nxt_element"
   ]
  },
  {
   "cell_type": "code",
   "execution_count": 50,
   "metadata": {},
   "outputs": [
    {
     "name": "stdout",
     "output_type": "stream",
     "text": [
      "[2, 11, 19, 27, 30, 31, 45, 121]\n"
     ]
    }
   ],
   "source": [
    "l = [19,2,31,45,30,11,121,27]\n",
    "insertion_sort(l)\n",
    "print(l)"
   ]
  },
  {
   "cell_type": "markdown",
   "metadata": {},
   "source": [
    "D) SHELL SORT\n",
    "\n",
    "Shell Sort involves sorting elements which are away from each other.\n",
    "\n",
    "We sort a large sublist of a given list and go on reducing the size of the list until all elements are sorted.\n",
    "\n",
    "The below program finds the gap by equating it to half of the length of the list size and then starts sorting all elements in it.\n",
    "\n",
    "Then we keep resetting the gap until the entire list is sorted."
   ]
  },
  {
   "cell_type": "code",
   "execution_count": 51,
   "metadata": {},
   "outputs": [],
   "source": [
    "def shellSort(input_list):\n",
    "    \n",
    "    gap = len(input_list) // 2\n",
    "    while gap > 0:\n",
    "\n",
    "        for i in range(gap, len(input_list)):\n",
    "            temp = input_list[i]\n",
    "            j = i\n",
    "\n",
    "            # Sort the sub list for this gap\n",
    "            while j >= gap and input_list[j - gap] > temp:\n",
    "                input_list[j] = input_list[j - gap]\n",
    "                j = j-gap\n",
    "            input_list[j] = temp\n",
    "\n",
    "        # Reduce the gap for the next element\n",
    "        gap = gap//2"
   ]
  },
  {
   "cell_type": "code",
   "execution_count": 52,
   "metadata": {},
   "outputs": [
    {
     "name": "stdout",
     "output_type": "stream",
     "text": [
      "[2, 11, 19, 27, 30, 31, 45, 121]\n"
     ]
    }
   ],
   "source": [
    "l = [19,2,31,45,30,11,121,27]\n",
    "\n",
    "shellSort(l)\n",
    "print(l)"
   ]
  },
  {
   "cell_type": "markdown",
   "metadata": {},
   "source": [
    "E) SELECTION SORT\n",
    "\n",
    "In selection sort we start by finding the minimum value in a given list and move it to a sorted list.\n",
    "\n",
    "Then we repeat the process for each of the remaining elements in the unsorted list.\n",
    "\n",
    "The next element entering the sorted list is compared with the existing elements and placed at its correct position.\n",
    "\n",
    "So at the end all the elements from the unsorted list are sorted."
   ]
  },
  {
   "cell_type": "code",
   "execution_count": 53,
   "metadata": {},
   "outputs": [],
   "source": [
    "def selection_sort(input_list):\n",
    "\n",
    "    for idx in range(len(input_list)):\n",
    "\n",
    "        min_idx = idx\n",
    "        for j in range( idx +1, len(input_list)):\n",
    "            if input_list[min_idx] > input_list[j]:\n",
    "                min_idx = j\n",
    "\n",
    "        # Swap the minimum value with the compared value\n",
    "        input_list[idx], input_list[min_idx] = input_list[min_idx], input_list[idx]\n"
   ]
  },
  {
   "cell_type": "code",
   "execution_count": 54,
   "metadata": {},
   "outputs": [
    {
     "name": "stdout",
     "output_type": "stream",
     "text": [
      "[2, 11, 19, 27, 30, 31, 45, 121]\n"
     ]
    }
   ],
   "source": [
    "l = [19,2,31,45,30,11,121,27]\n",
    "selection_sort(l)\n",
    "print(l)"
   ]
  },
  {
   "cell_type": "markdown",
   "metadata": {},
   "source": [
    "6) SEARCHING ALGORITHMS\n",
    "\n",
    "a) LINEAR SEARCH\n",
    "\n",
    "The simplest appraoch is to go across every element in the data structure and match it with the value you are searching for. This is known as Linear search."
   ]
  },
  {
   "cell_type": "code",
   "execution_count": 41,
   "metadata": {},
   "outputs": [],
   "source": [
    "def linear_search(values, search_for):\n",
    "    search_at = 0\n",
    "    search_res = False\n",
    "\n",
    "    # Match the value with each data element\t\n",
    "    while search_at < len(values) and search_res is False:\n",
    "        if values[search_at] == search_for:\n",
    "            search_res = True\n",
    "        else:\n",
    "            search_at = search_at + 1\n",
    "\n",
    "    return search_res"
   ]
  },
  {
   "cell_type": "code",
   "execution_count": 42,
   "metadata": {},
   "outputs": [
    {
     "name": "stdout",
     "output_type": "stream",
     "text": [
      "True\n",
      "False\n"
     ]
    }
   ],
   "source": [
    "l = [64, 34, 25, 12, 22, 11, 90]\n",
    "print(linear_search(l, 12))\n",
    "print(linear_search(l, 91))"
   ]
  },
  {
   "cell_type": "markdown",
   "metadata": {},
   "source": [
    "b) INTERPOLATION SEARCH\n",
    "\n",
    "This search algorithm works on the probing position of the required value. For this algorithm to work properly, the data collection should be in a sorted form and equally distributed. Initially, the probe position is the position of the middle most item of the collection.If a match occurs, then the index of the item is returned. If the middle item is greater than the item, then the probe position is again calculated in the sub-array to the right of the middle item. Otherwise, the item is searched in the subarray to the left of the middle item. This process continues on the sub-array as well until the size of subarray reduces to zero."
   ]
  },
  {
   "cell_type": "code",
   "execution_count": 44,
   "metadata": {},
   "outputs": [],
   "source": [
    "def intpolsearch(values,x ):\n",
    "    idx0 = 0\n",
    "    idxn = (len(values) - 1)\n",
    "\n",
    "    while idx0 <= idxn and x >= values[idx0] and x <= values[idxn]:\n",
    "\n",
    "        # Find the mid point\n",
    "        mid = idx0 +\\\n",
    "               int(((float(idxn - idx0)/( values[idxn] - values[idx0]))\n",
    "                    * ( x - values[idx0])))\n",
    "\n",
    "        # Compare the value at mid point with search value \n",
    "        if values[mid] == x:\n",
    "            return \"Found \"+str(x)+\" at index \"+str(mid)\n",
    "\n",
    "        if values[mid] < x:\n",
    "            idx0 = mid + 1\n",
    "    \n",
    "    return \"Searched element not in the list\""
   ]
  },
  {
   "cell_type": "code",
   "execution_count": 45,
   "metadata": {},
   "outputs": [
    {
     "name": "stdout",
     "output_type": "stream",
     "text": [
      "Found 2 at index 0\n"
     ]
    }
   ],
   "source": [
    "l = [2, 6, 11, 19, 27, 31, 45, 121]\n",
    "print(intpolsearch(l, 2))"
   ]
  },
  {
   "cell_type": "markdown",
   "metadata": {},
   "source": [
    "7) GRAPH ALGORITHMS\n",
    "\n",
    "All these applications have a common challenge of traversing the graph using their edges and ensuring that all nodes of the graphs are visited. There are two common established methods to do this traversal which is described below."
   ]
  },
  {
   "cell_type": "markdown",
   "metadata": {},
   "source": [
    "a) Depth First Traversal :\n",
    "    \n",
    "Also called depth first search (DFS),this algorithm traverses a graph in a depth ward motion and uses a stack to remember to get the next vertex to start a search, when a dead end occurs in any iteration."
   ]
  },
  {
   "cell_type": "code",
   "execution_count": 59,
   "metadata": {},
   "outputs": [],
   "source": [
    "class graph:\n",
    "\n",
    "    def __init__(self,gdict=None):\n",
    "        if gdict is None:\n",
    "            gdict = {}\n",
    "        self.gdict = gdict\n",
    "        \n",
    "        \n",
    "# Check for the visisted and unvisited nodes\n",
    "def dfs(graph, start, visited = None):\n",
    "    if visited is None:\n",
    "        visited = set()\n",
    "    visited.add(start)\n",
    "#     print(start)\n",
    "    for next in graph[start] - visited:\n",
    "        dfs(graph, next, visited)\n",
    "    return visited"
   ]
  },
  {
   "cell_type": "code",
   "execution_count": 60,
   "metadata": {},
   "outputs": [
    {
     "data": {
      "text/plain": [
       "{'a', 'b', 'c', 'd', 'e'}"
      ]
     },
     "execution_count": 60,
     "metadata": {},
     "output_type": "execute_result"
    }
   ],
   "source": [
    "gdict = { \"a\" : set([\"b\",\"c\"]),\n",
    "                \"b\" : set([\"a\", \"d\"]),\n",
    "                \"c\" : set([\"a\", \"d\"]),\n",
    "                \"d\" : set([\"e\"]),\n",
    "                \"e\" : set([\"a\"])\n",
    "                }\n",
    "\n",
    "# fn call\n",
    "dfs(gdict, 'a')"
   ]
  },
  {
   "cell_type": "markdown",
   "metadata": {},
   "source": [
    "b) Breadth First Traversal\n",
    "\n",
    "Also called breadth first search (BFS),this algorithm traverses a graph breadth ward motion and uses a queue to remember to get the next vertex to start a search, when a dead end occurs in any iteration. Please visit this link in our website to understand the details of BFS steps for a graph.\n",
    "\n",
    "We implement BFS for a graph in python using queue data structure discussed earlier. When we keep visiting the adjacent unvisited nodes and keep adding it to the queue. Then we start dequeue only the node which is left with no unvisited nodes. We stop the program when there is no next adjacent node to be visited."
   ]
  },
  {
   "cell_type": "code",
   "execution_count": 61,
   "metadata": {},
   "outputs": [],
   "source": [
    "import collections\n",
    "class graph:\n",
    "    def __init__(self,gdict=None):\n",
    "        if gdict is None:\n",
    "            gdict = {}\n",
    "        self.gdict = gdict\n",
    "\n",
    "        \n",
    "def bfs(graph, startnode):\n",
    "    \"\"\"Track the visited and unvisited nodes using queue\"\"\"\n",
    "    seen, queue = set([startnode]), collections.deque([startnode])\n",
    "    while queue:\n",
    "        vertex = queue.popleft()\n",
    "        marked(vertex)\n",
    "        for node in graph[vertex]:\n",
    "            if node not in seen:\n",
    "                seen.add(node)\n",
    "                queue.append(node)\n",
    "\n",
    "def marked(n):\n",
    "    print(n)"
   ]
  },
  {
   "cell_type": "code",
   "execution_count": 62,
   "metadata": {},
   "outputs": [
    {
     "name": "stdout",
     "output_type": "stream",
     "text": [
      "a\n",
      "c\n",
      "b\n",
      "d\n",
      "e\n"
     ]
    }
   ],
   "source": [
    "# The graph dictionary\n",
    "gdict = { \"a\" : set([\"b\",\"c\"]),\n",
    "                \"b\" : set([\"a\", \"d\"]),\n",
    "                \"c\" : set([\"a\", \"d\"]),\n",
    "                \"d\" : set([\"e\"]),\n",
    "                \"e\" : set([\"a\"])\n",
    "                }\n",
    "\n",
    "bfs(gdict, \"a\")"
   ]
  },
  {
   "cell_type": "markdown",
   "metadata": {},
   "source": [
    "ALGORITHM ANALYSIS\n",
    "\n",
    "https://www.tutorialspoint.com/python/python_big_o_notation.htm\n",
    "    \n",
    "Following is a list of some common asymptotic notations −\n",
    "\n",
    "constant\t−\tΟ(1)\n",
    "logarithmic\t−\tΟ(log n)\n",
    "linear\t−\tΟ(n)\n",
    "n log n\t−\tΟ(n log n)\n",
    "quadratic\t−\tΟ(n2)\n",
    "cubic\t−\tΟ(n3)\n",
    "polynomial\t−\tnΟ(1)\n",
    "exponential\t−\t2Ο(n)\n",
    "\n",
    "ALGORITHM CLASSES\n",
    "\n",
    "https://www.tutorialspoint.com/python/python_algorithm_classes.htm\n",
    "    \n",
    "AMORTIZED ANALYSIS\n",
    "\n",
    "https://www.tutorialspoint.com/python/python_amortized_analysis.htm\n",
    "    \n",
    "https://www.tutorialspoint.com/python/python_algorithm_justifications.htm"
   ]
  },
  {
   "cell_type": "code",
   "execution_count": null,
   "metadata": {},
   "outputs": [],
   "source": []
  }
 ],
 "metadata": {
  "kernelspec": {
   "display_name": "Python 3",
   "language": "python",
   "name": "python3"
  },
  "language_info": {
   "codemirror_mode": {
    "name": "ipython",
    "version": 3
   },
   "file_extension": ".py",
   "mimetype": "text/x-python",
   "name": "python",
   "nbconvert_exporter": "python",
   "pygments_lexer": "ipython3",
   "version": "3.6.0"
  }
 },
 "nbformat": 4,
 "nbformat_minor": 2
}
