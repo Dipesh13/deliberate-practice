{
 "cells": [
  {
   "cell_type": "code",
   "execution_count": 1,
   "metadata": {},
   "outputs": [],
   "source": [
    "# built in \n",
    "# functions\n",
    "# classes\n",
    "# modules\n",
    "# decorators\n",
    "# static method\n",
    "# class method\n",
    "# properties"
   ]
  },
  {
   "cell_type": "markdown",
   "metadata": {},
   "source": [
    "## Advance Flow control\n",
    "\n",
    "else clause on loops\n",
    "\n",
    "else clause on try block\n",
    "\n",
    "emulating switch statments\n",
    "\n",
    "dispatching function call on types"
   ]
  },
  {
   "cell_type": "markdown",
   "metadata": {},
   "source": [
    "#### 1) Loop - else clause"
   ]
  },
  {
   "cell_type": "code",
   "execution_count": 3,
   "metadata": {},
   "outputs": [],
   "source": [
    "# while condition:\n",
    "#     \"do something\"\n",
    "# else:\n",
    "#     \"do something else\"\n",
    "    \n",
    "# else code block is only executed if or when the condition is false. "
   ]
  },
  {
   "cell_type": "code",
   "execution_count": 4,
   "metadata": {},
   "outputs": [],
   "source": [
    "# while condition:\n",
    "#     flag = \"do something\"\n",
    "#     if flag:\n",
    "#         break\n",
    "# else:\n",
    "#     \"do something else\""
   ]
  },
  {
   "cell_type": "code",
   "execution_count": 16,
   "metadata": {},
   "outputs": [],
   "source": [
    "# use case evaluate stack programs\n",
    "# eg) evaluate 5+2\n",
    "\n",
    "# stack\n",
    "# 5\n",
    "# 2\n",
    "# +\n",
    "\n",
    "# collect operands until you reach an operator\n",
    "\n",
    "# eg) (5+2)*3\n",
    "# stack\n",
    "# 5\n",
    "# 2\n",
    "# +\n",
    "# 3\n",
    "# *\n",
    "\n",
    "# search till + then replace + by 5+2\n",
    "# search till * then replace it by 7*3\n",
    "\n",
    "\n",
    "def is_comment(item):\n",
    "    return isinstance(item,str) and item.startswith(\"#\")\n",
    "\n",
    "def execute(program):\n",
    "    while program:\n",
    "        item = program.pop()\n",
    "        if not is_comment(item):\n",
    "            program.append(item)\n",
    "            break\n",
    "    else:\n",
    "        print(\"empty program\") # search fail handling the most wide spread use case of loop else clause\n",
    "        return\n",
    "    \n",
    "#     evaluate the program\n",
    "    pending = []\n",
    "    while program:\n",
    "        item = program.pop()\n",
    "        if callable(item):\n",
    "            try:\n",
    "                result = item(*pending)\n",
    "            except Exception as e:\n",
    "                print(str(e))\n",
    "                break\n",
    "            program.append(result)\n",
    "            pending.clear()\n",
    "        else:\n",
    "            pending.append(item)\n",
    "    else:\n",
    "        print(\"result : \",pending)\n",
    "    \n",
    "    \n",
    "import operator\n",
    "program = list(reversed((\n",
    "    5,\n",
    "    2,\n",
    "    operator.add,\n",
    "    3,\n",
    "    operator.mul\n",
    ")))"
   ]
  },
  {
   "cell_type": "code",
   "execution_count": 17,
   "metadata": {},
   "outputs": [
    {
     "name": "stdout",
     "output_type": "stream",
     "text": [
      "result :  [21]\n"
     ]
    }
   ],
   "source": [
    "execute(program)"
   ]
  },
  {
   "cell_type": "markdown",
   "metadata": {},
   "source": [
    "#### 2) for else construct "
   ]
  },
  {
   "cell_type": "code",
   "execution_count": 19,
   "metadata": {},
   "outputs": [],
   "source": [
    "# left"
   ]
  },
  {
   "cell_type": "markdown",
   "metadata": {},
   "source": [
    "## Object internals and custom attributes"
   ]
  },
  {
   "cell_type": "code",
   "execution_count": 21,
   "metadata": {},
   "outputs": [],
   "source": [
    "# objects are internally represented in python using __dict__\n",
    "# manipulate __dict__ to create custom attributes\n",
    "# __getattr__()\n",
    "# __getattribute__()\n",
    "# __setattr__()\n",
    "# __delattr__()\n",
    "\n",
    "# save spaces using __slots__"
   ]
  },
  {
   "cell_type": "code",
   "execution_count": 25,
   "metadata": {},
   "outputs": [],
   "source": [
    "# how are python objects represented?\n",
    "\n",
    "class Vector:\n",
    "    \n",
    "    def __init__(self,x,y):\n",
    "        self.x = x\n",
    "        self.y = y\n",
    "        \n",
    "    def __repr__(self):\n",
    "        return(\"{} ({} , {})\".format(self.__class__.name,self.x,self.y))"
   ]
  },
  {
   "cell_type": "code",
   "execution_count": 26,
   "metadata": {},
   "outputs": [],
   "source": [
    "v = Vector(5,3)"
   ]
  },
  {
   "cell_type": "code",
   "execution_count": 27,
   "metadata": {},
   "outputs": [
    {
     "ename": "AttributeError",
     "evalue": "type object 'Vector' has no attribute 'name'",
     "output_type": "error",
     "traceback": [
      "\u001b[0;31m---------------------------------------------------------------------------\u001b[0m",
      "\u001b[0;31mAttributeError\u001b[0m                            Traceback (most recent call last)",
      "\u001b[0;32m/usr/local/lib/python3.4/dist-packages/IPython/core/formatters.py\u001b[0m in \u001b[0;36m__call__\u001b[0;34m(self, obj)\u001b[0m\n\u001b[1;32m    700\u001b[0m                 \u001b[0mtype_pprinters\u001b[0m\u001b[0;34m=\u001b[0m\u001b[0mself\u001b[0m\u001b[0;34m.\u001b[0m\u001b[0mtype_printers\u001b[0m\u001b[0;34m,\u001b[0m\u001b[0;34m\u001b[0m\u001b[0m\n\u001b[1;32m    701\u001b[0m                 deferred_pprinters=self.deferred_printers)\n\u001b[0;32m--> 702\u001b[0;31m             \u001b[0mprinter\u001b[0m\u001b[0;34m.\u001b[0m\u001b[0mpretty\u001b[0m\u001b[0;34m(\u001b[0m\u001b[0mobj\u001b[0m\u001b[0;34m)\u001b[0m\u001b[0;34m\u001b[0m\u001b[0m\n\u001b[0m\u001b[1;32m    703\u001b[0m             \u001b[0mprinter\u001b[0m\u001b[0;34m.\u001b[0m\u001b[0mflush\u001b[0m\u001b[0;34m(\u001b[0m\u001b[0;34m)\u001b[0m\u001b[0;34m\u001b[0m\u001b[0m\n\u001b[1;32m    704\u001b[0m             \u001b[0;32mreturn\u001b[0m \u001b[0mstream\u001b[0m\u001b[0;34m.\u001b[0m\u001b[0mgetvalue\u001b[0m\u001b[0;34m(\u001b[0m\u001b[0;34m)\u001b[0m\u001b[0;34m\u001b[0m\u001b[0m\n",
      "\u001b[0;32m/usr/local/lib/python3.4/dist-packages/IPython/lib/pretty.py\u001b[0m in \u001b[0;36mpretty\u001b[0;34m(self, obj)\u001b[0m\n\u001b[1;32m    398\u001b[0m                         \u001b[0;32mif\u001b[0m \u001b[0mcls\u001b[0m \u001b[0;32mis\u001b[0m \u001b[0;32mnot\u001b[0m \u001b[0mobject\u001b[0m\u001b[0;31m \u001b[0m\u001b[0;31m\\\u001b[0m\u001b[0;34m\u001b[0m\u001b[0m\n\u001b[1;32m    399\u001b[0m                                 \u001b[0;32mand\u001b[0m \u001b[0mcallable\u001b[0m\u001b[0;34m(\u001b[0m\u001b[0mcls\u001b[0m\u001b[0;34m.\u001b[0m\u001b[0m__dict__\u001b[0m\u001b[0;34m.\u001b[0m\u001b[0mget\u001b[0m\u001b[0;34m(\u001b[0m\u001b[0;34m'__repr__'\u001b[0m\u001b[0;34m)\u001b[0m\u001b[0;34m)\u001b[0m\u001b[0;34m:\u001b[0m\u001b[0;34m\u001b[0m\u001b[0m\n\u001b[0;32m--> 400\u001b[0;31m                             \u001b[0;32mreturn\u001b[0m \u001b[0m_repr_pprint\u001b[0m\u001b[0;34m(\u001b[0m\u001b[0mobj\u001b[0m\u001b[0;34m,\u001b[0m \u001b[0mself\u001b[0m\u001b[0;34m,\u001b[0m \u001b[0mcycle\u001b[0m\u001b[0;34m)\u001b[0m\u001b[0;34m\u001b[0m\u001b[0m\n\u001b[0m\u001b[1;32m    401\u001b[0m \u001b[0;34m\u001b[0m\u001b[0m\n\u001b[1;32m    402\u001b[0m             \u001b[0;32mreturn\u001b[0m \u001b[0m_default_pprint\u001b[0m\u001b[0;34m(\u001b[0m\u001b[0mobj\u001b[0m\u001b[0;34m,\u001b[0m \u001b[0mself\u001b[0m\u001b[0;34m,\u001b[0m \u001b[0mcycle\u001b[0m\u001b[0;34m)\u001b[0m\u001b[0;34m\u001b[0m\u001b[0m\n",
      "\u001b[0;32m/usr/local/lib/python3.4/dist-packages/IPython/lib/pretty.py\u001b[0m in \u001b[0;36m_repr_pprint\u001b[0;34m(obj, p, cycle)\u001b[0m\n\u001b[1;32m    693\u001b[0m     \u001b[0;34m\"\"\"A pprint that just redirects to the normal repr function.\"\"\"\u001b[0m\u001b[0;34m\u001b[0m\u001b[0m\n\u001b[1;32m    694\u001b[0m     \u001b[0;31m# Find newlines and replace them with p.break_()\u001b[0m\u001b[0;34m\u001b[0m\u001b[0;34m\u001b[0m\u001b[0m\n\u001b[0;32m--> 695\u001b[0;31m     \u001b[0moutput\u001b[0m \u001b[0;34m=\u001b[0m \u001b[0mrepr\u001b[0m\u001b[0;34m(\u001b[0m\u001b[0mobj\u001b[0m\u001b[0;34m)\u001b[0m\u001b[0;34m\u001b[0m\u001b[0m\n\u001b[0m\u001b[1;32m    696\u001b[0m     \u001b[0;32mfor\u001b[0m \u001b[0midx\u001b[0m\u001b[0;34m,\u001b[0m\u001b[0moutput_line\u001b[0m \u001b[0;32min\u001b[0m \u001b[0menumerate\u001b[0m\u001b[0;34m(\u001b[0m\u001b[0moutput\u001b[0m\u001b[0;34m.\u001b[0m\u001b[0msplitlines\u001b[0m\u001b[0;34m(\u001b[0m\u001b[0;34m)\u001b[0m\u001b[0;34m)\u001b[0m\u001b[0;34m:\u001b[0m\u001b[0;34m\u001b[0m\u001b[0m\n\u001b[1;32m    697\u001b[0m         \u001b[0;32mif\u001b[0m \u001b[0midx\u001b[0m\u001b[0;34m:\u001b[0m\u001b[0;34m\u001b[0m\u001b[0m\n",
      "\u001b[0;32m<ipython-input-25-1c5a2f7fdc1f>\u001b[0m in \u001b[0;36m__repr__\u001b[0;34m(self)\u001b[0m\n\u001b[1;32m      8\u001b[0m \u001b[0;34m\u001b[0m\u001b[0m\n\u001b[1;32m      9\u001b[0m     \u001b[0;32mdef\u001b[0m \u001b[0m__repr__\u001b[0m\u001b[0;34m(\u001b[0m\u001b[0mself\u001b[0m\u001b[0;34m)\u001b[0m\u001b[0;34m:\u001b[0m\u001b[0;34m\u001b[0m\u001b[0m\n\u001b[0;32m---> 10\u001b[0;31m         \u001b[0;32mreturn\u001b[0m\u001b[0;34m(\u001b[0m\u001b[0;34m\"{} ({} , {})\"\u001b[0m\u001b[0;34m.\u001b[0m\u001b[0mformat\u001b[0m\u001b[0;34m(\u001b[0m\u001b[0mself\u001b[0m\u001b[0;34m.\u001b[0m\u001b[0m__class__\u001b[0m\u001b[0;34m.\u001b[0m\u001b[0mname\u001b[0m\u001b[0;34m,\u001b[0m\u001b[0mself\u001b[0m\u001b[0;34m.\u001b[0m\u001b[0mx\u001b[0m\u001b[0;34m,\u001b[0m\u001b[0mself\u001b[0m\u001b[0;34m.\u001b[0m\u001b[0my\u001b[0m\u001b[0;34m)\u001b[0m\u001b[0;34m)\u001b[0m\u001b[0;34m\u001b[0m\u001b[0m\n\u001b[0m",
      "\u001b[0;31mAttributeError\u001b[0m: type object 'Vector' has no attribute 'name'"
     ]
    }
   ],
   "source": [
    "v"
   ]
  },
  {
   "cell_type": "code",
   "execution_count": 28,
   "metadata": {},
   "outputs": [
    {
     "data": {
      "text/plain": [
       "['__class__',\n",
       " '__delattr__',\n",
       " '__dict__',\n",
       " '__dir__',\n",
       " '__doc__',\n",
       " '__eq__',\n",
       " '__format__',\n",
       " '__ge__',\n",
       " '__getattribute__',\n",
       " '__gt__',\n",
       " '__hash__',\n",
       " '__init__',\n",
       " '__le__',\n",
       " '__lt__',\n",
       " '__module__',\n",
       " '__ne__',\n",
       " '__new__',\n",
       " '__reduce__',\n",
       " '__reduce_ex__',\n",
       " '__repr__',\n",
       " '__setattr__',\n",
       " '__sizeof__',\n",
       " '__str__',\n",
       " '__subclasshook__',\n",
       " '__weakref__',\n",
       " 'x',\n",
       " 'y']"
      ]
     },
     "execution_count": 28,
     "metadata": {},
     "output_type": "execute_result"
    }
   ],
   "source": [
    "dir(v)"
   ]
  },
  {
   "cell_type": "code",
   "execution_count": 29,
   "metadata": {},
   "outputs": [
    {
     "data": {
      "text/plain": [
       "{'x': 5, 'y': 3}"
      ]
     },
     "execution_count": 29,
     "metadata": {},
     "output_type": "execute_result"
    }
   ],
   "source": [
    "v.__dict__  # contains names of our object attributes as keys"
   ]
  },
  {
   "cell_type": "code",
   "execution_count": 30,
   "metadata": {},
   "outputs": [
    {
     "data": {
      "text/plain": [
       "5"
      ]
     },
     "execution_count": 30,
     "metadata": {},
     "output_type": "execute_result"
    }
   ],
   "source": [
    "v.__dict__['x']"
   ]
  },
  {
   "cell_type": "code",
   "execution_count": 31,
   "metadata": {},
   "outputs": [],
   "source": [
    "v.__dict__['x'] = 17"
   ]
  },
  {
   "cell_type": "code",
   "execution_count": 32,
   "metadata": {},
   "outputs": [
    {
     "data": {
      "text/plain": [
       "17"
      ]
     },
     "execution_count": 32,
     "metadata": {},
     "output_type": "execute_result"
    }
   ],
   "source": [
    "v.__dict__['x']"
   ]
  },
  {
   "cell_type": "code",
   "execution_count": 33,
   "metadata": {},
   "outputs": [],
   "source": [
    "del v.__dict__['x']"
   ]
  },
  {
   "cell_type": "code",
   "execution_count": 34,
   "metadata": {},
   "outputs": [
    {
     "ename": "KeyError",
     "evalue": "'x'",
     "output_type": "error",
     "traceback": [
      "\u001b[0;31m---------------------------------------------------------------------------\u001b[0m",
      "\u001b[0;31mKeyError\u001b[0m                                  Traceback (most recent call last)",
      "\u001b[0;32m<ipython-input-34-f4bec3489037>\u001b[0m in \u001b[0;36m<module>\u001b[0;34m()\u001b[0m\n\u001b[0;32m----> 1\u001b[0;31m \u001b[0mv\u001b[0m\u001b[0;34m.\u001b[0m\u001b[0m__dict__\u001b[0m\u001b[0;34m[\u001b[0m\u001b[0;34m'x'\u001b[0m\u001b[0;34m]\u001b[0m\u001b[0;34m\u001b[0m\u001b[0m\n\u001b[0m",
      "\u001b[0;31mKeyError\u001b[0m: 'x'"
     ]
    }
   ],
   "source": [
    "v.__dict__['x']"
   ]
  },
  {
   "cell_type": "code",
   "execution_count": 35,
   "metadata": {},
   "outputs": [
    {
     "data": {
      "text/plain": [
       "True"
      ]
     },
     "execution_count": 35,
     "metadata": {},
     "output_type": "execute_result"
    }
   ],
   "source": [
    "\"y\" in v.__dict__"
   ]
  },
  {
   "cell_type": "code",
   "execution_count": 36,
   "metadata": {},
   "outputs": [],
   "source": [
    "v.__dict__['z'] = 100"
   ]
  },
  {
   "cell_type": "code",
   "execution_count": 37,
   "metadata": {},
   "outputs": [
    {
     "data": {
      "text/plain": [
       "{'y': 3, 'z': 100}"
      ]
     },
     "execution_count": 37,
     "metadata": {},
     "output_type": "execute_result"
    }
   ],
   "source": [
    "v.__dict__"
   ]
  },
  {
   "cell_type": "code",
   "execution_count": 39,
   "metadata": {},
   "outputs": [
    {
     "data": {
      "text/plain": [
       "3"
      ]
     },
     "execution_count": 39,
     "metadata": {},
     "output_type": "execute_result"
    }
   ],
   "source": [
    "# not pythonic\n",
    "\n",
    "#  use built in function getattr(), hasattr() , delattr() , setattr()\n",
    "\n",
    "getattr(v,\"y\")"
   ]
  },
  {
   "cell_type": "code",
   "execution_count": 40,
   "metadata": {},
   "outputs": [
    {
     "data": {
      "text/plain": [
       "False"
      ]
     },
     "execution_count": 40,
     "metadata": {},
     "output_type": "execute_result"
    }
   ],
   "source": [
    "hasattr(v,\"x\")"
   ]
  },
  {
   "cell_type": "code",
   "execution_count": 41,
   "metadata": {},
   "outputs": [],
   "source": [
    "delattr(v,\"z\")"
   ]
  },
  {
   "cell_type": "code",
   "execution_count": 42,
   "metadata": {},
   "outputs": [],
   "source": [
    "setattr(v,\"x\",9)"
   ]
  },
  {
   "cell_type": "code",
   "execution_count": 43,
   "metadata": {},
   "outputs": [
    {
     "data": {
      "text/plain": [
       "9"
      ]
     },
     "execution_count": 43,
     "metadata": {},
     "output_type": "execute_result"
    }
   ],
   "source": [
    "v.x"
   ]
  },
  {
   "cell_type": "code",
   "execution_count": 46,
   "metadata": {},
   "outputs": [],
   "source": [
    "\n",
    "class Vector:\n",
    "    \n",
    "    def __init__(self,**coords):\n",
    "        self.__dict__.update(coords)\n",
    "        \n",
    "    def __repr__(self):\n",
    "        return(\"{} ({} , {})\".format(self.__class__.name,\n",
    "                                    \", \".join(\"{k} = {v}\".format(\n",
    "                                    k=k,\n",
    "                                    v = self.__dict__[k])\n",
    "                                    for k in sorted(self.__dict__.keys()\n",
    "                                    ))))"
   ]
  },
  {
   "cell_type": "code",
   "execution_count": 47,
   "metadata": {},
   "outputs": [],
   "source": [
    "v = Vector(p=3,q=7)"
   ]
  },
  {
   "cell_type": "code",
   "execution_count": 49,
   "metadata": {},
   "outputs": [
    {
     "data": {
      "text/plain": [
       "['__class__',\n",
       " '__delattr__',\n",
       " '__dict__',\n",
       " '__dir__',\n",
       " '__doc__',\n",
       " '__eq__',\n",
       " '__format__',\n",
       " '__ge__',\n",
       " '__getattribute__',\n",
       " '__gt__',\n",
       " '__hash__',\n",
       " '__init__',\n",
       " '__le__',\n",
       " '__lt__',\n",
       " '__module__',\n",
       " '__ne__',\n",
       " '__new__',\n",
       " '__reduce__',\n",
       " '__reduce_ex__',\n",
       " '__repr__',\n",
       " '__setattr__',\n",
       " '__sizeof__',\n",
       " '__str__',\n",
       " '__subclasshook__',\n",
       " '__weakref__',\n",
       " 'p',\n",
       " 'q']"
      ]
     },
     "execution_count": 49,
     "metadata": {},
     "output_type": "execute_result"
    }
   ],
   "source": [
    "dir(v) # our coordinates are now public attributes of vector object"
   ]
  },
  {
   "cell_type": "code",
   "execution_count": 50,
   "metadata": {},
   "outputs": [],
   "source": [
    "# sol1 ; use _ to signal that they are implementation detail, then provide property with only getter to \n",
    "# prevent modification.\n",
    "\n",
    "# in this case we don't know the attribute names in advance.\n",
    "#  SOL ; use __getattr__"
   ]
  },
  {
   "cell_type": "code",
   "execution_count": 51,
   "metadata": {},
   "outputs": [],
   "source": [
    "class Vector:\n",
    "    \n",
    "    def __init__(self,**coords):\n",
    "        private_coords = {\"_\"+ k:v for k,v in coords.items()}\n",
    "        self.__dict__.update(private_coords)\n",
    "        \n",
    "    def __repr__(self):\n",
    "        return(\"{} ({} , {})\".format(self.__class__.name,\n",
    "                                    \", \".join(\"{k} = {v}\".format(\n",
    "                                    k=k[1:],\n",
    "                                    v = self.__dict__[k])\n",
    "                                    for k in sorted(self.__dict__.keys()\n",
    "                                    ))))"
   ]
  },
  {
   "cell_type": "code",
   "execution_count": 52,
   "metadata": {},
   "outputs": [],
   "source": [
    "v = Vector(p=3,q=7)"
   ]
  },
  {
   "cell_type": "code",
   "execution_count": 54,
   "metadata": {},
   "outputs": [
    {
     "data": {
      "text/plain": [
       "['__class__',\n",
       " '__delattr__',\n",
       " '__dict__',\n",
       " '__dir__',\n",
       " '__doc__',\n",
       " '__eq__',\n",
       " '__format__',\n",
       " '__ge__',\n",
       " '__getattribute__',\n",
       " '__gt__',\n",
       " '__hash__',\n",
       " '__init__',\n",
       " '__le__',\n",
       " '__lt__',\n",
       " '__module__',\n",
       " '__ne__',\n",
       " '__new__',\n",
       " '__reduce__',\n",
       " '__reduce_ex__',\n",
       " '__repr__',\n",
       " '__setattr__',\n",
       " '__sizeof__',\n",
       " '__str__',\n",
       " '__subclasshook__',\n",
       " '__weakref__',\n",
       " '_p',\n",
       " '_q']"
      ]
     },
     "execution_count": 54,
     "metadata": {},
     "output_type": "execute_result"
    }
   ],
   "source": [
    "dir(v)"
   ]
  },
  {
   "cell_type": "code",
   "execution_count": 55,
   "metadata": {},
   "outputs": [
    {
     "ename": "AttributeError",
     "evalue": "'Vector' object has no attribute 'p'",
     "output_type": "error",
     "traceback": [
      "\u001b[0;31m---------------------------------------------------------------------------\u001b[0m",
      "\u001b[0;31mAttributeError\u001b[0m                            Traceback (most recent call last)",
      "\u001b[0;32m<ipython-input-55-4eb1ddc2c80f>\u001b[0m in \u001b[0;36m<module>\u001b[0;34m()\u001b[0m\n\u001b[0;32m----> 1\u001b[0;31m \u001b[0mv\u001b[0m\u001b[0;34m.\u001b[0m\u001b[0mp\u001b[0m\u001b[0;34m\u001b[0m\u001b[0m\n\u001b[0m",
      "\u001b[0;31mAttributeError\u001b[0m: 'Vector' object has no attribute 'p'"
     ]
    }
   ],
   "source": [
    "v.p"
   ]
  },
  {
   "cell_type": "markdown",
   "metadata": {},
   "source": [
    "# 1) Override __getattr__()"
   ]
  },
  {
   "cell_type": "code",
   "execution_count": 56,
   "metadata": {},
   "outputs": [],
   "source": [
    "# __getattr__() ; inovoked AFTER requested attribute not found by normal lookup\n",
    "# __getattribute__() ; inovoked INSTEAD OF normal lookup"
   ]
  },
  {
   "cell_type": "code",
   "execution_count": 57,
   "metadata": {},
   "outputs": [],
   "source": [
    "class Vector:\n",
    "    \n",
    "    def __init__(self,**coords):\n",
    "        private_coords = {\"_\"+ k:v for k,v in coords.items()}\n",
    "        self.__dict__.update(private_coords)\n",
    "        \n",
    "    def __getattr__(self,name):\n",
    "        print(\"name = \",name)\n",
    "        \n",
    "    def __repr__(self):\n",
    "        return(\"{} ({} , {})\".format(self.__class__.name,\n",
    "                                    \", \".join(\"{k} = {v}\".format(\n",
    "                                    k=k[1:],\n",
    "                                    v = self.__dict__[k])\n",
    "                                    for k in sorted(self.__dict__.keys()\n",
    "                                    ))))"
   ]
  },
  {
   "cell_type": "code",
   "execution_count": 61,
   "metadata": {},
   "outputs": [],
   "source": [
    "v = Vector(p=3,q=9)"
   ]
  },
  {
   "cell_type": "code",
   "execution_count": 62,
   "metadata": {},
   "outputs": [
    {
     "name": "stdout",
     "output_type": "stream",
     "text": [
      "name =  p\n"
     ]
    }
   ],
   "source": [
    "v.p # __getattr__ is called since attribute doesn't exist"
   ]
  },
  {
   "cell_type": "code",
   "execution_count": 63,
   "metadata": {},
   "outputs": [
    {
     "data": {
      "text/plain": [
       "9"
      ]
     },
     "execution_count": 63,
     "metadata": {},
     "output_type": "execute_result"
    }
   ],
   "source": [
    "v._q # __getattr__ NOT called"
   ]
  },
  {
   "cell_type": "code",
   "execution_count": 64,
   "metadata": {},
   "outputs": [],
   "source": [
    "class Vector:\n",
    "    \n",
    "    def __init__(self,**coords):\n",
    "        private_coords = {\"_\"+ k:v for k,v in coords.items()}\n",
    "        self.__dict__.update(private_coords)\n",
    "        \n",
    "    def __getattr__(self,name):\n",
    "        private_name = \"_\" + name\n",
    "        return getattr(self,private_name)\n",
    "        \n",
    "    def __repr__(self):\n",
    "        return(\"{} ({} , {})\".format(self.__class__.name,\n",
    "                                    \", \".join(\"{k} = {v}\".format(\n",
    "                                    k=k[1:],\n",
    "                                    v = self.__dict__[k])\n",
    "                                    for k in sorted(self.__dict__.keys()\n",
    "                                    ))))"
   ]
  },
  {
   "cell_type": "code",
   "execution_count": 65,
   "metadata": {},
   "outputs": [],
   "source": [
    "v = Vector(p=13,q=9)"
   ]
  },
  {
   "cell_type": "code",
   "execution_count": 66,
   "metadata": {},
   "outputs": [
    {
     "data": {
      "text/plain": [
       "13"
      ]
     },
     "execution_count": 66,
     "metadata": {},
     "output_type": "execute_result"
    }
   ],
   "source": [
    "v.p"
   ]
  },
  {
   "cell_type": "code",
   "execution_count": 68,
   "metadata": {},
   "outputs": [
    {
     "data": {
      "text/plain": [
       "13"
      ]
     },
     "execution_count": 68,
     "metadata": {},
     "output_type": "execute_result"
    }
   ],
   "source": [
    "# 1) problem1 ; doesn't call the __getattr__\n",
    "\n",
    "v._p"
   ]
  },
  {
   "cell_type": "code",
   "execution_count": 69,
   "metadata": {},
   "outputs": [],
   "source": [
    "# 2) problmem 2 ; we can still assign to p and q\n",
    "\n",
    "v.p = 13"
   ]
  },
  {
   "cell_type": "markdown",
   "metadata": {},
   "source": [
    "# 2) Over riding __setattr__()"
   ]
  },
  {
   "cell_type": "code",
   "execution_count": 70,
   "metadata": {},
   "outputs": [],
   "source": [
    "# intercepts attempts to set attributes , ie assign new values to attributes\n",
    "\n",
    "class Vector:\n",
    "    \n",
    "    def __init__(self,**coords):\n",
    "        private_coords = {\"_\"+ k:v for k,v in coords.items()}\n",
    "        self.__dict__.update(private_coords)\n",
    "        \n",
    "    def __getattr__(self,name):\n",
    "        private_name = \"_\" + name\n",
    "        return getattr(self,private_name)\n",
    "    \n",
    "    def __setattr__(self,name,value):\n",
    "        raise AttributeError(\"can't set attribute {}\".format(name))\n",
    "    \n",
    "    def __repr__(self):\n",
    "        return(\"{} ({} , {})\".format(self.__class__.name,\n",
    "                                    \", \".join(\"{k} = {v}\".format(\n",
    "                                    k=k[1:],\n",
    "                                    v = self.__dict__[k])\n",
    "                                    for k in sorted(self.__dict__.keys()\n",
    "                                    ))))"
   ]
  },
  {
   "cell_type": "code",
   "execution_count": 71,
   "metadata": {},
   "outputs": [],
   "source": [
    "v = Vector(p=100,q=90)"
   ]
  },
  {
   "cell_type": "code",
   "execution_count": 72,
   "metadata": {},
   "outputs": [
    {
     "data": {
      "text/plain": [
       "100"
      ]
     },
     "execution_count": 72,
     "metadata": {},
     "output_type": "execute_result"
    }
   ],
   "source": [
    "v.p"
   ]
  },
  {
   "cell_type": "code",
   "execution_count": 73,
   "metadata": {},
   "outputs": [
    {
     "ename": "AttributeError",
     "evalue": "can't set attribute p",
     "output_type": "error",
     "traceback": [
      "\u001b[0;31m---------------------------------------------------------------------------\u001b[0m",
      "\u001b[0;31mAttributeError\u001b[0m                            Traceback (most recent call last)",
      "\u001b[0;32m<ipython-input-73-ff03d0e51ba6>\u001b[0m in \u001b[0;36m<module>\u001b[0;34m()\u001b[0m\n\u001b[0;32m----> 1\u001b[0;31m \u001b[0mv\u001b[0m\u001b[0;34m.\u001b[0m\u001b[0mp\u001b[0m \u001b[0;34m=\u001b[0m \u001b[0;36m1\u001b[0m\u001b[0;34m\u001b[0m\u001b[0m\n\u001b[0m",
      "\u001b[0;32m<ipython-input-70-cb77f783f917>\u001b[0m in \u001b[0;36m__setattr__\u001b[0;34m(self, name, value)\u001b[0m\n\u001b[1;32m     12\u001b[0m \u001b[0;34m\u001b[0m\u001b[0m\n\u001b[1;32m     13\u001b[0m     \u001b[0;32mdef\u001b[0m \u001b[0m__setattr__\u001b[0m\u001b[0;34m(\u001b[0m\u001b[0mself\u001b[0m\u001b[0;34m,\u001b[0m\u001b[0mname\u001b[0m\u001b[0;34m,\u001b[0m\u001b[0mvalue\u001b[0m\u001b[0;34m)\u001b[0m\u001b[0;34m:\u001b[0m\u001b[0;34m\u001b[0m\u001b[0m\n\u001b[0;32m---> 14\u001b[0;31m         \u001b[0;32mraise\u001b[0m \u001b[0mAttributeError\u001b[0m\u001b[0;34m(\u001b[0m\u001b[0;34m\"can't set attribute {}\"\u001b[0m\u001b[0;34m.\u001b[0m\u001b[0mformat\u001b[0m\u001b[0;34m(\u001b[0m\u001b[0mname\u001b[0m\u001b[0;34m)\u001b[0m\u001b[0;34m)\u001b[0m\u001b[0;34m\u001b[0m\u001b[0m\n\u001b[0m\u001b[1;32m     15\u001b[0m \u001b[0;34m\u001b[0m\u001b[0m\n\u001b[1;32m     16\u001b[0m     \u001b[0;32mdef\u001b[0m \u001b[0m__repr__\u001b[0m\u001b[0;34m(\u001b[0m\u001b[0mself\u001b[0m\u001b[0;34m)\u001b[0m\u001b[0;34m:\u001b[0m\u001b[0;34m\u001b[0m\u001b[0m\n",
      "\u001b[0;31mAttributeError\u001b[0m: can't set attribute p"
     ]
    }
   ],
   "source": [
    "v.p = 1"
   ]
  },
  {
   "cell_type": "code",
   "execution_count": 74,
   "metadata": {},
   "outputs": [
    {
     "ename": "RuntimeError",
     "evalue": "maximum recursion depth exceeded",
     "output_type": "error",
     "traceback": [
      "\u001b[0;31m---------------------------------------------------------------------------\u001b[0m",
      "\u001b[0;31mRuntimeError\u001b[0m                              Traceback (most recent call last)",
      "\u001b[0;32m<ipython-input-74-1ff8ea52d76c>\u001b[0m in \u001b[0;36m<module>\u001b[0;34m()\u001b[0m\n\u001b[1;32m      3\u001b[0m \u001b[0;31m# infinite recurssion for variables that don't exist\u001b[0m\u001b[0;34m\u001b[0m\u001b[0;34m\u001b[0m\u001b[0m\n\u001b[1;32m      4\u001b[0m \u001b[0;34m\u001b[0m\u001b[0m\n\u001b[0;32m----> 5\u001b[0;31m \u001b[0mv\u001b[0m\u001b[0;34m.\u001b[0m\u001b[0mx\u001b[0m\u001b[0;34m\u001b[0m\u001b[0m\n\u001b[0m",
      "\u001b[0;32m<ipython-input-70-cb77f783f917>\u001b[0m in \u001b[0;36m__getattr__\u001b[0;34m(self, name)\u001b[0m\n\u001b[1;32m      9\u001b[0m     \u001b[0;32mdef\u001b[0m \u001b[0m__getattr__\u001b[0m\u001b[0;34m(\u001b[0m\u001b[0mself\u001b[0m\u001b[0;34m,\u001b[0m\u001b[0mname\u001b[0m\u001b[0;34m)\u001b[0m\u001b[0;34m:\u001b[0m\u001b[0;34m\u001b[0m\u001b[0m\n\u001b[1;32m     10\u001b[0m         \u001b[0mprivate_name\u001b[0m \u001b[0;34m=\u001b[0m \u001b[0;34m\"_\"\u001b[0m \u001b[0;34m+\u001b[0m \u001b[0mname\u001b[0m\u001b[0;34m\u001b[0m\u001b[0m\n\u001b[0;32m---> 11\u001b[0;31m         \u001b[0;32mreturn\u001b[0m \u001b[0mgetattr\u001b[0m\u001b[0;34m(\u001b[0m\u001b[0mself\u001b[0m\u001b[0;34m,\u001b[0m\u001b[0mprivate_name\u001b[0m\u001b[0;34m)\u001b[0m\u001b[0;34m\u001b[0m\u001b[0m\n\u001b[0m\u001b[1;32m     12\u001b[0m \u001b[0;34m\u001b[0m\u001b[0m\n\u001b[1;32m     13\u001b[0m     \u001b[0;32mdef\u001b[0m \u001b[0m__setattr__\u001b[0m\u001b[0;34m(\u001b[0m\u001b[0mself\u001b[0m\u001b[0;34m,\u001b[0m\u001b[0mname\u001b[0m\u001b[0;34m,\u001b[0m\u001b[0mvalue\u001b[0m\u001b[0;34m)\u001b[0m\u001b[0;34m:\u001b[0m\u001b[0;34m\u001b[0m\u001b[0m\n",
      "... last 1 frames repeated, from the frame below ...\n",
      "\u001b[0;32m<ipython-input-70-cb77f783f917>\u001b[0m in \u001b[0;36m__getattr__\u001b[0;34m(self, name)\u001b[0m\n\u001b[1;32m      9\u001b[0m     \u001b[0;32mdef\u001b[0m \u001b[0m__getattr__\u001b[0m\u001b[0;34m(\u001b[0m\u001b[0mself\u001b[0m\u001b[0;34m,\u001b[0m\u001b[0mname\u001b[0m\u001b[0;34m)\u001b[0m\u001b[0;34m:\u001b[0m\u001b[0;34m\u001b[0m\u001b[0m\n\u001b[1;32m     10\u001b[0m         \u001b[0mprivate_name\u001b[0m \u001b[0;34m=\u001b[0m \u001b[0;34m\"_\"\u001b[0m \u001b[0;34m+\u001b[0m \u001b[0mname\u001b[0m\u001b[0;34m\u001b[0m\u001b[0m\n\u001b[0;32m---> 11\u001b[0;31m         \u001b[0;32mreturn\u001b[0m \u001b[0mgetattr\u001b[0m\u001b[0;34m(\u001b[0m\u001b[0mself\u001b[0m\u001b[0;34m,\u001b[0m\u001b[0mprivate_name\u001b[0m\u001b[0;34m)\u001b[0m\u001b[0;34m\u001b[0m\u001b[0m\n\u001b[0m\u001b[1;32m     12\u001b[0m \u001b[0;34m\u001b[0m\u001b[0m\n\u001b[1;32m     13\u001b[0m     \u001b[0;32mdef\u001b[0m \u001b[0m__setattr__\u001b[0m\u001b[0;34m(\u001b[0m\u001b[0mself\u001b[0m\u001b[0;34m,\u001b[0m\u001b[0mname\u001b[0m\u001b[0;34m,\u001b[0m\u001b[0mvalue\u001b[0m\u001b[0;34m)\u001b[0m\u001b[0;34m:\u001b[0m\u001b[0;34m\u001b[0m\u001b[0m\n",
      "\u001b[0;31mRuntimeError\u001b[0m: maximum recursion depth exceeded"
     ]
    }
   ],
   "source": [
    "# Pitfalls with __getattr_()\n",
    "\n",
    "# infinite recurssion for variables that don't exist\n",
    "\n",
    "v.x"
   ]
  },
  {
   "cell_type": "code",
   "execution_count": 79,
   "metadata": {},
   "outputs": [],
   "source": [
    "\n",
    "class Vector:\n",
    "    \n",
    "    def __init__(self,**coords):\n",
    "        private_coords = {\"_\"+ k:v for k,v in coords.items()}\n",
    "        self.__dict__.update(private_coords)\n",
    "        \n",
    "    def __getattr__(self,name):\n",
    "        private_name = \"_\" + name\n",
    "        if private_name not in self.__dict__:\n",
    "            raise AttributeError(\"{} object has no attribute {}\".format(self.__class__,name))\n",
    "        return getattr(self,private_name)\n",
    "    \n",
    "    def __setattr__(self,name,value):\n",
    "        raise AttributeError(\"can't set attribute {}\".format(name))\n",
    "    \n",
    "    def __repr__(self):\n",
    "        return(\"{} ({} , {})\".format(self.__class__.name,\n",
    "                                    \", \".join(\"{k} = {v}\".format(\n",
    "                                    k=k[1:],\n",
    "                                    v = self.__dict__[k])\n",
    "                                    for k in sorted(self.__dict__.keys()\n",
    "                                    ))))"
   ]
  },
  {
   "cell_type": "code",
   "execution_count": 80,
   "metadata": {},
   "outputs": [],
   "source": [
    "v = Vector(p=100,q=90)"
   ]
  },
  {
   "cell_type": "code",
   "execution_count": 81,
   "metadata": {},
   "outputs": [
    {
     "ename": "AttributeError",
     "evalue": "<class '__main__.Vector'> object has no attribute x",
     "output_type": "error",
     "traceback": [
      "\u001b[0;31m---------------------------------------------------------------------------\u001b[0m",
      "\u001b[0;31mAttributeError\u001b[0m                            Traceback (most recent call last)",
      "\u001b[0;32m<ipython-input-81-185ff259d8bc>\u001b[0m in \u001b[0;36m<module>\u001b[0;34m()\u001b[0m\n\u001b[0;32m----> 1\u001b[0;31m \u001b[0mv\u001b[0m\u001b[0;34m.\u001b[0m\u001b[0mx\u001b[0m\u001b[0;34m\u001b[0m\u001b[0m\n\u001b[0m",
      "\u001b[0;32m<ipython-input-79-5439c9ab4a33>\u001b[0m in \u001b[0;36m__getattr__\u001b[0;34m(self, name)\u001b[0m\n\u001b[1;32m      9\u001b[0m         \u001b[0mprivate_name\u001b[0m \u001b[0;34m=\u001b[0m \u001b[0;34m\"_\"\u001b[0m \u001b[0;34m+\u001b[0m \u001b[0mname\u001b[0m\u001b[0;34m\u001b[0m\u001b[0m\n\u001b[1;32m     10\u001b[0m         \u001b[0;32mif\u001b[0m \u001b[0mprivate_name\u001b[0m \u001b[0;32mnot\u001b[0m \u001b[0;32min\u001b[0m \u001b[0mself\u001b[0m\u001b[0;34m.\u001b[0m\u001b[0m__dict__\u001b[0m\u001b[0;34m:\u001b[0m\u001b[0;34m\u001b[0m\u001b[0m\n\u001b[0;32m---> 11\u001b[0;31m             \u001b[0;32mraise\u001b[0m \u001b[0mAttributeError\u001b[0m\u001b[0;34m(\u001b[0m\u001b[0;34m\"{} object has no attribute {}\"\u001b[0m\u001b[0;34m.\u001b[0m\u001b[0mformat\u001b[0m\u001b[0;34m(\u001b[0m\u001b[0mself\u001b[0m\u001b[0;34m.\u001b[0m\u001b[0m__class__\u001b[0m\u001b[0;34m,\u001b[0m\u001b[0mname\u001b[0m\u001b[0;34m)\u001b[0m\u001b[0;34m)\u001b[0m\u001b[0;34m\u001b[0m\u001b[0m\n\u001b[0m\u001b[1;32m     12\u001b[0m         \u001b[0;32mreturn\u001b[0m \u001b[0mgetattr\u001b[0m\u001b[0;34m(\u001b[0m\u001b[0mself\u001b[0m\u001b[0;34m,\u001b[0m\u001b[0mprivate_name\u001b[0m\u001b[0;34m)\u001b[0m\u001b[0;34m\u001b[0m\u001b[0m\n\u001b[1;32m     13\u001b[0m \u001b[0;34m\u001b[0m\u001b[0m\n",
      "\u001b[0;31mAttributeError\u001b[0m: <class '__main__.Vector'> object has no attribute x"
     ]
    }
   ],
   "source": [
    "v.x"
   ]
  },
  {
   "cell_type": "markdown",
   "metadata": {},
   "source": [
    "# 3) Over ridding __delattr__"
   ]
  },
  {
   "cell_type": "code",
   "execution_count": 82,
   "metadata": {},
   "outputs": [
    {
     "data": {
      "text/plain": [
       "['__class__',\n",
       " '__delattr__',\n",
       " '__dict__',\n",
       " '__dir__',\n",
       " '__doc__',\n",
       " '__eq__',\n",
       " '__format__',\n",
       " '__ge__',\n",
       " '__getattr__',\n",
       " '__getattribute__',\n",
       " '__gt__',\n",
       " '__hash__',\n",
       " '__init__',\n",
       " '__le__',\n",
       " '__lt__',\n",
       " '__module__',\n",
       " '__ne__',\n",
       " '__new__',\n",
       " '__reduce__',\n",
       " '__reduce_ex__',\n",
       " '__repr__',\n",
       " '__setattr__',\n",
       " '__sizeof__',\n",
       " '__str__',\n",
       " '__subclasshook__',\n",
       " '__weakref__',\n",
       " '_p',\n",
       " '_q']"
      ]
     },
     "execution_count": 82,
     "metadata": {},
     "output_type": "execute_result"
    }
   ],
   "source": [
    "dir(v)"
   ]
  },
  {
   "cell_type": "code",
   "execution_count": 83,
   "metadata": {},
   "outputs": [],
   "source": [
    "delattr(v,\"_p\")"
   ]
  },
  {
   "cell_type": "code",
   "execution_count": 84,
   "metadata": {},
   "outputs": [],
   "source": [
    "del v._q"
   ]
  },
  {
   "cell_type": "code",
   "execution_count": 86,
   "metadata": {},
   "outputs": [],
   "source": [
    "# prevent direct deletion by over ridding __delattr__"
   ]
  },
  {
   "cell_type": "code",
   "execution_count": 102,
   "metadata": {},
   "outputs": [],
   "source": [
    "\n",
    "class Vector:\n",
    "    \n",
    "    def __init__(self,**coords):\n",
    "        private_coords = {\"_\"+ k:v for k,v in coords.items()}\n",
    "        self.__dict__.update(private_coords)\n",
    "        \n",
    "    def __getattr__(self,name):\n",
    "        private_name = \"_\" + name\n",
    "        if private_name not in self.__dict__:\n",
    "            raise AttributeError(\"{} object has no attribute {}\".format(self.__class__,name))\n",
    "        return getattr(self,private_name)\n",
    "    \n",
    "    def __setattr__(self,name,value):\n",
    "        raise AttributeError(\"can't set attribute {}\".format(name))\n",
    "        \n",
    "    def __delattr__(self,name):\n",
    "        raise AttributeError (\"can't del this attr\")\n",
    "    \n",
    "    def __repr__(self):\n",
    "        return(\"{} ({} , {})\".format(self.__class__.name,\n",
    "                                    \", \".join(\"{k} = {v}\".format(\n",
    "                                    k=k[1:],\n",
    "                                    v = self.__dict__[k])\n",
    "                                    for k in sorted(self.__dict__.keys()\n",
    "                                    ))))"
   ]
  },
  {
   "cell_type": "code",
   "execution_count": 94,
   "metadata": {},
   "outputs": [],
   "source": [
    "v = Vector(p=100,q=90)"
   ]
  },
  {
   "cell_type": "code",
   "execution_count": 95,
   "metadata": {},
   "outputs": [
    {
     "ename": "AttributeError",
     "evalue": "can't del this attr",
     "output_type": "error",
     "traceback": [
      "\u001b[0;31m---------------------------------------------------------------------------\u001b[0m",
      "\u001b[0;31mAttributeError\u001b[0m                            Traceback (most recent call last)",
      "\u001b[0;32m<ipython-input-95-c01b3d272d1f>\u001b[0m in \u001b[0;36m<module>\u001b[0;34m()\u001b[0m\n\u001b[0;32m----> 1\u001b[0;31m \u001b[0;32mdel\u001b[0m \u001b[0mv\u001b[0m\u001b[0;34m.\u001b[0m\u001b[0mp\u001b[0m\u001b[0;34m\u001b[0m\u001b[0m\n\u001b[0m",
      "\u001b[0;32m<ipython-input-93-01dd9a82f36f>\u001b[0m in \u001b[0;36m__delattr__\u001b[0;34m(self, name)\u001b[0m\n\u001b[1;32m     16\u001b[0m \u001b[0;34m\u001b[0m\u001b[0m\n\u001b[1;32m     17\u001b[0m     \u001b[0;32mdef\u001b[0m \u001b[0m__delattr__\u001b[0m\u001b[0;34m(\u001b[0m\u001b[0mself\u001b[0m\u001b[0;34m,\u001b[0m\u001b[0mname\u001b[0m\u001b[0;34m)\u001b[0m\u001b[0;34m:\u001b[0m\u001b[0;34m\u001b[0m\u001b[0m\n\u001b[0;32m---> 18\u001b[0;31m         \u001b[0;32mraise\u001b[0m \u001b[0mAttributeError\u001b[0m \u001b[0;34m(\u001b[0m\u001b[0;34m\"can't del this attr\"\u001b[0m\u001b[0;34m)\u001b[0m\u001b[0;34m\u001b[0m\u001b[0m\n\u001b[0m\u001b[1;32m     19\u001b[0m \u001b[0;34m\u001b[0m\u001b[0m\n\u001b[1;32m     20\u001b[0m     \u001b[0;32mdef\u001b[0m \u001b[0m__repr__\u001b[0m\u001b[0;34m(\u001b[0m\u001b[0mself\u001b[0m\u001b[0;34m)\u001b[0m\u001b[0;34m:\u001b[0m\u001b[0;34m\u001b[0m\u001b[0m\n",
      "\u001b[0;31mAttributeError\u001b[0m: can't del this attr"
     ]
    }
   ],
   "source": [
    "del v.p"
   ]
  },
  {
   "cell_type": "code",
   "execution_count": 96,
   "metadata": {},
   "outputs": [
    {
     "ename": "AttributeError",
     "evalue": "can't del this attr",
     "output_type": "error",
     "traceback": [
      "\u001b[0;31m---------------------------------------------------------------------------\u001b[0m",
      "\u001b[0;31mAttributeError\u001b[0m                            Traceback (most recent call last)",
      "\u001b[0;32m<ipython-input-96-c9999d1c840a>\u001b[0m in \u001b[0;36m<module>\u001b[0;34m()\u001b[0m\n\u001b[0;32m----> 1\u001b[0;31m \u001b[0;32mdel\u001b[0m \u001b[0mv\u001b[0m\u001b[0;34m.\u001b[0m\u001b[0m_p\u001b[0m\u001b[0;34m\u001b[0m\u001b[0m\n\u001b[0m",
      "\u001b[0;32m<ipython-input-93-01dd9a82f36f>\u001b[0m in \u001b[0;36m__delattr__\u001b[0;34m(self, name)\u001b[0m\n\u001b[1;32m     16\u001b[0m \u001b[0;34m\u001b[0m\u001b[0m\n\u001b[1;32m     17\u001b[0m     \u001b[0;32mdef\u001b[0m \u001b[0m__delattr__\u001b[0m\u001b[0;34m(\u001b[0m\u001b[0mself\u001b[0m\u001b[0;34m,\u001b[0m\u001b[0mname\u001b[0m\u001b[0;34m)\u001b[0m\u001b[0;34m:\u001b[0m\u001b[0;34m\u001b[0m\u001b[0m\n\u001b[0;32m---> 18\u001b[0;31m         \u001b[0;32mraise\u001b[0m \u001b[0mAttributeError\u001b[0m \u001b[0;34m(\u001b[0m\u001b[0;34m\"can't del this attr\"\u001b[0m\u001b[0;34m)\u001b[0m\u001b[0;34m\u001b[0m\u001b[0m\n\u001b[0m\u001b[1;32m     19\u001b[0m \u001b[0;34m\u001b[0m\u001b[0m\n\u001b[1;32m     20\u001b[0m     \u001b[0;32mdef\u001b[0m \u001b[0m__repr__\u001b[0m\u001b[0;34m(\u001b[0m\u001b[0mself\u001b[0m\u001b[0;34m)\u001b[0m\u001b[0;34m:\u001b[0m\u001b[0;34m\u001b[0m\u001b[0m\n",
      "\u001b[0;31mAttributeError\u001b[0m: can't del this attr"
     ]
    }
   ],
   "source": [
    "del v._p"
   ]
  },
  {
   "cell_type": "markdown",
   "metadata": {},
   "source": [
    "### Customizing attrib storage"
   ]
  },
  {
   "cell_type": "code",
   "execution_count": 103,
   "metadata": {},
   "outputs": [],
   "source": [
    "# no requirement to store attributes directly in __dict__\n",
    "# eg\n",
    "\n",
    "class ColoredVector(Vector):\n",
    "    \n",
    "    COLOR_INDEXES = {'red','green','blue'}\n",
    "    \n",
    "    def __init__(self,red,green,blue,**coords):\n",
    "        super().__init__(**coords)\n",
    "        self.__dict__['color'] = [red,green,blue]\n",
    "        \n",
    "    def __getattr__(self,name):\n",
    "        try:\n",
    "            channel = ColoredVector.COLOR_INDEXES.index(name)\n",
    "        except ValueError:\n",
    "            return super().__getattr__(name)\n",
    "        else:\n",
    "            return self.__dict__['color'][channel]\n",
    "    \n",
    "    def __setattr__(self,name,value):\n",
    "        try:\n",
    "            channel = ColoredVector.COLOR_INDEXES.index(name)\n",
    "        except ValueError:\n",
    "            return super().__setattr__(name)\n",
    "        else:\n",
    "            self.__dict__['color'][channel] = value"
   ]
  },
  {
   "cell_type": "code",
   "execution_count": 104,
   "metadata": {},
   "outputs": [],
   "source": [
    "cv = ColoredVector(red=23 ,green= 44,blue=238 ,p=9 ,q=14)"
   ]
  },
  {
   "cell_type": "code",
   "execution_count": 110,
   "metadata": {},
   "outputs": [
    {
     "data": {
      "text/plain": [
       "[23, 44, 238]"
      ]
     },
     "execution_count": 110,
     "metadata": {},
     "output_type": "execute_result"
    }
   ],
   "source": [
    "cv.color"
   ]
  },
  {
   "cell_type": "code",
   "execution_count": 111,
   "metadata": {},
   "outputs": [
    {
     "data": {
      "text/plain": [
       "['COLOR_INDEXES',\n",
       " '__class__',\n",
       " '__delattr__',\n",
       " '__dict__',\n",
       " '__dir__',\n",
       " '__doc__',\n",
       " '__eq__',\n",
       " '__format__',\n",
       " '__ge__',\n",
       " '__getattr__',\n",
       " '__getattribute__',\n",
       " '__gt__',\n",
       " '__hash__',\n",
       " '__init__',\n",
       " '__le__',\n",
       " '__lt__',\n",
       " '__module__',\n",
       " '__ne__',\n",
       " '__new__',\n",
       " '__reduce__',\n",
       " '__reduce_ex__',\n",
       " '__repr__',\n",
       " '__setattr__',\n",
       " '__sizeof__',\n",
       " '__str__',\n",
       " '__subclasshook__',\n",
       " '__weakref__',\n",
       " '_p',\n",
       " '_q',\n",
       " 'color']"
      ]
     },
     "execution_count": 111,
     "metadata": {},
     "output_type": "execute_result"
    }
   ],
   "source": [
    "dir(cv)"
   ]
  },
  {
   "cell_type": "code",
   "execution_count": 112,
   "metadata": {},
   "outputs": [
    {
     "ename": "AttributeError",
     "evalue": "'set' object has no attribute 'index'",
     "output_type": "error",
     "traceback": [
      "\u001b[0;31m---------------------------------------------------------------------------\u001b[0m",
      "\u001b[0;31mAttributeError\u001b[0m                            Traceback (most recent call last)",
      "\u001b[0;32m<ipython-input-112-6fa7b4335695>\u001b[0m in \u001b[0;36m<module>\u001b[0;34m()\u001b[0m\n\u001b[0;32m----> 1\u001b[0;31m \u001b[0mcv\u001b[0m\u001b[0;34m.\u001b[0m\u001b[0mp\u001b[0m\u001b[0;34m\u001b[0m\u001b[0m\n\u001b[0m",
      "\u001b[0;32m<ipython-input-103-edddc39fafb9>\u001b[0m in \u001b[0;36m__getattr__\u001b[0;34m(self, name)\u001b[0m\n\u001b[1;32m     12\u001b[0m     \u001b[0;32mdef\u001b[0m \u001b[0m__getattr__\u001b[0m\u001b[0;34m(\u001b[0m\u001b[0mself\u001b[0m\u001b[0;34m,\u001b[0m\u001b[0mname\u001b[0m\u001b[0;34m)\u001b[0m\u001b[0;34m:\u001b[0m\u001b[0;34m\u001b[0m\u001b[0m\n\u001b[1;32m     13\u001b[0m         \u001b[0;32mtry\u001b[0m\u001b[0;34m:\u001b[0m\u001b[0;34m\u001b[0m\u001b[0m\n\u001b[0;32m---> 14\u001b[0;31m             \u001b[0mchannel\u001b[0m \u001b[0;34m=\u001b[0m \u001b[0mColoredVector\u001b[0m\u001b[0;34m.\u001b[0m\u001b[0mCOLOR_INDEXES\u001b[0m\u001b[0;34m.\u001b[0m\u001b[0mindex\u001b[0m\u001b[0;34m(\u001b[0m\u001b[0mname\u001b[0m\u001b[0;34m)\u001b[0m\u001b[0;34m\u001b[0m\u001b[0m\n\u001b[0m\u001b[1;32m     15\u001b[0m         \u001b[0;32mexcept\u001b[0m \u001b[0mValueError\u001b[0m\u001b[0;34m:\u001b[0m\u001b[0;34m\u001b[0m\u001b[0m\n\u001b[1;32m     16\u001b[0m             \u001b[0;32mreturn\u001b[0m \u001b[0msuper\u001b[0m\u001b[0;34m(\u001b[0m\u001b[0;34m)\u001b[0m\u001b[0;34m.\u001b[0m\u001b[0m__getattr__\u001b[0m\u001b[0;34m(\u001b[0m\u001b[0mname\u001b[0m\u001b[0;34m)\u001b[0m\u001b[0;34m\u001b[0m\u001b[0m\n",
      "\u001b[0;31mAttributeError\u001b[0m: 'set' object has no attribute 'index'"
     ]
    }
   ],
   "source": [
    "cv.p"
   ]
  },
  {
   "cell_type": "code",
   "execution_count": 114,
   "metadata": {},
   "outputs": [
    {
     "ename": "AttributeError",
     "evalue": "'set' object has no attribute 'index'",
     "output_type": "error",
     "traceback": [
      "\u001b[0;31m---------------------------------------------------------------------------\u001b[0m",
      "\u001b[0;31mAttributeError\u001b[0m                            Traceback (most recent call last)",
      "\u001b[0;32m<ipython-input-114-b9231a50333d>\u001b[0m in \u001b[0;36m<module>\u001b[0;34m()\u001b[0m\n\u001b[0;32m----> 1\u001b[0;31m \u001b[0mcv\u001b[0m\u001b[0;34m.\u001b[0m\u001b[0mred\u001b[0m\u001b[0;34m\u001b[0m\u001b[0m\n\u001b[0m",
      "\u001b[0;32m<ipython-input-103-edddc39fafb9>\u001b[0m in \u001b[0;36m__getattr__\u001b[0;34m(self, name)\u001b[0m\n\u001b[1;32m     12\u001b[0m     \u001b[0;32mdef\u001b[0m \u001b[0m__getattr__\u001b[0m\u001b[0;34m(\u001b[0m\u001b[0mself\u001b[0m\u001b[0;34m,\u001b[0m\u001b[0mname\u001b[0m\u001b[0;34m)\u001b[0m\u001b[0;34m:\u001b[0m\u001b[0;34m\u001b[0m\u001b[0m\n\u001b[1;32m     13\u001b[0m         \u001b[0;32mtry\u001b[0m\u001b[0;34m:\u001b[0m\u001b[0;34m\u001b[0m\u001b[0m\n\u001b[0;32m---> 14\u001b[0;31m             \u001b[0mchannel\u001b[0m \u001b[0;34m=\u001b[0m \u001b[0mColoredVector\u001b[0m\u001b[0;34m.\u001b[0m\u001b[0mCOLOR_INDEXES\u001b[0m\u001b[0;34m.\u001b[0m\u001b[0mindex\u001b[0m\u001b[0;34m(\u001b[0m\u001b[0mname\u001b[0m\u001b[0;34m)\u001b[0m\u001b[0;34m\u001b[0m\u001b[0m\n\u001b[0m\u001b[1;32m     15\u001b[0m         \u001b[0;32mexcept\u001b[0m \u001b[0mValueError\u001b[0m\u001b[0;34m:\u001b[0m\u001b[0;34m\u001b[0m\u001b[0m\n\u001b[1;32m     16\u001b[0m             \u001b[0;32mreturn\u001b[0m \u001b[0msuper\u001b[0m\u001b[0;34m(\u001b[0m\u001b[0;34m)\u001b[0m\u001b[0;34m.\u001b[0m\u001b[0m__getattr__\u001b[0m\u001b[0;34m(\u001b[0m\u001b[0mname\u001b[0m\u001b[0;34m)\u001b[0m\u001b[0;34m\u001b[0m\u001b[0m\n",
      "\u001b[0;31mAttributeError\u001b[0m: 'set' object has no attribute 'index'"
     ]
    }
   ],
   "source": [
    "cv.red"
   ]
  },
  {
   "cell_type": "code",
   "execution_count": 115,
   "metadata": {},
   "outputs": [],
   "source": [
    "# override __repr__  ; skipped"
   ]
  },
  {
   "cell_type": "code",
   "execution_count": 116,
   "metadata": {},
   "outputs": [],
   "source": [
    "# Direct vs Indirect access to __dict__\n",
    "\n",
    "# 1) using vars() to access __dict__\n",
    "# unpythonic obj.__dict__ \n",
    "# pythonic vars(obj)\n",
    "\n",
    "# unpythonic collection.__len__()\n",
    "# len(collection)\n",
    "\n",
    "# unpythonic self.__dict__['color'] = ['red','blue']\n",
    "# pythonic vars(self)['color'] = ['red','blue']"
   ]
  },
  {
   "cell_type": "code",
   "execution_count": 117,
   "metadata": {},
   "outputs": [],
   "source": [
    "## Over Riding __getattribute__\n",
    "\n",
    "# invoked \"instead of\" normal look up\n",
    "\n",
    "# example class logging proxy ; SKIPPED"
   ]
  },
  {
   "cell_type": "code",
   "execution_count": 118,
   "metadata": {},
   "outputs": [],
   "source": [
    "# __getattr__ lookup for special methods\n",
    "\n",
    "# obj.__repr__()  vs repr(obj)"
   ]
  },
  {
   "cell_type": "code",
   "execution_count": 119,
   "metadata": {},
   "outputs": [],
   "source": [
    "## Where are the methods stored?\n",
    "\n",
    "# __dict__ contains only attributes and not objects.\n",
    "\n",
    "# methods are attributes of the class object"
   ]
  },
  {
   "cell_type": "code",
   "execution_count": 120,
   "metadata": {},
   "outputs": [
    {
     "data": {
      "text/plain": [
       "{'_p': 100, '_q': 90}"
      ]
     },
     "execution_count": 120,
     "metadata": {},
     "output_type": "execute_result"
    }
   ],
   "source": [
    "v.__dict__"
   ]
  },
  {
   "cell_type": "code",
   "execution_count": 121,
   "metadata": {},
   "outputs": [
    {
     "data": {
      "text/plain": [
       "mappingproxy({'__delattr__': <function __main__.Vector.__delattr__(self, name)>,\n",
       "              '__dict__': <attribute '__dict__' of 'Vector' objects>,\n",
       "              '__doc__': None,\n",
       "              '__getattr__': <function __main__.Vector.__getattr__(self, name)>,\n",
       "              '__init__': <function __main__.Vector.__init__(self, **coords)>,\n",
       "              '__module__': '__main__',\n",
       "              '__repr__': <function __main__.Vector.__repr__(self)>,\n",
       "              '__setattr__': <function __main__.Vector.__setattr__(self, name, value)>,\n",
       "              '__weakref__': <attribute '__weakref__' of 'Vector' objects>})"
      ]
     },
     "execution_count": 121,
     "metadata": {},
     "output_type": "execute_result"
    }
   ],
   "source": [
    "v.__class__.__dict__"
   ]
  },
  {
   "cell_type": "code",
   "execution_count": 122,
   "metadata": {},
   "outputs": [
    {
     "data": {
      "text/plain": [
       "288"
      ]
     },
     "execution_count": 122,
     "metadata": {},
     "output_type": "execute_result"
    }
   ],
   "source": [
    "# SLOTS\n",
    "\n",
    "## Trading size for dynamism with slots\n",
    "\n",
    "import sys\n",
    "\n",
    "d = {}\n",
    "\n",
    "sys.getsizeof(d)"
   ]
  },
  {
   "cell_type": "code",
   "execution_count": 123,
   "metadata": {},
   "outputs": [],
   "source": [
    "class Resistor:\n",
    "    \n",
    "    def __init__(self,r,t,p):\n",
    "        self.r = r\n",
    "        self.t = t\n",
    "        self.p = p"
   ]
  },
  {
   "cell_type": "code",
   "execution_count": 124,
   "metadata": {},
   "outputs": [
    {
     "data": {
      "text/plain": [
       "152"
      ]
     },
     "execution_count": 124,
     "metadata": {},
     "output_type": "execute_result"
    }
   ],
   "source": [
    "r10 = Resistor(10,5,0.25)\n",
    "\n",
    "sys.getsizeof(r10) + sys.getsizeof(r10.__dict__)"
   ]
  },
  {
   "cell_type": "code",
   "execution_count": 125,
   "metadata": {},
   "outputs": [
    {
     "data": {
      "text/plain": [
       "248"
      ]
     },
     "execution_count": 125,
     "metadata": {},
     "output_type": "execute_result"
    }
   ],
   "source": [
    "r10.cost = 42\n",
    "\n",
    "sys.getsizeof(r10) + sys.getsizeof(r10.__dict__) # increased size on adding attributes"
   ]
  },
  {
   "cell_type": "code",
   "execution_count": 132,
   "metadata": {},
   "outputs": [],
   "source": [
    "class ResistorSlots:\n",
    "    \n",
    "    __slots__ = ['r','t','p']\n",
    "    \n",
    "    def __init__(self,r,t,p):\n",
    "        self.r = r\n",
    "        self.t = t\n",
    "        self.p = p"
   ]
  },
  {
   "cell_type": "code",
   "execution_count": 135,
   "metadata": {},
   "outputs": [
    {
     "data": {
      "text/plain": [
       "64"
      ]
     },
     "execution_count": 135,
     "metadata": {},
     "output_type": "execute_result"
    }
   ],
   "source": [
    "r11 = ResistorSlots(10,5,0.25)\n",
    "\n",
    "sys.getsizeof(r11)"
   ]
  },
  {
   "cell_type": "code",
   "execution_count": 136,
   "metadata": {},
   "outputs": [],
   "source": [
    "# now you can no longer add attributes dynamically? \n",
    "\n",
    "r10.new = 1"
   ]
  },
  {
   "cell_type": "code",
   "execution_count": 137,
   "metadata": {},
   "outputs": [],
   "source": [
    "## SUMMARY\n",
    "\n",
    "# instance attributes stored in __dict__\n",
    "# __dict__ can be manipulated directly \n",
    "# fallback lookup and assignment with __getattr__ and __setattr__"
   ]
  },
  {
   "cell_type": "markdown",
   "metadata": {},
   "source": [
    "### CH - Descriptors"
   ]
  },
  {
   "cell_type": "code",
   "execution_count": 140,
   "metadata": {},
   "outputs": [],
   "source": [
    "# Customize attribute access with Descriptors\n",
    "# Descriptors are used to implement properties in python.\n",
    "# before properties using decoratos\n",
    "# now properties using property constructor.\n",
    "# create specialized property using custom DESCRIPTORS.\n",
    "# Categories of descriptors ; data and non-data\n",
    "# attribute lookup"
   ]
  },
  {
   "cell_type": "code",
   "execution_count": 161,
   "metadata": {},
   "outputs": [],
   "source": [
    "# example\n",
    "\n",
    "class Planet:\n",
    "    \n",
    "    def __init__(self,name,radius_metres,mass_kilograms,orbital_period_seconds,surface_temperature_kelvin):\n",
    "        self.name = name,\n",
    "        self.radius_metres = radius_metres,\n",
    "        self.mass_kilograms = mass_kilograms,\n",
    "        self.orbital_period_seconds = orbital_period_seconds,\n",
    "        self.surface_temperature_kelvin = surface_temperature_kelvin"
   ]
  },
  {
   "cell_type": "code",
   "execution_count": 162,
   "metadata": {},
   "outputs": [
    {
     "data": {
      "text/plain": [
       "(1184000.0,)"
      ]
     },
     "execution_count": 162,
     "metadata": {},
     "output_type": "execute_result"
    }
   ],
   "source": [
    "pluto = Planet(name =\"pluto\",radius_metres = 1184e3,mass_kilograms = 305e22,orbital_period_seconds = 78160543,surface_temperature_kelvin = 55)\n",
    "\n",
    "pluto.radius_metres"
   ]
  },
  {
   "cell_type": "code",
   "execution_count": 163,
   "metadata": {},
   "outputs": [],
   "source": [
    "# situtations which aren't possible such as negative radius , 0 mass\n",
    "\n",
    "pluto.radius_metres = -120\n",
    "pluto.mass_kilograms = 0"
   ]
  },
  {
   "cell_type": "code",
   "execution_count": 164,
   "metadata": {},
   "outputs": [],
   "source": [
    "# Solution use PROPERTY GETTER and PROPERTY SETTER\n",
    "\n",
    "# example\n",
    "\n",
    "class Planet:\n",
    "    \n",
    "    def __init__(self,name,radius_metres,mass_kilograms,orbital_period_seconds,surface_temperature_kelvin):\n",
    "        self.name = name,\n",
    "        self.radius_metres = radius_metres,\n",
    "        self.mass_kilograms = mass_kilograms,\n",
    "        self.orbital_period_seconds = orbital_period_seconds,\n",
    "        self.surface_temperature_kelvin = surface_temperature_kelvin\n",
    "        \n",
    "    @property\n",
    "    def name(self):\n",
    "        return self._name\n",
    "    \n",
    "    @name.setter\n",
    "    def name(self,value):\n",
    "        if not value[0]:\n",
    "            raise ValueError(\"can't set empty name for planet\")\n",
    "        self._name = value\n",
    "        \n",
    "    @property\n",
    "    def radius_metres(self):\n",
    "        return self._radius_metres\n",
    "    \n",
    "    @radius_metres.setter\n",
    "    def radius_metres(self,value):\n",
    "        if value[0] <= 0:\n",
    "            raise ValueError(\"radius can't be negative\")\n",
    "        self._radius_metres = value            "
   ]
  },
  {
   "cell_type": "code",
   "execution_count": 166,
   "metadata": {},
   "outputs": [
    {
     "ename": "ValueError",
     "evalue": "radius can't be negative",
     "output_type": "error",
     "traceback": [
      "\u001b[0;31m---------------------------------------------------------------------------\u001b[0m",
      "\u001b[0;31mValueError\u001b[0m                                Traceback (most recent call last)",
      "\u001b[0;32m<ipython-input-166-ff2e2cae8761>\u001b[0m in \u001b[0;36m<module>\u001b[0;34m()\u001b[0m\n\u001b[1;32m      1\u001b[0m \u001b[0;31m# now we can no longer construct mass less planets\u001b[0m\u001b[0;34m\u001b[0m\u001b[0;34m\u001b[0m\u001b[0m\n\u001b[0;32m----> 2\u001b[0;31m \u001b[0mplanet_x\u001b[0m \u001b[0;34m=\u001b[0m \u001b[0mPlanet\u001b[0m\u001b[0;34m(\u001b[0m\u001b[0mname\u001b[0m \u001b[0;34m=\u001b[0m\u001b[0;34m\"x\"\u001b[0m\u001b[0;34m,\u001b[0m\u001b[0mradius_metres\u001b[0m \u001b[0;34m=\u001b[0m \u001b[0;34m-\u001b[0m\u001b[0;36m11843\u001b[0m\u001b[0;34m,\u001b[0m\u001b[0mmass_kilograms\u001b[0m \u001b[0;34m=\u001b[0m \u001b[0;36m100\u001b[0m\u001b[0;34m,\u001b[0m\u001b[0morbital_period_seconds\u001b[0m \u001b[0;34m=\u001b[0m \u001b[0;36m78160543\u001b[0m\u001b[0;34m,\u001b[0m\u001b[0msurface_temperature_kelvin\u001b[0m \u001b[0;34m=\u001b[0m \u001b[0;36m55\u001b[0m\u001b[0;34m)\u001b[0m\u001b[0;34m\u001b[0m\u001b[0m\n\u001b[0m",
      "\u001b[0;32m<ipython-input-164-b021affd93fd>\u001b[0m in \u001b[0;36m__init__\u001b[0;34m(self, name, radius_metres, mass_kilograms, orbital_period_seconds, surface_temperature_kelvin)\u001b[0m\n\u001b[1;32m      7\u001b[0m     \u001b[0;32mdef\u001b[0m \u001b[0m__init__\u001b[0m\u001b[0;34m(\u001b[0m\u001b[0mself\u001b[0m\u001b[0;34m,\u001b[0m\u001b[0mname\u001b[0m\u001b[0;34m,\u001b[0m\u001b[0mradius_metres\u001b[0m\u001b[0;34m,\u001b[0m\u001b[0mmass_kilograms\u001b[0m\u001b[0;34m,\u001b[0m\u001b[0morbital_period_seconds\u001b[0m\u001b[0;34m,\u001b[0m\u001b[0msurface_temperature_kelvin\u001b[0m\u001b[0;34m)\u001b[0m\u001b[0;34m:\u001b[0m\u001b[0;34m\u001b[0m\u001b[0m\n\u001b[1;32m      8\u001b[0m         \u001b[0mself\u001b[0m\u001b[0;34m.\u001b[0m\u001b[0mname\u001b[0m \u001b[0;34m=\u001b[0m \u001b[0mname\u001b[0m\u001b[0;34m,\u001b[0m\u001b[0;34m\u001b[0m\u001b[0m\n\u001b[0;32m----> 9\u001b[0;31m         \u001b[0mself\u001b[0m\u001b[0;34m.\u001b[0m\u001b[0mradius_metres\u001b[0m \u001b[0;34m=\u001b[0m \u001b[0mradius_metres\u001b[0m\u001b[0;34m,\u001b[0m\u001b[0;34m\u001b[0m\u001b[0m\n\u001b[0m\u001b[1;32m     10\u001b[0m         \u001b[0mself\u001b[0m\u001b[0;34m.\u001b[0m\u001b[0mmass_kilograms\u001b[0m \u001b[0;34m=\u001b[0m \u001b[0mmass_kilograms\u001b[0m\u001b[0;34m,\u001b[0m\u001b[0;34m\u001b[0m\u001b[0m\n\u001b[1;32m     11\u001b[0m         \u001b[0mself\u001b[0m\u001b[0;34m.\u001b[0m\u001b[0morbital_period_seconds\u001b[0m \u001b[0;34m=\u001b[0m \u001b[0morbital_period_seconds\u001b[0m\u001b[0;34m,\u001b[0m\u001b[0;34m\u001b[0m\u001b[0m\n",
      "\u001b[0;32m<ipython-input-164-b021affd93fd>\u001b[0m in \u001b[0;36mradius_metres\u001b[0;34m(self, value)\u001b[0m\n\u001b[1;32m     29\u001b[0m     \u001b[0;32mdef\u001b[0m \u001b[0mradius_metres\u001b[0m\u001b[0;34m(\u001b[0m\u001b[0mself\u001b[0m\u001b[0;34m,\u001b[0m\u001b[0mvalue\u001b[0m\u001b[0;34m)\u001b[0m\u001b[0;34m:\u001b[0m\u001b[0;34m\u001b[0m\u001b[0m\n\u001b[1;32m     30\u001b[0m         \u001b[0;32mif\u001b[0m \u001b[0mvalue\u001b[0m\u001b[0;34m[\u001b[0m\u001b[0;36m0\u001b[0m\u001b[0;34m]\u001b[0m \u001b[0;34m<=\u001b[0m \u001b[0;36m0\u001b[0m\u001b[0;34m:\u001b[0m\u001b[0;34m\u001b[0m\u001b[0m\n\u001b[0;32m---> 31\u001b[0;31m             \u001b[0;32mraise\u001b[0m \u001b[0mValueError\u001b[0m\u001b[0;34m(\u001b[0m\u001b[0;34m\"radius can't be negative\"\u001b[0m\u001b[0;34m)\u001b[0m\u001b[0;34m\u001b[0m\u001b[0m\n\u001b[0m\u001b[1;32m     32\u001b[0m         \u001b[0mself\u001b[0m\u001b[0;34m.\u001b[0m\u001b[0m_radius_metres\u001b[0m \u001b[0;34m=\u001b[0m \u001b[0mvalue\u001b[0m\u001b[0;34m\u001b[0m\u001b[0m\n",
      "\u001b[0;31mValueError\u001b[0m: radius can't be negative"
     ]
    }
   ],
   "source": [
    "# now we can no longer construct mass less planets\n",
    "planet_x = Planet(name =\"x\",radius_metres = -11843,mass_kilograms = 100,orbital_period_seconds = 78160543,surface_temperature_kelvin = 55)"
   ]
  },
  {
   "cell_type": "code",
   "execution_count": 167,
   "metadata": {},
   "outputs": [],
   "source": [
    "# Trade off ; code exploded + lots of redundent code for checking and validation\n",
    "\n",
    "# solution ; DESCRIPTORS"
   ]
  },
  {
   "cell_type": "code",
   "execution_count": 168,
   "metadata": {},
   "outputs": [],
   "source": [
    "## Properties are descriptors\n",
    "\n",
    "# screenshot; property as function decorator for property GETTER.\n",
    "\n",
    "class Example:\n",
    "    \n",
    "    @property\n",
    "    def p(self):\n",
    "        return self._p\n",
    "    \n",
    "    @p.setter\n",
    "    def p(self,value):\n",
    "        self._p = value"
   ]
  },
  {
   "cell_type": "code",
   "execution_count": 169,
   "metadata": {},
   "outputs": [
    {
     "ename": "NameError",
     "evalue": "name 'decorator' is not defined",
     "output_type": "error",
     "traceback": [
      "\u001b[0;31m---------------------------------------------------------------------------\u001b[0m",
      "\u001b[0;31mNameError\u001b[0m                                 Traceback (most recent call last)",
      "\u001b[0;32m<ipython-input-169-dadd337b39f7>\u001b[0m in \u001b[0;36m<module>\u001b[0;34m()\u001b[0m\n\u001b[1;32m      1\u001b[0m \u001b[0;31m# decorator syntactic sugar\u001b[0m\u001b[0;34m\u001b[0m\u001b[0;34m\u001b[0m\u001b[0m\n\u001b[1;32m      2\u001b[0m \u001b[0;34m\u001b[0m\u001b[0m\n\u001b[0;32m----> 3\u001b[0;31m \u001b[0;34m@\u001b[0m\u001b[0mdecorator\u001b[0m\u001b[0;34m\u001b[0m\u001b[0m\n\u001b[0m\u001b[1;32m      4\u001b[0m \u001b[0;32mdef\u001b[0m \u001b[0mf\u001b[0m\u001b[0;34m(\u001b[0m\u001b[0;34m)\u001b[0m\u001b[0;34m:\u001b[0m\u001b[0;34m\u001b[0m\u001b[0m\n\u001b[1;32m      5\u001b[0m     \u001b[0;32mpass\u001b[0m\u001b[0;34m\u001b[0m\u001b[0m\n",
      "\u001b[0;31mNameError\u001b[0m: name 'decorator' is not defined"
     ]
    }
   ],
   "source": [
    "# decorator syntactic sugar\n",
    "\n",
    "@decorator\n",
    "def f():\n",
    "    pass\n",
    "\n",
    "# or\n",
    "\n",
    "def f():\n",
    "    pass\n",
    "\n",
    "f = decorator(f)"
   ]
  },
  {
   "cell_type": "code",
   "execution_count": 176,
   "metadata": {},
   "outputs": [],
   "source": [
    "# Solution use PROPERTY GETTER and PROPERTY SETTER\n",
    "\n",
    "# example\n",
    "\n",
    "class Planet:\n",
    "    \n",
    "    def __init__(self,name,radius_metres,mass_kilograms,orbital_period_seconds,surface_temperature_kelvin):\n",
    "        self.name = name,\n",
    "        self.radius_metres = radius_metres,\n",
    "        self.mass_kilograms = mass_kilograms,\n",
    "        self.orbital_period_seconds = orbital_period_seconds,\n",
    "        self.surface_temperature_kelvin = surface_temperature_kelvin\n",
    "        \n",
    "    def _get_name(self):\n",
    "        return self._name\n",
    "    \n",
    "    def _set_name(self,value):\n",
    "        if not value[0]:\n",
    "            raise ValueError(\"can't set empty name for planet\")\n",
    "        self._name = value\n",
    "        \n",
    "    def _get_radius_metres(self):\n",
    "        return self._radius_meters\n",
    "    \n",
    "    def _set_radius_metres(self,value):\n",
    "        if value[0] <= 0:\n",
    "            raise ValueError(\"radius can't be negative\")\n",
    "        self._radius_metres = value   \n",
    "        \n",
    "    radius_metres = property(fget=_get_radius_metres ,fset=_set_radius_metres)"
   ]
  },
  {
   "cell_type": "code",
   "execution_count": 177,
   "metadata": {},
   "outputs": [],
   "source": [
    "pluto = Planet(name =\"pluto\",radius_metres = 1184e3,mass_kilograms = 305e22,orbital_period_seconds = 78160543,surface_temperature_kelvin = 55)"
   ]
  },
  {
   "cell_type": "code",
   "execution_count": 178,
   "metadata": {},
   "outputs": [
    {
     "ename": "AttributeError",
     "evalue": "'Planet' object has no attribute '_radius_meters'",
     "output_type": "error",
     "traceback": [
      "\u001b[0;31m---------------------------------------------------------------------------\u001b[0m",
      "\u001b[0;31mAttributeError\u001b[0m                            Traceback (most recent call last)",
      "\u001b[0;32m<ipython-input-178-aa6d549bb2d6>\u001b[0m in \u001b[0;36m<module>\u001b[0;34m()\u001b[0m\n\u001b[0;32m----> 1\u001b[0;31m \u001b[0mpluto\u001b[0m\u001b[0;34m.\u001b[0m\u001b[0mradius_metres\u001b[0m\u001b[0;34m\u001b[0m\u001b[0m\n\u001b[0m",
      "\u001b[0;32m<ipython-input-176-99aa86f52afe>\u001b[0m in \u001b[0;36m_get_radius_metres\u001b[0;34m(self)\u001b[0m\n\u001b[1;32m     21\u001b[0m \u001b[0;34m\u001b[0m\u001b[0m\n\u001b[1;32m     22\u001b[0m     \u001b[0;32mdef\u001b[0m \u001b[0m_get_radius_metres\u001b[0m\u001b[0;34m(\u001b[0m\u001b[0mself\u001b[0m\u001b[0;34m)\u001b[0m\u001b[0;34m:\u001b[0m\u001b[0;34m\u001b[0m\u001b[0m\n\u001b[0;32m---> 23\u001b[0;31m         \u001b[0;32mreturn\u001b[0m \u001b[0mself\u001b[0m\u001b[0;34m.\u001b[0m\u001b[0m_radius_meters\u001b[0m\u001b[0;34m\u001b[0m\u001b[0m\n\u001b[0m\u001b[1;32m     24\u001b[0m \u001b[0;34m\u001b[0m\u001b[0m\n\u001b[1;32m     25\u001b[0m     \u001b[0;32mdef\u001b[0m \u001b[0m_set_radius_metres\u001b[0m\u001b[0;34m(\u001b[0m\u001b[0mself\u001b[0m\u001b[0;34m,\u001b[0m\u001b[0mvalue\u001b[0m\u001b[0;34m)\u001b[0m\u001b[0;34m:\u001b[0m\u001b[0;34m\u001b[0m\u001b[0m\n",
      "\u001b[0;31mAttributeError\u001b[0m: 'Planet' object has no attribute '_radius_meters'"
     ]
    }
   ],
   "source": [
    "pluto.radius_metres"
   ]
  },
  {
   "cell_type": "code",
   "execution_count": 179,
   "metadata": {},
   "outputs": [
    {
     "ename": "TypeError",
     "evalue": "'int' object is not subscriptable",
     "output_type": "error",
     "traceback": [
      "\u001b[0;31m---------------------------------------------------------------------------\u001b[0m",
      "\u001b[0;31mTypeError\u001b[0m                                 Traceback (most recent call last)",
      "\u001b[0;32m<ipython-input-179-d7bd28d771cd>\u001b[0m in \u001b[0;36m<module>\u001b[0;34m()\u001b[0m\n\u001b[0;32m----> 1\u001b[0;31m \u001b[0mpluto\u001b[0m\u001b[0;34m.\u001b[0m\u001b[0mradius_metres\u001b[0m \u001b[0;34m=\u001b[0m \u001b[0;34m-\u001b[0m\u001b[0;36m10\u001b[0m\u001b[0;34m\u001b[0m\u001b[0m\n\u001b[0m",
      "\u001b[0;32m<ipython-input-176-99aa86f52afe>\u001b[0m in \u001b[0;36m_set_radius_metres\u001b[0;34m(self, value)\u001b[0m\n\u001b[1;32m     24\u001b[0m \u001b[0;34m\u001b[0m\u001b[0m\n\u001b[1;32m     25\u001b[0m     \u001b[0;32mdef\u001b[0m \u001b[0m_set_radius_metres\u001b[0m\u001b[0;34m(\u001b[0m\u001b[0mself\u001b[0m\u001b[0;34m,\u001b[0m\u001b[0mvalue\u001b[0m\u001b[0;34m)\u001b[0m\u001b[0;34m:\u001b[0m\u001b[0;34m\u001b[0m\u001b[0m\n\u001b[0;32m---> 26\u001b[0;31m         \u001b[0;32mif\u001b[0m \u001b[0mvalue\u001b[0m\u001b[0;34m[\u001b[0m\u001b[0;36m0\u001b[0m\u001b[0;34m]\u001b[0m \u001b[0;34m<=\u001b[0m \u001b[0;36m0\u001b[0m\u001b[0;34m:\u001b[0m\u001b[0;34m\u001b[0m\u001b[0m\n\u001b[0m\u001b[1;32m     27\u001b[0m             \u001b[0;32mraise\u001b[0m \u001b[0mValueError\u001b[0m\u001b[0;34m(\u001b[0m\u001b[0;34m\"radius can't be negative\"\u001b[0m\u001b[0;34m)\u001b[0m\u001b[0;34m\u001b[0m\u001b[0m\n\u001b[1;32m     28\u001b[0m         \u001b[0mself\u001b[0m\u001b[0;34m.\u001b[0m\u001b[0m_radius_metres\u001b[0m \u001b[0;34m=\u001b[0m \u001b[0mvalue\u001b[0m\u001b[0;34m\u001b[0m\u001b[0m\n",
      "\u001b[0;31mTypeError\u001b[0m: 'int' object is not subscriptable"
     ]
    }
   ],
   "source": [
    "pluto.radius_metres = -10"
   ]
  },
  {
   "cell_type": "markdown",
   "metadata": {},
   "source": [
    "### Implementing a Descriptor"
   ]
  },
  {
   "cell_type": "code",
   "execution_count": 187,
   "metadata": {},
   "outputs": [],
   "source": [
    "# example of descriptor protocol\n",
    "\n",
    "from weakref import WeakKeyDictionary\n",
    "\n",
    "class Positive:\n",
    "    \n",
    "    def __init__(self):\n",
    "        self._instance_data = WeakKeyDictionary()\n",
    "    \n",
    "    def __get__(self,instance,owner):\n",
    "        return self._instance_data[instance]\n",
    "    \n",
    "    def __set__(self,instance,value):\n",
    "        if value[0] <= 0:\n",
    "            raise ValueError(\"value not positive\")\n",
    "        self._instance_data[instance] = value\n",
    "    \n",
    "    def __delete__(self,instance):\n",
    "        raise AttributeError(\"can't del attribute\")\n",
    "        \n",
    "\n",
    "class Planet:\n",
    "    \n",
    "    def __init__(self,name,radius_metres,mass_kilograms,orbital_period_seconds,surface_temperature_kelvin):\n",
    "        self.name = name,\n",
    "        self.radius_metres = radius_metres,\n",
    "        self.mass_kilograms = mass_kilograms,\n",
    "        self.orbital_period_seconds = orbital_period_seconds,\n",
    "        self.surface_temperature_kelvin = surface_temperature_kelvin\n",
    "              \n",
    "    @property\n",
    "    def name(self):\n",
    "        return self._name\n",
    "    \n",
    "    @name.setter\n",
    "    def name(self,value):\n",
    "        if not value[0]:\n",
    "            raise ValueError(\"can't set empty name for planet\")\n",
    "        self._name = value\n",
    "        \n",
    "    radius_metres = Positive()"
   ]
  },
  {
   "cell_type": "code",
   "execution_count": 188,
   "metadata": {},
   "outputs": [],
   "source": [
    "pluto = Planet(name =\"pluto\",radius_metres = 1184e3,mass_kilograms = 305e22,orbital_period_seconds = 78160543,surface_temperature_kelvin = 55)"
   ]
  },
  {
   "cell_type": "code",
   "execution_count": 191,
   "metadata": {},
   "outputs": [
    {
     "data": {
      "text/plain": [
       "(3.05e+24,)"
      ]
     },
     "execution_count": 191,
     "metadata": {},
     "output_type": "execute_result"
    }
   ],
   "source": [
    "m = pluto.mass_kilograms\n",
    "# equivivalent to m = Positive.__get__(self,pluto,Planet)\n",
    "\n",
    "m"
   ]
  },
  {
   "cell_type": "code",
   "execution_count": 193,
   "metadata": {},
   "outputs": [],
   "source": [
    "pluto.mass_kilograms = m\n",
    "# equivivalent to Positive.__set__(self,pluto,m)"
   ]
  },
  {
   "cell_type": "code",
   "execution_count": 194,
   "metadata": {},
   "outputs": [],
   "source": [
    "# screenshot for explanation."
   ]
  },
  {
   "cell_type": "markdown",
   "metadata": {},
   "source": [
    "### Calling Descriptors on classes"
   ]
  },
  {
   "cell_type": "code",
   "execution_count": 195,
   "metadata": {},
   "outputs": [
    {
     "data": {
      "text/plain": [
       "(3.05e+24,)"
      ]
     },
     "execution_count": 195,
     "metadata": {},
     "output_type": "execute_result"
    }
   ],
   "source": [
    "pluto.mass_kilograms # instance attribute retrieval works fine"
   ]
  },
  {
   "cell_type": "code",
   "execution_count": 197,
   "metadata": {},
   "outputs": [
    {
     "ename": "TypeError",
     "evalue": "cannot create weak reference to 'NoneType' object",
     "output_type": "error",
     "traceback": [
      "\u001b[0;31m---------------------------------------------------------------------------\u001b[0m",
      "\u001b[0;31mTypeError\u001b[0m                                 Traceback (most recent call last)",
      "\u001b[0;32m<ipython-input-197-702ecbdc1c3a>\u001b[0m in \u001b[0;36m<module>\u001b[0;34m()\u001b[0m\n\u001b[1;32m      1\u001b[0m \u001b[0;31m# however class attribute retrieval doesn't\u001b[0m\u001b[0;34m\u001b[0m\u001b[0;34m\u001b[0m\u001b[0m\n\u001b[0;32m----> 2\u001b[0;31m \u001b[0mPlanet\u001b[0m\u001b[0;34m.\u001b[0m\u001b[0mradius_metres\u001b[0m\u001b[0;34m\u001b[0m\u001b[0m\n\u001b[0m",
      "\u001b[0;32m<ipython-input-187-d5937beb82f9>\u001b[0m in \u001b[0;36m__get__\u001b[0;34m(self, instance, owner)\u001b[0m\n\u001b[1;32m      9\u001b[0m \u001b[0;34m\u001b[0m\u001b[0m\n\u001b[1;32m     10\u001b[0m     \u001b[0;32mdef\u001b[0m \u001b[0m__get__\u001b[0m\u001b[0;34m(\u001b[0m\u001b[0mself\u001b[0m\u001b[0;34m,\u001b[0m\u001b[0minstance\u001b[0m\u001b[0;34m,\u001b[0m\u001b[0mowner\u001b[0m\u001b[0;34m)\u001b[0m\u001b[0;34m:\u001b[0m\u001b[0;34m\u001b[0m\u001b[0m\n\u001b[0;32m---> 11\u001b[0;31m         \u001b[0;32mreturn\u001b[0m \u001b[0mself\u001b[0m\u001b[0;34m.\u001b[0m\u001b[0m_instance_data\u001b[0m\u001b[0;34m[\u001b[0m\u001b[0minstance\u001b[0m\u001b[0;34m]\u001b[0m\u001b[0;34m\u001b[0m\u001b[0m\n\u001b[0m\u001b[1;32m     12\u001b[0m \u001b[0;34m\u001b[0m\u001b[0m\n\u001b[1;32m     13\u001b[0m     \u001b[0;32mdef\u001b[0m \u001b[0m__set__\u001b[0m\u001b[0;34m(\u001b[0m\u001b[0mself\u001b[0m\u001b[0;34m,\u001b[0m\u001b[0minstance\u001b[0m\u001b[0;34m,\u001b[0m\u001b[0mvalue\u001b[0m\u001b[0;34m)\u001b[0m\u001b[0;34m:\u001b[0m\u001b[0;34m\u001b[0m\u001b[0m\n",
      "\u001b[0;32m/usr/lib/python3.4/weakref.py\u001b[0m in \u001b[0;36m__getitem__\u001b[0;34m(self, key)\u001b[0m\n\u001b[1;32m    350\u001b[0m \u001b[0;34m\u001b[0m\u001b[0m\n\u001b[1;32m    351\u001b[0m     \u001b[0;32mdef\u001b[0m \u001b[0m__getitem__\u001b[0m\u001b[0;34m(\u001b[0m\u001b[0mself\u001b[0m\u001b[0;34m,\u001b[0m \u001b[0mkey\u001b[0m\u001b[0;34m)\u001b[0m\u001b[0;34m:\u001b[0m\u001b[0;34m\u001b[0m\u001b[0m\n\u001b[0;32m--> 352\u001b[0;31m         \u001b[0;32mreturn\u001b[0m \u001b[0mself\u001b[0m\u001b[0;34m.\u001b[0m\u001b[0mdata\u001b[0m\u001b[0;34m[\u001b[0m\u001b[0mref\u001b[0m\u001b[0;34m(\u001b[0m\u001b[0mkey\u001b[0m\u001b[0;34m)\u001b[0m\u001b[0;34m]\u001b[0m\u001b[0;34m\u001b[0m\u001b[0m\n\u001b[0m\u001b[1;32m    353\u001b[0m \u001b[0;34m\u001b[0m\u001b[0m\n\u001b[1;32m    354\u001b[0m     \u001b[0;32mdef\u001b[0m \u001b[0m__len__\u001b[0m\u001b[0;34m(\u001b[0m\u001b[0mself\u001b[0m\u001b[0;34m)\u001b[0m\u001b[0;34m:\u001b[0m\u001b[0;34m\u001b[0m\u001b[0m\n",
      "\u001b[0;31mTypeError\u001b[0m: cannot create weak reference to 'NoneType' object"
     ]
    }
   ],
   "source": [
    "# however class attribute retrieval doesn't\n",
    "Planet.radius_metres"
   ]
  },
  {
   "cell_type": "code",
   "execution_count": 198,
   "metadata": {},
   "outputs": [],
   "source": [
    "# example of descriptor protocol\n",
    "\n",
    "from weakref import WeakKeyDictionary\n",
    "\n",
    "class Positive:\n",
    "    \n",
    "    def __init__(self):\n",
    "        self._instance_data = WeakKeyDictionary()\n",
    "    \n",
    "    def __get__(self,instance,owner):\n",
    "        if instance is None:\n",
    "            return self\n",
    "        return self._instance_data[instance]\n",
    "    \n",
    "    def __set__(self,instance,value):\n",
    "        if value[0] <= 0:\n",
    "            raise ValueError(\"value not positive\")\n",
    "        self._instance_data[instance] = value\n",
    "    \n",
    "    def __delete__(self,instance):\n",
    "        raise AttributeError(\"can't del attribute\")\n",
    "        \n",
    "\n",
    "class Planet:\n",
    "    \n",
    "    def __init__(self,name,radius_metres,mass_kilograms,orbital_period_seconds,surface_temperature_kelvin):\n",
    "        self.name = name,\n",
    "        self.radius_metres = radius_metres,\n",
    "        self.mass_kilograms = mass_kilograms,\n",
    "        self.orbital_period_seconds = orbital_period_seconds,\n",
    "        self.surface_temperature_kelvin = surface_temperature_kelvin\n",
    "              \n",
    "    @property\n",
    "    def name(self):\n",
    "        return self._name\n",
    "    \n",
    "    @name.setter\n",
    "    def name(self,value):\n",
    "        if not value[0]:\n",
    "            raise ValueError(\"can't set empty name for planet\")\n",
    "        self._name = value\n",
    "        \n",
    "    radius_metres = Positive()"
   ]
  },
  {
   "cell_type": "code",
   "execution_count": 199,
   "metadata": {},
   "outputs": [
    {
     "data": {
      "text/plain": [
       "<__main__.Positive at 0x7f100976ed68>"
      ]
     },
     "execution_count": 199,
     "metadata": {},
     "output_type": "execute_result"
    }
   ],
   "source": [
    "Planet.radius_metres"
   ]
  },
  {
   "cell_type": "markdown",
   "metadata": {},
   "source": [
    "### Data vs Non-Data Descriptors"
   ]
  },
  {
   "cell_type": "code",
   "execution_count": 200,
   "metadata": {},
   "outputs": [],
   "source": [
    "# Non-data descriptors contain __get__ but DOESN\"T Contain __set__ and __delete__\n",
    "\n",
    "# Data descriptors contain __get__ , __set__ and/or __delete__"
   ]
  },
  {
   "cell_type": "code",
   "execution_count": 201,
   "metadata": {},
   "outputs": [],
   "source": [
    "# Attribute lookup\n",
    "# object.__getattribute__ transforms a call like obj.attr into\n",
    "# type(obj).__dict__['attr'].__get__(obj,type(obj))"
   ]
  },
  {
   "cell_type": "code",
   "execution_count": 203,
   "metadata": {},
   "outputs": [],
   "source": [
    "# Attribute lookup precedence\n",
    "# if an instance __dict__ has an entry with the same name as a data-descriptor(__get__ , __set__ , __delete__)\n",
    "# the data-descriptor takes precedence\n",
    "\n",
    "# if an instance __dict__ has an entry with the same name as a non-data-descriptor(__get__)\n",
    "# the entry in __dict__ takes precedence"
   ]
  },
  {
   "cell_type": "code",
   "execution_count": 204,
   "metadata": {},
   "outputs": [],
   "source": [
    "# ie\n",
    "\n",
    "# 1) data descriptor in class\n",
    "# 2) instance attribute in __dict__\n",
    "# 3) non-data descriptor in class"
   ]
  },
  {
   "cell_type": "code",
   "execution_count": 208,
   "metadata": {},
   "outputs": [],
   "source": [
    "class DataDescriptor:\n",
    "    \n",
    "    def __get__(self,instance,owner):\n",
    "        print(\"DataDescriptor.__get__({} , {} , {})\".format(self,instance,owner))\n",
    "    \n",
    "    def __set__(self,instance,value):\n",
    "        print(\"DataDescriptor.__set__({} , {} , {})\".format(self,instance,value))\n",
    "\n",
    "class NonDataDescriptor:\n",
    "    def __get__(self,instance,owner):\n",
    "        print(\"NonDataDescriptor.__get__({} , {} , {})\".format(self,instance,owner))\n",
    "\n",
    "class Owner:\n",
    "    a = DataDescriptor()\n",
    "    b = NonDataDescriptor()"
   ]
  },
  {
   "cell_type": "code",
   "execution_count": 209,
   "metadata": {},
   "outputs": [
    {
     "name": "stdout",
     "output_type": "stream",
     "text": [
      "DataDescriptor.__get__(<__main__.DataDescriptor object at 0x7f100976e400> , <__main__.Owner object at 0x7f1009759a90> , <class '__main__.Owner'>)\n"
     ]
    }
   ],
   "source": [
    "ob = Owner()\n",
    "\n",
    "ob.a"
   ]
  },
  {
   "cell_type": "code",
   "execution_count": 210,
   "metadata": {},
   "outputs": [
    {
     "name": "stdout",
     "output_type": "stream",
     "text": [
      "DataDescriptor.__get__(<__main__.DataDescriptor object at 0x7f100976e400> , <__main__.Owner object at 0x7f1009759a90> , <class '__main__.Owner'>)\n"
     ]
    }
   ],
   "source": [
    "ob.__dict__['a'] =198865\n",
    "\n",
    "\n",
    "ob.a"
   ]
  },
  {
   "cell_type": "code",
   "execution_count": 211,
   "metadata": {},
   "outputs": [
    {
     "name": "stdout",
     "output_type": "stream",
     "text": [
      "NonDataDescriptor.__get__(<__main__.NonDataDescriptor object at 0x7f100976e2b0> , <__main__.Owner object at 0x7f1009759a90> , <class '__main__.Owner'>)\n"
     ]
    }
   ],
   "source": [
    "ob.b"
   ]
  },
  {
   "cell_type": "code",
   "execution_count": 212,
   "metadata": {},
   "outputs": [
    {
     "data": {
      "text/plain": [
       "195"
      ]
     },
     "execution_count": 212,
     "metadata": {},
     "output_type": "execute_result"
    }
   ],
   "source": [
    "ob.__dict__['b'] =195\n",
    "\n",
    "ob.b"
   ]
  },
  {
   "cell_type": "markdown",
   "metadata": {},
   "source": [
    "## Ch- Instance Creation"
   ]
  },
  {
   "cell_type": "code",
   "execution_count": null,
   "metadata": {},
   "outputs": [],
   "source": [
    "# Allocation vs initialisation\n",
    "\n",
    "# the initializer establishes the invariance\n",
    "# Property accessors prevent inadvetent modification of the encapsulated data. \n",
    "\n",
    "# __init__ isn't responsible for creating instance, then what is?\n",
    "# solution __new__"
   ]
  },
  {
   "cell_type": "code",
   "execution_count": null,
   "metadata": {},
   "outputs": [],
   "source": [
    "# Allocation with __new__"
   ]
  },
  {
   "cell_type": "code",
   "execution_count": 1,
   "metadata": {},
   "outputs": [],
   "source": [
    "# def __new__(cls,*args,**kwargs):\n",
    "#     return obj\n",
    "\n",
    "\n",
    "# SKIPPED"
   ]
  },
  {
   "cell_type": "markdown",
   "metadata": {},
   "source": [
    "## Customizing Allocation by over ridding __new__"
   ]
  },
  {
   "cell_type": "code",
   "execution_count": 3,
   "metadata": {},
   "outputs": [],
   "source": [
    "# screenshot\n",
    "\n",
    "class Myclass:\n",
    "    \n",
    "    def __new__(cls):\n",
    "        pass\n",
    "    \n",
    "    def __init__(self):\n",
    "        pass"
   ]
  },
  {
   "cell_type": "code",
   "execution_count": 4,
   "metadata": {},
   "outputs": [],
   "source": [
    "# Use case: Interning , store only one copy of each distinct value.\n",
    "\n",
    "# SKIPPED ; chess board example"
   ]
  },
  {
   "cell_type": "markdown",
   "metadata": {},
   "source": [
    "# CH -  METACLASS"
   ]
  },
  {
   "cell_type": "code",
   "execution_count": 5,
   "metadata": {},
   "outputs": [],
   "source": [
    "# what is the class of class object?\n",
    "# default metaclass called type\n",
    "# specifying metaclass in class definition\n",
    "# defining metaclass including special methods of meta class.\n",
    "# metaclass and inheritance"
   ]
  },
  {
   "cell_type": "code",
   "execution_count": 6,
   "metadata": {},
   "outputs": [],
   "source": [
    "# example THE CLASS OF A CLASS\n",
    "# eg) Widget class \n",
    "\n",
    "# screenshot\n",
    "# type of instance is it's class\n",
    "# whereas type of a class is TYPE\n",
    "\n",
    "# ie metaclass of class is type\n",
    "# in our example metaclass of WIDGET CLASS is TYPE\n",
    "\n",
    "# In general the type of any class in Python is it's metaclass, and default metaclass is type\n",
    "\n",
    "\n",
    "class Widget:\n",
    "    pass"
   ]
  },
  {
   "cell_type": "code",
   "execution_count": 7,
   "metadata": {},
   "outputs": [],
   "source": [
    "w = Widget()"
   ]
  },
  {
   "cell_type": "code",
   "execution_count": 8,
   "metadata": {},
   "outputs": [
    {
     "data": {
      "text/plain": [
       "<__main__.Widget at 0x7fc2846aeb00>"
      ]
     },
     "execution_count": 8,
     "metadata": {},
     "output_type": "execute_result"
    }
   ],
   "source": [
    "w"
   ]
  },
  {
   "cell_type": "code",
   "execution_count": 9,
   "metadata": {},
   "outputs": [
    {
     "data": {
      "text/plain": [
       "__main__.Widget"
      ]
     },
     "execution_count": 9,
     "metadata": {},
     "output_type": "execute_result"
    }
   ],
   "source": [
    "type(w)"
   ]
  },
  {
   "cell_type": "code",
   "execution_count": 10,
   "metadata": {},
   "outputs": [
    {
     "data": {
      "text/plain": [
       "type"
      ]
     },
     "execution_count": 10,
     "metadata": {},
     "output_type": "execute_result"
    }
   ],
   "source": [
    "type(Widget)"
   ]
  },
  {
   "cell_type": "code",
   "execution_count": 11,
   "metadata": {},
   "outputs": [
    {
     "data": {
      "text/plain": [
       "__main__.Widget"
      ]
     },
     "execution_count": 11,
     "metadata": {},
     "output_type": "execute_result"
    }
   ],
   "source": [
    "w.__class__"
   ]
  },
  {
   "cell_type": "code",
   "execution_count": 12,
   "metadata": {},
   "outputs": [
    {
     "data": {
      "text/plain": [
       "type"
      ]
     },
     "execution_count": 12,
     "metadata": {},
     "output_type": "execute_result"
    }
   ],
   "source": [
    "w.__class__.__class__"
   ]
  },
  {
   "cell_type": "code",
   "execution_count": 13,
   "metadata": {},
   "outputs": [],
   "source": [
    "# Meta classes are used at the time of Class definition\n",
    "\n",
    "class Widget:\n",
    "    pass\n",
    "\n",
    "# syntactic sugar\n",
    "\n",
    "class Widget(object , metaclass = type):\n",
    "    pass\n",
    "\n",
    "# where default base class = object\n",
    "# default metaclass = type"
   ]
  },
  {
   "cell_type": "code",
   "execution_count": 14,
   "metadata": {},
   "outputs": [],
   "source": [
    "### Class Allocation and Initialization\n",
    "\n",
    "class Widget:\n",
    "    pass\n",
    "\n",
    "\n",
    "# behind the scenes \n",
    "# Metaclass creates a namespace dictionary\n",
    "# Runtime populates this namespace dictionary from the newly created class block\n",
    "# This is passed to MetaClass which converts the dictionary into a class object (eg Widget here)\n",
    "\n",
    "# Tasks that meta classes perform during creation of a new class:\n",
    "\n",
    "class Widget:\n",
    "    pass\n",
    "\n",
    "# name = \"Widget\"\n",
    "# metaclass = type\n",
    "# bases = ()        # the class has no base classes other than the implicit object\n",
    "# kwargs = {}       \n",
    "# namespace = metaclass.__prepare__(name,bases,**kwargs)     # used to create a new namespace object which behaves likes a dictionary\n",
    "# Widget = metaclass.__new__(metaclass,name,bases,namespace,**kwargs)    # __new__ method called to allocate the class object.\n",
    "# metaclass.__init__(Widget,name,bases,namespace,**kwargs)     # meta classes __init__ is called to initialize CLASS object"
   ]
  },
  {
   "cell_type": "code",
   "execution_count": 15,
   "metadata": {},
   "outputs": [],
   "source": [
    "# By providing our own meta class we can customize this behaviour\n",
    "\n",
    "# example meta class called tracing meta\n",
    "\n",
    "class TracingMeta(type):\n",
    "    \n",
    "    @classmethod\n",
    "    def __prepare__(mcs,name,bases,**kwargs):\n",
    "        print(\"TracingMeta.__prepare__(name,bases,**kwargs)\")\n",
    "        print(\"mcs = \",mcs)\n",
    "        print(\"name = \",name)\n",
    "        print(\"bases = \",bases)\n",
    "        print(\"kwargs = \",kwargs)\n",
    "        namespace = super().__prepare__(name,bases)\n",
    "        print(\"namespace = \",namespace)\n",
    "        return namespace\n",
    "    \n",
    "    def __new__(mcs,name,bases,namespace,**kwargs):\n",
    "        print(\"TracingMeta.__new__(mcs,name,bases,namespace,**kwargs)\")\n",
    "        print(\"mcs = \",mcs)\n",
    "        print(\"name = \",name)\n",
    "        print(\"bases = \",bases)\n",
    "        print(\"namespace = \",namespace)\n",
    "        print(\"kwargs = \",kwargs)\n",
    "        cls = super().__new__(mcs,name,bases,namespace)\n",
    "        print(\"cls = \",cls)\n",
    "        return cls\n",
    "    \n",
    "    def __init__(cls,name,bases,namespace,**kwargs):\n",
    "        print(\"TracingMeta.__init__(cls,name,bases,namespace,**kwargs)\")\n",
    "        print(\"cls = \",cls)\n",
    "        print(\"name = \",name)\n",
    "        print(\"bases = \",bases)\n",
    "        print(\"namespace = \",namespace)\n",
    "        print(\"kwargs = \",kwargs)\n",
    "        super().__init__(name,bases,namespace)"
   ]
  },
  {
   "cell_type": "code",
   "execution_count": 16,
   "metadata": {},
   "outputs": [
    {
     "name": "stdout",
     "output_type": "stream",
     "text": [
      "TracingMeta.__prepare__(name,bases,**kwargs)\n",
      "mcs =  <class '__main__.TracingMeta'>\n",
      "name =  Widget\n",
      "bases =  ()\n",
      "kwargs =  {}\n",
      "namespace =  {}\n",
      "TracingMeta.__new__(mcs,name,bases,namespace,**kwargs)\n",
      "mcs =  <class '__main__.TracingMeta'>\n",
      "name =  Widget\n",
      "bases =  ()\n",
      "namespace =  {'action': <function Widget.action at 0x7fc284672950>, '__qualname__': 'Widget', '__module__': '__main__', 'the_answer': 42}\n",
      "kwargs =  {}\n",
      "cls =  <class '__main__.Widget'>\n",
      "TracingMeta.__init__(cls,name,bases,namespace,**kwargs)\n",
      "cls =  <class '__main__.Widget'>\n",
      "name =  Widget\n",
      "bases =  ()\n",
      "namespace =  {'action': <function Widget.action at 0x7fc284672950>, '__qualname__': 'Widget', '__module__': '__main__', 'the_answer': 42}\n",
      "kwargs =  {}\n"
     ]
    }
   ],
   "source": [
    "# our metaclass should be a sub class of an existing meta-class , so we subclass type.\n",
    "\n",
    "class Widget(metaclass=TracingMeta):\n",
    "    def action(message):\n",
    "        print(message)\n",
    "    the_answer = 42"
   ]
  },
  {
   "cell_type": "code",
   "execution_count": 17,
   "metadata": {},
   "outputs": [],
   "source": [
    "# __prepare__ ; purpose produce an initial mapping object to contain the class namespace , (explicit method)\n",
    "# mcs argument short for metaclass is a ref to the metaclass itself. analogous to self argument\n",
    "# name arg contains name of our widget class as string\n",
    "# bases arg is empty tuple , it contains base classes for Widget class.\n",
    "# __prepare__ calls it's super class implementation in type the return value is a dictionary or more generally a mapping type.\n",
    "# this dictionary will be the namespace associated with the nascent class.\n",
    "\n",
    "\n",
    "# __new__ ; purpose allocate the new class object  (implicit method)\n",
    "# the mapping(dict) object returned from __prepare__ is passed as namespace arguemnt to _new__\n",
    "# python runtime populates this namespace dict\n",
    "# call base class's __new__ via super and pass mcs,name,bases and namespace as args\n",
    "# object returned is the Widget class\n",
    "\n",
    "\n",
    "# __init__ ; purpose to configure the newly created class object\n",
    "# __ init__ is the instance method of the meta class.\n",
    "# meta level mcs->cls->self\n",
    "\n",
    "# Meta classes give us the opportunity to modify the dict of class attributes,\n",
    "# which includes methods before the class is instantiated.\n",
    "# also allows us to modify the list of base classes or produce an entirely different class if required.\n",
    "\n",
    "\n",
    "# Which methods to override?\n",
    "# __prepare__ , __new__ , __init__\n",
    "\n",
    "# __prepare__ of type produces inital value of namespace dict(mapping)\n",
    "# __new__ ; allocate and configure new class object (make decisions before the new class is allocated)\n",
    "# __init__ ; configure class object"
   ]
  },
  {
   "cell_type": "code",
   "execution_count": 19,
   "metadata": {},
   "outputs": [],
   "source": [
    "## Meta class keyword args (**kwargs)\n",
    "\n",
    "# as seen above **kwargs in __prepare__  , __new__  and __init__\n",
    "\n",
    "# kwargs can be supplied when defining the class , and any keyword arg provided over and above the\n",
    "# named metaclass argument will be forwaded to these 3 special methods.\n",
    "# metaclass keyword specifies metaclass\n",
    "\n",
    "# class Widget(object, metaclass=type, more=1, keyword=2, args=3):\n",
    "#     pass"
   ]
  },
  {
   "cell_type": "code",
   "execution_count": 20,
   "metadata": {},
   "outputs": [
    {
     "name": "stdout",
     "output_type": "stream",
     "text": [
      "TracingMeta.__prepare__(name,bases,**kwargs)\n",
      "mcs =  <class '__main__.TracingMeta'>\n",
      "name =  Reticulator\n",
      "bases =  ()\n",
      "kwargs =  {'tension': 496}\n",
      "namespace =  {}\n",
      "TracingMeta.__new__(mcs,name,bases,namespace,**kwargs)\n",
      "mcs =  <class '__main__.TracingMeta'>\n",
      "name =  Reticulator\n",
      "bases =  ()\n",
      "namespace =  {'reticulate': <function Reticulator.reticulate at 0x7fc284643158>, '__qualname__': 'Reticulator', 'cubic': True, '__module__': '__main__'}\n",
      "kwargs =  {'tension': 496}\n",
      "cls =  <class '__main__.Reticulator'>\n",
      "TracingMeta.__init__(cls,name,bases,namespace,**kwargs)\n",
      "cls =  <class '__main__.Reticulator'>\n",
      "name =  Reticulator\n",
      "bases =  ()\n",
      "namespace =  {'reticulate': <function Reticulator.reticulate at 0x7fc284643158>, '__qualname__': 'Reticulator', 'cubic': True, '__module__': '__main__'}\n",
      "kwargs =  {'tension': 496}\n"
     ]
    }
   ],
   "source": [
    "# here tension is the kwarg provided above the metaclass keyword argument\n",
    "\n",
    "class Reticulator(metaclass=TracingMeta , tension =496):\n",
    "    def reticulate(self,spline):\n",
    "        print(spline)\n",
    "    cubic=True"
   ]
  },
  {
   "cell_type": "code",
   "execution_count": 21,
   "metadata": {},
   "outputs": [],
   "source": [
    "# example\n",
    "\n",
    "class EntriesMeta(type):\n",
    "    def __new__(mcs,name,bases,namespace,**kwargs):\n",
    "        print(\"Entries.__new__(mcs,name,bases,namespace,**kwargs)\")\n",
    "        print(\"kwargs = \",kwargs)\n",
    "        num_entries = kwargs[\"num_entries\"]\n",
    "        print(\"num_entries = \",num_entries)\n",
    "        namespace.update({chr(i):i for i in range(ord('a'), ord('a')+num_entries)})\n",
    "        cls = super().__new__(mcs,name,bases,namespace)\n",
    "        return cls\n",
    "        "
   ]
  },
  {
   "cell_type": "code",
   "execution_count": 22,
   "metadata": {},
   "outputs": [
    {
     "name": "stdout",
     "output_type": "stream",
     "text": [
      "Entries.__new__(mcs,name,bases,namespace,**kwargs)\n",
      "kwargs =  {'num_entries': 26}\n",
      "num_entries =  26\n"
     ]
    },
    {
     "ename": "TypeError",
     "evalue": "type.__init__() takes no keyword arguments",
     "output_type": "error",
     "traceback": [
      "\u001b[0;31m---------------------------------------------------------------------------\u001b[0m",
      "\u001b[0;31mTypeError\u001b[0m                                 Traceback (most recent call last)",
      "\u001b[0;32m<ipython-input-22-e53d41689289>\u001b[0m in \u001b[0;36m<module>\u001b[0;34m()\u001b[0m\n\u001b[0;32m----> 1\u001b[0;31m \u001b[0;32mclass\u001b[0m \u001b[0mAtoZ\u001b[0m\u001b[0;34m(\u001b[0m\u001b[0mmetaclass\u001b[0m\u001b[0;34m=\u001b[0m\u001b[0mEntriesMeta\u001b[0m\u001b[0;34m,\u001b[0m \u001b[0mnum_entries\u001b[0m\u001b[0;34m=\u001b[0m\u001b[0;36m26\u001b[0m\u001b[0;34m)\u001b[0m\u001b[0;34m:\u001b[0m\u001b[0;34m\u001b[0m\u001b[0m\n\u001b[0m\u001b[1;32m      2\u001b[0m     \u001b[0;32mpass\u001b[0m\u001b[0;34m\u001b[0m\u001b[0m\n",
      "\u001b[0;31mTypeError\u001b[0m: type.__init__() takes no keyword arguments"
     ]
    }
   ],
   "source": [
    "class AtoZ(metaclass=EntriesMeta, num_entries=26):\n",
    "    pass"
   ]
  },
  {
   "cell_type": "code",
   "execution_count": 23,
   "metadata": {},
   "outputs": [],
   "source": [
    "# __init__ can't be empty\n",
    "\n",
    "# example\n",
    "\n",
    "class EntriesMeta(type):\n",
    "    \n",
    "    def __new__(mcs,name,bases,namespace,**kwargs):\n",
    "        print(\"Entries.__new__(mcs,name,bases,namespace,**kwargs)\")\n",
    "        print(\"kwargs = \",kwargs)\n",
    "        num_entries = kwargs[\"num_entries\"]\n",
    "        print(\"num_entries = \",num_entries)\n",
    "        namespace.update({chr(i):i for i in range(ord('a'), ord('a')+num_entries)})\n",
    "        cls = super().__new__(mcs,name,bases,namespace)\n",
    "        return cls\n",
    "    \n",
    "    def __init__(cls,name,bases,namespace,**kwargs):\n",
    "        super().__init__(name,bases,namespace)"
   ]
  },
  {
   "cell_type": "code",
   "execution_count": 24,
   "metadata": {},
   "outputs": [
    {
     "name": "stdout",
     "output_type": "stream",
     "text": [
      "Entries.__new__(mcs,name,bases,namespace,**kwargs)\n",
      "kwargs =  {'num_entries': 26}\n",
      "num_entries =  26\n"
     ]
    }
   ],
   "source": [
    "class AtoZ(metaclass=EntriesMeta, num_entries=26):\n",
    "    pass"
   ]
  },
  {
   "cell_type": "code",
   "execution_count": 25,
   "metadata": {},
   "outputs": [
    {
     "data": {
      "text/plain": [
       "['__class__',\n",
       " '__delattr__',\n",
       " '__dict__',\n",
       " '__dir__',\n",
       " '__doc__',\n",
       " '__eq__',\n",
       " '__format__',\n",
       " '__ge__',\n",
       " '__getattribute__',\n",
       " '__gt__',\n",
       " '__hash__',\n",
       " '__init__',\n",
       " '__le__',\n",
       " '__lt__',\n",
       " '__module__',\n",
       " '__ne__',\n",
       " '__new__',\n",
       " '__reduce__',\n",
       " '__reduce_ex__',\n",
       " '__repr__',\n",
       " '__setattr__',\n",
       " '__sizeof__',\n",
       " '__str__',\n",
       " '__subclasshook__',\n",
       " '__weakref__',\n",
       " 'a',\n",
       " 'b',\n",
       " 'c',\n",
       " 'd',\n",
       " 'e',\n",
       " 'f',\n",
       " 'g',\n",
       " 'h',\n",
       " 'i',\n",
       " 'j',\n",
       " 'k',\n",
       " 'l',\n",
       " 'm',\n",
       " 'n',\n",
       " 'o',\n",
       " 'p',\n",
       " 'q',\n",
       " 'r',\n",
       " 's',\n",
       " 't',\n",
       " 'u',\n",
       " 'v',\n",
       " 'w',\n",
       " 'x',\n",
       " 'y',\n",
       " 'z']"
      ]
     },
     "execution_count": 25,
     "metadata": {},
     "output_type": "execute_result"
    }
   ],
   "source": [
    "dir(AtoZ)"
   ]
  },
  {
   "cell_type": "code",
   "execution_count": 26,
   "metadata": {},
   "outputs": [
    {
     "data": {
      "text/plain": [
       "120"
      ]
     },
     "execution_count": 26,
     "metadata": {},
     "output_type": "execute_result"
    }
   ],
   "source": [
    "AtoZ.x"
   ]
  },
  {
   "cell_type": "code",
   "execution_count": 27,
   "metadata": {},
   "outputs": [],
   "source": [
    "# convert num_entries to compulsary args\n",
    "\n",
    "\n",
    "class EntriesMeta(type):\n",
    "    \n",
    "    def __new__(mcs,name,bases,namespace,num_entries,**kwargs):\n",
    "        print(\"Entries.__new__(mcs,name,bases,namespace,**kwargs)\")\n",
    "        print(\"kwargs = \",kwargs)\n",
    "        print(\"num_entries = \",num_entries)\n",
    "        namespace.update({chr(i):i for i in range(ord('a'), ord('a')+num_entries)})\n",
    "        cls = super().__new__(mcs,name,bases,namespace)\n",
    "        return cls\n",
    "    \n",
    "    def __init__(cls,name,bases,namespace,num_entries,**kwargs):\n",
    "        super().__init__(name,bases,namespace)"
   ]
  },
  {
   "cell_type": "code",
   "execution_count": 28,
   "metadata": {},
   "outputs": [
    {
     "name": "stdout",
     "output_type": "stream",
     "text": [
      "Entries.__new__(mcs,name,bases,namespace,**kwargs)\n",
      "kwargs =  {}\n",
      "num_entries =  3\n"
     ]
    }
   ],
   "source": [
    "class AtoC(metaclass=EntriesMeta, num_entries=3):\n",
    "    pass"
   ]
  },
  {
   "cell_type": "code",
   "execution_count": 29,
   "metadata": {},
   "outputs": [],
   "source": [
    "## Metaclass Method Visibility\n",
    "\n",
    "# add a new method to meta class TracingMeta\n",
    "\n",
    "class TracingMeta(type):\n",
    "    \n",
    "    @classmethod\n",
    "    def __prepare__(mcs,name,bases,**kwargs):\n",
    "        print(\"TracingMeta.__prepare__(name,bases,**kwargs)\")\n",
    "        print(\"mcs = \",mcs)\n",
    "        print(\"name = \",name)\n",
    "        print(\"bases = \",bases)\n",
    "        print(\"kwargs = \",kwargs)\n",
    "        namespace = super().__prepare__(name,bases)\n",
    "        print(\"namespace = \",namespace)\n",
    "        return namespace\n",
    "    \n",
    "    def __new__(mcs,name,bases,namespace,**kwargs):\n",
    "        print(\"TracingMeta.__new__(mcs,name,bases,namespace,**kwargs)\")\n",
    "        print(\"mcs = \",mcs)\n",
    "        print(\"name = \",name)\n",
    "        print(\"bases = \",bases)\n",
    "        print(\"namespace = \",namespace)\n",
    "        print(\"kwargs = \",kwargs)\n",
    "        cls = super().__new__(mcs,name,bases,namespace)\n",
    "        print(\"cls = \",cls)\n",
    "        return cls\n",
    "    \n",
    "    def __init__(cls,name,bases,namespace,**kwargs):\n",
    "        print(\"TracingMeta.__init__(cls,name,bases,namespace,**kwargs)\")\n",
    "        print(\"cls = \",cls)\n",
    "        print(\"name = \",name)\n",
    "        print(\"bases = \",bases)\n",
    "        print(\"namespace = \",namespace)\n",
    "        print(\"kwargs = \",kwargs)\n",
    "        super().__init__(name,bases,namespace)\n",
    "        \n",
    "    def metamethod(cls):\n",
    "        print(\"TracingMeta.metamethod(cls)\")\n",
    "        print(\"cls = \",cls)\n",
    "        print()"
   ]
  },
  {
   "cell_type": "code",
   "execution_count": 30,
   "metadata": {},
   "outputs": [
    {
     "name": "stdout",
     "output_type": "stream",
     "text": [
      "TracingMeta.__prepare__(name,bases,**kwargs)\n",
      "mcs =  <class '__main__.TracingMeta'>\n",
      "name =  Widget\n",
      "bases =  ()\n",
      "kwargs =  {}\n",
      "namespace =  {}\n",
      "TracingMeta.__new__(mcs,name,bases,namespace,**kwargs)\n",
      "mcs =  <class '__main__.TracingMeta'>\n",
      "name =  Widget\n",
      "bases =  ()\n",
      "namespace =  {'__qualname__': 'Widget', '__module__': '__main__'}\n",
      "kwargs =  {}\n",
      "cls =  <class '__main__.Widget'>\n",
      "TracingMeta.__init__(cls,name,bases,namespace,**kwargs)\n",
      "cls =  <class '__main__.Widget'>\n",
      "name =  Widget\n",
      "bases =  ()\n",
      "namespace =  {'__qualname__': 'Widget', '__module__': '__main__'}\n",
      "kwargs =  {}\n"
     ]
    }
   ],
   "source": [
    "class Widget(metaclass=TracingMeta):\n",
    "    pass"
   ]
  },
  {
   "cell_type": "code",
   "execution_count": 31,
   "metadata": {},
   "outputs": [
    {
     "name": "stdout",
     "output_type": "stream",
     "text": [
      "TracingMeta.metamethod(cls)\n",
      "cls =  <class '__main__.Widget'>\n",
      "\n"
     ]
    }
   ],
   "source": [
    "# instance method of metaclass can be accessed similarly to class methods of Widget class, \n",
    "# and will have regular class passed to them as the first and implicit arg\n",
    "\n",
    "Widget.metamethod()"
   ]
  },
  {
   "cell_type": "code",
   "execution_count": 32,
   "metadata": {},
   "outputs": [
    {
     "ename": "AttributeError",
     "evalue": "'Widget' object has no attribute 'metamethod'",
     "output_type": "error",
     "traceback": [
      "\u001b[0;31m---------------------------------------------------------------------------\u001b[0m",
      "\u001b[0;31mAttributeError\u001b[0m                            Traceback (most recent call last)",
      "\u001b[0;32m<ipython-input-32-5e879b1fd932>\u001b[0m in \u001b[0;36m<module>\u001b[0;34m()\u001b[0m\n\u001b[1;32m      3\u001b[0m \u001b[0;34m\u001b[0m\u001b[0m\n\u001b[1;32m      4\u001b[0m \u001b[0mw\u001b[0m \u001b[0;34m=\u001b[0m \u001b[0mWidget\u001b[0m\u001b[0;34m(\u001b[0m\u001b[0;34m)\u001b[0m\u001b[0;34m\u001b[0m\u001b[0m\n\u001b[0;32m----> 5\u001b[0;31m \u001b[0mw\u001b[0m\u001b[0;34m.\u001b[0m\u001b[0mmetamethod\u001b[0m\u001b[0;34m(\u001b[0m\u001b[0;34m)\u001b[0m\u001b[0;34m\u001b[0m\u001b[0m\n\u001b[0m",
      "\u001b[0;31mAttributeError\u001b[0m: 'Widget' object has no attribute 'metamethod'"
     ]
    }
   ],
   "source": [
    "# however unlike regular class methods created with class method decorator\n",
    "# we can't access meta methods via object of Widget class\n",
    "\n",
    "w = Widget()\n",
    "w.metamethod()"
   ]
  },
  {
   "cell_type": "code",
   "execution_count": 33,
   "metadata": {},
   "outputs": [],
   "source": [
    "# meta methods are rarely used in practise \n",
    "# although __call__ meta method has an interesting use case\n",
    "\n",
    "# class methods in regular class and base classes will take precedence over looking up a method in its meta class.\n",
    "# screenshot\n",
    "\n",
    "# regular methods of metaclass accept cls as their first argument\n",
    "# whereas class methods of the metaclass accept mcs as thier first argument.\n",
    "\n",
    "# class method of regular class take cls as first arg\n",
    "# regular method of regular class take self as first arg"
   ]
  },
  {
   "cell_type": "code",
   "execution_count": 35,
   "metadata": {},
   "outputs": [
    {
     "ename": "TypeError",
     "evalue": "type.__new__(WidgetNew): WidgetNew is not a subtype of type",
     "output_type": "error",
     "traceback": [
      "\u001b[0;31m---------------------------------------------------------------------------\u001b[0m",
      "\u001b[0;31mTypeError\u001b[0m                                 Traceback (most recent call last)",
      "\u001b[0;32m<ipython-input-35-4f40521a4440>\u001b[0m in \u001b[0;36m<module>\u001b[0;34m()\u001b[0m\n\u001b[1;32m     15\u001b[0m \u001b[0;34m\u001b[0m\u001b[0m\n\u001b[1;32m     16\u001b[0m \u001b[0;31m# in order to create instances we call constructor of the desired class.\u001b[0m\u001b[0;34m\u001b[0m\u001b[0;34m\u001b[0m\u001b[0m\n\u001b[0;32m---> 17\u001b[0;31m \u001b[0mw\u001b[0m \u001b[0;34m=\u001b[0m \u001b[0mWidgetNew\u001b[0m\u001b[0;34m(\u001b[0m\u001b[0;34m)\u001b[0m\u001b[0;34m\u001b[0m\u001b[0m\n\u001b[0m\u001b[1;32m     18\u001b[0m \u001b[0;34m\u001b[0m\u001b[0m\n\u001b[1;32m     19\u001b[0m \u001b[0;31m# behind the scenes this will call Widget.__new__() to allocate a widget , followed by Widget.__init__() for further initialzation\u001b[0m\u001b[0;34m\u001b[0m\u001b[0;34m\u001b[0m\u001b[0m\n",
      "\u001b[0;32m<ipython-input-35-4f40521a4440>\u001b[0m in \u001b[0;36m__new__\u001b[0;34m(cls, *args, **kwargs)\u001b[0m\n\u001b[1;32m      9\u001b[0m \u001b[0;34m\u001b[0m\u001b[0m\n\u001b[1;32m     10\u001b[0m     \u001b[0;32mdef\u001b[0m \u001b[0m__new__\u001b[0m\u001b[0;34m(\u001b[0m\u001b[0mcls\u001b[0m\u001b[0;34m,\u001b[0m\u001b[0;34m*\u001b[0m\u001b[0margs\u001b[0m\u001b[0;34m,\u001b[0m\u001b[0;34m**\u001b[0m\u001b[0mkwargs\u001b[0m\u001b[0;34m)\u001b[0m\u001b[0;34m:\u001b[0m\u001b[0;34m\u001b[0m\u001b[0m\n\u001b[0;32m---> 11\u001b[0;31m         \u001b[0;32mreturn\u001b[0m \u001b[0mtype\u001b[0m\u001b[0;34m.\u001b[0m\u001b[0m__new__\u001b[0m\u001b[0;34m(\u001b[0m\u001b[0mcls\u001b[0m\u001b[0;34m)\u001b[0m\u001b[0;34m\u001b[0m\u001b[0m\n\u001b[0m\u001b[1;32m     12\u001b[0m \u001b[0;34m\u001b[0m\u001b[0m\n\u001b[1;32m     13\u001b[0m     \u001b[0;32mdef\u001b[0m \u001b[0m__init__\u001b[0m\u001b[0;34m(\u001b[0m\u001b[0mself\u001b[0m\u001b[0;34m)\u001b[0m\u001b[0;34m:\u001b[0m\u001b[0;34m\u001b[0m\u001b[0m\n",
      "\u001b[0;31mTypeError\u001b[0m: type.__new__(WidgetNew): WidgetNew is not a subtype of type"
     ]
    }
   ],
   "source": [
    "## Metaclass __call__ ; The instance constructor\n",
    "\n",
    "# how to achieve instantiation control, by over riding metaclass __call__ \n",
    "\n",
    "\n",
    "# example the instance constructor using __new__\n",
    "\n",
    "class WidgetNew(object,metaclass=type):\n",
    "    \n",
    "    def __new__(cls,*args,**kwargs):\n",
    "        return type.__new__(cls)\n",
    "\n",
    "    def __init__(self):\n",
    "        pass\n",
    "    \n",
    "# in order to create instances we call constructor of the desired class.\n",
    "w = WidgetNew()\n",
    "\n",
    "# behind the scenes this will call Widget.__new__() to allocate a widget , followed by Widget.__init__() for further initialzation"
   ]
  },
  {
   "cell_type": "code",
   "execution_count": 38,
   "metadata": {},
   "outputs": [
    {
     "name": "stdout",
     "output_type": "stream",
     "text": [
      "TracingMeta.__prepare__(name,bases,**kwargs)\n",
      "mcs =  <class '__main__.TracingMeta'>\n",
      "name =  TracingClass\n",
      "bases =  ()\n",
      "kwargs =  {}\n",
      "namespace =  {}\n",
      "TracingMeta.__new__(mcs,name,bases,namespace,**kwargs)\n",
      "mcs =  <class '__main__.TracingMeta'>\n",
      "name =  TracingClass\n",
      "bases =  ()\n",
      "namespace =  {'__new__': <function TracingClass.__new__ at 0x7fc2845f8598>, '__qualname__': 'TracingClass', '__module__': '__main__', '__init__': <function TracingClass.__init__ at 0x7fc2845f8620>}\n",
      "kwargs =  {}\n",
      "cls =  <class '__main__.TracingClass'>\n",
      "TracingMeta.__init__(cls,name,bases,namespace,**kwargs)\n",
      "cls =  <class '__main__.TracingClass'>\n",
      "name =  TracingClass\n",
      "bases =  ()\n",
      "namespace =  {'__new__': <function TracingClass.__new__ at 0x7fc2845f8598>, '__qualname__': 'TracingClass', '__module__': '__main__', '__init__': <function TracingClass.__init__ at 0x7fc2845f8620>}\n",
      "kwargs =  {}\n"
     ]
    }
   ],
   "source": [
    "# Metaclass __call__  ; the instance constructor\n",
    "\n",
    "# calling the regular class invokes metaclass.__call__() of the type class\n",
    "# this is how classes in python become callable\n",
    "\n",
    "# example ;override __call__ in TracingMeta class\n",
    "class TracingMeta(type):\n",
    "    \n",
    "    @classmethod\n",
    "    def __prepare__(mcs,name,bases,**kwargs):\n",
    "        print(\"TracingMeta.__prepare__(name,bases,**kwargs)\")\n",
    "        print(\"mcs = \",mcs)\n",
    "        print(\"name = \",name)\n",
    "        print(\"bases = \",bases)\n",
    "        print(\"kwargs = \",kwargs)\n",
    "        namespace = super().__prepare__(name,bases)\n",
    "        print(\"namespace = \",namespace)\n",
    "        return namespace\n",
    "    \n",
    "    def __new__(mcs,name,bases,namespace,**kwargs):\n",
    "        print(\"TracingMeta.__new__(mcs,name,bases,namespace,**kwargs)\")\n",
    "        print(\"mcs = \",mcs)\n",
    "        print(\"name = \",name)\n",
    "        print(\"bases = \",bases)\n",
    "        print(\"namespace = \",namespace)\n",
    "        print(\"kwargs = \",kwargs)\n",
    "        cls = super().__new__(mcs,name,bases,namespace)\n",
    "        print(\"cls = \",cls)\n",
    "        return cls\n",
    "    \n",
    "    def __init__(cls,name,bases,namespace,**kwargs):\n",
    "        print(\"TracingMeta.__init__(cls,name,bases,namespace,**kwargs)\")\n",
    "        print(\"cls = \",cls)\n",
    "        print(\"name = \",name)\n",
    "        print(\"bases = \",bases)\n",
    "        print(\"namespace = \",namespace)\n",
    "        print(\"kwargs = \",kwargs)\n",
    "        super().__init__(name,bases,namespace)\n",
    "        \n",
    "    def metamethod(cls):\n",
    "        print(\"TracingMeta.metamethod(cls)\")\n",
    "        print(\"cls = \",cls)\n",
    "        print()\n",
    "        \n",
    "    def __call__(cls,*args,**kwargs):\n",
    "        print(\"TracingMeta.__call__(cls,*args,**kwargs)\")\n",
    "        print(\"cls = \",cls)\n",
    "        print(\"args = \",args)\n",
    "        print(\"kwargs = \",kwargs)\n",
    "        print(\"about to call type.__call__()\")\n",
    "        obj = super().__call__(*args,**kwargs)\n",
    "        print(\"Returned from type.__call__()\")\n",
    "        print(\"obj =\",obj)\n",
    "        return obj\n",
    "    \n",
    "\n",
    "class TracingClass(metaclass=TracingMeta):\n",
    "    \n",
    "    def __new__(cls,*args,**kwargs):\n",
    "        print(\"TracingClass.__new__(cls,*args,**kwargs)\")\n",
    "        print(\"cls = \",cls)\n",
    "        print(\"args = \",args)\n",
    "        print(\"kwargs = \",kwargs)\n",
    "        obj = super().__new__(cls)\n",
    "        print(\"obj = \",obj)\n",
    "        return obj\n",
    "    \n",
    "    def __init__(self,*args,**kwargs):\n",
    "        print(\"TracingClass.__init__(self,*args,**kwargs)\")\n",
    "        print(\"cls = \",self)\n",
    "        print(\"args = \",args)\n",
    "        print(\"kwargs = \",kwargs)\n",
    "        \n",
    "        \n",
    "# TracingClass overrides __new__ and __init__ of TracingMeta"
   ]
  },
  {
   "cell_type": "code",
   "execution_count": 39,
   "metadata": {},
   "outputs": [
    {
     "name": "stdout",
     "output_type": "stream",
     "text": [
      "TracingMeta.__call__(cls,*args,**kwargs)\n",
      "cls =  <class '__main__.TracingClass'>\n",
      "args =  (42,)\n",
      "kwargs =  {'keyword': 'clef'}\n",
      "about to call type.__call__()\n",
      "TracingClass.__new__(cls,*args,**kwargs)\n",
      "cls =  <class '__main__.TracingClass'>\n",
      "args =  (42,)\n",
      "kwargs =  {'keyword': 'clef'}\n",
      "obj =  <__main__.TracingClass object at 0x7fc284658ba8>\n",
      "TracingClass.__init__(self,*args,**kwargs)\n",
      "cls =  <__main__.TracingClass object at 0x7fc284658ba8>\n",
      "args =  (42,)\n",
      "kwargs =  {'keyword': 'clef'}\n",
      "Returned from type.__call__()\n",
      "obj = <__main__.TracingClass object at 0x7fc284658ba8>\n"
     ]
    }
   ],
   "source": [
    "t = TracingClass(42,keyword=\"clef\")"
   ]
  },
  {
   "cell_type": "code",
   "execution_count": 42,
   "metadata": {},
   "outputs": [],
   "source": [
    "# example metaclass over-riding __call__\n",
    "# which prevents the classes that use the metaclass accepting positional args to their constructor\n",
    "\n",
    "class KeywordsOnlyMeta(type):\n",
    "    \n",
    "    def __call__(cls,*args,**kwargs):\n",
    "        if args:\n",
    "            raise TypeError(\"Constructor for class {} doesn't accept positional args\".format(cls))\n",
    "        return super().__call__(cls,**kwargs)\n",
    "    \n",
    "\n",
    "class ConstrainedToKeywords(metaclass = KeywordsOnlyMeta):\n",
    "    \n",
    "    def __init__(self,*args,**kwargs):\n",
    "        print(\"args = \",args)\n",
    "        print(\"kwargs = \",kwargs)"
   ]
  },
  {
   "cell_type": "code",
   "execution_count": 43,
   "metadata": {},
   "outputs": [
    {
     "ename": "TypeError",
     "evalue": "Constructor for class <class '__main__.ConstrainedToKeywords'> doesn't accept positional args",
     "output_type": "error",
     "traceback": [
      "\u001b[0;31m---------------------------------------------------------------------------\u001b[0m",
      "\u001b[0;31mTypeError\u001b[0m                                 Traceback (most recent call last)",
      "\u001b[0;32m<ipython-input-43-71f14c968515>\u001b[0m in \u001b[0;36m<module>\u001b[0;34m()\u001b[0m\n\u001b[0;32m----> 1\u001b[0;31m \u001b[0mc\u001b[0m \u001b[0;34m=\u001b[0m \u001b[0mConstrainedToKeywords\u001b[0m\u001b[0;34m(\u001b[0m\u001b[0;36m23\u001b[0m\u001b[0;34m,\u001b[0m\u001b[0;36m45\u001b[0m\u001b[0;34m,\u001b[0m\u001b[0;36m96\u001b[0m\u001b[0;34m,\u001b[0m\u001b[0mcolor\u001b[0m\u001b[0;34m=\u001b[0m\u001b[0;34m'black'\u001b[0m\u001b[0;34m)\u001b[0m\u001b[0;34m\u001b[0m\u001b[0m\n\u001b[0m",
      "\u001b[0;32m<ipython-input-42-1ecacb6db188>\u001b[0m in \u001b[0;36m__call__\u001b[0;34m(cls, *args, **kwargs)\u001b[0m\n\u001b[1;32m      6\u001b[0m     \u001b[0;32mdef\u001b[0m \u001b[0m__call__\u001b[0m\u001b[0;34m(\u001b[0m\u001b[0mcls\u001b[0m\u001b[0;34m,\u001b[0m\u001b[0;34m*\u001b[0m\u001b[0margs\u001b[0m\u001b[0;34m,\u001b[0m\u001b[0;34m**\u001b[0m\u001b[0mkwargs\u001b[0m\u001b[0;34m)\u001b[0m\u001b[0;34m:\u001b[0m\u001b[0;34m\u001b[0m\u001b[0m\n\u001b[1;32m      7\u001b[0m         \u001b[0;32mif\u001b[0m \u001b[0margs\u001b[0m\u001b[0;34m:\u001b[0m\u001b[0;34m\u001b[0m\u001b[0m\n\u001b[0;32m----> 8\u001b[0;31m             \u001b[0;32mraise\u001b[0m \u001b[0mTypeError\u001b[0m\u001b[0;34m(\u001b[0m\u001b[0;34m\"Constructor for class {} doesn't accept positional args\"\u001b[0m\u001b[0;34m.\u001b[0m\u001b[0mformat\u001b[0m\u001b[0;34m(\u001b[0m\u001b[0mcls\u001b[0m\u001b[0;34m)\u001b[0m\u001b[0;34m)\u001b[0m\u001b[0;34m\u001b[0m\u001b[0m\n\u001b[0m\u001b[1;32m      9\u001b[0m         \u001b[0;32mreturn\u001b[0m \u001b[0msuper\u001b[0m\u001b[0;34m(\u001b[0m\u001b[0;34m)\u001b[0m\u001b[0;34m.\u001b[0m\u001b[0m__call__\u001b[0m\u001b[0;34m(\u001b[0m\u001b[0mcls\u001b[0m\u001b[0;34m,\u001b[0m\u001b[0;34m**\u001b[0m\u001b[0mkwargs\u001b[0m\u001b[0;34m)\u001b[0m\u001b[0;34m\u001b[0m\u001b[0m\n\u001b[1;32m     10\u001b[0m \u001b[0;34m\u001b[0m\u001b[0m\n",
      "\u001b[0;31mTypeError\u001b[0m: Constructor for class <class '__main__.ConstrainedToKeywords'> doesn't accept positional args"
     ]
    }
   ],
   "source": [
    "c = ConstrainedToKeywords(23,45,96,color='black')"
   ]
  },
  {
   "cell_type": "code",
   "execution_count": 44,
   "metadata": {},
   "outputs": [
    {
     "name": "stdout",
     "output_type": "stream",
     "text": [
      "args =  (<class '__main__.ConstrainedToKeywords'>,)\n",
      "kwargs =  {'color': 'black'}\n"
     ]
    }
   ],
   "source": [
    "c = ConstrainedToKeywords(color='black')"
   ]
  },
  {
   "cell_type": "code",
   "execution_count": 45,
   "metadata": {},
   "outputs": [],
   "source": [
    "## A PRACTICAL META CLASS EXAMPLE\n",
    "# duplicate class attribute (data and fn) names aren't flagged by python as errors\n",
    "\n",
    "class Doggy():\n",
    "    \n",
    "    def method(self):\n",
    "        return \"first method\"\n",
    "    \n",
    "    def method(self):\n",
    "        return \"second method\""
   ]
  },
  {
   "cell_type": "code",
   "execution_count": 47,
   "metadata": {},
   "outputs": [
    {
     "data": {
      "text/plain": [
       "'second method'"
      ]
     },
     "execution_count": 47,
     "metadata": {},
     "output_type": "execute_result"
    }
   ],
   "source": [
    "d = Doggy()\n",
    "\n",
    "# second method takes precedence , overwrites first entry in namespace dict as class definition is processed\n",
    "d.method()"
   ]
  },
  {
   "cell_type": "code",
   "execution_count": 48,
   "metadata": {},
   "outputs": [],
   "source": [
    "# write a metaclass which detects and prevents this \n",
    "# sol ; use a namespace dict which forbids re assignment to existing keys\n",
    "\n",
    "class OneShotDict(dict):\n",
    "    \n",
    "    def __init__(self,existing=None):\n",
    "        super().__init__()\n",
    "        if existing is not None:\n",
    "            for k,v in existing:\n",
    "                self[k] = v\n",
    "    \n",
    "    def __setitem__(self,key,value):\n",
    "        if key in self:\n",
    "            raise ValueError(\"can't assign to existing key {}\".format(key))\n",
    "        super().__setitem__(key,value)"
   ]
  },
  {
   "cell_type": "code",
   "execution_count": 49,
   "metadata": {},
   "outputs": [],
   "source": [
    "temp = OneShotDict()\n",
    "\n",
    "\n",
    "temp['A'] = 65"
   ]
  },
  {
   "cell_type": "code",
   "execution_count": 50,
   "metadata": {},
   "outputs": [],
   "source": [
    "temp['B'] = 66"
   ]
  },
  {
   "cell_type": "code",
   "execution_count": 51,
   "metadata": {},
   "outputs": [
    {
     "ename": "ValueError",
     "evalue": "can't assign to existing key A",
     "output_type": "error",
     "traceback": [
      "\u001b[0;31m---------------------------------------------------------------------------\u001b[0m",
      "\u001b[0;31mValueError\u001b[0m                                Traceback (most recent call last)",
      "\u001b[0;32m<ipython-input-51-00ef91aae792>\u001b[0m in \u001b[0;36m<module>\u001b[0;34m()\u001b[0m\n\u001b[0;32m----> 1\u001b[0;31m \u001b[0mtemp\u001b[0m\u001b[0;34m[\u001b[0m\u001b[0;34m'A'\u001b[0m\u001b[0;34m]\u001b[0m  \u001b[0;34m=\u001b[0m \u001b[0;36m32\u001b[0m\u001b[0;34m\u001b[0m\u001b[0m\n\u001b[0m",
      "\u001b[0;32m<ipython-input-48-617534ffb8b9>\u001b[0m in \u001b[0;36m__setitem__\u001b[0;34m(self, key, value)\u001b[0m\n\u001b[1;32m     12\u001b[0m     \u001b[0;32mdef\u001b[0m \u001b[0m__setitem__\u001b[0m\u001b[0;34m(\u001b[0m\u001b[0mself\u001b[0m\u001b[0;34m,\u001b[0m\u001b[0mkey\u001b[0m\u001b[0;34m,\u001b[0m\u001b[0mvalue\u001b[0m\u001b[0;34m)\u001b[0m\u001b[0;34m:\u001b[0m\u001b[0;34m\u001b[0m\u001b[0m\n\u001b[1;32m     13\u001b[0m         \u001b[0;32mif\u001b[0m \u001b[0mkey\u001b[0m \u001b[0;32min\u001b[0m \u001b[0mself\u001b[0m\u001b[0;34m:\u001b[0m\u001b[0;34m\u001b[0m\u001b[0m\n\u001b[0;32m---> 14\u001b[0;31m             \u001b[0;32mraise\u001b[0m \u001b[0mValueError\u001b[0m\u001b[0;34m(\u001b[0m\u001b[0;34m\"can't assign to existing key {}\"\u001b[0m\u001b[0;34m.\u001b[0m\u001b[0mformat\u001b[0m\u001b[0;34m(\u001b[0m\u001b[0mkey\u001b[0m\u001b[0;34m)\u001b[0m\u001b[0;34m)\u001b[0m\u001b[0;34m\u001b[0m\u001b[0m\n\u001b[0m\u001b[1;32m     15\u001b[0m         \u001b[0msuper\u001b[0m\u001b[0;34m(\u001b[0m\u001b[0;34m)\u001b[0m\u001b[0;34m.\u001b[0m\u001b[0m__setitem__\u001b[0m\u001b[0;34m(\u001b[0m\u001b[0mkey\u001b[0m\u001b[0;34m,\u001b[0m\u001b[0mvalue\u001b[0m\u001b[0;34m)\u001b[0m\u001b[0;34m\u001b[0m\u001b[0m\n",
      "\u001b[0;31mValueError\u001b[0m: can't assign to existing key A"
     ]
    }
   ],
   "source": [
    "temp['A']  = 32"
   ]
  },
  {
   "cell_type": "code",
   "execution_count": 54,
   "metadata": {},
   "outputs": [
    {
     "ename": "TypeError",
     "evalue": "can't assign to existing class attribute method of Doggy",
     "output_type": "error",
     "traceback": [
      "\u001b[0;31m---------------------------------------------------------------------------\u001b[0m",
      "\u001b[0;31mTypeError\u001b[0m                                 Traceback (most recent call last)",
      "\u001b[0;32m<ipython-input-54-0578d2d554d8>\u001b[0m in \u001b[0;36m<module>\u001b[0;34m()\u001b[0m\n\u001b[1;32m     22\u001b[0m         \u001b[0;32mreturn\u001b[0m \u001b[0mOneShotClassNamespace\u001b[0m\u001b[0;34m(\u001b[0m\u001b[0mname\u001b[0m\u001b[0;34m)\u001b[0m\u001b[0;34m\u001b[0m\u001b[0m\n\u001b[1;32m     23\u001b[0m \u001b[0;34m\u001b[0m\u001b[0m\n\u001b[0;32m---> 24\u001b[0;31m \u001b[0;32mclass\u001b[0m \u001b[0mDoggy\u001b[0m\u001b[0;34m(\u001b[0m\u001b[0mmetaclass\u001b[0m\u001b[0;34m=\u001b[0m\u001b[0mProhobitDuplicatesMeta\u001b[0m\u001b[0;34m)\u001b[0m\u001b[0;34m:\u001b[0m\u001b[0;34m\u001b[0m\u001b[0m\n\u001b[0m\u001b[1;32m     25\u001b[0m \u001b[0;34m\u001b[0m\u001b[0m\n\u001b[1;32m     26\u001b[0m     \u001b[0;32mdef\u001b[0m \u001b[0mmethod\u001b[0m\u001b[0;34m(\u001b[0m\u001b[0mself\u001b[0m\u001b[0;34m)\u001b[0m\u001b[0;34m:\u001b[0m\u001b[0;34m\u001b[0m\u001b[0m\n",
      "\u001b[0;32m<ipython-input-54-0578d2d554d8>\u001b[0m in \u001b[0;36mDoggy\u001b[0;34m()\u001b[0m\n\u001b[1;32m     27\u001b[0m         \u001b[0;32mreturn\u001b[0m \u001b[0;34m\"first def\"\u001b[0m\u001b[0;34m\u001b[0m\u001b[0m\n\u001b[1;32m     28\u001b[0m \u001b[0;34m\u001b[0m\u001b[0m\n\u001b[0;32m---> 29\u001b[0;31m     \u001b[0;32mdef\u001b[0m \u001b[0mmethod\u001b[0m\u001b[0;34m(\u001b[0m\u001b[0mself\u001b[0m\u001b[0;34m)\u001b[0m\u001b[0;34m:\u001b[0m\u001b[0;34m\u001b[0m\u001b[0m\n\u001b[0m\u001b[1;32m     30\u001b[0m         \u001b[0;32mreturn\u001b[0m \u001b[0;34m\"second def\"\u001b[0m\u001b[0;34m\u001b[0m\u001b[0m\n",
      "\u001b[0;32m<ipython-input-54-0578d2d554d8>\u001b[0m in \u001b[0;36m__setitem__\u001b[0;34m(self, key, value)\u001b[0m\n\u001b[1;32m     12\u001b[0m     \u001b[0;32mdef\u001b[0m \u001b[0m__setitem__\u001b[0m\u001b[0;34m(\u001b[0m\u001b[0mself\u001b[0m\u001b[0;34m,\u001b[0m\u001b[0mkey\u001b[0m\u001b[0;34m,\u001b[0m\u001b[0mvalue\u001b[0m\u001b[0;34m)\u001b[0m\u001b[0;34m:\u001b[0m\u001b[0;34m\u001b[0m\u001b[0m\n\u001b[1;32m     13\u001b[0m         \u001b[0;32mif\u001b[0m \u001b[0mkey\u001b[0m \u001b[0;32min\u001b[0m \u001b[0mself\u001b[0m\u001b[0;34m:\u001b[0m\u001b[0;34m\u001b[0m\u001b[0m\n\u001b[0;32m---> 14\u001b[0;31m             \u001b[0;32mraise\u001b[0m \u001b[0mTypeError\u001b[0m\u001b[0;34m(\u001b[0m\u001b[0;34m\"can't assign to existing class attribute {} of {}\"\u001b[0m\u001b[0;34m.\u001b[0m\u001b[0mformat\u001b[0m\u001b[0;34m(\u001b[0m\u001b[0mkey\u001b[0m\u001b[0;34m,\u001b[0m\u001b[0mself\u001b[0m\u001b[0;34m.\u001b[0m\u001b[0m_name\u001b[0m\u001b[0;34m)\u001b[0m\u001b[0;34m)\u001b[0m\u001b[0;34m\u001b[0m\u001b[0m\n\u001b[0m\u001b[1;32m     15\u001b[0m         \u001b[0msuper\u001b[0m\u001b[0;34m(\u001b[0m\u001b[0;34m)\u001b[0m\u001b[0;34m.\u001b[0m\u001b[0m__setitem__\u001b[0m\u001b[0;34m(\u001b[0m\u001b[0mkey\u001b[0m\u001b[0;34m,\u001b[0m\u001b[0mvalue\u001b[0m\u001b[0;34m)\u001b[0m\u001b[0;34m\u001b[0m\u001b[0m\n\u001b[1;32m     16\u001b[0m \u001b[0;34m\u001b[0m\u001b[0m\n",
      "\u001b[0;31mTypeError\u001b[0m: can't assign to existing class attribute method of Doggy"
     ]
    }
   ],
   "source": [
    "# create a metaclass which uses OneShotDict for the namespace object\n",
    "\n",
    "class OneShotClassNamespace(dict):\n",
    "    \n",
    "    def __init__(self,name,existing=None):\n",
    "        super().__init__()\n",
    "        self._name = name\n",
    "        if existing is not None:\n",
    "            for k,v in existing:\n",
    "                self[k] = v\n",
    "    \n",
    "    def __setitem__(self,key,value):\n",
    "        if key in self:\n",
    "            raise TypeError(\"can't assign to existing class attribute {} of {}\".format(key,self._name))\n",
    "        super().__setitem__(key,value)\n",
    "        \n",
    "\n",
    "class ProhobitDuplicatesMeta(type):\n",
    "    \n",
    "    @classmethod\n",
    "    def __prepare__(mcs,name,bases):\n",
    "        return OneShotClassNamespace(name)\n",
    "        \n",
    "class Doggy(metaclass=ProhobitDuplicatesMeta):\n",
    "    \n",
    "    def method(self):\n",
    "        return \"first def\"\n",
    "    \n",
    "    def method(self):\n",
    "        return \"second def\""
   ]
  },
  {
   "cell_type": "code",
   "execution_count": 55,
   "metadata": {},
   "outputs": [],
   "source": [
    "## Naming Descriptors using Meta Classes\n",
    "# previously there was no way for a descriptor instance to know to which class attribute it's bound  \n",
    "# eg) one of the instance of Positive class is bound to Planet.radius_meter\n",
    "# screenshot\n",
    "\n",
    "# solution ; modify class creation by defining a metaclass which can intervene in\n",
    "# the process of defining the Planet class in order to give each \n",
    "# descriptor instance the right name.\n",
    "\n",
    "from weakref import WeakKeyDictionary\n",
    "\n",
    "\n",
    "class Named:\n",
    "    \n",
    "    def __init__(self, name=None):\n",
    "        self.name = name\n",
    "\n",
    "class Positive(Named):\n",
    "    \n",
    "    def __init__(self,name= None):\n",
    "        super().__init__(name)\n",
    "        self._instance_data = WeakKeyDictionary()\n",
    "    \n",
    "    def __get__(self,instance,owner):\n",
    "        if instance is None:\n",
    "            return self\n",
    "        return self._instance_data[instance]\n",
    "    \n",
    "    def __set__(self,instance,value):\n",
    "        if value[0] <= 0:\n",
    "            raise ValueError(\" Attribute value {} {} not positive\".format(self.name,value))\n",
    "        self._instance_data[instance] = value\n",
    "    \n",
    "    def __delete__(self,instance):\n",
    "        raise AttributeError(\"can't del attribute {}\".format(self.name))\n",
    "        \n",
    "\n",
    "class DescriptorNamingMeta(type):\n",
    "    \n",
    "    def __new__(mcs,name,bases,namespace):\n",
    "        for name,attr in namespace.items():\n",
    "            if isinstance(attr,Named):\n",
    "                attr.name = name\n",
    "        return super().__new__(mcs,name,bases,namespace)\n",
    "    \n",
    "    \n",
    "class Planet(metaclass = DescriptorNamingMeta):\n",
    "    \n",
    "    def __init__(self,name,radius_metres,mass_kilograms,orbital_period_seconds,surface_temperature_kelvin):\n",
    "        self.name = name,\n",
    "        self.radius_metres = radius_metres,\n",
    "        self.mass_kilograms = mass_kilograms,\n",
    "        self.orbital_period_seconds = orbital_period_seconds,\n",
    "        self.surface_temperature_kelvin = surface_temperature_kelvin\n",
    "              \n",
    "    @property\n",
    "    def name(self):\n",
    "        return self._name\n",
    "    \n",
    "    @name.setter\n",
    "    def name(self,value):\n",
    "        if not value[0]:\n",
    "            raise ValueError(\"can't set empty name for planet\")\n",
    "        self._name = value\n",
    "        \n",
    "    radius_metres = Positive()"
   ]
  },
  {
   "cell_type": "code",
   "execution_count": 57,
   "metadata": {},
   "outputs": [],
   "source": [
    "# venus , earth , mars = make_planets()"
   ]
  },
  {
   "cell_type": "code",
   "execution_count": 58,
   "metadata": {},
   "outputs": [
    {
     "ename": "ValueError",
     "evalue": " Attribute value radius_metres (-11843,) not positive",
     "output_type": "error",
     "traceback": [
      "\u001b[0;31m---------------------------------------------------------------------------\u001b[0m",
      "\u001b[0;31mValueError\u001b[0m                                Traceback (most recent call last)",
      "\u001b[0;32m<ipython-input-58-e73ec3cb8e5d>\u001b[0m in \u001b[0;36m<module>\u001b[0;34m()\u001b[0m\n\u001b[1;32m      1\u001b[0m \u001b[0;31m# now we can no longer construct mass less planets\u001b[0m\u001b[0;34m\u001b[0m\u001b[0;34m\u001b[0m\u001b[0m\n\u001b[0;32m----> 2\u001b[0;31m \u001b[0mmars\u001b[0m \u001b[0;34m=\u001b[0m \u001b[0mPlanet\u001b[0m\u001b[0;34m(\u001b[0m\u001b[0mname\u001b[0m \u001b[0;34m=\u001b[0m\u001b[0;34m\"mars\"\u001b[0m\u001b[0;34m,\u001b[0m\u001b[0mradius_metres\u001b[0m \u001b[0;34m=\u001b[0m \u001b[0;34m-\u001b[0m\u001b[0;36m11843\u001b[0m\u001b[0;34m,\u001b[0m\u001b[0mmass_kilograms\u001b[0m \u001b[0;34m=\u001b[0m \u001b[0;36m100\u001b[0m\u001b[0;34m,\u001b[0m\u001b[0morbital_period_seconds\u001b[0m \u001b[0;34m=\u001b[0m \u001b[0;36m78160543\u001b[0m\u001b[0;34m,\u001b[0m\u001b[0msurface_temperature_kelvin\u001b[0m \u001b[0;34m=\u001b[0m \u001b[0;36m55\u001b[0m\u001b[0;34m)\u001b[0m\u001b[0;34m\u001b[0m\u001b[0m\n\u001b[0m",
      "\u001b[0;32m<ipython-input-55-71515a15f691>\u001b[0m in \u001b[0;36m__init__\u001b[0;34m(self, name, radius_metres, mass_kilograms, orbital_period_seconds, surface_temperature_kelvin)\u001b[0m\n\u001b[1;32m     49\u001b[0m     \u001b[0;32mdef\u001b[0m \u001b[0m__init__\u001b[0m\u001b[0;34m(\u001b[0m\u001b[0mself\u001b[0m\u001b[0;34m,\u001b[0m\u001b[0mname\u001b[0m\u001b[0;34m,\u001b[0m\u001b[0mradius_metres\u001b[0m\u001b[0;34m,\u001b[0m\u001b[0mmass_kilograms\u001b[0m\u001b[0;34m,\u001b[0m\u001b[0morbital_period_seconds\u001b[0m\u001b[0;34m,\u001b[0m\u001b[0msurface_temperature_kelvin\u001b[0m\u001b[0;34m)\u001b[0m\u001b[0;34m:\u001b[0m\u001b[0;34m\u001b[0m\u001b[0m\n\u001b[1;32m     50\u001b[0m         \u001b[0mself\u001b[0m\u001b[0;34m.\u001b[0m\u001b[0mname\u001b[0m \u001b[0;34m=\u001b[0m \u001b[0mname\u001b[0m\u001b[0;34m,\u001b[0m\u001b[0;34m\u001b[0m\u001b[0m\n\u001b[0;32m---> 51\u001b[0;31m         \u001b[0mself\u001b[0m\u001b[0;34m.\u001b[0m\u001b[0mradius_metres\u001b[0m \u001b[0;34m=\u001b[0m \u001b[0mradius_metres\u001b[0m\u001b[0;34m,\u001b[0m\u001b[0;34m\u001b[0m\u001b[0m\n\u001b[0m\u001b[1;32m     52\u001b[0m         \u001b[0mself\u001b[0m\u001b[0;34m.\u001b[0m\u001b[0mmass_kilograms\u001b[0m \u001b[0;34m=\u001b[0m \u001b[0mmass_kilograms\u001b[0m\u001b[0;34m,\u001b[0m\u001b[0;34m\u001b[0m\u001b[0m\n\u001b[1;32m     53\u001b[0m         \u001b[0mself\u001b[0m\u001b[0;34m.\u001b[0m\u001b[0morbital_period_seconds\u001b[0m \u001b[0;34m=\u001b[0m \u001b[0morbital_period_seconds\u001b[0m\u001b[0;34m,\u001b[0m\u001b[0;34m\u001b[0m\u001b[0m\n",
      "\u001b[0;32m<ipython-input-55-71515a15f691>\u001b[0m in \u001b[0;36m__set__\u001b[0;34m(self, instance, value)\u001b[0m\n\u001b[1;32m     29\u001b[0m     \u001b[0;32mdef\u001b[0m \u001b[0m__set__\u001b[0m\u001b[0;34m(\u001b[0m\u001b[0mself\u001b[0m\u001b[0;34m,\u001b[0m\u001b[0minstance\u001b[0m\u001b[0;34m,\u001b[0m\u001b[0mvalue\u001b[0m\u001b[0;34m)\u001b[0m\u001b[0;34m:\u001b[0m\u001b[0;34m\u001b[0m\u001b[0m\n\u001b[1;32m     30\u001b[0m         \u001b[0;32mif\u001b[0m \u001b[0mvalue\u001b[0m\u001b[0;34m[\u001b[0m\u001b[0;36m0\u001b[0m\u001b[0;34m]\u001b[0m \u001b[0;34m<=\u001b[0m \u001b[0;36m0\u001b[0m\u001b[0;34m:\u001b[0m\u001b[0;34m\u001b[0m\u001b[0m\n\u001b[0;32m---> 31\u001b[0;31m             \u001b[0;32mraise\u001b[0m \u001b[0mValueError\u001b[0m\u001b[0;34m(\u001b[0m\u001b[0;34m\" Attribute value {} {} not positive\"\u001b[0m\u001b[0;34m.\u001b[0m\u001b[0mformat\u001b[0m\u001b[0;34m(\u001b[0m\u001b[0mself\u001b[0m\u001b[0;34m.\u001b[0m\u001b[0mname\u001b[0m\u001b[0;34m,\u001b[0m\u001b[0mvalue\u001b[0m\u001b[0;34m)\u001b[0m\u001b[0;34m)\u001b[0m\u001b[0;34m\u001b[0m\u001b[0m\n\u001b[0m\u001b[1;32m     32\u001b[0m         \u001b[0mself\u001b[0m\u001b[0;34m.\u001b[0m\u001b[0m_instance_data\u001b[0m\u001b[0;34m[\u001b[0m\u001b[0minstance\u001b[0m\u001b[0;34m]\u001b[0m \u001b[0;34m=\u001b[0m \u001b[0mvalue\u001b[0m\u001b[0;34m\u001b[0m\u001b[0m\n\u001b[1;32m     33\u001b[0m \u001b[0;34m\u001b[0m\u001b[0m\n",
      "\u001b[0;31mValueError\u001b[0m:  Attribute value radius_metres (-11843,) not positive"
     ]
    }
   ],
   "source": [
    "# now we can no longer construct mass less planets\n",
    "mars = Planet(name =\"mars\",radius_metres = -11843,mass_kilograms = 100,orbital_period_seconds = 78160543,surface_temperature_kelvin = 55)"
   ]
  },
  {
   "cell_type": "code",
   "execution_count": 59,
   "metadata": {},
   "outputs": [],
   "source": [
    "# now we can no longer construct mass less planets\n",
    "venus = Planet(name =\"venus\",radius_metres = 11843,mass_kilograms = 100,orbital_period_seconds = 78160543,surface_temperature_kelvin = 55)"
   ]
  },
  {
   "cell_type": "code",
   "execution_count": 60,
   "metadata": {},
   "outputs": [
    {
     "data": {
      "text/plain": [
       "(100,)"
      ]
     },
     "execution_count": 60,
     "metadata": {},
     "output_type": "execute_result"
    }
   ],
   "source": [
    "venus.mass_kilograms"
   ]
  },
  {
   "cell_type": "markdown",
   "metadata": {},
   "source": [
    "### Metaclasses and Inheritance"
   ]
  },
  {
   "cell_type": "code",
   "execution_count": 61,
   "metadata": {},
   "outputs": [],
   "source": [
    "# screenshot ; two meta subclasses derived from type class.\n",
    "# two regular classes a and b which use metaA and metaB as their resp. metaclasses\n",
    "# a new classD which derives from classA\n",
    "\n",
    "\n",
    "class MetaA(type):\n",
    "    pass\n",
    "\n",
    "class MetaB(type):\n",
    "    pass\n",
    "\n",
    "class A(metaclass=MetaA):\n",
    "    pass\n",
    "\n",
    "class B(metaclass=MetaB):\n",
    "    pass\n",
    "\n",
    "class D(A):\n",
    "    pass"
   ]
  },
  {
   "cell_type": "code",
   "execution_count": 62,
   "metadata": {},
   "outputs": [
    {
     "data": {
      "text/plain": [
       "__main__.MetaA"
      ]
     },
     "execution_count": 62,
     "metadata": {},
     "output_type": "execute_result"
    }
   ],
   "source": [
    "type(D) # type of class D not instance/object of class D"
   ]
  },
  {
   "cell_type": "code",
   "execution_count": 63,
   "metadata": {},
   "outputs": [
    {
     "ename": "TypeError",
     "evalue": "metaclass conflict: the metaclass of a derived class must be a (non-strict) subclass of the metaclasses of all its bases",
     "output_type": "error",
     "traceback": [
      "\u001b[0;31m---------------------------------------------------------------------------\u001b[0m",
      "\u001b[0;31mTypeError\u001b[0m                                 Traceback (most recent call last)",
      "\u001b[0;32m<ipython-input-63-fa5ce2ad3b29>\u001b[0m in \u001b[0;36m<module>\u001b[0;34m()\u001b[0m\n\u001b[1;32m     13\u001b[0m     \u001b[0;32mpass\u001b[0m\u001b[0;34m\u001b[0m\u001b[0m\n\u001b[1;32m     14\u001b[0m \u001b[0;34m\u001b[0m\u001b[0m\n\u001b[0;32m---> 15\u001b[0;31m \u001b[0;32mclass\u001b[0m \u001b[0mC\u001b[0m\u001b[0;34m(\u001b[0m\u001b[0mA\u001b[0m\u001b[0;34m,\u001b[0m\u001b[0mB\u001b[0m\u001b[0;34m)\u001b[0m\u001b[0;34m:\u001b[0m\u001b[0;34m\u001b[0m\u001b[0m\n\u001b[0m\u001b[1;32m     16\u001b[0m     \u001b[0;32mpass\u001b[0m\u001b[0;34m\u001b[0m\u001b[0m\n\u001b[1;32m     17\u001b[0m \u001b[0;34m\u001b[0m\u001b[0m\n",
      "\u001b[0;31mTypeError\u001b[0m: metaclass conflict: the metaclass of a derived class must be a (non-strict) subclass of the metaclasses of all its bases"
     ]
    }
   ],
   "source": [
    "# class C which inherits from both A and B\n",
    "\n",
    "class MetaA(type):\n",
    "    pass\n",
    "\n",
    "class MetaB(type):\n",
    "    pass\n",
    "\n",
    "class A(metaclass=MetaA):\n",
    "    pass\n",
    "\n",
    "class B(metaclass=MetaB):\n",
    "    pass\n",
    "\n",
    "class C(A,B):\n",
    "    pass\n",
    "\n",
    "class D(A):\n",
    "    pass"
   ]
  },
  {
   "cell_type": "code",
   "execution_count": 64,
   "metadata": {},
   "outputs": [],
   "source": [
    "# solution\n",
    "\n",
    "class MetaA(type):\n",
    "    pass\n",
    "\n",
    "class MetaB(type):\n",
    "    pass\n",
    "\n",
    "class MetaC(MetaA,MetaB):\n",
    "    pass\n",
    "\n",
    "class A(metaclass=MetaA):\n",
    "    pass\n",
    "\n",
    "class B(metaclass=MetaB):\n",
    "    pass\n",
    "\n",
    "class C(A,B,metaclass=MetaC):\n",
    "    pass\n",
    "\n",
    "class D(A):\n",
    "    pass"
   ]
  },
  {
   "cell_type": "code",
   "execution_count": 65,
   "metadata": {},
   "outputs": [
    {
     "data": {
      "text/plain": [
       "__main__.MetaC"
      ]
     },
     "execution_count": 65,
     "metadata": {},
     "output_type": "execute_result"
    }
   ],
   "source": [
    "type(C)"
   ]
  },
  {
   "cell_type": "code",
   "execution_count": 67,
   "metadata": {},
   "outputs": [],
   "source": [
    "# Cooperative meta classes\n",
    "\n",
    "class KeywordsOnlyMeta(type):\n",
    "    \n",
    "    def __call__(cls,*args,**kwargs):\n",
    "        if args:\n",
    "            raise TypeError(\"Constructor for class {} doesn't accept positional args\".format(cls))\n",
    "        return super().__call__(cls,**kwargs)\n",
    "    \n",
    "    \n",
    "class ProhobitDuplicatesMeta(type):\n",
    "    \n",
    "    @classmethod\n",
    "    def __prepare__(mcs,name,bases):\n",
    "        return OneShotClassNamespace(name)\n",
    "    \n",
    "\n",
    "class ProhobitDuplicatesAndKeywordsOnlyMeta(ProhobitDuplicatesMeta,KeywordsOnlyMeta):\n",
    "    pass\n",
    "\n",
    "# both the classes over write different methods so they can be combined easily.\n",
    "# use super() when delegating to base classes because super() actually deligates to the next class in MRO.\n",
    "\n",
    "# example of comining Tracing and Planet class skipped.\n",
    "# prefer __init__ to __new__"
   ]
  },
  {
   "cell_type": "code",
   "execution_count": 68,
   "metadata": {},
   "outputs": [],
   "source": [
    "# Summary\n",
    "\n",
    "# all classed have meta class which is type (of class object)\n",
    "# the default type of class object is type\n",
    "\n",
    "# meta classes are responsible for converting class namespaces into class(ojects)\n",
    "# __prepare__() must contain a mapping to hold the namespaces.\n",
    "# __new__() must return a class object.\n",
    "# __init__() can be used to furture configure the class object.\n",
    "# __call__() on metaclass is the instance constructor\n",
    "\n",
    "# use case ; meta classes can be used to implement descriptors\n",
    "# interaction of meta classes with inheritance.\n",
    "# use super() for cooperation"
   ]
  },
  {
   "cell_type": "markdown",
   "metadata": {},
   "source": [
    "## Class Decorators - alternative to meta classes"
   ]
  },
  {
   "cell_type": "code",
   "execution_count": 69,
   "metadata": {},
   "outputs": [
    {
     "name": "stdout",
     "output_type": "stream",
     "text": [
      "__dict__\n",
      "__init__\n",
      "__weakref__\n",
      "__module__\n",
      "set_kelvin\n",
      "__doc__\n",
      "get_kelvin\n"
     ]
    }
   ],
   "source": [
    "# class decrators < metaclasses (less powerful)\n",
    "# class decorators are similar to function decorators\n",
    "\n",
    "def my_class_decorator(cls):\n",
    "    for name,attr in vars(cls).items():\n",
    "        print(name)\n",
    "    return cls\n",
    "\n",
    "@my_class_decorator\n",
    "class Temperature:\n",
    "    \n",
    "    def __init__(self,kelvin):\n",
    "        self._kelvin = kelvin \n",
    "        \n",
    "    def get_kelvin(self):\n",
    "        return self._kelvin\n",
    "    \n",
    "    def set_kelvin(self,value):\n",
    "        self._kelvin = value"
   ]
  },
  {
   "cell_type": "code",
   "execution_count": 70,
   "metadata": {},
   "outputs": [
    {
     "ename": "NameError",
     "evalue": "name 'decorator_factory' is not defined",
     "output_type": "error",
     "traceback": [
      "\u001b[0;31m---------------------------------------------------------------------------\u001b[0m",
      "\u001b[0;31mNameError\u001b[0m                                 Traceback (most recent call last)",
      "\u001b[0;32m<ipython-input-70-54df5e22a7ac>\u001b[0m in \u001b[0;36m<module>\u001b[0;34m()\u001b[0m\n\u001b[1;32m      2\u001b[0m \u001b[0;31m# Configurable decorators with Decorator factories\u001b[0m\u001b[0;34m\u001b[0m\u001b[0;34m\u001b[0m\u001b[0m\n\u001b[1;32m      3\u001b[0m \u001b[0;34m\u001b[0m\u001b[0m\n\u001b[0;32m----> 4\u001b[0;31m \u001b[0;34m@\u001b[0m\u001b[0mdecorator_factory\u001b[0m\u001b[0;34m(\u001b[0m\u001b[0margument\u001b[0m\u001b[0;34m)\u001b[0m\u001b[0;34m\u001b[0m\u001b[0m\n\u001b[0m\u001b[1;32m      5\u001b[0m \u001b[0;32mclass\u001b[0m \u001b[0mDecorated\u001b[0m\u001b[0;34m:\u001b[0m\u001b[0;34m\u001b[0m\u001b[0m\n\u001b[1;32m      6\u001b[0m     \u001b[0;32mpass\u001b[0m\u001b[0;34m\u001b[0m\u001b[0m\n",
      "\u001b[0;31mNameError\u001b[0m: name 'decorator_factory' is not defined"
     ]
    }
   ],
   "source": [
    "# Enforcing class invariants ; specify class invariant to the class decorator\n",
    "# Configurable decorators with Decorator factories\n",
    "\n",
    "@decorator_factory(argument)\n",
    "class Decorated:\n",
    "    pass\n",
    "\n",
    "# SCREENSHOT"
   ]
  },
  {
   "cell_type": "code",
   "execution_count": 72,
   "metadata": {},
   "outputs": [],
   "source": [
    "import functools\n",
    "\n",
    "def invariant(predicate):\n",
    "    \n",
    "    def invariant_checking_class_decorator(cls):\n",
    "        method_names = [name for name,attr in vars(cls).items() if callable(attr)]\n",
    "        for name in method_names:\n",
    "            _wrap_method_with_invariant_checking_proxy(cls,name,predicate)\n",
    "        return cls\n",
    "    \n",
    "    return invariant_checking_class_decorator \n",
    "\n",
    "\n",
    "def _wrap_method_with_invariant_checking_proxy(cls,name,predicate):\n",
    "    method = getattr(cls,name)\n",
    "    assert callable(method)\n",
    "    \n",
    "    @functools.wraps(method)\n",
    "    def invariant_checking_method_decorator(self,*args,**kwargs):\n",
    "        result = method(self,*args,**kwargs)\n",
    "        if not predicate(self):\n",
    "            raise RuntimeError\n",
    "        return result\n",
    "    \n",
    "    setattr(cls,name,invariant_checking_method_decorator)\n",
    "\n",
    "    \n",
    "def not_below_absolute_zero(temperature):\n",
    "    return temperature._kelvin >= 0 \n",
    "    \n",
    "@invariant(not_below_absolute_zero)\n",
    "class Temperature:\n",
    "    \n",
    "    def __init__(self,kelvin):\n",
    "        self._kelvin = kelvin \n",
    "        \n",
    "    def get_kelvin(self):\n",
    "        return self._kelvin\n",
    "    \n",
    "    def set_kelvin(self,value):\n",
    "        self._kelvin = value"
   ]
  },
  {
   "cell_type": "code",
   "execution_count": 73,
   "metadata": {},
   "outputs": [],
   "source": [
    "t = Temperature(5.0)"
   ]
  },
  {
   "cell_type": "code",
   "execution_count": 74,
   "metadata": {},
   "outputs": [
    {
     "ename": "RuntimeError",
     "evalue": "",
     "output_type": "error",
     "traceback": [
      "\u001b[0;31m---------------------------------------------------------------------------\u001b[0m",
      "\u001b[0;31mRuntimeError\u001b[0m                              Traceback (most recent call last)",
      "\u001b[0;32m<ipython-input-74-20e4e46912a4>\u001b[0m in \u001b[0;36m<module>\u001b[0;34m()\u001b[0m\n\u001b[0;32m----> 1\u001b[0;31m \u001b[0mt\u001b[0m \u001b[0;34m=\u001b[0m \u001b[0mTemperature\u001b[0m\u001b[0;34m(\u001b[0m\u001b[0;34m-\u001b[0m\u001b[0;36m2.0\u001b[0m\u001b[0;34m)\u001b[0m\u001b[0;34m\u001b[0m\u001b[0m\n\u001b[0m",
      "\u001b[0;32m<ipython-input-72-ae8cbbe61eac>\u001b[0m in \u001b[0;36minvariant_checking_method_decorator\u001b[0;34m(self, *args, **kwargs)\u001b[0m\n\u001b[1;32m     20\u001b[0m         \u001b[0mresult\u001b[0m \u001b[0;34m=\u001b[0m \u001b[0mmethod\u001b[0m\u001b[0;34m(\u001b[0m\u001b[0mself\u001b[0m\u001b[0;34m,\u001b[0m\u001b[0;34m*\u001b[0m\u001b[0margs\u001b[0m\u001b[0;34m,\u001b[0m\u001b[0;34m**\u001b[0m\u001b[0mkwargs\u001b[0m\u001b[0;34m)\u001b[0m\u001b[0;34m\u001b[0m\u001b[0m\n\u001b[1;32m     21\u001b[0m         \u001b[0;32mif\u001b[0m \u001b[0;32mnot\u001b[0m \u001b[0mpredicate\u001b[0m\u001b[0;34m(\u001b[0m\u001b[0mself\u001b[0m\u001b[0;34m)\u001b[0m\u001b[0;34m:\u001b[0m\u001b[0;34m\u001b[0m\u001b[0m\n\u001b[0;32m---> 22\u001b[0;31m             \u001b[0;32mraise\u001b[0m \u001b[0mRuntimeError\u001b[0m\u001b[0;34m\u001b[0m\u001b[0m\n\u001b[0m\u001b[1;32m     23\u001b[0m         \u001b[0;32mreturn\u001b[0m \u001b[0mresult\u001b[0m\u001b[0;34m\u001b[0m\u001b[0m\n\u001b[1;32m     24\u001b[0m \u001b[0;34m\u001b[0m\u001b[0m\n",
      "\u001b[0;31mRuntimeError\u001b[0m: "
     ]
    }
   ],
   "source": [
    "t = Temperature(-2.0)"
   ]
  },
  {
   "cell_type": "code",
   "execution_count": 75,
   "metadata": {},
   "outputs": [
    {
     "ename": "RuntimeError",
     "evalue": "",
     "output_type": "error",
     "traceback": [
      "\u001b[0;31m---------------------------------------------------------------------------\u001b[0m",
      "\u001b[0;31mRuntimeError\u001b[0m                              Traceback (most recent call last)",
      "\u001b[0;32m<ipython-input-75-fa167cd9d0e3>\u001b[0m in \u001b[0;36m<module>\u001b[0;34m()\u001b[0m\n\u001b[1;32m      1\u001b[0m \u001b[0ms\u001b[0m \u001b[0;34m=\u001b[0m \u001b[0mTemperature\u001b[0m\u001b[0;34m(\u001b[0m\u001b[0;36m42.0\u001b[0m\u001b[0;34m)\u001b[0m\u001b[0;34m\u001b[0m\u001b[0m\n\u001b[1;32m      2\u001b[0m \u001b[0;34m\u001b[0m\u001b[0m\n\u001b[0;32m----> 3\u001b[0;31m \u001b[0ms\u001b[0m\u001b[0;34m.\u001b[0m\u001b[0mset_kelvin\u001b[0m\u001b[0;34m(\u001b[0m\u001b[0;34m-\u001b[0m\u001b[0;36m1.0\u001b[0m\u001b[0;34m)\u001b[0m\u001b[0;34m\u001b[0m\u001b[0m\n\u001b[0m",
      "\u001b[0;32m<ipython-input-72-ae8cbbe61eac>\u001b[0m in \u001b[0;36minvariant_checking_method_decorator\u001b[0;34m(self, *args, **kwargs)\u001b[0m\n\u001b[1;32m     20\u001b[0m         \u001b[0mresult\u001b[0m \u001b[0;34m=\u001b[0m \u001b[0mmethod\u001b[0m\u001b[0;34m(\u001b[0m\u001b[0mself\u001b[0m\u001b[0;34m,\u001b[0m\u001b[0;34m*\u001b[0m\u001b[0margs\u001b[0m\u001b[0;34m,\u001b[0m\u001b[0;34m**\u001b[0m\u001b[0mkwargs\u001b[0m\u001b[0;34m)\u001b[0m\u001b[0;34m\u001b[0m\u001b[0m\n\u001b[1;32m     21\u001b[0m         \u001b[0;32mif\u001b[0m \u001b[0;32mnot\u001b[0m \u001b[0mpredicate\u001b[0m\u001b[0;34m(\u001b[0m\u001b[0mself\u001b[0m\u001b[0;34m)\u001b[0m\u001b[0;34m:\u001b[0m\u001b[0;34m\u001b[0m\u001b[0m\n\u001b[0;32m---> 22\u001b[0;31m             \u001b[0;32mraise\u001b[0m \u001b[0mRuntimeError\u001b[0m\u001b[0;34m\u001b[0m\u001b[0m\n\u001b[0m\u001b[1;32m     23\u001b[0m         \u001b[0;32mreturn\u001b[0m \u001b[0mresult\u001b[0m\u001b[0;34m\u001b[0m\u001b[0m\n\u001b[1;32m     24\u001b[0m \u001b[0;34m\u001b[0m\u001b[0m\n",
      "\u001b[0;31mRuntimeError\u001b[0m: "
     ]
    }
   ],
   "source": [
    "s = Temperature(42.0)\n",
    "\n",
    "s.set_kelvin(-1.0)"
   ]
  },
  {
   "cell_type": "code",
   "execution_count": 76,
   "metadata": {},
   "outputs": [],
   "source": [
    "import functools\n",
    "\n",
    "def invariant(predicate):\n",
    "    \n",
    "    def invariant_checking_class_decorator(cls):\n",
    "        method_names = [name for name,attr in vars(cls).items() if callable(attr)]\n",
    "        for name in method_names:\n",
    "            _wrap_method_with_invariant_checking_proxy(cls,name,predicate)\n",
    "        return cls\n",
    "    \n",
    "    return invariant_checking_class_decorator \n",
    "\n",
    "\n",
    "def _wrap_method_with_invariant_checking_proxy(cls,name,predicate):\n",
    "    method = getattr(cls,name)\n",
    "    assert callable(method)\n",
    "    \n",
    "    @functools.wraps(method)\n",
    "    def invariant_checking_method_decorator(self,*args,**kwargs):\n",
    "        result = method(self,*args,**kwargs)\n",
    "        if not predicate(self):\n",
    "            raise RuntimeError\n",
    "        return result\n",
    "    \n",
    "    setattr(cls,name,invariant_checking_method_decorator)\n",
    "\n",
    "    \n",
    "def not_below_absolute_zero(temperature):\n",
    "    return temperature._kelvin >= 0 \n",
    "    \n",
    "@invariant(not_below_absolute_zero)\n",
    "class Temperature:\n",
    "    \n",
    "    def __init__(self,kelvin):\n",
    "        self._kelvin = kelvin \n",
    "        \n",
    "    def get_kelvin(self):\n",
    "        return self._kelvin\n",
    "    \n",
    "    def set_kelvin(self,value):\n",
    "        self._kelvin = value\n",
    "        \n",
    "    @property\n",
    "    def celsius(self):\n",
    "        return self._kelvin - 273.15\n",
    "    \n",
    "    @celsius.setter\n",
    "    def celsius(self,value):\n",
    "        self._kelvin = value + 273.15\n",
    "        \n",
    "    @property\n",
    "    def fahrenheit(self):\n",
    "        return self._kelvin*9/5 - 459.67\n",
    "    \n",
    "    @celsius.setter\n",
    "    def fahrenheit(self,value):\n",
    "        self._kelvin = (value+459.67) * 5/9"
   ]
  },
  {
   "cell_type": "code",
   "execution_count": 77,
   "metadata": {},
   "outputs": [
    {
     "data": {
      "text/plain": [
       "-231.14999999999998"
      ]
     },
     "execution_count": 77,
     "metadata": {},
     "output_type": "execute_result"
    }
   ],
   "source": [
    "t = Temperature(42.0)\n",
    "\n",
    "t.celsius"
   ]
  },
  {
   "cell_type": "code",
   "execution_count": 78,
   "metadata": {},
   "outputs": [],
   "source": [
    "t.celsius = -100"
   ]
  },
  {
   "cell_type": "code",
   "execution_count": 79,
   "metadata": {},
   "outputs": [
    {
     "data": {
      "text/plain": [
       "-100.0"
      ]
     },
     "execution_count": 79,
     "metadata": {},
     "output_type": "execute_result"
    }
   ],
   "source": [
    "t.celsius"
   ]
  },
  {
   "cell_type": "code",
   "execution_count": 82,
   "metadata": {},
   "outputs": [],
   "source": [
    "# no exception raised , class invariant violated\n",
    "t.celsius = -300"
   ]
  },
  {
   "cell_type": "code",
   "execution_count": 84,
   "metadata": {},
   "outputs": [
    {
     "ename": "RuntimeError",
     "evalue": "",
     "output_type": "error",
     "traceback": [
      "\u001b[0;31m---------------------------------------------------------------------------\u001b[0m",
      "\u001b[0;31mRuntimeError\u001b[0m                              Traceback (most recent call last)",
      "\u001b[0;32m<ipython-input-84-97dd326adaf5>\u001b[0m in \u001b[0;36m<module>\u001b[0;34m()\u001b[0m\n\u001b[1;32m      2\u001b[0m \u001b[0;31m# pure queries shouldnt detect invariant violations\u001b[0m\u001b[0;34m\u001b[0m\u001b[0;34m\u001b[0m\u001b[0m\n\u001b[1;32m      3\u001b[0m \u001b[0;34m\u001b[0m\u001b[0m\n\u001b[0;32m----> 4\u001b[0;31m \u001b[0mt\u001b[0m\u001b[0;34m.\u001b[0m\u001b[0mget_kelvin\u001b[0m\u001b[0;34m(\u001b[0m\u001b[0;34m)\u001b[0m\u001b[0;34m\u001b[0m\u001b[0m\n\u001b[0m",
      "\u001b[0;32m<ipython-input-76-77c3d29d4e12>\u001b[0m in \u001b[0;36minvariant_checking_method_decorator\u001b[0;34m(self, *args, **kwargs)\u001b[0m\n\u001b[1;32m     20\u001b[0m         \u001b[0mresult\u001b[0m \u001b[0;34m=\u001b[0m \u001b[0mmethod\u001b[0m\u001b[0;34m(\u001b[0m\u001b[0mself\u001b[0m\u001b[0;34m,\u001b[0m\u001b[0;34m*\u001b[0m\u001b[0margs\u001b[0m\u001b[0;34m,\u001b[0m\u001b[0;34m**\u001b[0m\u001b[0mkwargs\u001b[0m\u001b[0;34m)\u001b[0m\u001b[0;34m\u001b[0m\u001b[0m\n\u001b[1;32m     21\u001b[0m         \u001b[0;32mif\u001b[0m \u001b[0;32mnot\u001b[0m \u001b[0mpredicate\u001b[0m\u001b[0;34m(\u001b[0m\u001b[0mself\u001b[0m\u001b[0;34m)\u001b[0m\u001b[0;34m:\u001b[0m\u001b[0;34m\u001b[0m\u001b[0m\n\u001b[0;32m---> 22\u001b[0;31m             \u001b[0;32mraise\u001b[0m \u001b[0mRuntimeError\u001b[0m\u001b[0;34m\u001b[0m\u001b[0m\n\u001b[0m\u001b[1;32m     23\u001b[0m         \u001b[0;32mreturn\u001b[0m \u001b[0mresult\u001b[0m\u001b[0;34m\u001b[0m\u001b[0m\n\u001b[1;32m     24\u001b[0m \u001b[0;34m\u001b[0m\u001b[0m\n",
      "\u001b[0;31mRuntimeError\u001b[0m: "
     ]
    }
   ],
   "source": [
    "# too late when we get an error\n",
    "# pure queries shouldnt detect invariant violations\n",
    "\n",
    "t.get_kelvin()"
   ]
  },
  {
   "cell_type": "code",
   "execution_count": 85,
   "metadata": {},
   "outputs": [],
   "source": [
    "#solution ; Detecting and wrapping properties\n",
    "# skipped"
   ]
  },
  {
   "cell_type": "code",
   "execution_count": 86,
   "metadata": {},
   "outputs": [],
   "source": [
    "## Chaining class decorators\n",
    "# skipped"
   ]
  },
  {
   "cell_type": "markdown",
   "metadata": {},
   "source": [
    "## Ch - Abstract Base Classes"
   ]
  },
  {
   "cell_type": "code",
   "execution_count": 87,
   "metadata": {},
   "outputs": [],
   "source": [
    "# Pep3119\n",
    "# eg) collections.abc.Sequence\n",
    "#  abc module to create abstract base classes of your own design\n",
    "\n",
    "# AbstractBase class ; we expect another class to derive from this base class.\n",
    "# ie AbstractBase class is the target of inheritance relationship from a sub class.\n",
    "\n",
    "# eg) Graphical Device is the intended base class (ie Abstract Base class)\n",
    "# we want HpPrinterDriver to inherit from Grphical Device (base class)\n",
    "\n",
    "# Abstract because the class can not be instantiated in isolation.\n",
    "# that is it makes no sense to create an object of the abstract base class alone.\n",
    "\n",
    "# Concrete class (opposite of abstract)\n",
    "# here HpPrinterDriver is a concrete class.\n",
    "\n",
    "# The ratinal for any abstract base class is to define an interface which derived classes Must implement.\n",
    "# The base class defines the interface for clients of any and all sub classes.\n",
    "\n",
    "# In this example the HpPrinterDriver must over write the 3 abstract methods of GraphicalDevice\n",
    "\n",
    "# class GrphicalDevice:   #abstract base class \n",
    "# width()\n",
    "# height()\n",
    "# draw(shape)\n",
    "\n",
    "# class HpPrinterDriver:   #concrete class \n",
    "# width()\n",
    "# height()\n",
    "# draw(shape)"
   ]
  },
  {
   "cell_type": "code",
   "execution_count": 88,
   "metadata": {},
   "outputs": [],
   "source": [
    "# Used to achieve liskov's substitution principle\n",
    "# subclasses from the point of view of the client code, should be interchangable\n",
    "# client code developed against an abstract interface, should not require knowledge of specific concrete types.\n",
    "# code relying only on the base class doesn't need to be modified for alternative subclasses.\n",
    "# eg) code written against the GraphicalDevice class should be able to render to a new 1080pLCDprinter class,\n",
    "# without modification. We can substitute one concrete class for another.\n",
    "\n",
    "# 16 methods of MutableSequence "
   ]
  },
  {
   "cell_type": "code",
   "execution_count": 89,
   "metadata": {},
   "outputs": [
    {
     "data": {
      "text/plain": [
       "True"
      ]
     },
     "execution_count": 89,
     "metadata": {},
     "output_type": "execute_result"
    }
   ],
   "source": [
    "### Abstract Base classes in python\n",
    "\n",
    "# 2 purposes\n",
    "# provide a mechanism for defining protocols or interfaces and ensuring the implementers of those protocols\n",
    "# meet some minimum requirements.\n",
    "# second they provide a means for easily determining weather an arbitary class or instance meets the \n",
    "# requirements of a specific protocol.\n",
    "\n",
    "# example\n",
    "\n",
    "from collections.abc import MutableSequence\n",
    "\n",
    "issubclass(list,MutableSequence)"
   ]
  },
  {
   "cell_type": "code",
   "execution_count": 90,
   "metadata": {},
   "outputs": [
    {
     "data": {
      "text/plain": [
       "(list, object)"
      ]
     },
     "execution_count": 90,
     "metadata": {},
     "output_type": "execute_result"
    }
   ],
   "source": [
    "list.__mro__"
   ]
  },
  {
   "cell_type": "code",
   "execution_count": 91,
   "metadata": {},
   "outputs": [
    {
     "ename": "TypeError",
     "evalue": "Can't instantiate abstract class MutableSequence with abstract methods __delitem__, __getitem__, __len__, __setitem__, insert",
     "output_type": "error",
     "traceback": [
      "\u001b[0;31m---------------------------------------------------------------------------\u001b[0m",
      "\u001b[0;31mTypeError\u001b[0m                                 Traceback (most recent call last)",
      "\u001b[0;32m<ipython-input-91-62163974ad3f>\u001b[0m in \u001b[0;36m<module>\u001b[0;34m()\u001b[0m\n\u001b[1;32m      2\u001b[0m \u001b[0;31m# instead you need to implement 5 more methods to use it\u001b[0m\u001b[0;34m\u001b[0m\u001b[0;34m\u001b[0m\u001b[0m\n\u001b[1;32m      3\u001b[0m \u001b[0;34m\u001b[0m\u001b[0m\n\u001b[0;32m----> 4\u001b[0;31m \u001b[0mms\u001b[0m \u001b[0;34m=\u001b[0m \u001b[0mMutableSequence\u001b[0m\u001b[0;34m(\u001b[0m\u001b[0;34m)\u001b[0m\u001b[0;34m\u001b[0m\u001b[0m\n\u001b[0m",
      "\u001b[0;31mTypeError\u001b[0m: Can't instantiate abstract class MutableSequence with abstract methods __delitem__, __getitem__, __len__, __setitem__, insert"
     ]
    }
   ],
   "source": [
    "# shows MutableSequence is an abstract base class and can't be instantiated directly.\n",
    "# instead you need to implement 5 more methods to use it\n",
    "\n",
    "ms = MutableSequence()"
   ]
  },
  {
   "cell_type": "code",
   "execution_count": 92,
   "metadata": {},
   "outputs": [],
   "source": [
    "# skipped\n",
    "# __subclasscheck__(sub)"
   ]
  },
  {
   "cell_type": "code",
   "execution_count": 99,
   "metadata": {},
   "outputs": [],
   "source": [
    "# example here Sword is the virtual base class\n",
    "\n",
    "# rifle isn't a sub class of sword\n",
    "# but BroadSwoard and SamuraiSword are because they implement swipe() and sharpen() method\n",
    "\n",
    "class SwordMeta(type):\n",
    "    \n",
    "    def __subclasscheck__(cls,sub):\n",
    "        return (hasattr(sub,'swipe') and callable (sub.swipe)\n",
    "               and \n",
    "               hasattr(sub,'sharpen') and callable (sub.sharpen))\n",
    "\n",
    "    \n",
    "class Sword(metaclass = SwordMeta):\n",
    "    pass\n",
    "\n",
    "\n",
    "class BroadSword:\n",
    "    def swipe(self):\n",
    "        print(\"swoosh\")\n",
    "    \n",
    "    def sharpen(self):\n",
    "        print(\"shink\")\n",
    "\n",
    "class SamuraiSword:\n",
    "    def swipe(self):\n",
    "        print(\"slice\")\n",
    "    \n",
    "    def sharpen(self):\n",
    "        print(\"shink\")\n",
    "\n",
    "class Rifle:\n",
    "    \n",
    "    def fire(self):\n",
    "        print(\"bang\")"
   ]
  },
  {
   "cell_type": "code",
   "execution_count": 100,
   "metadata": {},
   "outputs": [
    {
     "data": {
      "text/plain": [
       "True"
      ]
     },
     "execution_count": 100,
     "metadata": {},
     "output_type": "execute_result"
    }
   ],
   "source": [
    "issubclass(BroadSword,Sword)"
   ]
  },
  {
   "cell_type": "code",
   "execution_count": 101,
   "metadata": {},
   "outputs": [
    {
     "data": {
      "text/plain": [
       "True"
      ]
     },
     "execution_count": 101,
     "metadata": {},
     "output_type": "execute_result"
    }
   ],
   "source": [
    "issubclass(SamuraiSword,Sword)"
   ]
  },
  {
   "cell_type": "code",
   "execution_count": 102,
   "metadata": {},
   "outputs": [
    {
     "data": {
      "text/plain": [
       "False"
      ]
     },
     "execution_count": 102,
     "metadata": {},
     "output_type": "execute_result"
    }
   ],
   "source": [
    "issubclass(Rifle,Sword)"
   ]
  },
  {
   "cell_type": "code",
   "execution_count": 105,
   "metadata": {},
   "outputs": [
    {
     "data": {
      "text/plain": [
       "False"
      ]
     },
     "execution_count": 105,
     "metadata": {},
     "output_type": "execute_result"
    }
   ],
   "source": [
    "# isinstance checks for __isinstancecheck__() which we have not yet implemented\n",
    "\n",
    "sw = SamuraiSword()\n",
    "\n",
    "isinstance(sw,Sword)"
   ]
  },
  {
   "cell_type": "code",
   "execution_count": 108,
   "metadata": {},
   "outputs": [],
   "source": [
    "# example here Sword is the virtual base class\n",
    "\n",
    "# rifle isn't a sub class of sword\n",
    "# but BroadSwoard and SamuraiSword are because they implement swipe() and sharpen() method\n",
    "\n",
    "class SwordMeta(type):\n",
    "    \n",
    "    def __instancecheck__(cls,instance):\n",
    "        return cls.__subclasscheck__(type(instance))\n",
    "        \n",
    "    def __subclasscheck__(cls,sub):\n",
    "        return (hasattr(sub,'swipe') and callable (sub.swipe)\n",
    "               and \n",
    "               hasattr(sub,'sharpen') and callable (sub.sharpen))\n",
    "\n",
    "    \n",
    "class Sword(metaclass = SwordMeta):\n",
    "    pass\n",
    "\n",
    "\n",
    "class BroadSword:\n",
    "    def swipe(self):\n",
    "        print(\"swoosh\")\n",
    "    \n",
    "    def sharpen(self):\n",
    "        print(\"shink\")\n",
    "\n",
    "class SamuraiSword:\n",
    "    def swipe(self):\n",
    "        print(\"slice\")\n",
    "    \n",
    "    def sharpen(self):\n",
    "        print(\"shink\")\n",
    "\n",
    "class Rifle:\n",
    "    \n",
    "    def fire(self):\n",
    "        print(\"bang\")"
   ]
  },
  {
   "cell_type": "code",
   "execution_count": 109,
   "metadata": {},
   "outputs": [
    {
     "data": {
      "text/plain": [
       "True"
      ]
     },
     "execution_count": 109,
     "metadata": {},
     "output_type": "execute_result"
    }
   ],
   "source": [
    "sw = SamuraiSword()\n",
    "\n",
    "isinstance(sw,Sword)"
   ]
  },
  {
   "cell_type": "code",
   "execution_count": 111,
   "metadata": {},
   "outputs": [],
   "source": [
    "# This is used in collections Sized\n",
    "\n",
    "# so if you implement a new class with SizedCollection which has __len__ method\n",
    "\n",
    "# then SizedCollection will be a subclass of Sized"
   ]
  },
  {
   "cell_type": "code",
   "execution_count": 112,
   "metadata": {},
   "outputs": [
    {
     "data": {
      "text/plain": [
       "True"
      ]
     },
     "execution_count": 112,
     "metadata": {},
     "output_type": "execute_result"
    }
   ],
   "source": [
    "## Non-Transitive sub class relationships\n",
    "\n",
    "# c sub class of B\n",
    "# B sub class of A\n",
    "# doesn't mean that C is sub class of A\n",
    "\n",
    "# example\n",
    "from collections.abc import Hashable\n",
    "\n",
    "issubclass(object,Hashable)"
   ]
  },
  {
   "cell_type": "code",
   "execution_count": 113,
   "metadata": {},
   "outputs": [
    {
     "data": {
      "text/plain": [
       "True"
      ]
     },
     "execution_count": 113,
     "metadata": {},
     "output_type": "execute_result"
    }
   ],
   "source": [
    "issubclass(list,object)"
   ]
  },
  {
   "cell_type": "code",
   "execution_count": 114,
   "metadata": {},
   "outputs": [
    {
     "data": {
      "text/plain": [
       "False"
      ]
     },
     "execution_count": 114,
     "metadata": {},
     "output_type": "execute_result"
    }
   ],
   "source": [
    "issubclass(list,Hashable)"
   ]
  },
  {
   "cell_type": "code",
   "execution_count": 115,
   "metadata": {},
   "outputs": [],
   "source": [
    "# this happens because list is mutable collection, disables hashing by removing __hash__ method\n",
    "\n",
    "list.__hash__"
   ]
  },
  {
   "cell_type": "code",
   "execution_count": 116,
   "metadata": {},
   "outputs": [
    {
     "data": {
      "text/plain": [
       "<slot wrapper '__hash__' of 'object' objects>"
      ]
     },
     "execution_count": 116,
     "metadata": {},
     "output_type": "execute_result"
    }
   ],
   "source": [
    "object.__hash__"
   ]
  },
  {
   "cell_type": "code",
   "execution_count": 117,
   "metadata": {},
   "outputs": [],
   "source": [
    "### Mro with virtual base classes\n",
    "# add thrust method to Sword class\n",
    "\n",
    "# example here Sword is the virtual base class\n",
    "\n",
    "# rifle isn't a sub class of sword\n",
    "# but BroadSwoard and SamuraiSword are because they implement swipe() and sharpen() method\n",
    "\n",
    "class SwordMeta(type):\n",
    "    \n",
    "    def __instancecheck__(cls,instance):\n",
    "        return cls.__subclasscheck__(type(instance))\n",
    "        \n",
    "    def __subclasscheck__(cls,sub):\n",
    "        return (hasattr(sub,'swipe') and callable (sub.swipe)\n",
    "               and \n",
    "               hasattr(sub,'sharpen') and callable (sub.sharpen))\n",
    "\n",
    "    \n",
    "class Sword(metaclass = SwordMeta):\n",
    "    \n",
    "    def thrust(self):\n",
    "        print(\"Thrusting..\")\n",
    "\n",
    "class BroadSword:\n",
    "    def swipe(self):\n",
    "        print(\"swoosh\")\n",
    "    \n",
    "    def sharpen(self):\n",
    "        print(\"shink\")\n",
    "\n",
    "class SamuraiSword:\n",
    "    def swipe(self):\n",
    "        print(\"slice\")\n",
    "    \n",
    "    def sharpen(self):\n",
    "        print(\"shink\")\n",
    "\n",
    "class Rifle:\n",
    "    \n",
    "    def fire(self):\n",
    "        print(\"bang\")"
   ]
  },
  {
   "cell_type": "code",
   "execution_count": 119,
   "metadata": {},
   "outputs": [
    {
     "data": {
      "text/plain": [
       "True"
      ]
     },
     "execution_count": 119,
     "metadata": {},
     "output_type": "execute_result"
    }
   ],
   "source": [
    "b_s = BroadSword()\n",
    "\n",
    "isinstance(b_s,BroadSword)"
   ]
  },
  {
   "cell_type": "code",
   "execution_count": 120,
   "metadata": {},
   "outputs": [
    {
     "name": "stdout",
     "output_type": "stream",
     "text": [
      "swoosh\n"
     ]
    }
   ],
   "source": [
    "b_s.swipe()"
   ]
  },
  {
   "cell_type": "code",
   "execution_count": 121,
   "metadata": {},
   "outputs": [
    {
     "ename": "AttributeError",
     "evalue": "'BroadSword' object has no attribute 'thrust'",
     "output_type": "error",
     "traceback": [
      "\u001b[0;31m---------------------------------------------------------------------------\u001b[0m",
      "\u001b[0;31mAttributeError\u001b[0m                            Traceback (most recent call last)",
      "\u001b[0;32m<ipython-input-121-d46fbf36c11f>\u001b[0m in \u001b[0;36m<module>\u001b[0;34m()\u001b[0m\n\u001b[0;32m----> 1\u001b[0;31m \u001b[0mb_s\u001b[0m\u001b[0;34m.\u001b[0m\u001b[0mthrust\u001b[0m\u001b[0;34m(\u001b[0m\u001b[0;34m)\u001b[0m\u001b[0;34m\u001b[0m\u001b[0m\n\u001b[0m",
      "\u001b[0;31mAttributeError\u001b[0m: 'BroadSword' object has no attribute 'thrust'"
     ]
    }
   ],
   "source": [
    "b_s.thrust()"
   ]
  },
  {
   "cell_type": "code",
   "execution_count": 122,
   "metadata": {},
   "outputs": [
    {
     "data": {
      "text/plain": [
       "(__main__.BroadSword, object)"
      ]
     },
     "execution_count": 122,
     "metadata": {},
     "output_type": "execute_result"
    }
   ],
   "source": [
    "BroadSword.__mro__"
   ]
  },
  {
   "cell_type": "code",
   "execution_count": 123,
   "metadata": {},
   "outputs": [],
   "source": [
    "# for this reason it's not possible to call virtual base class methods using super.\n",
    "# since super relies on searching the mro."
   ]
  },
  {
   "cell_type": "code",
   "execution_count": 124,
   "metadata": {},
   "outputs": [],
   "source": [
    "### Library Support for Abstract Base classes\n",
    "# screenshot Custom Metaclasses vs abc module\n",
    "\n",
    "# custom metaclasses\n",
    "# implement __subclasscheck__() and __isinstancecheck__()\n",
    "\n",
    "# abc module\n",
    "# ABC base class , ABCMeta metaclass and  @abstractmethod decorator\n",
    "\n",
    "# 1) ABCMeta class gives implementations of:\n",
    "# -> __subclasscheck__() \n",
    "# -> __isinstancecheck__()\n",
    "# -> __subclasshook__()"
   ]
  },
  {
   "cell_type": "code",
   "execution_count": 126,
   "metadata": {},
   "outputs": [],
   "source": [
    "# use ABCMeta instead of SwordMeta in Sword class\n",
    "from abc import ABCMeta\n",
    "\n",
    "# class SwordMeta(type):\n",
    "    \n",
    "#     def __instancecheck__(cls,instance):\n",
    "#         return cls.__subclasscheck__(type(instance))\n",
    "        \n",
    "#     def __subclasscheck__(cls,sub):\n",
    "#         return (hasattr(sub,'swipe') and callable (sub.swipe)\n",
    "#                and \n",
    "#                hasattr(sub,'sharpen') and callable (sub.sharpen))\n",
    "\n",
    "class Sword(metaclass = ABCMeta):\n",
    "    \n",
    "    def thrust(self):\n",
    "        print(\"Thrusting..\")\n",
    "\n",
    "        \n",
    "class BroadSword:\n",
    "    \n",
    "    def swipe(self):\n",
    "        print(\"swoosh\")\n",
    "    \n",
    "    def sharpen(self):\n",
    "        print(\"shink\")\n",
    "\n",
    "        \n",
    "class SamuraiSword:\n",
    "    def swipe(self):\n",
    "        print(\"slice\")\n",
    "    \n",
    "    def sharpen(self):\n",
    "        print(\"shink\")\n",
    "\n",
    "        \n",
    "class Rifle:\n",
    "    \n",
    "    def fire(self):\n",
    "        print(\"bang\")"
   ]
  },
  {
   "cell_type": "code",
   "execution_count": 127,
   "metadata": {},
   "outputs": [
    {
     "data": {
      "text/plain": [
       "NotImplemented"
      ]
     },
     "execution_count": 127,
     "metadata": {},
     "output_type": "execute_result"
    }
   ],
   "source": [
    "# a method should return True / False / not implemented\n",
    "# in case of __subclasshook__()\n",
    "\n",
    "object.__subclasshook__()"
   ]
  },
  {
   "cell_type": "code",
   "execution_count": 133,
   "metadata": {},
   "outputs": [],
   "source": [
    "# use ABCMeta instead of SwordMeta in Sword class\n",
    "from abc import ABCMeta\n",
    "\n",
    "class Sword(metaclass=ABCMeta):\n",
    "    \n",
    "    @classmethod\n",
    "    def __subclasscheck__(cls,sub):\n",
    "        return (hasattr(sub,'swipe') and callable (sub.swipe)\n",
    "               and \n",
    "               hasattr(sub,'sharpen') and callable (sub.sharpen))\n",
    "    \n",
    "    def thrust(self):\n",
    "        print(\"Thrusting..\")\n",
    "\n",
    "        \n",
    "class BroadSword:\n",
    "    \n",
    "    def swipe(self):\n",
    "        print(\"swoosh\")\n",
    "    \n",
    "    def sharpen(self):\n",
    "        print(\"shink\")\n",
    "\n",
    "        \n",
    "class SamuraiSword:\n",
    "    def swipe(self):\n",
    "        print(\"slice\")\n",
    "    \n",
    "    def sharpen(self):\n",
    "        print(\"shink\")\n",
    "\n",
    "        \n",
    "class Rifle:\n",
    "    \n",
    "    def fire(self):\n",
    "        print(\"bang\")"
   ]
  },
  {
   "cell_type": "code",
   "execution_count": 134,
   "metadata": {},
   "outputs": [
    {
     "data": {
      "text/plain": [
       "False"
      ]
     },
     "execution_count": 134,
     "metadata": {},
     "output_type": "execute_result"
    }
   ],
   "source": [
    "issubclass(SamuraiSword,Sword)"
   ]
  },
  {
   "cell_type": "code",
   "execution_count": 135,
   "metadata": {},
   "outputs": [
    {
     "data": {
      "text/plain": [
       "False"
      ]
     },
     "execution_count": 135,
     "metadata": {},
     "output_type": "execute_result"
    }
   ],
   "source": [
    "issubclass(Rifle,Sword)"
   ]
  },
  {
   "cell_type": "code",
   "execution_count": 136,
   "metadata": {},
   "outputs": [
    {
     "data": {
      "text/plain": [
       "True"
      ]
     },
     "execution_count": 136,
     "metadata": {},
     "output_type": "execute_result"
    }
   ],
   "source": [
    "bs = BroadSword()\n",
    "\n",
    "isinstance(bs,Sword)"
   ]
  },
  {
   "cell_type": "code",
   "execution_count": 137,
   "metadata": {},
   "outputs": [
    {
     "data": {
      "text/plain": [
       "str"
      ]
     },
     "execution_count": 137,
     "metadata": {},
     "output_type": "execute_result"
    }
   ],
   "source": [
    "## Virtual Sub class registeration\n",
    "\n",
    "# it is possible to register a regular class as a virtual subclass with an abstract base class\n",
    "# using register() meta method\n",
    "\n",
    "from abc import ABCMeta\n",
    "\n",
    "class Text(metaclass = ABCMeta):\n",
    "    pass\n",
    "\n",
    "Text.register(str)"
   ]
  },
  {
   "cell_type": "code",
   "execution_count": 138,
   "metadata": {},
   "outputs": [
    {
     "data": {
      "text/plain": [
       "True"
      ]
     },
     "execution_count": 138,
     "metadata": {},
     "output_type": "execute_result"
    }
   ],
   "source": [
    "issubclass(str,Text)"
   ]
  },
  {
   "cell_type": "code",
   "execution_count": 139,
   "metadata": {},
   "outputs": [
    {
     "data": {
      "text/plain": [
       "True"
      ]
     },
     "execution_count": 139,
     "metadata": {},
     "output_type": "execute_result"
    }
   ],
   "source": [
    "isinstance(\"is this text\",Text)"
   ]
  },
  {
   "cell_type": "code",
   "execution_count": 140,
   "metadata": {},
   "outputs": [],
   "source": [
    "@Text.register\n",
    "class Prose:\n",
    "    pass"
   ]
  },
  {
   "cell_type": "code",
   "execution_count": 141,
   "metadata": {},
   "outputs": [
    {
     "data": {
      "text/plain": [
       "True"
      ]
     },
     "execution_count": 141,
     "metadata": {},
     "output_type": "execute_result"
    }
   ],
   "source": [
    "issubclass(Prose,Text)"
   ]
  },
  {
   "cell_type": "code",
   "execution_count": 148,
   "metadata": {},
   "outputs": [],
   "source": [
    "from abc import ABCMeta\n",
    "\n",
    "class Sword(metaclass=ABCMeta):\n",
    "    \n",
    "    @classmethod\n",
    "    def __subclasscheck__(cls,sub):\n",
    "        return ((hasattr(sub,'swipe') and callable (sub.swipe)\n",
    "               and \n",
    "               hasattr(sub,'sharpen') and callable (sub.sharpen))\n",
    "                or NotImplemented) \n",
    "                \n",
    "    def thrust(self):\n",
    "        print(\"Thrusting..\")\n",
    "\n",
    "        \n",
    "class BroadSword:\n",
    "    \n",
    "    def swipe(self):\n",
    "        print(\"swoosh\")\n",
    "    \n",
    "    def sharpen(self):\n",
    "        print(\"shink\")\n",
    "\n",
    "        \n",
    "@Sword.register\n",
    "class LightSaber:\n",
    "    \n",
    "    def swipe(left):\n",
    "        print(\"Ffffffffkrrrrrrrshhhzzzzooommm.. \")\n",
    "        \n",
    "class SamuraiSword:\n",
    "    def swipe(self):\n",
    "        print(\"slice\")\n",
    "    \n",
    "    def sharpen(self):\n",
    "        print(\"shink\")\n",
    "\n",
    "        \n",
    "class Rifle:\n",
    "    \n",
    "    def fire(self):\n",
    "        print(\"bang\")"
   ]
  },
  {
   "cell_type": "code",
   "execution_count": 149,
   "metadata": {},
   "outputs": [
    {
     "data": {
      "text/plain": [
       "True"
      ]
     },
     "execution_count": 149,
     "metadata": {},
     "output_type": "execute_result"
    }
   ],
   "source": [
    "issubclass(LightSaber,Sword)"
   ]
  },
  {
   "cell_type": "code",
   "execution_count": 150,
   "metadata": {},
   "outputs": [
    {
     "data": {
      "text/plain": [
       "False"
      ]
     },
     "execution_count": 150,
     "metadata": {},
     "output_type": "execute_result"
    }
   ],
   "source": [
    "issubclass(Rifle,Sword)"
   ]
  },
  {
   "cell_type": "code",
   "execution_count": 151,
   "metadata": {},
   "outputs": [],
   "source": [
    "## The ABC convenience base class\n",
    "\n",
    "class ABC(metaclass=ABCMeta):\n",
    "    pass"
   ]
  },
  {
   "cell_type": "code",
   "execution_count": 153,
   "metadata": {},
   "outputs": [],
   "source": [
    "# working example\n",
    "from abc import ABC\n",
    "\n",
    "class Sword(ABC):\n",
    "    \n",
    "    @classmethod\n",
    "    def __subclasscheck__(cls,sub):\n",
    "        return ((hasattr(sub,'swipe') and callable (sub.swipe)\n",
    "               and \n",
    "               hasattr(sub,'sharpen') and callable (sub.sharpen))\n",
    "                or NotImplemented) \n",
    "                \n",
    "    def thrust(self):\n",
    "        print(\"Thrusting..\")\n",
    "\n",
    "        \n",
    "class BroadSword:\n",
    "    \n",
    "    def swipe(self):\n",
    "        print(\"swoosh\")\n",
    "    \n",
    "    def sharpen(self):\n",
    "        print(\"shink\")\n",
    "\n",
    "        \n",
    "@Sword.register\n",
    "class LightSaber:\n",
    "    \n",
    "    def swipe(left):\n",
    "        print(\"Ffffffffkrrrrrrrshhhzzzzooommm.. \")\n",
    "        \n",
    "class SamuraiSword:\n",
    "    def swipe(self):\n",
    "        print(\"slice\")\n",
    "    \n",
    "    def sharpen(self):\n",
    "        print(\"shink\")\n",
    "\n",
    "        \n",
    "class Rifle:\n",
    "    \n",
    "    def fire(self):\n",
    "        print(\"bang\")"
   ]
  },
  {
   "cell_type": "code",
   "execution_count": 154,
   "metadata": {},
   "outputs": [],
   "source": [
    "## Declaring Abstract methods\n",
    "\n",
    "# declared in abstract base classes\n",
    "# marked with @abstractmethod decorators\n",
    "# useful definition not required\n",
    "# abstract methods must be over written in the derived concrete classes.\n",
    "\n",
    "from abc import ABC,abstractmethod\n",
    "\n",
    "class AbstractBaseClass(ABC):\n",
    "    \n",
    "    @abstractmethod\n",
    "    def example(self):\n",
    "        raise NotImplementedError"
   ]
  },
  {
   "cell_type": "code",
   "execution_count": 156,
   "metadata": {},
   "outputs": [],
   "source": [
    "# working example\n",
    "from abc import ABC , abstractmethod\n",
    "\n",
    "class Sword(ABC):\n",
    "    \n",
    "    @classmethod\n",
    "    def __subclasscheck__(cls,sub):\n",
    "        return ((hasattr(sub,'swipe') and callable (sub.swipe)\n",
    "                and \n",
    "                hasattr(sub,'thrust') and callable (sub.thrust)\n",
    "                and \n",
    "                hasattr(sub,'parry') and callable (sub.parry)\n",
    "                and \n",
    "                hasattr(sub,'sharpen') and callable (sub.sharpen))\n",
    "                or NotImplemented) \n",
    "    \n",
    "    @abstractmethod\n",
    "    def thrust(self):\n",
    "        print(\"Thrusting..\")\n",
    "    \n",
    "    @abstractmethod\n",
    "    def swipe(self):\n",
    "        raise NotImplementedError\n",
    "    \n",
    "    @abstractmethod\n",
    "    def parry(self):\n",
    "        raise NotImplementedError\n",
    "\n",
    "        \n",
    "class BroadSword(Sword):\n",
    "    \n",
    "    def swipe(self):\n",
    "        print(\"swoosh\")\n",
    "    \n",
    "    def sharpen(self):\n",
    "        print(\"shink\")\n",
    "\n",
    "        \n",
    "@Sword.register\n",
    "class LightSaber:\n",
    "    \n",
    "    def swipe(left):\n",
    "        print(\"Ffffffffkrrrrrrrshhhzzzzooommm.. \")\n",
    "        \n",
    "class SamuraiSword:\n",
    "    def swipe(self):\n",
    "        print(\"slice\")\n",
    "    \n",
    "    def sharpen(self):\n",
    "        print(\"shink\")\n",
    "\n",
    "        \n",
    "class Rifle:\n",
    "    \n",
    "    def fire(self):\n",
    "        print(\"bang\")"
   ]
  },
  {
   "cell_type": "code",
   "execution_count": 157,
   "metadata": {},
   "outputs": [
    {
     "ename": "TypeError",
     "evalue": "Can't instantiate abstract class BroadSword with abstract methods parry, thrust",
     "output_type": "error",
     "traceback": [
      "\u001b[0;31m---------------------------------------------------------------------------\u001b[0m",
      "\u001b[0;31mTypeError\u001b[0m                                 Traceback (most recent call last)",
      "\u001b[0;32m<ipython-input-157-e88c65714190>\u001b[0m in \u001b[0;36m<module>\u001b[0;34m()\u001b[0m\n\u001b[1;32m      2\u001b[0m \u001b[0;31m# whereas NotImplemented is a value returned in case the fn is not able to determine bw True or False\u001b[0m\u001b[0;34m\u001b[0m\u001b[0;34m\u001b[0m\u001b[0m\n\u001b[1;32m      3\u001b[0m \u001b[0;34m\u001b[0m\u001b[0m\n\u001b[0;32m----> 4\u001b[0;31m \u001b[0mbs\u001b[0m \u001b[0;34m=\u001b[0m \u001b[0mBroadSword\u001b[0m\u001b[0;34m(\u001b[0m\u001b[0;34m)\u001b[0m\u001b[0;34m\u001b[0m\u001b[0m\n\u001b[0m",
      "\u001b[0;31mTypeError\u001b[0m: Can't instantiate abstract class BroadSword with abstract methods parry, thrust"
     ]
    }
   ],
   "source": [
    "# NotImplementedError is an exception to be raise in place of missing code\n",
    "# whereas NotImplemented is a value returned in case the fn is not able to determine bw True or False\n",
    "\n",
    "bs = BroadSword()"
   ]
  },
  {
   "cell_type": "code",
   "execution_count": 158,
   "metadata": {},
   "outputs": [],
   "source": [
    "# implement all methods in BroadSword class for it to be considered concrete\n",
    "\n",
    "from abc import ABC , abstractmethod\n",
    "\n",
    "class Sword(ABC):\n",
    "    \n",
    "    @classmethod\n",
    "    def __subclasscheck__(cls,sub):\n",
    "        return ((hasattr(sub,'swipe') and callable (sub.swipe)\n",
    "                and \n",
    "                hasattr(sub,'thrust') and callable (sub.thrust)\n",
    "                and \n",
    "                hasattr(sub,'parry') and callable (sub.parry)\n",
    "                and \n",
    "                hasattr(sub,'sharpen') and callable (sub.sharpen))\n",
    "                or NotImplemented) \n",
    "    \n",
    "    @abstractmethod\n",
    "    def thrust(self):\n",
    "        print(\"Thrusting..\")\n",
    "    \n",
    "    @abstractmethod\n",
    "    def swipe(self):\n",
    "        raise NotImplementedError\n",
    "    \n",
    "    @abstractmethod\n",
    "    def parry(self):\n",
    "        raise NotImplementedError\n",
    "\n",
    "        \n",
    "class BroadSword(Sword):\n",
    "    \n",
    "    def swipe(self):\n",
    "        print(\"swoosh\")\n",
    "    \n",
    "    def sharpen(self):\n",
    "        print(\"shink\")\n",
    "    \n",
    "    def thrust(self):\n",
    "        super.thrust()\n",
    "    \n",
    "    def parry(self):\n",
    "        print(\"parry\")\n",
    "        \n",
    "@Sword.register\n",
    "class LightSaber:\n",
    "    \n",
    "    def swipe(left):\n",
    "        print(\"Ffffffffkrrrrrrrshhhzzzzooommm.. \")\n",
    "        \n",
    "class SamuraiSword:\n",
    "    def swipe(self):\n",
    "        print(\"slice\")\n",
    "    \n",
    "    def sharpen(self):\n",
    "        print(\"shink\")\n",
    "\n",
    "        \n",
    "class Rifle:\n",
    "    \n",
    "    def fire(self):\n",
    "        print(\"bang\")"
   ]
  },
  {
   "cell_type": "code",
   "execution_count": 159,
   "metadata": {},
   "outputs": [],
   "source": [
    "broad_sword = BroadSword()"
   ]
  },
  {
   "cell_type": "code",
   "execution_count": 160,
   "metadata": {},
   "outputs": [
    {
     "name": "stdout",
     "output_type": "stream",
     "text": [
      "swoosh\n"
     ]
    }
   ],
   "source": [
    "broad_sword.swipe()"
   ]
  },
  {
   "cell_type": "code",
   "execution_count": 162,
   "metadata": {},
   "outputs": [
    {
     "name": "stdout",
     "output_type": "stream",
     "text": [
      "parry\n"
     ]
    }
   ],
   "source": [
    "broad_sword.parry()"
   ]
  },
  {
   "cell_type": "code",
   "execution_count": 163,
   "metadata": {},
   "outputs": [
    {
     "ename": "AttributeError",
     "evalue": "type object 'super' has no attribute 'thrust'",
     "output_type": "error",
     "traceback": [
      "\u001b[0;31m---------------------------------------------------------------------------\u001b[0m",
      "\u001b[0;31mAttributeError\u001b[0m                            Traceback (most recent call last)",
      "\u001b[0;32m<ipython-input-163-a0f5ee6cba57>\u001b[0m in \u001b[0;36m<module>\u001b[0;34m()\u001b[0m\n\u001b[0;32m----> 1\u001b[0;31m \u001b[0mbroad_sword\u001b[0m\u001b[0;34m.\u001b[0m\u001b[0mthrust\u001b[0m\u001b[0;34m(\u001b[0m\u001b[0;34m)\u001b[0m\u001b[0;34m\u001b[0m\u001b[0m\n\u001b[0m",
      "\u001b[0;32m<ipython-input-158-10126a76c455>\u001b[0m in \u001b[0;36mthrust\u001b[0;34m(self)\u001b[0m\n\u001b[1;32m     38\u001b[0m \u001b[0;34m\u001b[0m\u001b[0m\n\u001b[1;32m     39\u001b[0m     \u001b[0;32mdef\u001b[0m \u001b[0mthrust\u001b[0m\u001b[0;34m(\u001b[0m\u001b[0mself\u001b[0m\u001b[0;34m)\u001b[0m\u001b[0;34m:\u001b[0m\u001b[0;34m\u001b[0m\u001b[0m\n\u001b[0;32m---> 40\u001b[0;31m         \u001b[0msuper\u001b[0m\u001b[0;34m.\u001b[0m\u001b[0mthrust\u001b[0m\u001b[0;34m(\u001b[0m\u001b[0;34m)\u001b[0m\u001b[0;34m\u001b[0m\u001b[0m\n\u001b[0m\u001b[1;32m     41\u001b[0m \u001b[0;34m\u001b[0m\u001b[0m\n\u001b[1;32m     42\u001b[0m     \u001b[0;32mdef\u001b[0m \u001b[0mparry\u001b[0m\u001b[0;34m(\u001b[0m\u001b[0mself\u001b[0m\u001b[0;34m)\u001b[0m\u001b[0;34m:\u001b[0m\u001b[0;34m\u001b[0m\u001b[0m\n",
      "\u001b[0;31mAttributeError\u001b[0m: type object 'super' has no attribute 'thrust'"
     ]
    }
   ],
   "source": [
    "broad_sword.thrust()"
   ]
  },
  {
   "cell_type": "code",
   "execution_count": 164,
   "metadata": {},
   "outputs": [
    {
     "data": {
      "text/plain": [
       "<__main__.SamuraiSword at 0x7fc2845d3ac8>"
      ]
     },
     "execution_count": 164,
     "metadata": {},
     "output_type": "execute_result"
    }
   ],
   "source": [
    "# the requirement to implement abstract methods doesn't extend to virtual sub classes.\n",
    "# limited only to real sub classes\n",
    "\n",
    "# example) SamuraiSword virtual sub class\n",
    "# we can still instantiate SamuraiSword even though it doesn't have thrust() and parry() methods\n",
    "\n",
    "samurai_sword = SamuraiSword()\n",
    "\n",
    "samurai_sword"
   ]
  },
  {
   "cell_type": "code",
   "execution_count": 166,
   "metadata": {},
   "outputs": [],
   "source": [
    "## Combining Method Decorators\n",
    "# ie combine abstractmethod with other decorators\n",
    "# it can be combined with staticmethod , class method and property decorators\n",
    "\n",
    "# but abstract method must be inner most decorator\n",
    "class AbstractBaseClass(ABC):\n",
    "    \n",
    "    @staticmethod\n",
    "    @abstractmethod\n",
    "    def an_abstract_static_method():\n",
    "        raise NotImplementedError\n",
    "    \n",
    "    @classmethod\n",
    "    @abstractmethod\n",
    "    def an_abstract_class_method(cls):\n",
    "        raise NotImplementedError\n",
    "        \n",
    "    @property\n",
    "    @abstractmethod\n",
    "    def an_abstract_property(self):\n",
    "        raise NotImplementedError\n",
    "        \n",
    "    @an_abstract_property.setter\n",
    "    @abstractmethod\n",
    "    def an_abstract_property(self,value):\n",
    "        raise NotImplementedError"
   ]
  },
  {
   "cell_type": "code",
   "execution_count": 167,
   "metadata": {},
   "outputs": [],
   "source": [
    "# Abstract Descriptors\n",
    "#  __get__() , __set__() and __delete__() can be independently abstract\n",
    "# __isabstractmethod__ attribute(eg property) must evaluate to True if any are abstract\n",
    "\n",
    "class MyDataDescriptor(ABC):\n",
    "    \n",
    "    @abstractmethod\n",
    "    def __get__(self,instance,owner):\n",
    "        pass \n",
    "    \n",
    "    @abstractmethod\n",
    "    def __get__(self,instance,value):\n",
    "        pass \n",
    "    \n",
    "    @abstractmethod\n",
    "    def __get__(self,instance):\n",
    "        pass \n",
    "    \n",
    "    @property\n",
    "    def __isabstractmethod__(self):\n",
    "        return True #False if not abstract"
   ]
  },
  {
   "cell_type": "code",
   "execution_count": 168,
   "metadata": {},
   "outputs": [],
   "source": [
    "class AbstractBaseClass(ABC):\n",
    "    \n",
    "    @property\n",
    "    @abstractmethod\n",
    "    def abstract_property(self):\n",
    "        raise NotImplementedError\n",
    "    \n",
    "    @property\n",
    "    def concrete_property(self):\n",
    "        return \"sand,water,cement\""
   ]
  },
  {
   "cell_type": "code",
   "execution_count": 169,
   "metadata": {},
   "outputs": [
    {
     "data": {
      "text/plain": [
       "True"
      ]
     },
     "execution_count": 169,
     "metadata": {},
     "output_type": "execute_result"
    }
   ],
   "source": [
    "AbstractBaseClass.abstract_property.__isabstractmethod__"
   ]
  },
  {
   "cell_type": "code",
   "execution_count": 170,
   "metadata": {},
   "outputs": [
    {
     "data": {
      "text/plain": [
       "False"
      ]
     },
     "execution_count": 170,
     "metadata": {},
     "output_type": "execute_result"
    }
   ],
   "source": [
    "AbstractBaseClass.concrete_property.__isabstractmethod__"
   ]
  },
  {
   "cell_type": "code",
   "execution_count": 171,
   "metadata": {},
   "outputs": [],
   "source": [
    "# working example\n",
    "# imporving @invariants with ABCs\n",
    "# problem ; inner most invariant checking works fine, others are skipped\n",
    "# solution ; class PropertyDataDescriptor\n",
    "\n",
    "# SKIPPED"
   ]
  },
  {
   "cell_type": "code",
   "execution_count": 172,
   "metadata": {},
   "outputs": [],
   "source": [
    "### SUMMARY\n",
    "\n",
    "# Abstract Base Classes (ABCs)\n",
    "# issubclass() delegates to metamethod __subclasscheck__()\n",
    "# isinstance() delegates to metamethod __instancecheck__()\n",
    "# virutal sub class , virtual base class\n",
    "# abc module ; ABC, ABCMeta , abstractmethod\n",
    "# ABCMeta easies customization using __subclasshook__ regular method ()\n",
    "# passing any class even a built in class to register() meta method of an abstract base class \n",
    "# will register the arg as a virtual sub class of the base class.\n",
    "# @abstractmethod makes classes abstract and ensures overridding of methods\n",
    "# descriptors can propagate abstractness via the __isabstractmethod__ attribute"
   ]
  },
  {
   "cell_type": "code",
   "execution_count": 173,
   "metadata": {},
   "outputs": [],
   "source": [
    "# sixty north blog : good with computers"
   ]
  },
  {
   "cell_type": "code",
   "execution_count": null,
   "metadata": {},
   "outputs": [],
   "source": []
  }
 ],
 "metadata": {
  "kernelspec": {
   "display_name": "Python 3",
   "language": "python",
   "name": "python3"
  },
  "language_info": {
   "codemirror_mode": {
    "name": "ipython",
    "version": 3
   },
   "file_extension": ".py",
   "mimetype": "text/x-python",
   "name": "python",
   "nbconvert_exporter": "python",
   "pygments_lexer": "ipython3",
   "version": "3.4.3"
  }
 },
 "nbformat": 4,
 "nbformat_minor": 2
}
