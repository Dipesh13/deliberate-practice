{
 "cells": [
  {
   "cell_type": "markdown",
   "metadata": {},
   "source": [
    "# Subprocess"
   ]
  },
  {
   "cell_type": "code",
   "execution_count": 12,
   "metadata": {},
   "outputs": [],
   "source": [
    "import json"
   ]
  },
  {
   "cell_type": "code",
   "execution_count": 15,
   "metadata": {},
   "outputs": [],
   "source": [
    "temp = {\"name\":\"bob\",\"hobbies\":['a','b','c']}\n",
    "\n",
    "with open('input.json','w') as fo:\n",
    "    obj = json.dump(temp,fo)"
   ]
  },
  {
   "cell_type": "code",
   "execution_count": 17,
   "metadata": {},
   "outputs": [],
   "source": [
    "with open('input.json','r') as fi:\n",
    "    obj = json.load(fi)\n",
    "#     print(obj[\"name\"])\n",
    "    with open('sample.txt','w') as f:\n",
    "        f.write(obj[\"name\"]+\"\\n\")\n",
    "        for hob in obj[\"hobbies\"]:\n",
    "            f.write(hob + \"\\n\")"
   ]
  },
  {
   "cell_type": "code",
   "execution_count": 18,
   "metadata": {},
   "outputs": [
    {
     "name": "stdout",
     "output_type": "stream",
     "text": [
      "bob\n",
      "a\n",
      "b\n",
      "c\n",
      "\n"
     ]
    }
   ],
   "source": [
    "with open('sample.txt','r') as fi:\n",
    "    data = fi.read()\n",
    "    \n",
    "print(data)"
   ]
  },
  {
   "cell_type": "code",
   "execution_count": 20,
   "metadata": {},
   "outputs": [],
   "source": [
    "import subprocess\n",
    "\n",
    "p1 = subprocess.Popen(['ps','-U','0'],stdout=subprocess.PIPE).communicate()[0]"
   ]
  },
  {
   "cell_type": "code",
   "execution_count": 21,
   "metadata": {},
   "outputs": [
    {
     "name": "stdout",
     "output_type": "stream",
     "text": [
      "  PID TTY          TIME CMD\n",
      "    1 ?        00:00:03 init\n",
      "    2 ?        00:00:00 kthreadd\n",
      "    3 ?        00:00:10 ksoftirqd/0\n",
      "    5 ?        00:00:00 kworker/0:0H\n",
      "    7 ?        00:05:02 rcu_sched\n",
      "    8 ?        00:03:08 rcuos/0\n",
      "    9 ?        00:01:14 rcuos/1\n",
      "   10 ?        00:02:15 rcuos/2\n",
      "   11 ?        00:01:15 rcuos/3\n",
      "   12 ?        00:00:00 rcuos/4\n",
      "   13 ?        00:00:00 rcuos/5\n",
      "   14 ?        00:00:00 rcuos/6\n",
      "   15 ?        00:00:00 rcuos/7\n",
      "   16 ?        00:00:00 rcu_bh\n",
      "   17 ?        00:00:00 rcuob/0\n",
      "   18 ?        00:00:00 rcuob/1\n",
      "   19 ?        00:00:00 rcuob/2\n",
      "   20 ?        00:00:00 rcuob/3\n",
      "   21 ?        00:00:00 rcuob/4\n",
      "   22 ?        00:00:00 rcuob/5\n",
      "   23 ?        00:00:00 rcuob/6\n",
      "   24 ?        00:00:00 rcuob/7\n",
      "   25 ?        00:36:56 migration/0\n",
      "   28 ?        00:03:59 migration/1\n",
      "   29 ?        00:00:02 ksoftirqd/1\n",
      "   31 ?        00:00:00 kworker/1:0H\n",
      "   33 ?        00:36:12 migration/2\n",
      "   34 ?        00:00:03 ksoftirqd/2\n",
      "   36 ?        00:00:00 kworker/2:0H\n",
      "   38 ?        00:04:34 migration/3\n",
      "   39 ?        00:00:01 ksoftirqd/3\n",
      "   41 ?        00:00:00 kworker/3:0H\n",
      "   42 ?        00:00:00 khelper\n",
      "   43 ?        00:00:00 kdevtmpfs\n",
      "   44 ?        00:00:00 netns\n",
      "   45 ?        00:00:00 writeback\n",
      "   46 ?        00:00:00 kintegrityd\n",
      "   47 ?        00:00:00 bioset\n",
      "   49 ?        00:00:00 kblockd\n",
      "   50 ?        00:00:00 ata_sff\n",
      "   51 ?        00:00:00 khubd\n",
      "   52 ?        00:00:00 md\n",
      "   53 ?        00:00:00 devfreq_wq\n",
      "   56 ?        00:00:00 khungtaskd\n",
      "   57 ?        00:00:13 kswapd0\n",
      "   58 ?        00:00:00 ksmd\n",
      "   59 ?        00:00:37 khugepaged\n",
      "   60 ?        00:00:00 fsnotify_mark\n",
      "   61 ?        00:00:00 ecryptfs-kthrea\n",
      "   62 ?        00:00:00 crypto\n",
      "   74 ?        00:00:00 kthrotld\n",
      "   96 ?        00:00:00 deferwq\n",
      "   97 ?        00:00:00 charger_manager\n",
      "  149 ?        00:00:00 firewire\n",
      "  150 ?        00:00:00 firewire_ohci\n",
      "  151 ?        00:00:00 kpsmoused\n",
      "  154 ?        00:00:00 scsi_eh_0\n",
      "  155 ?        00:00:00 scsi_eh_1\n",
      "  156 ?        00:00:00 scsi_eh_2\n",
      "  157 ?        00:00:00 scsi_eh_3\n",
      "  158 ?        00:00:00 scsi_eh_4\n",
      "  159 ?        00:00:00 scsi_eh_5\n",
      "  181 ?        00:00:43 jbd2/sda5-8\n",
      "  182 ?        00:00:00 ext4-rsv-conver\n",
      "  361 ?        00:00:00 upstart-udev-br\n",
      "  368 ?        00:00:01 systemd-udevd\n",
      "  399 ?        00:00:00 irq/49-mei_me\n",
      "  426 ?        00:00:00 tifm\n",
      "  498 ?        00:00:00 cfg80211\n",
      "  555 ?        00:00:00 ktpacpid\n",
      "  557 ?        00:00:00 kvm-irqfd-clean\n",
      "  687 ?        00:00:00 upstart-socket-\n",
      "  703 ?        00:00:00 hd-audio0\n",
      "  910 ?        00:00:02 smbd\n",
      "  940 ?        00:00:00 upstart-file-br\n",
      " 1083 ?        00:00:10 runsvdir\n",
      " 1084 tty4     00:00:00 getty\n",
      " 1088 tty5     00:00:00 getty\n",
      " 1097 tty2     00:00:00 getty\n",
      " 1098 tty3     00:00:00 getty\n",
      " 1102 tty6     00:00:00 getty\n",
      " 1136 ?        00:01:48 cups-browsed\n",
      " 1137 ?        00:01:52 acpid\n",
      " 1138 ?        00:00:01 cron\n",
      " 1155 ?        00:00:00 runsv\n",
      " 1172 ?        00:00:00 sshd\n",
      " 1261 ?        00:01:05 irqbalance\n",
      " 1303 ?        00:00:00 ModemManager\n",
      " 1310 ?        00:00:00 bluetoothd\n",
      " 1330 ?        00:00:00 systemd-logind\n",
      " 1368 ?        00:00:00 smbd\n",
      " 1382 ?        00:00:00 krfcommd\n",
      " 1396 ?        00:00:00 lightdm\n",
      " 1427 tty7     01:32:18 Xorg\n",
      " 1430 ?        00:00:00 accounts-daemon\n",
      " 1434 ?        00:02:20 NetworkManager\n",
      " 1445 ?        00:00:01 polkitd\n",
      " 1476 ?        00:00:03 smbd\n",
      " 1550 ?        00:00:00 nginx\n",
      " 1572 ?        00:00:00 osspd\n",
      " 1614 ?        00:00:00 iprt-VBoxWQueue\n",
      " 1615 ?        00:00:00 iprt-VBoxTscThr\n",
      " 1657 ?        00:00:00 vmamqpd\n",
      " 1684 ?        00:00:37 vmware-usbarbit\n",
      " 1722 ?        00:00:00 kauditd\n",
      " 1750 ?        00:00:41 wpa_supplicant\n",
      " 1797 ?        00:00:00 dhclient\n",
      " 2204 ?        00:27:31 dockerd\n",
      " 2274 ?        00:00:18 nmbd\n",
      " 2496 ?        00:00:00 lightdm\n",
      " 2664 ?        00:00:03 upowerd\n",
      " 4053 ?        00:01:05 udisksd\n",
      " 4474 ?        00:00:00 vmware-vmblock-\n",
      " 4491 ?        00:00:00 vmnet-bridge\n",
      " 4505 ?        00:00:00 vmnet-netifup\n",
      " 4515 ?        00:00:00 vmnet-dhcpd\n",
      " 4518 ?        00:00:02 vmnet-natd\n",
      " 4520 ?        00:00:00 vmnet-netifup\n",
      " 4530 ?        00:00:00 vmnet-dhcpd\n",
      " 4550 ?        00:00:33 vmware-authdlau\n",
      " 4690 ?        00:11:19 hostd-worker\n",
      " 4804 ?        00:00:12 vpnagentd\n",
      " 4912 tty1     00:00:00 getty\n",
      " 5247 ?        00:00:00 dhclient\n",
      " 5659 ?        00:13:41 docker-containe\n",
      " 7129 ?        00:00:02 kworker/u17:1\n",
      " 7845 ?        00:00:09 cupsd\n",
      "11531 ?        00:00:15 kworker/3:2\n",
      "13062 ?        00:00:11 kworker/1:1\n",
      "17446 ?        00:00:22 kworker/2:0\n",
      "20115 ?        00:00:00 kworker/u17:2\n",
      "20311 ?        00:00:05 kworker/u16:0\n",
      "20384 ?        00:00:03 kworker/0:1\n",
      "20853 ?        00:00:00 kworker/2:2\n",
      "21197 ?        00:00:00 kworker/u16:2\n",
      "21292 ?        00:00:00 kworker/1:0\n",
      "21304 ?        00:00:00 kworker/3:0\n",
      "21388 ?        00:00:00 kworker/0:0\n",
      "21461 ?        00:00:00 kworker/u16:1\n",
      "21477 ?        00:00:00 kworker/0:2\n",
      "21484 ?        00:00:00 kworker/2:1\n",
      "28506 ?        00:00:00 mount.ntfs\n",
      "\n"
     ]
    }
   ],
   "source": [
    "print(p1.decode('utf-8'))"
   ]
  },
  {
   "cell_type": "markdown",
   "metadata": {},
   "source": [
    "# FLASK WEB APP"
   ]
  },
  {
   "cell_type": "code",
   "execution_count": 25,
   "metadata": {},
   "outputs": [],
   "source": [
    "from flask import Flask\n",
    "\n",
    "app = Flask(__name__)\n",
    "\n",
    "@app.route(\"/\")\n",
    "def hello():\n",
    "    return \"Hello World\"\n",
    "\n",
    "@app.route(\"/user/<username>\")\n",
    "def show_user(username):\n",
    "    return username"
   ]
  },
  {
   "cell_type": "code",
   "execution_count": 26,
   "metadata": {},
   "outputs": [],
   "source": [
    "# FLASK_APP = service.py flask run"
   ]
  },
  {
   "cell_type": "code",
   "execution_count": 27,
   "metadata": {},
   "outputs": [],
   "source": [
    "# curl localhost:5000"
   ]
  },
  {
   "cell_type": "markdown",
   "metadata": {},
   "source": [
    "#  APPLICATION SCRIPTING VIA BLENDER"
   ]
  },
  {
   "cell_type": "code",
   "execution_count": 28,
   "metadata": {},
   "outputs": [],
   "source": [
    "# REPL = Read , eval , print , loop"
   ]
  },
  {
   "cell_type": "code",
   "execution_count": 29,
   "metadata": {},
   "outputs": [],
   "source": [
    "#  ipython\n",
    "# python.org/about/gettingstarted\n",
    "# docs.python.org\n",
    "# PEP468\n",
    "# pypi\n",
    "\n",
    "# curl https://bootstrap.pypa.io/get-pip.py | python"
   ]
  },
  {
   "cell_type": "code",
   "execution_count": null,
   "metadata": {},
   "outputs": [],
   "source": []
  }
 ],
 "metadata": {
  "kernelspec": {
   "display_name": "Python 3",
   "language": "python",
   "name": "python3"
  },
  "language_info": {
   "codemirror_mode": {
    "name": "ipython",
    "version": 3
   },
   "file_extension": ".py",
   "mimetype": "text/x-python",
   "name": "python",
   "nbconvert_exporter": "python",
   "pygments_lexer": "ipython3",
   "version": "3.4.3"
  }
 },
 "nbformat": 4,
 "nbformat_minor": 2
}
