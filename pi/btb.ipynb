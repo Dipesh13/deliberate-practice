{
 "cells": [
  {
   "cell_type": "markdown",
   "metadata": {},
   "source": [
    "#### module (a python script) # import module-name\n",
    "\n",
    "#### package (a module that can contain many modules)\n",
    "\n",
    "\n",
    "#### -> package\n",
    "        -> module\n",
    "        -> package\n",
    "            -> module 1\n",
    "            -> module 2\n",
    "            \n",
    "#### packages are generally directories whereas modules are generally files"
   ]
  },
  {
   "cell_type": "code",
   "execution_count": 2,
   "metadata": {},
   "outputs": [],
   "source": [
    "# how python locates a module\n",
    "\n",
    "# sys.path \n",
    "# list of directories python searches for modules"
   ]
  },
  {
   "cell_type": "code",
   "execution_count": 3,
   "metadata": {},
   "outputs": [
    {
     "data": {
      "text/plain": [
       "['',\n",
       " '/usr/lib/python3.4',\n",
       " '/usr/lib/python3.4/plat-x86_64-linux-gnu',\n",
       " '/usr/lib/python3.4/lib-dynload',\n",
       " '/usr/local/lib/python3.4/dist-packages',\n",
       " '/usr/lib/python3/dist-packages',\n",
       " '/usr/local/lib/python3.4/dist-packages/IPython/extensions',\n",
       " '/home/mohit/.ipython']"
      ]
     },
     "execution_count": 3,
     "metadata": {},
     "output_type": "execute_result"
    }
   ],
   "source": [
    "import sys\n",
    "\n",
    "sys.path"
   ]
  },
  {
   "cell_type": "code",
   "execution_count": 4,
   "metadata": {},
   "outputs": [
    {
     "data": {
      "text/plain": [
       "''"
      ]
     },
     "execution_count": 4,
     "metadata": {},
     "output_type": "execute_result"
    }
   ],
   "source": [
    "# search first in current dir\n",
    "\n",
    "sys.path[0]"
   ]
  },
  {
   "cell_type": "code",
   "execution_count": 7,
   "metadata": {},
   "outputs": [],
   "source": [
    "# sys.path[-1]\n",
    "\n",
    "# sys.path.append(\"dirname/packagename\")"
   ]
  },
  {
   "cell_type": "code",
   "execution_count": 9,
   "metadata": {},
   "outputs": [
    {
     "ename": "SyntaxError",
     "evalue": "invalid syntax (<ipython-input-9-29eda9330b34>, line 3)",
     "output_type": "error",
     "traceback": [
      "\u001b[0;36m  File \u001b[0;32m\"<ipython-input-9-29eda9330b34>\"\u001b[0;36m, line \u001b[0;32m3\u001b[0m\n\u001b[0;31m    export PYTHONPATH=dirname\u001b[0m\n\u001b[0m                    ^\u001b[0m\n\u001b[0;31mSyntaxError\u001b[0m\u001b[0;31m:\u001b[0m invalid syntax\n"
     ]
    }
   ],
   "source": [
    "# PYTHONPATH environment variable lists paths added to sys.path\n",
    "\n",
    "export PYTHONPATH=dirname"
   ]
  },
  {
   "cell_type": "markdown",
   "metadata": {},
   "source": [
    "# 1) Implementing Packages"
   ]
  },
  {
   "cell_type": "code",
   "execution_count": 10,
   "metadata": {},
   "outputs": [
    {
     "ename": "NameError",
     "evalue": "name 'package' is not defined",
     "output_type": "error",
     "traceback": [
      "\u001b[0;31m---------------------------------------------------------------------------\u001b[0m",
      "\u001b[0;31mNameError\u001b[0m                                 Traceback (most recent call last)",
      "\u001b[0;32m<ipython-input-10-153aa851efa1>\u001b[0m in \u001b[0;36m<module>\u001b[0;34m()\u001b[0m\n\u001b[1;32m      4\u001b[0m \u001b[0;31m# import directory(ie package)\u001b[0m\u001b[0;34m\u001b[0m\u001b[0;34m\u001b[0m\u001b[0m\n\u001b[1;32m      5\u001b[0m \u001b[0;34m\u001b[0m\u001b[0m\n\u001b[0;32m----> 6\u001b[0;31m \u001b[0mtype\u001b[0m\u001b[0;34m(\u001b[0m\u001b[0mpackage\u001b[0m\u001b[0;34m)\u001b[0m\u001b[0;34m\u001b[0m\u001b[0m\n\u001b[0m\u001b[1;32m      7\u001b[0m \u001b[0mpackage\u001b[0m\u001b[0;34m.\u001b[0m\u001b[0m__file__\u001b[0m\u001b[0;34m\u001b[0m\u001b[0m\n",
      "\u001b[0;31mNameError\u001b[0m: name 'package' is not defined"
     ]
    }
   ],
   "source": [
    "# dir vs package:\n",
    "# package contains __init__ file (called package init file)\n",
    "# package is just a directory containing __init__ file\n",
    "#  __init__.py file is executed when package is imported\n",
    "# packages are modules that can contain other modules\n",
    "\n",
    "# import directory(ie package)\n",
    "\n",
    "type(package)\n",
    "package.__file__"
   ]
  },
  {
   "cell_type": "code",
   "execution_count": 11,
   "metadata": {},
   "outputs": [],
   "source": [
    "# module1 \n",
    "#     => reader\n",
    "#         -> __init__.py\n",
    "#         -> reader.py\n",
    "\n",
    "# reader.py\n",
    "class Reader():\n",
    "    def __init__(self,filename):\n",
    "        self.filename = filename\n",
    "        self.f = open(self.filename,\"rt\")\n",
    "        \n",
    "    def read(self):\n",
    "        return self.f.read()\n",
    "    \n",
    "    def close(self):\n",
    "        self.close()"
   ]
  },
  {
   "cell_type": "code",
   "execution_count": 12,
   "metadata": {},
   "outputs": [
    {
     "ename": "ImportError",
     "evalue": "No module named 'reader'",
     "output_type": "error",
     "traceback": [
      "\u001b[0;31m---------------------------------------------------------------------------\u001b[0m",
      "\u001b[0;31mImportError\u001b[0m                               Traceback (most recent call last)",
      "\u001b[0;32m<ipython-input-12-91d8504e3f33>\u001b[0m in \u001b[0;36m<module>\u001b[0;34m()\u001b[0m\n\u001b[0;32m----> 1\u001b[0;31m \u001b[0;32mimport\u001b[0m \u001b[0mreader\u001b[0m\u001b[0;34m.\u001b[0m\u001b[0mreader\u001b[0m\u001b[0;34m\u001b[0m\u001b[0m\n\u001b[0m\u001b[1;32m      2\u001b[0m \u001b[0;34m\u001b[0m\u001b[0m\n\u001b[1;32m      3\u001b[0m \u001b[0mr\u001b[0m \u001b[0;34m=\u001b[0m \u001b[0mreader\u001b[0m\u001b[0;34m.\u001b[0m\u001b[0mreader\u001b[0m\u001b[0;34m.\u001b[0m\u001b[0mReader\u001b[0m\u001b[0;34m(\u001b[0m\u001b[0;34m\"reader/reader.py\"\u001b[0m\u001b[0;34m)\u001b[0m\u001b[0;34m\u001b[0m\u001b[0m\n\u001b[1;32m      4\u001b[0m \u001b[0;34m\u001b[0m\u001b[0m\n\u001b[1;32m      5\u001b[0m \u001b[0mr\u001b[0m\u001b[0;34m.\u001b[0m\u001b[0mread\u001b[0m\u001b[0;34m(\u001b[0m\u001b[0;34m)\u001b[0m\u001b[0;34m\u001b[0m\u001b[0m\n",
      "\u001b[0;31mImportError\u001b[0m: No module named 'reader'"
     ]
    }
   ],
   "source": [
    "import reader.reader\n",
    "\n",
    "r = reader.reader.Reader(\"reader/reader.py\")\n",
    "\n",
    "r.read()"
   ]
  },
  {
   "cell_type": "code",
   "execution_count": 13,
   "metadata": {},
   "outputs": [
    {
     "ename": "NameError",
     "evalue": "name 'r' is not defined",
     "output_type": "error",
     "traceback": [
      "\u001b[0;31m---------------------------------------------------------------------------\u001b[0m",
      "\u001b[0;31mNameError\u001b[0m                                 Traceback (most recent call last)",
      "\u001b[0;32m<ipython-input-13-258a7ce39504>\u001b[0m in \u001b[0;36m<module>\u001b[0;34m()\u001b[0m\n\u001b[0;32m----> 1\u001b[0;31m \u001b[0mr\u001b[0m\u001b[0;34m.\u001b[0m\u001b[0mclose\u001b[0m\u001b[0;34m(\u001b[0m\u001b[0;34m)\u001b[0m\u001b[0;34m\u001b[0m\u001b[0m\n\u001b[0m",
      "\u001b[0;31mNameError\u001b[0m: name 'r' is not defined"
     ]
    }
   ],
   "source": [
    "r.close()"
   ]
  },
  {
   "cell_type": "code",
   "execution_count": 14,
   "metadata": {},
   "outputs": [],
   "source": [
    "# improve the imports using __init__.py file\n",
    "\n",
    "# add\n",
    "# from reader.reader import Reader \n",
    "# to __init__.py"
   ]
  },
  {
   "cell_type": "code",
   "execution_count": 15,
   "metadata": {},
   "outputs": [
    {
     "ename": "ImportError",
     "evalue": "No module named 'reader'",
     "output_type": "error",
     "traceback": [
      "\u001b[0;31m---------------------------------------------------------------------------\u001b[0m",
      "\u001b[0;31mImportError\u001b[0m                               Traceback (most recent call last)",
      "\u001b[0;32m<ipython-input-15-3e4612c473f7>\u001b[0m in \u001b[0;36m<module>\u001b[0;34m()\u001b[0m\n\u001b[0;32m----> 1\u001b[0;31m \u001b[0;32mimport\u001b[0m \u001b[0mreader\u001b[0m\u001b[0;34m\u001b[0m\u001b[0m\n\u001b[0m\u001b[1;32m      2\u001b[0m \u001b[0;34m\u001b[0m\u001b[0m\n\u001b[1;32m      3\u001b[0m \u001b[0mr\u001b[0m \u001b[0;34m=\u001b[0m \u001b[0mreader\u001b[0m\u001b[0;34m.\u001b[0m\u001b[0mReader\u001b[0m\u001b[0;34m(\u001b[0m\u001b[0;34m\"reader/__init__.py\"\u001b[0m\u001b[0;34m)\u001b[0m\u001b[0;34m\u001b[0m\u001b[0m\n\u001b[1;32m      4\u001b[0m \u001b[0;34m\u001b[0m\u001b[0m\n\u001b[1;32m      5\u001b[0m \u001b[0mr\u001b[0m\u001b[0;34m.\u001b[0m\u001b[0mread\u001b[0m\u001b[0;34m(\u001b[0m\u001b[0;34m)\u001b[0m\u001b[0;34m\u001b[0m\u001b[0m\n",
      "\u001b[0;31mImportError\u001b[0m: No module named 'reader'"
     ]
    }
   ],
   "source": [
    "import reader\n",
    "\n",
    "r = reader.Reader(\"reader/__init__.py\")\n",
    "\n",
    "r.read()"
   ]
  },
  {
   "cell_type": "code",
   "execution_count": 16,
   "metadata": {},
   "outputs": [],
   "source": [
    "# module1 \n",
    "#     => reader\n",
    "#         -> __init__.py\n",
    "#         -> reader.py\n",
    "#     => compressed\n",
    "#         -> __init__.py\n",
    "#         -> gzipped.py\n",
    "#         -> bzipped.py"
   ]
  },
  {
   "cell_type": "code",
   "execution_count": 19,
   "metadata": {},
   "outputs": [],
   "source": [
    "# gzipped.py\n",
    "\n",
    "import gzip\n",
    "import sys\n",
    "\n",
    "opener = gzip.open\n",
    "\n",
    "if __name__ == \"__main__\":\n",
    "    f = gzip.open(sys.argv[1],mode = \"wt\")\n",
    "    f.write(\"\".join(sys.argv[2:]))\n",
    "    f.close()"
   ]
  },
  {
   "cell_type": "code",
   "execution_count": 20,
   "metadata": {},
   "outputs": [],
   "source": [
    "# bzipped.py\n",
    "\n",
    "import bz2\n",
    "import sys\n",
    "\n",
    "opener = bz2.open\n",
    "\n",
    "if __name__ == \"__main__\":\n",
    "    f = bz2.open(sys.argv[1],mode = \"wt\")\n",
    "    f.write(\"\".join(sys.argv[2:]))\n",
    "    f.close()"
   ]
  },
  {
   "cell_type": "code",
   "execution_count": 21,
   "metadata": {},
   "outputs": [],
   "source": [
    "# import reader.compressed.gzipped\n",
    "# import reader.compressed.bzipped"
   ]
  },
  {
   "cell_type": "code",
   "execution_count": 23,
   "metadata": {},
   "outputs": [
    {
     "ename": "ImportError",
     "evalue": "No module named 'reader'",
     "output_type": "error",
     "traceback": [
      "\u001b[0;31m---------------------------------------------------------------------------\u001b[0m",
      "\u001b[0;31mImportError\u001b[0m                               Traceback (most recent call last)",
      "\u001b[0;32m<ipython-input-23-b9d90e86e248>\u001b[0m in \u001b[0;36m<module>\u001b[0;34m()\u001b[0m\n\u001b[1;32m      2\u001b[0m \u001b[0;34m\u001b[0m\u001b[0m\n\u001b[1;32m      3\u001b[0m \u001b[0;32mimport\u001b[0m \u001b[0mos\u001b[0m\u001b[0;34m\u001b[0m\u001b[0m\n\u001b[0;32m----> 4\u001b[0;31m \u001b[0;32mfrom\u001b[0m \u001b[0mreader\u001b[0m\u001b[0;34m.\u001b[0m\u001b[0mcompressed\u001b[0m \u001b[0;32mimport\u001b[0m \u001b[0mgzipped\u001b[0m\u001b[0;34m,\u001b[0m\u001b[0mbzipped\u001b[0m\u001b[0;34m\u001b[0m\u001b[0m\n\u001b[0m\u001b[1;32m      5\u001b[0m \u001b[0;34m\u001b[0m\u001b[0m\n\u001b[1;32m      6\u001b[0m extension_map = {\n",
      "\u001b[0;31mImportError\u001b[0m: No module named 'reader'"
     ]
    }
   ],
   "source": [
    "# NEW reader.py\n",
    "\n",
    "import os\n",
    "from reader.compressed import gzipped,bzipped\n",
    "\n",
    "extension_map = {\n",
    "    \".bz2\":bzipped.opener,\n",
    "    \".gz\":gzipped.opener\n",
    "}\n",
    "\n",
    "class Reader():\n",
    "    def __init__(self,filename):\n",
    "        extension = os.path.splittext(filename)[1] \n",
    "        opener = extension_map.get(extension,open)\n",
    "        self.f = opener(filename,\"rt\")\n",
    "        \n",
    "    def read(self):\n",
    "        return self.f.read()\n",
    "    \n",
    "    def close(self):\n",
    "        self.close()"
   ]
  },
  {
   "cell_type": "code",
   "execution_count": 24,
   "metadata": {},
   "outputs": [
    {
     "ename": "ImportError",
     "evalue": "No module named 'reader'",
     "output_type": "error",
     "traceback": [
      "\u001b[0;31m---------------------------------------------------------------------------\u001b[0m",
      "\u001b[0;31mImportError\u001b[0m                               Traceback (most recent call last)",
      "\u001b[0;32m<ipython-input-24-fc60b9011083>\u001b[0m in \u001b[0;36m<module>\u001b[0;34m()\u001b[0m\n\u001b[0;32m----> 1\u001b[0;31m \u001b[0;32mimport\u001b[0m \u001b[0mreader\u001b[0m\u001b[0;34m\u001b[0m\u001b[0m\n\u001b[0m\u001b[1;32m      2\u001b[0m \u001b[0;34m\u001b[0m\u001b[0m\n\u001b[1;32m      3\u001b[0m \u001b[0mr\u001b[0m \u001b[0;34m=\u001b[0m \u001b[0mreader\u001b[0m\u001b[0;34m.\u001b[0m\u001b[0mReader\u001b[0m\u001b[0;34m(\u001b[0m\u001b[0;34m\"test.bz2\"\u001b[0m\u001b[0;34m)\u001b[0m\u001b[0;34m\u001b[0m\u001b[0m\n\u001b[1;32m      4\u001b[0m \u001b[0mr\u001b[0m\u001b[0;34m.\u001b[0m\u001b[0mread\u001b[0m\u001b[0;34m(\u001b[0m\u001b[0;34m)\u001b[0m\u001b[0;34m\u001b[0m\u001b[0m\n\u001b[1;32m      5\u001b[0m \u001b[0;34m\u001b[0m\u001b[0m\n",
      "\u001b[0;31mImportError\u001b[0m: No module named 'reader'"
     ]
    }
   ],
   "source": [
    "import reader\n",
    "\n",
    "r = reader.Reader(\"test.bz2\")\n",
    "r.read()\n",
    "\n",
    "# r.close()"
   ]
  },
  {
   "cell_type": "markdown",
   "metadata": {},
   "source": [
    "### Absolute and Relative imports"
   ]
  },
  {
   "cell_type": "code",
   "execution_count": 25,
   "metadata": {},
   "outputs": [
    {
     "ename": "ImportError",
     "evalue": "No module named 'reader'",
     "output_type": "error",
     "traceback": [
      "\u001b[0;31m---------------------------------------------------------------------------\u001b[0m",
      "\u001b[0;31mImportError\u001b[0m                               Traceback (most recent call last)",
      "\u001b[0;32m<ipython-input-25-7279540d27b0>\u001b[0m in \u001b[0;36m<module>\u001b[0;34m()\u001b[0m\n\u001b[1;32m      1\u001b[0m \u001b[0;31m# example absolute import , when we specify full package and submodule path\u001b[0m\u001b[0;34m\u001b[0m\u001b[0;34m\u001b[0m\u001b[0m\n\u001b[0;32m----> 2\u001b[0;31m \u001b[0;32mfrom\u001b[0m \u001b[0mreader\u001b[0m\u001b[0;34m.\u001b[0m\u001b[0mreader\u001b[0m \u001b[0;32mimport\u001b[0m \u001b[0mReader\u001b[0m\u001b[0;34m\u001b[0m\u001b[0m\n\u001b[0m\u001b[1;32m      3\u001b[0m \u001b[0;34m\u001b[0m\u001b[0m\n\u001b[1;32m      4\u001b[0m \u001b[0;31m# relative imports\u001b[0m\u001b[0;34m\u001b[0m\u001b[0;34m\u001b[0m\u001b[0m\n\u001b[1;32m      5\u001b[0m \u001b[0;32mfrom\u001b[0m \u001b[0;34m.\u001b[0m\u001b[0mreader\u001b[0m \u001b[0;32mimport\u001b[0m \u001b[0mReader\u001b[0m\u001b[0;34m\u001b[0m\u001b[0m\n",
      "\u001b[0;31mImportError\u001b[0m: No module named 'reader'"
     ]
    }
   ],
   "source": [
    "# example absolute import , when we specify full package and submodule path\n",
    "from reader.reader import Reader\n",
    "\n",
    "# relative imports : used only when we import inside same package \n",
    "from .reader import Reader\n",
    "\n",
    "# one dot = same dir\n",
    "# two dots = parent dir"
   ]
  },
  {
   "cell_type": "code",
   "execution_count": 26,
   "metadata": {},
   "outputs": [],
   "source": [
    "# farm \n",
    "#     -> __init__.py\n",
    "#     => bird\n",
    "#         -> __init__.py\n",
    "#         -> chicken.py\n",
    "#     => bovine\n",
    "#         -> __init__.py\n",
    "#         -> cow.py\n",
    "#         -> ox.py\n",
    "#         -> common.py"
   ]
  },
  {
   "cell_type": "code",
   "execution_count": 27,
   "metadata": {},
   "outputs": [
    {
     "ename": "ImportError",
     "evalue": "No module named 'farm'",
     "output_type": "error",
     "traceback": [
      "\u001b[0;31m---------------------------------------------------------------------------\u001b[0m",
      "\u001b[0;31mImportError\u001b[0m                               Traceback (most recent call last)",
      "\u001b[0;32m<ipython-input-27-276412924192>\u001b[0m in \u001b[0;36m<module>\u001b[0;34m()\u001b[0m\n\u001b[1;32m      1\u001b[0m \u001b[0;31m# import a function from common.py into cow.py\u001b[0m\u001b[0;34m\u001b[0m\u001b[0;34m\u001b[0m\u001b[0m\n\u001b[0;32m----> 2\u001b[0;31m \u001b[0;32mfrom\u001b[0m \u001b[0mfarm\u001b[0m\u001b[0;34m.\u001b[0m\u001b[0mbovine\u001b[0m\u001b[0;34m.\u001b[0m\u001b[0mcommon\u001b[0m \u001b[0;32mimport\u001b[0m \u001b[0mfn_name\u001b[0m\u001b[0;34m\u001b[0m\u001b[0m\n\u001b[0m\u001b[1;32m      3\u001b[0m \u001b[0;34m\u001b[0m\u001b[0m\n\u001b[1;32m      4\u001b[0m \u001b[0;31m# or\u001b[0m\u001b[0;34m\u001b[0m\u001b[0;34m\u001b[0m\u001b[0m\n\u001b[1;32m      5\u001b[0m \u001b[0;32mfrom\u001b[0m \u001b[0;34m.\u001b[0m\u001b[0mcommon\u001b[0m \u001b[0;32mimport\u001b[0m \u001b[0mfn_name\u001b[0m\u001b[0;34m\u001b[0m\u001b[0m\n",
      "\u001b[0;31mImportError\u001b[0m: No module named 'farm'"
     ]
    }
   ],
   "source": [
    "# import a function from common.py into cow.py\n",
    "from farm.bovine.common import fn_name\n",
    "\n",
    "# or\n",
    "from .common import fn_name\n",
    "\n",
    "#or \n",
    "from . import common"
   ]
  },
  {
   "cell_type": "markdown",
   "metadata": {},
   "source": [
    "### __all__ \n",
    "\n",
    "##### Controlling imports with __all__\n",
    "##### list of attribute names imported via : from module import *"
   ]
  },
  {
   "cell_type": "code",
   "execution_count": 28,
   "metadata": {},
   "outputs": [
    {
     "data": {
      "text/plain": [
       "{'In': ['',\n",
       "  '#### how python locates a module',\n",
       "  '# how python locates a module\\n\\n# sys.path \\n# list of directories python searches for modules',\n",
       "  'import sys\\n\\nsys.path',\n",
       "  '# search first in current dir\\n\\nsys.path[0]',\n",
       "  'sys.path[1]',\n",
       "  'sys.path[-1]',\n",
       "  '# sys.path[-1]\\n\\n# sys.path.append(\"dirname/packagename\")',\n",
       "  '# PYTHONPATH environment variable lists paths added to sys.path\\n\\nexport PYTHONPATH = \"dirname\"',\n",
       "  '# PYTHONPATH environment variable lists paths added to sys.path\\n\\nexport PYTHONPATH=dirname',\n",
       "  '# dir vs package:\\n# package contains __init__ file (called package init file)\\n\\n# import directory(ie package)\\n\\ntype(package)\\npackage.__file__',\n",
       "  '# module1 \\n#     => reader\\n#         -> __init.py\\n#         -> reader.py\\n\\n# reader.py\\nclass Reader():\\n    def __init__(self,filename):\\n        self.filename = filename\\n        self.f = open(self.filename,\"rt\")\\n        \\n    def read(self):\\n        return self.f.read()\\n    \\n    def close(self):\\n        self.close()',\n",
       "  'import reader.reader\\n\\nr = reader.reader.Reader(\"reader/reader.py\")\\n\\nr.read()',\n",
       "  'r.close()',\n",
       "  '# improve the imports using __init__.py file\\n\\n# add\\n# from reader.reader import Reader \\n# to __init__.py',\n",
       "  'import reader\\n\\nr = reader.Reader(\"reader/__init__.py\")\\n\\nr.read()',\n",
       "  '# module1 \\n#     => reader\\n#         -> __init__.py\\n#         -> reader.py\\n#     => compressed\\n#         -> __init__.py\\n#         -> gzipped.py',\n",
       "  '# gzipped.py\\n\\nimport gzip\\nimport sys\\n\\nopener = gzip.open\\n\\nif __name__ == \"__main__\":\\n    f = gzip.open(sys.argv[1],mode = \"wt\")\\n    f.write(\"\".join(sys.argv[2:]))\\n    f.close',\n",
       "  '# gzipped.py\\n\\nimport gzip\\nimport sys\\n\\nopener = gzip.open\\n\\nif __name__ == \"__main__\":\\n    f = gzip.open(sys.argv[1],mode = \"wt\")\\n    f.write(\"\".join(sys.argv[2:]))\\n    f.close()',\n",
       "  '# gzipped.py\\n\\nimport gzip\\nimport sys\\n\\nopener = gzip.open\\n\\nif __name__ == \"__main__\":\\n    f = gzip.open(sys.argv[1],mode = \"wt\")\\n    f.write(\"\".join(sys.argv[2:]))\\n    f.close()',\n",
       "  '# bzipped.py\\n\\nimport bz2\\nimport sys\\n\\nopener = bz2.open\\n\\nif __name__ == \"__main__\":\\n    f = bz2.open(sys.argv[1],mode = \"wt\")\\n    f.write(\"\".join(sys.argv[2:]))\\n    f.close()',\n",
       "  '# import reader.compressed.gzipped\\n# import reader.compressed.bzipped',\n",
       "  '# NEW reader.py',\n",
       "  '# NEW reader.py\\n\\nimport os\\nfrom reader.compressed import gzipped,bzipped\\n\\nextension_map = {\\n    \".bz2\":bzipped.opener,\\n    \".gz\":gzipped.opener\\n}\\n\\nclass Reader():\\n    def __init__(self,filename):\\n        extension = os.path.splittext(filename)[1] \\n        opener = extension_map.get(extension,open)\\n        self.f = opener(filename,\"rt\")\\n        \\n    def read(self):\\n        return self.f.read()\\n    \\n    def close(self):\\n        self.close()',\n",
       "  'import reader\\n\\nr = reader.Reader(\"test.bz2\")\\nr.read()\\n\\n# r.close()',\n",
       "  '# example absolute import , when we specify full package and submodule path\\nfrom reader.reader import Reader\\n\\n# relative imports\\nfrom .reader import Reader',\n",
       "  '# farm \\n#     -> __init__.py\\n#     => bird\\n#         -> __init__.py\\n#         -> chicken.py\\n#     => bovine\\n#         -> __init__.py\\n#         -> cow.py\\n#         -> ox.py',\n",
       "  '# import a function from common.py into cow.py\\nfrom farm.bovine.common import fn_name\\n\\n# or\\nfrom .common import fn_name\\n\\n#or \\nfrom . import common',\n",
       "  'locals()'],\n",
       " 'Out': {3: ['',\n",
       "   '/usr/lib/python3.4',\n",
       "   '/usr/lib/python3.4/plat-x86_64-linux-gnu',\n",
       "   '/usr/lib/python3.4/lib-dynload',\n",
       "   '/usr/local/lib/python3.4/dist-packages',\n",
       "   '/usr/lib/python3/dist-packages',\n",
       "   '/usr/local/lib/python3.4/dist-packages/IPython/extensions',\n",
       "   '/home/mohit/.ipython'],\n",
       "  4: '',\n",
       "  5: '/usr/lib/python3.4',\n",
       "  6: '/home/mohit/.ipython'},\n",
       " 'Reader': __main__.Reader,\n",
       " '_': '/home/mohit/.ipython',\n",
       " '_3': ['',\n",
       "  '/usr/lib/python3.4',\n",
       "  '/usr/lib/python3.4/plat-x86_64-linux-gnu',\n",
       "  '/usr/lib/python3.4/lib-dynload',\n",
       "  '/usr/local/lib/python3.4/dist-packages',\n",
       "  '/usr/lib/python3/dist-packages',\n",
       "  '/usr/local/lib/python3.4/dist-packages/IPython/extensions',\n",
       "  '/home/mohit/.ipython'],\n",
       " '_4': '',\n",
       " '_5': '/usr/lib/python3.4',\n",
       " '_6': '/home/mohit/.ipython',\n",
       " '__': '/usr/lib/python3.4',\n",
       " '___': '',\n",
       " '__builtin__': <module 'builtins' (built-in)>,\n",
       " '__builtins__': <module 'builtins' (built-in)>,\n",
       " '__doc__': 'Automatically created module for IPython interactive environment',\n",
       " '__loader__': None,\n",
       " '__name__': '__main__',\n",
       " '__package__': None,\n",
       " '__spec__': None,\n",
       " '_dh': ['/home/mohit/Desktop/sub_table_detection/extra'],\n",
       " '_i': '# import a function from common.py into cow.py\\nfrom farm.bovine.common import fn_name\\n\\n# or\\nfrom .common import fn_name\\n\\n#or \\nfrom . import common',\n",
       " '_i1': '#### how python locates a module',\n",
       " '_i10': '# dir vs package:\\n# package contains __init__ file (called package init file)\\n\\n# import directory(ie package)\\n\\ntype(package)\\npackage.__file__',\n",
       " '_i11': '# module1 \\n#     => reader\\n#         -> __init.py\\n#         -> reader.py\\n\\n# reader.py\\nclass Reader():\\n    def __init__(self,filename):\\n        self.filename = filename\\n        self.f = open(self.filename,\"rt\")\\n        \\n    def read(self):\\n        return self.f.read()\\n    \\n    def close(self):\\n        self.close()',\n",
       " '_i12': 'import reader.reader\\n\\nr = reader.reader.Reader(\"reader/reader.py\")\\n\\nr.read()',\n",
       " '_i13': 'r.close()',\n",
       " '_i14': '# improve the imports using __init__.py file\\n\\n# add\\n# from reader.reader import Reader \\n# to __init__.py',\n",
       " '_i15': 'import reader\\n\\nr = reader.Reader(\"reader/__init__.py\")\\n\\nr.read()',\n",
       " '_i16': '# module1 \\n#     => reader\\n#         -> __init__.py\\n#         -> reader.py\\n#     => compressed\\n#         -> __init__.py\\n#         -> gzipped.py',\n",
       " '_i17': '# gzipped.py\\n\\nimport gzip\\nimport sys\\n\\nopener = gzip.open\\n\\nif __name__ == \"__main__\":\\n    f = gzip.open(sys.argv[1],mode = \"wt\")\\n    f.write(\"\".join(sys.argv[2:]))\\n    f.close',\n",
       " '_i18': '# gzipped.py\\n\\nimport gzip\\nimport sys\\n\\nopener = gzip.open\\n\\nif __name__ == \"__main__\":\\n    f = gzip.open(sys.argv[1],mode = \"wt\")\\n    f.write(\"\".join(sys.argv[2:]))\\n    f.close()',\n",
       " '_i19': '# gzipped.py\\n\\nimport gzip\\nimport sys\\n\\nopener = gzip.open\\n\\nif __name__ == \"__main__\":\\n    f = gzip.open(sys.argv[1],mode = \"wt\")\\n    f.write(\"\".join(sys.argv[2:]))\\n    f.close()',\n",
       " '_i2': '# how python locates a module\\n\\n# sys.path \\n# list of directories python searches for modules',\n",
       " '_i20': '# bzipped.py\\n\\nimport bz2\\nimport sys\\n\\nopener = bz2.open\\n\\nif __name__ == \"__main__\":\\n    f = bz2.open(sys.argv[1],mode = \"wt\")\\n    f.write(\"\".join(sys.argv[2:]))\\n    f.close()',\n",
       " '_i21': '# import reader.compressed.gzipped\\n# import reader.compressed.bzipped',\n",
       " '_i22': '# NEW reader.py',\n",
       " '_i23': '# NEW reader.py\\n\\nimport os\\nfrom reader.compressed import gzipped,bzipped\\n\\nextension_map = {\\n    \".bz2\":bzipped.opener,\\n    \".gz\":gzipped.opener\\n}\\n\\nclass Reader():\\n    def __init__(self,filename):\\n        extension = os.path.splittext(filename)[1] \\n        opener = extension_map.get(extension,open)\\n        self.f = opener(filename,\"rt\")\\n        \\n    def read(self):\\n        return self.f.read()\\n    \\n    def close(self):\\n        self.close()',\n",
       " '_i24': 'import reader\\n\\nr = reader.Reader(\"test.bz2\")\\nr.read()\\n\\n# r.close()',\n",
       " '_i25': '# example absolute import , when we specify full package and submodule path\\nfrom reader.reader import Reader\\n\\n# relative imports\\nfrom .reader import Reader',\n",
       " '_i26': '# farm \\n#     -> __init__.py\\n#     => bird\\n#         -> __init__.py\\n#         -> chicken.py\\n#     => bovine\\n#         -> __init__.py\\n#         -> cow.py\\n#         -> ox.py',\n",
       " '_i27': '# import a function from common.py into cow.py\\nfrom farm.bovine.common import fn_name\\n\\n# or\\nfrom .common import fn_name\\n\\n#or \\nfrom . import common',\n",
       " '_i28': 'locals()',\n",
       " '_i3': 'import sys\\n\\nsys.path',\n",
       " '_i4': '# search first in current dir\\n\\nsys.path[0]',\n",
       " '_i5': 'sys.path[1]',\n",
       " '_i6': 'sys.path[-1]',\n",
       " '_i7': '# sys.path[-1]\\n\\n# sys.path.append(\"dirname/packagename\")',\n",
       " '_i8': '# PYTHONPATH environment variable lists paths added to sys.path\\n\\nexport PYTHONPATH = \"dirname\"',\n",
       " '_i9': '# PYTHONPATH environment variable lists paths added to sys.path\\n\\nexport PYTHONPATH=dirname',\n",
       " '_ih': ['',\n",
       "  '#### how python locates a module',\n",
       "  '# how python locates a module\\n\\n# sys.path \\n# list of directories python searches for modules',\n",
       "  'import sys\\n\\nsys.path',\n",
       "  '# search first in current dir\\n\\nsys.path[0]',\n",
       "  'sys.path[1]',\n",
       "  'sys.path[-1]',\n",
       "  '# sys.path[-1]\\n\\n# sys.path.append(\"dirname/packagename\")',\n",
       "  '# PYTHONPATH environment variable lists paths added to sys.path\\n\\nexport PYTHONPATH = \"dirname\"',\n",
       "  '# PYTHONPATH environment variable lists paths added to sys.path\\n\\nexport PYTHONPATH=dirname',\n",
       "  '# dir vs package:\\n# package contains __init__ file (called package init file)\\n\\n# import directory(ie package)\\n\\ntype(package)\\npackage.__file__',\n",
       "  '# module1 \\n#     => reader\\n#         -> __init.py\\n#         -> reader.py\\n\\n# reader.py\\nclass Reader():\\n    def __init__(self,filename):\\n        self.filename = filename\\n        self.f = open(self.filename,\"rt\")\\n        \\n    def read(self):\\n        return self.f.read()\\n    \\n    def close(self):\\n        self.close()',\n",
       "  'import reader.reader\\n\\nr = reader.reader.Reader(\"reader/reader.py\")\\n\\nr.read()',\n",
       "  'r.close()',\n",
       "  '# improve the imports using __init__.py file\\n\\n# add\\n# from reader.reader import Reader \\n# to __init__.py',\n",
       "  'import reader\\n\\nr = reader.Reader(\"reader/__init__.py\")\\n\\nr.read()',\n",
       "  '# module1 \\n#     => reader\\n#         -> __init__.py\\n#         -> reader.py\\n#     => compressed\\n#         -> __init__.py\\n#         -> gzipped.py',\n",
       "  '# gzipped.py\\n\\nimport gzip\\nimport sys\\n\\nopener = gzip.open\\n\\nif __name__ == \"__main__\":\\n    f = gzip.open(sys.argv[1],mode = \"wt\")\\n    f.write(\"\".join(sys.argv[2:]))\\n    f.close',\n",
       "  '# gzipped.py\\n\\nimport gzip\\nimport sys\\n\\nopener = gzip.open\\n\\nif __name__ == \"__main__\":\\n    f = gzip.open(sys.argv[1],mode = \"wt\")\\n    f.write(\"\".join(sys.argv[2:]))\\n    f.close()',\n",
       "  '# gzipped.py\\n\\nimport gzip\\nimport sys\\n\\nopener = gzip.open\\n\\nif __name__ == \"__main__\":\\n    f = gzip.open(sys.argv[1],mode = \"wt\")\\n    f.write(\"\".join(sys.argv[2:]))\\n    f.close()',\n",
       "  '# bzipped.py\\n\\nimport bz2\\nimport sys\\n\\nopener = bz2.open\\n\\nif __name__ == \"__main__\":\\n    f = bz2.open(sys.argv[1],mode = \"wt\")\\n    f.write(\"\".join(sys.argv[2:]))\\n    f.close()',\n",
       "  '# import reader.compressed.gzipped\\n# import reader.compressed.bzipped',\n",
       "  '# NEW reader.py',\n",
       "  '# NEW reader.py\\n\\nimport os\\nfrom reader.compressed import gzipped,bzipped\\n\\nextension_map = {\\n    \".bz2\":bzipped.opener,\\n    \".gz\":gzipped.opener\\n}\\n\\nclass Reader():\\n    def __init__(self,filename):\\n        extension = os.path.splittext(filename)[1] \\n        opener = extension_map.get(extension,open)\\n        self.f = opener(filename,\"rt\")\\n        \\n    def read(self):\\n        return self.f.read()\\n    \\n    def close(self):\\n        self.close()',\n",
       "  'import reader\\n\\nr = reader.Reader(\"test.bz2\")\\nr.read()\\n\\n# r.close()',\n",
       "  '# example absolute import , when we specify full package and submodule path\\nfrom reader.reader import Reader\\n\\n# relative imports\\nfrom .reader import Reader',\n",
       "  '# farm \\n#     -> __init__.py\\n#     => bird\\n#         -> __init__.py\\n#         -> chicken.py\\n#     => bovine\\n#         -> __init__.py\\n#         -> cow.py\\n#         -> ox.py',\n",
       "  '# import a function from common.py into cow.py\\nfrom farm.bovine.common import fn_name\\n\\n# or\\nfrom .common import fn_name\\n\\n#or \\nfrom . import common',\n",
       "  'locals()'],\n",
       " '_ii': '# farm \\n#     -> __init__.py\\n#     => bird\\n#         -> __init__.py\\n#         -> chicken.py\\n#     => bovine\\n#         -> __init__.py\\n#         -> cow.py\\n#         -> ox.py',\n",
       " '_iii': '# example absolute import , when we specify full package and submodule path\\nfrom reader.reader import Reader\\n\\n# relative imports\\nfrom .reader import Reader',\n",
       " '_oh': {3: ['',\n",
       "   '/usr/lib/python3.4',\n",
       "   '/usr/lib/python3.4/plat-x86_64-linux-gnu',\n",
       "   '/usr/lib/python3.4/lib-dynload',\n",
       "   '/usr/local/lib/python3.4/dist-packages',\n",
       "   '/usr/lib/python3/dist-packages',\n",
       "   '/usr/local/lib/python3.4/dist-packages/IPython/extensions',\n",
       "   '/home/mohit/.ipython'],\n",
       "  4: '',\n",
       "  5: '/usr/lib/python3.4',\n",
       "  6: '/home/mohit/.ipython'},\n",
       " 'bz2': <module 'bz2' from '/usr/lib/python3.4/bz2.py'>,\n",
       " 'exit': <IPython.core.autocall.ZMQExitAutocall at 0x7f36004b40f0>,\n",
       " 'f': <_io.TextIOWrapper encoding='UTF-8'>,\n",
       " 'get_ipython': <bound method ZMQInteractiveShell.get_ipython of <ipykernel.zmqshell.ZMQInteractiveShell object at 0x7f360356b898>>,\n",
       " 'gzip': <module 'gzip' from '/usr/lib/python3.4/gzip.py'>,\n",
       " 'opener': <function bz2.open(filename, mode='rb', compresslevel=9, encoding=None, errors=None, newline=None)>,\n",
       " 'os': <module 'os' from '/usr/lib/python3.4/os.py'>,\n",
       " 'quit': <IPython.core.autocall.ZMQExitAutocall at 0x7f36004b40f0>,\n",
       " 'sys': <module 'sys' (built-in)>}"
      ]
     },
     "execution_count": 28,
     "metadata": {},
     "output_type": "execute_result"
    }
   ],
   "source": [
    "locals()"
   ]
  },
  {
   "cell_type": "code",
   "execution_count": 30,
   "metadata": {},
   "outputs": [
    {
     "ename": "ImportError",
     "evalue": "No module named 'reader'",
     "output_type": "error",
     "traceback": [
      "\u001b[0;31m---------------------------------------------------------------------------\u001b[0m",
      "\u001b[0;31mImportError\u001b[0m                               Traceback (most recent call last)",
      "\u001b[0;32m<ipython-input-30-d86696ac9804>\u001b[0m in \u001b[0;36m<module>\u001b[0;34m()\u001b[0m\n\u001b[0;32m----> 1\u001b[0;31m \u001b[0;32mfrom\u001b[0m \u001b[0mreader\u001b[0m\u001b[0;34m.\u001b[0m\u001b[0mcompressed\u001b[0m \u001b[0;32mimport\u001b[0m \u001b[0;34m*\u001b[0m\u001b[0;34m\u001b[0m\u001b[0m\n\u001b[0m\u001b[1;32m      2\u001b[0m \u001b[0;34m\u001b[0m\u001b[0m\n\u001b[1;32m      3\u001b[0m \u001b[0mlocals\u001b[0m\u001b[0;34m(\u001b[0m\u001b[0;34m)\u001b[0m \u001b[0;31m# returns a dictionary mapping local var names to their values\u001b[0m\u001b[0;34m\u001b[0m\u001b[0m\n",
      "\u001b[0;31mImportError\u001b[0m: No module named 'reader'"
     ]
    }
   ],
   "source": [
    "from reader.compressed import *\n",
    "\n",
    "locals() # returns a dictionary mapping local var names to their values"
   ]
  },
  {
   "cell_type": "code",
   "execution_count": 31,
   "metadata": {},
   "outputs": [
    {
     "ename": "ImportError",
     "evalue": "No module named 'reader'",
     "output_type": "error",
     "traceback": [
      "\u001b[0;31m---------------------------------------------------------------------------\u001b[0m",
      "\u001b[0;31mImportError\u001b[0m                               Traceback (most recent call last)",
      "\u001b[0;32m<ipython-input-31-43e55c4e241d>\u001b[0m in \u001b[0;36m<module>\u001b[0;34m()\u001b[0m\n\u001b[1;32m      1\u001b[0m \u001b[0;31m# compressed/__init__.py\u001b[0m\u001b[0;34m\u001b[0m\u001b[0;34m\u001b[0m\u001b[0m\n\u001b[1;32m      2\u001b[0m \u001b[0;34m\u001b[0m\u001b[0m\n\u001b[0;32m----> 3\u001b[0;31m \u001b[0;32mfrom\u001b[0m \u001b[0mreader\u001b[0m\u001b[0;34m.\u001b[0m\u001b[0mcompressed\u001b[0m\u001b[0;34m.\u001b[0m\u001b[0mbzipped\u001b[0m \u001b[0;32mimport\u001b[0m \u001b[0mopener\u001b[0m \u001b[0;32mas\u001b[0m \u001b[0mbz2_opener\u001b[0m\u001b[0;34m\u001b[0m\u001b[0m\n\u001b[0m\u001b[1;32m      4\u001b[0m \u001b[0;32mfrom\u001b[0m \u001b[0mreader\u001b[0m\u001b[0;34m.\u001b[0m\u001b[0mcompressed\u001b[0m\u001b[0;34m.\u001b[0m\u001b[0mgzipped\u001b[0m \u001b[0;32mimport\u001b[0m \u001b[0mopener\u001b[0m \u001b[0;32mas\u001b[0m \u001b[0mgzip_opener\u001b[0m\u001b[0;34m\u001b[0m\u001b[0m\n\u001b[1;32m      5\u001b[0m \u001b[0;34m\u001b[0m\u001b[0m\n",
      "\u001b[0;31mImportError\u001b[0m: No module named 'reader'"
     ]
    }
   ],
   "source": [
    "# compressed/__init__.py\n",
    "\n",
    "from reader.compressed.bzipped import opener as bz2_opener\n",
    "from reader.compressed.gzipped import opener as gzip_opener\n",
    "\n",
    "__all__ = [\"bz2_opener\",\"gzip_opener\"]"
   ]
  },
  {
   "cell_type": "code",
   "execution_count": 32,
   "metadata": {},
   "outputs": [
    {
     "ename": "ImportError",
     "evalue": "No module named 'reader'",
     "output_type": "error",
     "traceback": [
      "\u001b[0;31m---------------------------------------------------------------------------\u001b[0m",
      "\u001b[0;31mImportError\u001b[0m                               Traceback (most recent call last)",
      "\u001b[0;32m<ipython-input-32-dfa97c1fdb23>\u001b[0m in \u001b[0;36m<module>\u001b[0;34m()\u001b[0m\n\u001b[1;32m      1\u001b[0m \u001b[0mlocals\u001b[0m\u001b[0;34m(\u001b[0m\u001b[0;34m)\u001b[0m\u001b[0;34m\u001b[0m\u001b[0m\n\u001b[1;32m      2\u001b[0m \u001b[0;34m\u001b[0m\u001b[0m\n\u001b[0;32m----> 3\u001b[0;31m \u001b[0;32mfrom\u001b[0m \u001b[0mreader\u001b[0m\u001b[0;34m.\u001b[0m\u001b[0mcompressed\u001b[0m \u001b[0;32mimport\u001b[0m \u001b[0;34m*\u001b[0m\u001b[0;34m\u001b[0m\u001b[0m\n\u001b[0m\u001b[1;32m      4\u001b[0m \u001b[0;34m\u001b[0m\u001b[0m\n\u001b[1;32m      5\u001b[0m \u001b[0mlocals\u001b[0m\u001b[0;34m(\u001b[0m\u001b[0;34m)\u001b[0m\u001b[0;34m\u001b[0m\u001b[0m\n",
      "\u001b[0;31mImportError\u001b[0m: No module named 'reader'"
     ]
    }
   ],
   "source": [
    "locals()\n",
    "\n",
    "from reader.compressed import *\n",
    "\n",
    "locals()"
   ]
  },
  {
   "cell_type": "markdown",
   "metadata": {},
   "source": [
    "### Name Space Packages\n",
    "\n",
    "##### split packages accross multiple directories"
   ]
  },
  {
   "cell_type": "code",
   "execution_count": 33,
   "metadata": {},
   "outputs": [],
   "source": [
    "# pep420 , namespace packages have no __init__.py file\n",
    "\n",
    "# python scans all entries in sys.path\n",
    "# if matching dir with __init__.py file is found normal package is loaded\n",
    "# if foo.py is found it's loaded \n",
    "# otherwise all matching packages in sys.path are considered path of namespace package             "
   ]
  },
  {
   "cell_type": "code",
   "execution_count": 34,
   "metadata": {},
   "outputs": [],
   "source": [
    "# example\n",
    "\n",
    "\n",
    "# path1\n",
    "#     => split_farm\n",
    "#             => bovine\n",
    "#                 -> __init__.py\n",
    "#                 -> cow.py\n",
    "#                 -> ox.py\n",
    "# path2\n",
    "#     => split_farm\n",
    "#             => bird\n",
    "#                 -> __init__.py\n",
    "#                 -> chicken.py\n",
    "#                 -> turkey.py  "
   ]
  },
  {
   "cell_type": "code",
   "execution_count": 36,
   "metadata": {},
   "outputs": [],
   "source": [
    "# now to import split_farm make sure both path1 and path2 are in sys.path\n",
    "\n",
    "import sys\n",
    "\n",
    "sys.path.extend([\"path1\",\"path2\"])\n",
    "\n",
    "# import split_farm\n",
    "# split_farm.__path__\n",
    "# split_farm.bird.__path__"
   ]
  },
  {
   "cell_type": "markdown",
   "metadata": {},
   "source": [
    "### Executable Directories\n",
    "\n",
    "###### specify an entry point which is run when package is executed"
   ]
  },
  {
   "cell_type": "code",
   "execution_count": 37,
   "metadata": {},
   "outputs": [],
   "source": [
    "# example\n",
    "\n",
    "# python3 dirname\n",
    "# or\n",
    "# python3 packagename"
   ]
  },
  {
   "cell_type": "code",
   "execution_count": 38,
   "metadata": {},
   "outputs": [],
   "source": [
    "# solution add __main__.py inside package/directory to make it executable like a file\n",
    "\n",
    "# example\n",
    "\n",
    "# reader_package\n",
    "#     -> __main__.py\n",
    "#     => reader_submodule\n",
    "#         -> __init__.py\n",
    "#         -> reader.py"
   ]
  },
  {
   "cell_type": "code",
   "execution_count": 39,
   "metadata": {},
   "outputs": [
    {
     "ename": "ImportError",
     "evalue": "No module named 'reader'",
     "output_type": "error",
     "traceback": [
      "\u001b[0;31m---------------------------------------------------------------------------\u001b[0m",
      "\u001b[0;31mImportError\u001b[0m                               Traceback (most recent call last)",
      "\u001b[0;32m<ipython-input-39-af10cd08e94a>\u001b[0m in \u001b[0;36m<module>\u001b[0;34m()\u001b[0m\n\u001b[1;32m      2\u001b[0m \u001b[0;34m\u001b[0m\u001b[0m\n\u001b[1;32m      3\u001b[0m \u001b[0;32mimport\u001b[0m \u001b[0msys\u001b[0m\u001b[0;34m\u001b[0m\u001b[0m\n\u001b[0;32m----> 4\u001b[0;31m \u001b[0;32mimport\u001b[0m \u001b[0mreader\u001b[0m\u001b[0;34m\u001b[0m\u001b[0m\n\u001b[0m\u001b[1;32m      5\u001b[0m \u001b[0;34m\u001b[0m\u001b[0m\n\u001b[1;32m      6\u001b[0m \u001b[0mr\u001b[0m \u001b[0;34m=\u001b[0m \u001b[0mreader\u001b[0m\u001b[0;34m.\u001b[0m\u001b[0mReader\u001b[0m\u001b[0;34m(\u001b[0m\u001b[0msys\u001b[0m\u001b[0;34m.\u001b[0m\u001b[0margv\u001b[0m\u001b[0;34m[\u001b[0m\u001b[0;36m1\u001b[0m\u001b[0;34m]\u001b[0m\u001b[0;34m)\u001b[0m\u001b[0;34m\u001b[0m\u001b[0m\n",
      "\u001b[0;31mImportError\u001b[0m: No module named 'reader'"
     ]
    }
   ],
   "source": [
    "# make __main__.py a driver for reader package\n",
    "\n",
    "import sys\n",
    "import reader\n",
    "\n",
    "r = reader.Reader(sys.argv[1])\n",
    "try:\n",
    "    print(r.read())\n",
    "finally:\n",
    "    r.close()"
   ]
  },
  {
   "cell_type": "markdown",
   "metadata": {},
   "source": [
    "### Executable Zip File\n"
   ]
  },
  {
   "cell_type": "code",
   "execution_count": 40,
   "metadata": {},
   "outputs": [],
   "source": [
    "# command\n",
    "# zip -r ../reader.zip *\n",
    "# python3 reader.zip test.gz"
   ]
  },
  {
   "cell_type": "markdown",
   "metadata": {},
   "source": [
    "## Recommnded Layout / Project Structure"
   ]
  },
  {
   "cell_type": "code",
   "execution_count": 41,
   "metadata": {},
   "outputs": [],
   "source": [
    "# project_name\n",
    "#     -> __main__.py\n",
    "#     -> project_name\n",
    "#             -> __init__.py\n",
    "#             -> more_source.py\n",
    "#             -> sub_package1\n",
    "#                     -> __init__.py\n",
    "#                     -> script1.py\n",
    "#             -> test\n",
    "#                     -> __init__.py\n",
    "#                     -> test_script.py\n",
    "#     -> setup.py"
   ]
  },
  {
   "cell_type": "code",
   "execution_count": 42,
   "metadata": {},
   "outputs": [],
   "source": [
    "# top level project_name is not a package but a directory which has your project_name\n",
    "# next project_name is the actual package(good practise same name) which contains __init__ , subpackage and tests"
   ]
  },
  {
   "cell_type": "markdown",
   "metadata": {},
   "source": [
    "### Singelton Pattern"
   ]
  },
  {
   "cell_type": "code",
   "execution_count": 43,
   "metadata": {},
   "outputs": [],
   "source": [
    "# modules as singeltons , solution to dreaded global variable\n",
    "# modules are executed only once , when imported"
   ]
  },
  {
   "cell_type": "code",
   "execution_count": 44,
   "metadata": {},
   "outputs": [],
   "source": [
    "# example\n",
    "\n",
    "# registry.py\n",
    "_registry = []\n",
    "\n",
    "def register(name):\n",
    "    _registry.append(name)\n",
    "    \n",
    "def registered_names():\n",
    "    return _iter(_registry)"
   ]
  },
  {
   "cell_type": "code",
   "execution_count": 45,
   "metadata": {},
   "outputs": [
    {
     "ename": "NameError",
     "evalue": "name 'registry' is not defined",
     "output_type": "error",
     "traceback": [
      "\u001b[0;31m---------------------------------------------------------------------------\u001b[0m",
      "\u001b[0;31mNameError\u001b[0m                                 Traceback (most recent call last)",
      "\u001b[0;32m<ipython-input-45-f405d4bdcaf6>\u001b[0m in \u001b[0;36m<module>\u001b[0;34m()\u001b[0m\n\u001b[1;32m      3\u001b[0m \u001b[0;31m# import registry\u001b[0m\u001b[0;34m\u001b[0m\u001b[0;34m\u001b[0m\u001b[0m\n\u001b[1;32m      4\u001b[0m \u001b[0;34m\u001b[0m\u001b[0m\n\u001b[0;32m----> 5\u001b[0;31m \u001b[0mregistry\u001b[0m\u001b[0;34m.\u001b[0m\u001b[0mregister\u001b[0m\u001b[0;34m(\u001b[0m\u001b[0;34m\"my name\"\u001b[0m\u001b[0;34m)\u001b[0m\u001b[0;34m\u001b[0m\u001b[0m\n\u001b[0m\u001b[1;32m      6\u001b[0m \u001b[0;34m\u001b[0m\u001b[0m\n\u001b[1;32m      7\u001b[0m \u001b[0;32mfor\u001b[0m \u001b[0mname\u001b[0m \u001b[0;32min\u001b[0m \u001b[0mregistry\u001b[0m\u001b[0;34m.\u001b[0m\u001b[0mregistered_names\u001b[0m\u001b[0;34m(\u001b[0m\u001b[0;34m)\u001b[0m\u001b[0;34m:\u001b[0m\u001b[0;34m\u001b[0m\u001b[0m\n",
      "\u001b[0;31mNameError\u001b[0m: name 'registry' is not defined"
     ]
    }
   ],
   "source": [
    "# user_registry.py\n",
    "\n",
    "# import registry\n",
    "\n",
    "registry.register(\"my name\")\n",
    "\n",
    "for name in registry.registered_names():\n",
    "    print(name)"
   ]
  },
  {
   "cell_type": "code",
   "execution_count": 46,
   "metadata": {},
   "outputs": [],
   "source": [
    "# screenshot"
   ]
  },
  {
   "cell_type": "markdown",
   "metadata": {},
   "source": [
    "## Beyond Basic Functions"
   ]
  },
  {
   "cell_type": "code",
   "execution_count": 47,
   "metadata": {},
   "outputs": [],
   "source": [
    "# generalization of functions known as callable objects\n",
    "# other types of callable objects such as lambdas and callable instances\n",
    "# upto now free functions defined at module or global scope and methods which are defined within class definition.\n",
    "\n",
    "# function arguments: choice made it call site\n",
    "# #a) positional\n",
    "# #b) keyword\n",
    "\n",
    "# we can add optional default values while defining the function."
   ]
  },
  {
   "cell_type": "markdown",
   "metadata": {},
   "source": [
    "### Callable Instances and __call__ method\n",
    "\n",
    "##### allows objects of our own design to become callable"
   ]
  },
  {
   "cell_type": "code",
   "execution_count": 59,
   "metadata": {},
   "outputs": [],
   "source": [
    "# example : Retaining information within a function between function calls\n",
    "\n",
    "# resolver-> resolver.py\n",
    "import socket\n",
    "\n",
    "class Resolver:\n",
    "    \n",
    "    def __init__(self):\n",
    "        self._cache = {}\n",
    "        \n",
    "    def __call__(self,host):\n",
    "        if host not in self._cache:\n",
    "            self._cache[host] = socket.gethostbyname(host)\n",
    "        return self._cache[host]\n",
    "    \n",
    "    def clear(self):\n",
    "        self._cache.clear()\n",
    "        \n",
    "    def has_host(self,host):\n",
    "        return host in self._cache"
   ]
  },
  {
   "cell_type": "code",
   "execution_count": 60,
   "metadata": {},
   "outputs": [
    {
     "data": {
      "text/plain": [
       "'93.93.131.30'"
      ]
     },
     "execution_count": 60,
     "metadata": {},
     "output_type": "execute_result"
    }
   ],
   "source": [
    "r = Resolver()\n",
    "\n",
    "r(\"sixty-north.com\")"
   ]
  },
  {
   "cell_type": "code",
   "execution_count": 61,
   "metadata": {},
   "outputs": [
    {
     "data": {
      "text/plain": [
       "'93.93.131.30'"
      ]
     },
     "execution_count": 61,
     "metadata": {},
     "output_type": "execute_result"
    }
   ],
   "source": [
    "# syntactic sugar but not done in practice\n",
    "\n",
    "r.__call__(\"sixty-north.com\")"
   ]
  },
  {
   "cell_type": "code",
   "execution_count": 62,
   "metadata": {},
   "outputs": [
    {
     "data": {
      "text/plain": [
       "{'sixty-north.com': '93.93.131.30'}"
      ]
     },
     "execution_count": 62,
     "metadata": {},
     "output_type": "execute_result"
    }
   ],
   "source": [
    "r._cache"
   ]
  },
  {
   "cell_type": "code",
   "execution_count": 63,
   "metadata": {},
   "outputs": [
    {
     "data": {
      "text/plain": [
       "{'pluralsight.com': '54.148.233.9', 'sixty-north.com': '93.93.131.30'}"
      ]
     },
     "execution_count": 63,
     "metadata": {},
     "output_type": "execute_result"
    }
   ],
   "source": [
    "r(\"pluralsight.com\")\n",
    "\n",
    "r._cache"
   ]
  },
  {
   "cell_type": "code",
   "execution_count": 64,
   "metadata": {},
   "outputs": [
    {
     "ename": "ImportError",
     "evalue": "cannot import name 'resolve'",
     "output_type": "error",
     "traceback": [
      "\u001b[0;31m---------------------------------------------------------------------------\u001b[0m",
      "\u001b[0;31mImportError\u001b[0m                               Traceback (most recent call last)",
      "\u001b[0;32m<ipython-input-64-8f0959d6a147>\u001b[0m in \u001b[0;36m<module>\u001b[0;34m()\u001b[0m\n\u001b[1;32m      1\u001b[0m \u001b[0;32mfrom\u001b[0m \u001b[0mtimeit\u001b[0m \u001b[0;32mimport\u001b[0m \u001b[0mtimeit\u001b[0m\u001b[0;34m\u001b[0m\u001b[0m\n\u001b[1;32m      2\u001b[0m \u001b[0;34m\u001b[0m\u001b[0m\n\u001b[0;32m----> 3\u001b[0;31m \u001b[0mtimeit\u001b[0m\u001b[0;34m(\u001b[0m\u001b[0msetup\u001b[0m\u001b[0;34m=\u001b[0m\u001b[0;34m\"from __main__ import resolve\"\u001b[0m\u001b[0;34m,\u001b[0m\u001b[0mstmt\u001b[0m\u001b[0;34m=\u001b[0m\u001b[0;34m\"r('python.org')\"\u001b[0m\u001b[0;34m,\u001b[0m\u001b[0mnumber\u001b[0m\u001b[0;34m=\u001b[0m\u001b[0;36m1\u001b[0m\u001b[0;34m)\u001b[0m\u001b[0;34m\u001b[0m\u001b[0m\n\u001b[0m",
      "\u001b[0;32m/usr/lib/python3.4/timeit.py\u001b[0m in \u001b[0;36mtimeit\u001b[0;34m(stmt, setup, timer, number)\u001b[0m\n\u001b[1;32m    217\u001b[0m            number=default_number):\n\u001b[1;32m    218\u001b[0m     \u001b[0;34m\"\"\"Convenience function to create Timer object and call timeit method.\"\"\"\u001b[0m\u001b[0;34m\u001b[0m\u001b[0m\n\u001b[0;32m--> 219\u001b[0;31m     \u001b[0;32mreturn\u001b[0m \u001b[0mTimer\u001b[0m\u001b[0;34m(\u001b[0m\u001b[0mstmt\u001b[0m\u001b[0;34m,\u001b[0m \u001b[0msetup\u001b[0m\u001b[0;34m,\u001b[0m \u001b[0mtimer\u001b[0m\u001b[0;34m)\u001b[0m\u001b[0;34m.\u001b[0m\u001b[0mtimeit\u001b[0m\u001b[0;34m(\u001b[0m\u001b[0mnumber\u001b[0m\u001b[0;34m)\u001b[0m\u001b[0;34m\u001b[0m\u001b[0m\n\u001b[0m\u001b[1;32m    220\u001b[0m \u001b[0;34m\u001b[0m\u001b[0m\n\u001b[1;32m    221\u001b[0m def repeat(stmt=\"pass\", setup=\"pass\", timer=default_timer,\n",
      "\u001b[0;32m/usr/lib/python3.4/timeit.py\u001b[0m in \u001b[0;36mtimeit\u001b[0;34m(self, number)\u001b[0m\n\u001b[1;32m    182\u001b[0m         \u001b[0mgc\u001b[0m\u001b[0;34m.\u001b[0m\u001b[0mdisable\u001b[0m\u001b[0;34m(\u001b[0m\u001b[0;34m)\u001b[0m\u001b[0;34m\u001b[0m\u001b[0m\n\u001b[1;32m    183\u001b[0m         \u001b[0;32mtry\u001b[0m\u001b[0;34m:\u001b[0m\u001b[0;34m\u001b[0m\u001b[0m\n\u001b[0;32m--> 184\u001b[0;31m             \u001b[0mtiming\u001b[0m \u001b[0;34m=\u001b[0m \u001b[0mself\u001b[0m\u001b[0;34m.\u001b[0m\u001b[0minner\u001b[0m\u001b[0;34m(\u001b[0m\u001b[0mit\u001b[0m\u001b[0;34m,\u001b[0m \u001b[0mself\u001b[0m\u001b[0;34m.\u001b[0m\u001b[0mtimer\u001b[0m\u001b[0;34m)\u001b[0m\u001b[0;34m\u001b[0m\u001b[0m\n\u001b[0m\u001b[1;32m    185\u001b[0m         \u001b[0;32mfinally\u001b[0m\u001b[0;34m:\u001b[0m\u001b[0;34m\u001b[0m\u001b[0m\n\u001b[1;32m    186\u001b[0m             \u001b[0;32mif\u001b[0m \u001b[0mgcold\u001b[0m\u001b[0;34m:\u001b[0m\u001b[0;34m\u001b[0m\u001b[0m\n",
      "\u001b[0;32m/usr/lib/python3.4/timeit.py\u001b[0m in \u001b[0;36minner\u001b[0;34m(_it, _timer)\u001b[0m\n",
      "\u001b[0;31mImportError\u001b[0m: cannot import name 'resolve'"
     ]
    }
   ],
   "source": [
    "from timeit import timeit\n",
    "\n",
    "timeit(setup=\"from __main__ import resolve\",stmt=\"r('python.org')\",number=1)"
   ]
  },
  {
   "cell_type": "code",
   "execution_count": 65,
   "metadata": {},
   "outputs": [
    {
     "data": {
      "text/plain": [
       "True"
      ]
     },
     "execution_count": 65,
     "metadata": {},
     "output_type": "execute_result"
    }
   ],
   "source": [
    "r.has_host(\"pluralsight.com\")"
   ]
  },
  {
   "cell_type": "code",
   "execution_count": 66,
   "metadata": {},
   "outputs": [],
   "source": [
    "r.clear()"
   ]
  },
  {
   "cell_type": "code",
   "execution_count": 67,
   "metadata": {},
   "outputs": [
    {
     "data": {
      "text/plain": [
       "{}"
      ]
     },
     "execution_count": 67,
     "metadata": {},
     "output_type": "execute_result"
    }
   ],
   "source": [
    "r._cache"
   ]
  },
  {
   "cell_type": "code",
   "execution_count": 68,
   "metadata": {},
   "outputs": [],
   "source": [
    "# __call__ method useful when we want a function that maintains state between calls and optionally needs to query or modify that state "
   ]
  },
  {
   "cell_type": "markdown",
   "metadata": {},
   "source": [
    "## Classes are callable"
   ]
  },
  {
   "cell_type": "code",
   "execution_count": 69,
   "metadata": {},
   "outputs": [],
   "source": [
    "# example create seq class\n",
    "\n",
    "def sequence_class(immutable):\n",
    "    if immutable:\n",
    "        cls = tuple\n",
    "    else:\n",
    "        cls = list\n",
    "    return cls"
   ]
  },
  {
   "cell_type": "code",
   "execution_count": 71,
   "metadata": {},
   "outputs": [
    {
     "data": {
      "text/plain": [
       "('T', 'i', 'm')"
      ]
     },
     "execution_count": 71,
     "metadata": {},
     "output_type": "execute_result"
    }
   ],
   "source": [
    "seq_class = sequence_class(immutable=True)\n",
    "\n",
    "# create instance of seq_class\n",
    "\n",
    "seq_object = seq_class(\"Tim\")\n",
    "\n",
    "seq_object"
   ]
  },
  {
   "cell_type": "markdown",
   "metadata": {},
   "source": [
    "## Conditions"
   ]
  },
  {
   "cell_type": "code",
   "execution_count": 74,
   "metadata": {},
   "outputs": [],
   "source": [
    "# 1) Condtional statement\n",
    "x = 0\n",
    "if x<1:\n",
    "    pass\n",
    "else:\n",
    "    pass\n",
    "\n",
    "# 2) Conditional expression\n",
    "\n",
    "# result = true_value if condition else false_value\n",
    "\n",
    "def sequence_class(immutable):\n",
    "    return tuple if immutable else list"
   ]
  },
  {
   "cell_type": "code",
   "execution_count": 78,
   "metadata": {},
   "outputs": [
    {
     "data": {
      "text/plain": [
       "list"
      ]
     },
     "execution_count": 78,
     "metadata": {},
     "output_type": "execute_result"
    }
   ],
   "source": [
    "seq = sequence_class(immutable=False)\n",
    "\n",
    "seq"
   ]
  },
  {
   "cell_type": "code",
   "execution_count": 79,
   "metadata": {},
   "outputs": [
    {
     "data": {
      "text/plain": [
       "['f', 'o', 'o']"
      ]
     },
     "execution_count": 79,
     "metadata": {},
     "output_type": "execute_result"
    }
   ],
   "source": [
    "s = seq(\"foo\")\n",
    "\n",
    "s"
   ]
  },
  {
   "cell_type": "markdown",
   "metadata": {},
   "source": [
    "## Lambdas"
   ]
  },
  {
   "cell_type": "code",
   "execution_count": 80,
   "metadata": {},
   "outputs": [
    {
     "data": {
      "text/plain": [
       "['Niels Bohr', 'Marie Curie', 'Albert Einstein', 'Alfred Wegener']"
      ]
     },
     "execution_count": 80,
     "metadata": {},
     "output_type": "execute_result"
    }
   ],
   "source": [
    "scientists = [\"Albert Einstein\" , \"Marie Curie\" , \"Niels Bohr\" , \"Alfred Wegener\"]\n",
    "\n",
    "sorted(scientists , key = lambda name:name.split()[-1])"
   ]
  },
  {
   "cell_type": "code",
   "execution_count": 82,
   "metadata": {},
   "outputs": [
    {
     "data": {
      "text/plain": [
       "<function __main__.<lambda>(name)>"
      ]
     },
     "execution_count": 82,
     "metadata": {},
     "output_type": "execute_result"
    }
   ],
   "source": [
    "last_name = lambda name:name.split()[-1]\n",
    "\n",
    "last_name"
   ]
  },
  {
   "cell_type": "code",
   "execution_count": 83,
   "metadata": {},
   "outputs": [
    {
     "data": {
      "text/plain": [
       "'Bohr'"
      ]
     },
     "execution_count": 83,
     "metadata": {},
     "output_type": "execute_result"
    }
   ],
   "source": [
    "# lambda callable like a function\n",
    "last_name(\"Niels Bohr\")"
   ]
  },
  {
   "cell_type": "code",
   "execution_count": 86,
   "metadata": {},
   "outputs": [],
   "source": [
    "# multiple args in lambdas\n",
    "\n",
    "# example"
   ]
  },
  {
   "cell_type": "code",
   "execution_count": 87,
   "metadata": {},
   "outputs": [],
   "source": [
    "# screenshot"
   ]
  },
  {
   "cell_type": "markdown",
   "metadata": {},
   "source": [
    "### Detecing callable object using built in callable() function"
   ]
  },
  {
   "cell_type": "code",
   "execution_count": 89,
   "metadata": {},
   "outputs": [],
   "source": [
    "# functions are callable\n",
    "def is_even(x):\n",
    "    return x%2 == 0"
   ]
  },
  {
   "cell_type": "code",
   "execution_count": 90,
   "metadata": {},
   "outputs": [
    {
     "data": {
      "text/plain": [
       "True"
      ]
     },
     "execution_count": 90,
     "metadata": {},
     "output_type": "execute_result"
    }
   ],
   "source": [
    "callable(is_even)"
   ]
  },
  {
   "cell_type": "code",
   "execution_count": 91,
   "metadata": {},
   "outputs": [
    {
     "data": {
      "text/plain": [
       "True"
      ]
     },
     "execution_count": 91,
     "metadata": {},
     "output_type": "execute_result"
    }
   ],
   "source": [
    "# lambda functions are callable\n",
    "\n",
    "is_odd = lambda x : x%2 ==1\n",
    "\n",
    "callable(is_odd)"
   ]
  },
  {
   "cell_type": "code",
   "execution_count": 93,
   "metadata": {},
   "outputs": [
    {
     "data": {
      "text/plain": [
       "True"
      ]
     },
     "execution_count": 93,
     "metadata": {},
     "output_type": "execute_result"
    }
   ],
   "source": [
    "# class objects are callable\n",
    "\n",
    "callable(list)"
   ]
  },
  {
   "cell_type": "code",
   "execution_count": 94,
   "metadata": {},
   "outputs": [
    {
     "data": {
      "text/plain": [
       "True"
      ]
     },
     "execution_count": 94,
     "metadata": {},
     "output_type": "execute_result"
    }
   ],
   "source": [
    "# methods are callable\n",
    "\n",
    "callable(list.append)"
   ]
  },
  {
   "cell_type": "code",
   "execution_count": 95,
   "metadata": {},
   "outputs": [],
   "source": [
    "# instance objects can be made callable by using __call__ method\n",
    "\n",
    "class CallMe:\n",
    "    def __call__(self):\n",
    "        print(\"called\")"
   ]
  },
  {
   "cell_type": "code",
   "execution_count": 96,
   "metadata": {},
   "outputs": [
    {
     "data": {
      "text/plain": [
       "True"
      ]
     },
     "execution_count": 96,
     "metadata": {},
     "output_type": "execute_result"
    }
   ],
   "source": [
    "c = CallMe()\n",
    "\n",
    "callable(c)"
   ]
  },
  {
   "cell_type": "code",
   "execution_count": 98,
   "metadata": {},
   "outputs": [
    {
     "data": {
      "text/plain": [
       "False"
      ]
     },
     "execution_count": 98,
     "metadata": {},
     "output_type": "execute_result"
    }
   ],
   "source": [
    "# strings aren't callable\n",
    "\n",
    "callable(\"hey there\")"
   ]
  },
  {
   "cell_type": "markdown",
   "metadata": {},
   "source": [
    "## Extended Formal Argument Syntax"
   ]
  },
  {
   "cell_type": "code",
   "execution_count": 100,
   "metadata": {},
   "outputs": [
    {
     "name": "stdout",
     "output_type": "stream",
     "text": [
      "one\n",
      "one two\n",
      "keyword argument foo and bar\n"
     ]
    }
   ],
   "source": [
    "# def extended(*args,**kwargs)\n",
    "\n",
    "# example positional args\n",
    "print(\"one\")\n",
    "\n",
    "print(\"one\",\"two\")\n",
    "\n",
    "# example keyword args\n",
    "print(\"keyword argument {one} and {two}\".format(one=\"foo\",two = \"bar\"))"
   ]
  },
  {
   "cell_type": "code",
   "execution_count": 101,
   "metadata": {},
   "outputs": [],
   "source": [
    "# define functions/callable which can accept arbitary number of positional and keyword arguments"
   ]
  },
  {
   "cell_type": "code",
   "execution_count": 103,
   "metadata": {},
   "outputs": [],
   "source": [
    "# positional args\n",
    "# function to calculate area of 2d , vol of 3d , hyper vol of n-d\n",
    "\n",
    "def hypervolume(*args):\n",
    "    print(args,type(args))\n",
    "    "
   ]
  },
  {
   "cell_type": "code",
   "execution_count": 104,
   "metadata": {},
   "outputs": [
    {
     "name": "stdout",
     "output_type": "stream",
     "text": [
      "(3, 4) <class 'tuple'>\n"
     ]
    }
   ],
   "source": [
    "hypervolume(3,4)"
   ]
  },
  {
   "cell_type": "code",
   "execution_count": 105,
   "metadata": {},
   "outputs": [
    {
     "name": "stdout",
     "output_type": "stream",
     "text": [
      "(3, 4, 2, 5) <class 'tuple'>\n"
     ]
    }
   ],
   "source": [
    "hypervolume(3,4,2,5)"
   ]
  },
  {
   "cell_type": "code",
   "execution_count": 106,
   "metadata": {},
   "outputs": [],
   "source": [
    "def hypervolume(*lengths):\n",
    "    i = iter(lengths)\n",
    "    v = next(i)\n",
    "    for length in i:\n",
    "        v *= length\n",
    "    return v"
   ]
  },
  {
   "cell_type": "code",
   "execution_count": 107,
   "metadata": {},
   "outputs": [
    {
     "data": {
      "text/plain": [
       "12"
      ]
     },
     "execution_count": 107,
     "metadata": {},
     "output_type": "execute_result"
    }
   ],
   "source": [
    "hypervolume(3,4)"
   ]
  },
  {
   "cell_type": "code",
   "execution_count": 108,
   "metadata": {},
   "outputs": [
    {
     "data": {
      "text/plain": [
       "24"
      ]
     },
     "execution_count": 108,
     "metadata": {},
     "output_type": "execute_result"
    }
   ],
   "source": [
    "hypervolume(3,4,2)"
   ]
  },
  {
   "cell_type": "code",
   "execution_count": 109,
   "metadata": {},
   "outputs": [
    {
     "data": {
      "text/plain": [
       "120"
      ]
     },
     "execution_count": 109,
     "metadata": {},
     "output_type": "execute_result"
    }
   ],
   "source": [
    "hypervolume(3,4,2,5)"
   ]
  },
  {
   "cell_type": "code",
   "execution_count": 110,
   "metadata": {},
   "outputs": [
    {
     "ename": "StopIteration",
     "evalue": "",
     "output_type": "error",
     "traceback": [
      "\u001b[0;31m---------------------------------------------------------------------------\u001b[0m",
      "\u001b[0;31mStopIteration\u001b[0m                             Traceback (most recent call last)",
      "\u001b[0;32m<ipython-input-110-e35e3ca2182b>\u001b[0m in \u001b[0;36m<module>\u001b[0;34m()\u001b[0m\n\u001b[0;32m----> 1\u001b[0;31m \u001b[0mhypervolume\u001b[0m\u001b[0;34m(\u001b[0m\u001b[0;34m)\u001b[0m\u001b[0;34m\u001b[0m\u001b[0m\n\u001b[0m",
      "\u001b[0;32m<ipython-input-106-bc380b72c971>\u001b[0m in \u001b[0;36mhypervolume\u001b[0;34m(*lengths)\u001b[0m\n\u001b[1;32m      1\u001b[0m \u001b[0;32mdef\u001b[0m \u001b[0mhypervolume\u001b[0m\u001b[0;34m(\u001b[0m\u001b[0;34m*\u001b[0m\u001b[0mlengths\u001b[0m\u001b[0;34m)\u001b[0m\u001b[0;34m:\u001b[0m\u001b[0;34m\u001b[0m\u001b[0m\n\u001b[1;32m      2\u001b[0m     \u001b[0mi\u001b[0m \u001b[0;34m=\u001b[0m \u001b[0miter\u001b[0m\u001b[0;34m(\u001b[0m\u001b[0mlengths\u001b[0m\u001b[0;34m)\u001b[0m\u001b[0;34m\u001b[0m\u001b[0m\n\u001b[0;32m----> 3\u001b[0;31m     \u001b[0mv\u001b[0m \u001b[0;34m=\u001b[0m \u001b[0mnext\u001b[0m\u001b[0;34m(\u001b[0m\u001b[0mi\u001b[0m\u001b[0;34m)\u001b[0m\u001b[0;34m\u001b[0m\u001b[0m\n\u001b[0m\u001b[1;32m      4\u001b[0m     \u001b[0;32mfor\u001b[0m \u001b[0mlength\u001b[0m \u001b[0;32min\u001b[0m \u001b[0mi\u001b[0m\u001b[0;34m:\u001b[0m\u001b[0;34m\u001b[0m\u001b[0m\n\u001b[1;32m      5\u001b[0m         \u001b[0mv\u001b[0m \u001b[0;34m*=\u001b[0m \u001b[0mlength\u001b[0m\u001b[0;34m\u001b[0m\u001b[0m\n",
      "\u001b[0;31mStopIteration\u001b[0m: "
     ]
    }
   ],
   "source": [
    "hypervolume()"
   ]
  },
  {
   "cell_type": "code",
   "execution_count": 111,
   "metadata": {},
   "outputs": [],
   "source": [
    "# solution use try except or keep 1 argument as compulsary\n",
    "\n",
    "def hypervolume(length,*lengths):\n",
    "    v = length\n",
    "    for item in lengths:\n",
    "        v *= item\n",
    "    return v"
   ]
  },
  {
   "cell_type": "code",
   "execution_count": 112,
   "metadata": {},
   "outputs": [
    {
     "data": {
      "text/plain": [
       "24"
      ]
     },
     "execution_count": 112,
     "metadata": {},
     "output_type": "execute_result"
    }
   ],
   "source": [
    "hypervolume(3,4,2)"
   ]
  },
  {
   "cell_type": "code",
   "execution_count": 113,
   "metadata": {},
   "outputs": [
    {
     "ename": "TypeError",
     "evalue": "hypervolume() missing 1 required positional argument: 'length'",
     "output_type": "error",
     "traceback": [
      "\u001b[0;31m---------------------------------------------------------------------------\u001b[0m",
      "\u001b[0;31mTypeError\u001b[0m                                 Traceback (most recent call last)",
      "\u001b[0;32m<ipython-input-113-e35e3ca2182b>\u001b[0m in \u001b[0;36m<module>\u001b[0;34m()\u001b[0m\n\u001b[0;32m----> 1\u001b[0;31m \u001b[0mhypervolume\u001b[0m\u001b[0;34m(\u001b[0m\u001b[0;34m)\u001b[0m\u001b[0;34m\u001b[0m\u001b[0m\n\u001b[0m",
      "\u001b[0;31mTypeError\u001b[0m: hypervolume() missing 1 required positional argument: 'length'"
     ]
    }
   ],
   "source": [
    "hypervolume()"
   ]
  },
  {
   "cell_type": "code",
   "execution_count": 114,
   "metadata": {},
   "outputs": [],
   "source": [
    "# when you need to accept variable number of positional arguments with a positive lower bound , you should\n",
    "# use regular positional arguments for the required parameters\n",
    "# and *args to deal with any extra arguments"
   ]
  },
  {
   "cell_type": "code",
   "execution_count": 115,
   "metadata": {},
   "outputs": [],
   "source": [
    "# keyword args\n",
    "\n",
    "def tag(name,**kwargs):\n",
    "    print(name)\n",
    "    print(kwargs,type(kwargs))"
   ]
  },
  {
   "cell_type": "code",
   "execution_count": 116,
   "metadata": {},
   "outputs": [
    {
     "name": "stdout",
     "output_type": "stream",
     "text": [
      "img\n",
      "{'source': 'monet.jpg', 'border': 1} <class 'dict'>\n"
     ]
    }
   ],
   "source": [
    "tag(\"img\",source=\"monet.jpg\",border=1)"
   ]
  },
  {
   "cell_type": "code",
   "execution_count": 120,
   "metadata": {},
   "outputs": [],
   "source": [
    "# order is not preserved\n",
    "\n",
    "def tag(name,**attributes):\n",
    "    result = '<' + name\n",
    "    for key,val in attributes.items():\n",
    "        result+= '{k}=\"{v}\"'.format(k=key,v=str(val))\n",
    "    result += '>'\n",
    "    return result"
   ]
  },
  {
   "cell_type": "code",
   "execution_count": 121,
   "metadata": {},
   "outputs": [
    {
     "data": {
      "text/plain": [
       "'<imgsource=\"monet.jpg\"border=\"1\">'"
      ]
     },
     "execution_count": 121,
     "metadata": {},
     "output_type": "execute_result"
    }
   ],
   "source": [
    "tag(\"img\",source=\"monet.jpg\",border=1)"
   ]
  },
  {
   "cell_type": "code",
   "execution_count": 125,
   "metadata": {},
   "outputs": [],
   "source": [
    "#ORDER: positional , *args , keyword , **kwargs\n",
    "\n",
    "def print_args(arg1,arg2,*args,kwarg1,kwarg2,**kwargs):\n",
    "    print(args)\n",
    "    print(kwargs)"
   ]
  },
  {
   "cell_type": "code",
   "execution_count": 126,
   "metadata": {},
   "outputs": [
    {
     "name": "stdout",
     "output_type": "stream",
     "text": [
      "(3, 4, 5)\n",
      "{'kwarg3': 8, 'kwarg4': 9}\n"
     ]
    }
   ],
   "source": [
    "print_args(1,2,3,4,5,kwarg1=6,kwarg2=7,kwarg3=8,kwarg4=9)"
   ]
  },
  {
   "cell_type": "code",
   "execution_count": 127,
   "metadata": {},
   "outputs": [],
   "source": [
    "# when you combine args and kwargs with mandatory and default arguments what will be the order "
   ]
  },
  {
   "cell_type": "markdown",
   "metadata": {},
   "source": [
    "## Extended Call Syntax"
   ]
  },
  {
   "cell_type": "code",
   "execution_count": 128,
   "metadata": {},
   "outputs": [],
   "source": [
    "def extended(arg1,arg2,*args):\n",
    "    print(args)"
   ]
  },
  {
   "cell_type": "code",
   "execution_count": 129,
   "metadata": {},
   "outputs": [
    {
     "name": "stdout",
     "output_type": "stream",
     "text": [
      "(3, 4, 5)\n"
     ]
    }
   ],
   "source": [
    "t = (1,2,3,4,5)\n",
    "\n",
    "extended(*t)"
   ]
  },
  {
   "cell_type": "code",
   "execution_count": 131,
   "metadata": {},
   "outputs": [],
   "source": [
    "# example\n",
    "\n",
    "def trace(f,*args,**kwargs):\n",
    "    print(\"args =\" , args)\n",
    "    print(\"kwargs =\" , args)\n",
    "    result = f(*args,**kwargs)\n",
    "    print(\"result =\",result)\n",
    "    return result"
   ]
  },
  {
   "cell_type": "code",
   "execution_count": 132,
   "metadata": {},
   "outputs": [
    {
     "data": {
      "text/plain": [
       "255"
      ]
     },
     "execution_count": 132,
     "metadata": {},
     "output_type": "execute_result"
    }
   ],
   "source": [
    "int(\"ff\",base=16)"
   ]
  },
  {
   "cell_type": "code",
   "execution_count": 133,
   "metadata": {},
   "outputs": [
    {
     "name": "stdout",
     "output_type": "stream",
     "text": [
      "args = ('ff',)\n",
      "kwargs = ('ff',)\n",
      "result = 255\n"
     ]
    },
    {
     "data": {
      "text/plain": [
       "255"
      ]
     },
     "execution_count": 133,
     "metadata": {},
     "output_type": "execute_result"
    }
   ],
   "source": [
    "trace(int,\"ff\",base=16)"
   ]
  },
  {
   "cell_type": "code",
   "execution_count": 134,
   "metadata": {},
   "outputs": [
    {
     "name": "stdout",
     "output_type": "stream",
     "text": [
      "(1, 4)\n",
      "(2, 5)\n",
      "(3, 6)\n"
     ]
    }
   ],
   "source": [
    "one = [1,2,3]\n",
    "two = [4,5,6]\n",
    "daily = [one,two]\n",
    "\n",
    "for i in zip(daily[0],daily[1]):\n",
    "    print(i)"
   ]
  },
  {
   "cell_type": "code",
   "execution_count": 140,
   "metadata": {},
   "outputs": [
    {
     "name": "stdout",
     "output_type": "stream",
     "text": [
      "(1, 4)\n",
      "(2, 5)\n",
      "(3, 6)\n"
     ]
    }
   ],
   "source": [
    "# better\n",
    "# example of zip function using extended call syntax\n",
    "\n",
    "for i in zip(*daily):\n",
    "    print(i)\n"
   ]
  },
  {
   "cell_type": "code",
   "execution_count": 141,
   "metadata": {},
   "outputs": [
    {
     "data": {
      "text/plain": [
       "[(1, 4), (2, 5), (3, 6)]"
      ]
     },
     "execution_count": 141,
     "metadata": {},
     "output_type": "execute_result"
    }
   ],
   "source": [
    "transposed = list(zip(*daily))\n",
    "\n",
    "transposed"
   ]
  },
  {
   "cell_type": "code",
   "execution_count": 142,
   "metadata": {},
   "outputs": [],
   "source": [
    "# How functions interact with scopes and local functions , which can be used to form closures, which in turn are useful in creating decorator functions.\n"
   ]
  },
  {
   "cell_type": "markdown",
   "metadata": {},
   "source": [
    "# Closures and Decorators\n",
    "\n",
    "#### local functions ; functions defined within scope of other functions"
   ]
  },
  {
   "cell_type": "code",
   "execution_count": 144,
   "metadata": {},
   "outputs": [],
   "source": [
    "# till now we have seen functions defined at module or class level.\n",
    "\n",
    "def func1():\n",
    "    x = 2\n",
    "    return x*x\n",
    "\n",
    "# now we define functions inside other functions , known as local functions.\n",
    "def func2():\n",
    "    def local_func():\n",
    "        a = \"hey\"\n",
    "        return a + \"there\"\n",
    "    x = 1\n",
    "    return x*x\n"
   ]
  },
  {
   "cell_type": "code",
   "execution_count": 145,
   "metadata": {},
   "outputs": [],
   "source": [
    "# example\n",
    "def sort_by_last_letter(strings):\n",
    "    def last_letter(s):\n",
    "        return s[-1]\n",
    "    return sorted(strings,key=last_letter)"
   ]
  },
  {
   "cell_type": "code",
   "execution_count": 146,
   "metadata": {},
   "outputs": [
    {
     "data": {
      "text/plain": [
       "['the', 'side', 'from', 'hello', 'other']"
      ]
     },
     "execution_count": 146,
     "metadata": {},
     "output_type": "execute_result"
    }
   ],
   "source": [
    "sort_by_last_letter([\"hello\",\"from\",\"the\",\"other\",\"side\"])"
   ]
  },
  {
   "cell_type": "code",
   "execution_count": 147,
   "metadata": {},
   "outputs": [],
   "source": [
    "# LEGB rule ; local -> enclosing -> global -> built in"
   ]
  },
  {
   "cell_type": "code",
   "execution_count": 148,
   "metadata": {},
   "outputs": [],
   "source": [
    "# example\n",
    "\n",
    "g = \"global\"\n",
    "def outer(p =\"param\"):\n",
    "    l = \"local\"\n",
    "    def inner():\n",
    "        print(g,p,l)\n",
    "    inner()"
   ]
  },
  {
   "cell_type": "code",
   "execution_count": 149,
   "metadata": {},
   "outputs": [
    {
     "name": "stdout",
     "output_type": "stream",
     "text": [
      "global param local\n"
     ]
    }
   ],
   "source": [
    "outer()"
   ]
  },
  {
   "cell_type": "code",
   "execution_count": 150,
   "metadata": {},
   "outputs": [],
   "source": [
    "# local functions are not members of their containing functions , they are simply local name bindings in the fn body"
   ]
  },
  {
   "cell_type": "code",
   "execution_count": 151,
   "metadata": {},
   "outputs": [
    {
     "ename": "AttributeError",
     "evalue": "'function' object has no attribute 'inner'",
     "output_type": "error",
     "traceback": [
      "\u001b[0;31m---------------------------------------------------------------------------\u001b[0m",
      "\u001b[0;31mAttributeError\u001b[0m                            Traceback (most recent call last)",
      "\u001b[0;32m<ipython-input-151-8f03a188740f>\u001b[0m in \u001b[0;36m<module>\u001b[0;34m()\u001b[0m\n\u001b[0;32m----> 1\u001b[0;31m \u001b[0mouter\u001b[0m\u001b[0;34m.\u001b[0m\u001b[0minner\u001b[0m\u001b[0;34m(\u001b[0m\u001b[0;34m)\u001b[0m\u001b[0;34m\u001b[0m\u001b[0m\n\u001b[0m",
      "\u001b[0;31mAttributeError\u001b[0m: 'function' object has no attribute 'inner'"
     ]
    }
   ],
   "source": [
    "outer.inner()"
   ]
  },
  {
   "cell_type": "code",
   "execution_count": 152,
   "metadata": {},
   "outputs": [],
   "source": [
    "# inner is only defined when outer is executed and even then it's just a part of fn body . not an attrib"
   ]
  },
  {
   "cell_type": "markdown",
   "metadata": {},
   "source": [
    "## Returning Functions from Functions"
   ]
  },
  {
   "cell_type": "code",
   "execution_count": 153,
   "metadata": {},
   "outputs": [],
   "source": [
    "def outer():\n",
    "    def inner():\n",
    "        print(\"inside inner fn\")\n",
    "    return inner"
   ]
  },
  {
   "cell_type": "code",
   "execution_count": 154,
   "metadata": {},
   "outputs": [],
   "source": [
    "i = outer()"
   ]
  },
  {
   "cell_type": "code",
   "execution_count": 155,
   "metadata": {},
   "outputs": [
    {
     "name": "stdout",
     "output_type": "stream",
     "text": [
      "inside inner fn\n"
     ]
    }
   ],
   "source": [
    "i()"
   ]
  },
  {
   "cell_type": "code",
   "execution_count": 156,
   "metadata": {},
   "outputs": [],
   "source": [
    "# example\n",
    "def enclosing():\n",
    "    def local_func():\n",
    "        print(\"inside local fn\")\n",
    "    return local_func\n"
   ]
  },
  {
   "cell_type": "code",
   "execution_count": 157,
   "metadata": {},
   "outputs": [],
   "source": [
    "lf = enclosing()"
   ]
  },
  {
   "cell_type": "code",
   "execution_count": 158,
   "metadata": {},
   "outputs": [
    {
     "data": {
      "text/plain": [
       "<function __main__.enclosing.<locals>.local_func()>"
      ]
     },
     "execution_count": 158,
     "metadata": {},
     "output_type": "execute_result"
    }
   ],
   "source": [
    "lf"
   ]
  },
  {
   "cell_type": "code",
   "execution_count": 159,
   "metadata": {},
   "outputs": [
    {
     "name": "stdout",
     "output_type": "stream",
     "text": [
      "inside local fn\n"
     ]
    }
   ],
   "source": [
    "lf()"
   ]
  },
  {
   "cell_type": "code",
   "execution_count": 160,
   "metadata": {},
   "outputs": [],
   "source": [
    "# functions can be returned as any other object\n",
    "# this is known as first class functions"
   ]
  },
  {
   "cell_type": "markdown",
   "metadata": {},
   "source": [
    "### Closures and Nested scopes"
   ]
  },
  {
   "cell_type": "code",
   "execution_count": 165,
   "metadata": {},
   "outputs": [],
   "source": [
    "# local functions interacting with enclosing functions.\n",
    "# Closures maintain reference to objects from earlier scopes\n",
    "# Closures remembers the objects from the enclosing scope that the local function needs\n",
    "# example\n",
    "\n",
    "def outer():\n",
    "    x = 3\n",
    "    \n",
    "    def inner(y):\n",
    "        return x+y\n",
    "    \n",
    "    return inner"
   ]
  },
  {
   "cell_type": "code",
   "execution_count": 166,
   "metadata": {},
   "outputs": [],
   "source": [
    "i = outer()"
   ]
  },
  {
   "cell_type": "code",
   "execution_count": 167,
   "metadata": {},
   "outputs": [
    {
     "data": {
      "text/plain": [
       "8"
      ]
     },
     "execution_count": 167,
     "metadata": {},
     "output_type": "execute_result"
    }
   ],
   "source": [
    "i(5)"
   ]
  },
  {
   "cell_type": "code",
   "execution_count": 169,
   "metadata": {},
   "outputs": [
    {
     "data": {
      "text/plain": [
       "(<cell at 0x7f360037a588: int object at 0x99efa0>,)"
      ]
     },
     "execution_count": 169,
     "metadata": {},
     "output_type": "execute_result"
    }
   ],
   "source": [
    "i.__closure__"
   ]
  },
  {
   "cell_type": "markdown",
   "metadata": {},
   "source": [
    "### Functions factory : Functions that return new, specialized functions , based on args to the factory"
   ]
  },
  {
   "cell_type": "code",
   "execution_count": 174,
   "metadata": {},
   "outputs": [],
   "source": [
    "# example\n",
    "def raise_to(exp):\n",
    "    def raise_to_exp(x):\n",
    "#         refers to exp arg of enclosing fn\n",
    "        return pow(x,exp)\n",
    "    return raise_to_exp"
   ]
  },
  {
   "cell_type": "code",
   "execution_count": 184,
   "metadata": {},
   "outputs": [],
   "source": [
    "# create a new function square to calculate squares\n",
    "square = raise_to(2)"
   ]
  },
  {
   "cell_type": "code",
   "execution_count": 185,
   "metadata": {},
   "outputs": [
    {
     "data": {
      "text/plain": [
       "<function __main__.raise_to.<locals>.raise_to_exp(x)>"
      ]
     },
     "execution_count": 185,
     "metadata": {},
     "output_type": "execute_result"
    }
   ],
   "source": [
    "square"
   ]
  },
  {
   "cell_type": "code",
   "execution_count": 186,
   "metadata": {},
   "outputs": [
    {
     "data": {
      "text/plain": [
       "25"
      ]
     },
     "execution_count": 186,
     "metadata": {},
     "output_type": "execute_result"
    }
   ],
   "source": [
    "square(5)"
   ]
  },
  {
   "cell_type": "code",
   "execution_count": 187,
   "metadata": {},
   "outputs": [],
   "source": [
    "# create a new function cube to calculate cubes\n",
    "cube = raise_to(3)"
   ]
  },
  {
   "cell_type": "code",
   "execution_count": 188,
   "metadata": {},
   "outputs": [
    {
     "data": {
      "text/plain": [
       "64"
      ]
     },
     "execution_count": 188,
     "metadata": {},
     "output_type": "execute_result"
    }
   ],
   "source": [
    "cube(4)"
   ]
  },
  {
   "cell_type": "markdown",
   "metadata": {},
   "source": [
    "### The Non local keyword"
   ]
  },
  {
   "cell_type": "code",
   "execution_count": 189,
   "metadata": {},
   "outputs": [],
   "source": [
    "# LEGB doesn't apply when making new bindings"
   ]
  },
  {
   "cell_type": "code",
   "execution_count": 190,
   "metadata": {},
   "outputs": [
    {
     "name": "stdout",
     "output_type": "stream",
     "text": [
      "global message global\n",
      "enclosing message enclosing\n",
      "enclosing message enclosing\n",
      "global message global\n"
     ]
    }
   ],
   "source": [
    "# example : we create new name binding in that function's scope \n",
    "message = \"global\"\n",
    "\n",
    "def enclosing():\n",
    "    message = \"enclosing\"\n",
    "    \n",
    "    def local():\n",
    "        message = \"local\"\n",
    "        \n",
    "    print(\"enclosing message {}\".format(message))\n",
    "    local()\n",
    "    print(\"enclosing message {}\".format(message))\n",
    "\n",
    "print(\"global message {}\".format(message))\n",
    "enclosing()\n",
    "print(\"global message {}\".format(message))"
   ]
  },
  {
   "cell_type": "code",
   "execution_count": 192,
   "metadata": {},
   "outputs": [],
   "source": [
    "# global introduces names from the global namespace into the local namespace\n",
    "# so in our example if we wanted to the function local to modify the global binding for the message\n",
    "# rather than creating a new one we can use the global keyword"
   ]
  },
  {
   "cell_type": "code",
   "execution_count": 193,
   "metadata": {},
   "outputs": [
    {
     "name": "stdout",
     "output_type": "stream",
     "text": [
      "global message global\n",
      "enclosing message enclosing\n",
      "enclosing message enclosing\n",
      "global message local\n"
     ]
    }
   ],
   "source": [
    "message = \"global\"\n",
    "\n",
    "def enclosing():\n",
    "    message = \"enclosing\"\n",
    "    \n",
    "    def local():\n",
    "        global message\n",
    "        message = \"local\"\n",
    "        \n",
    "    print(\"enclosing message {}\".format(message))\n",
    "    local()\n",
    "    print(\"enclosing message {}\".format(message))\n",
    "\n",
    "print(\"global message {}\".format(message))\n",
    "enclosing()\n",
    "print(\"global message {}\".format(message))"
   ]
  },
  {
   "cell_type": "code",
   "execution_count": 194,
   "metadata": {},
   "outputs": [
    {
     "name": "stdout",
     "output_type": "stream",
     "text": [
      "global message global\n",
      "enclosing message enclosing\n",
      "enclosing message local\n",
      "global message global\n"
     ]
    }
   ],
   "source": [
    "# how can we modify the messgae defined in enclosing scope from the local function\n",
    "\n",
    "# Solution : Keyword Nonlocal\n",
    "\n",
    "# Nonlocal intoduces names from the enclosing namespace into the local namespace.\n",
    "\n",
    "# example : we create new name binding in that function's scope \n",
    "message = \"global\"\n",
    "\n",
    "def enclosing():\n",
    "    message = \"enclosing\"\n",
    "    \n",
    "    def local():\n",
    "        nonlocal message\n",
    "        message = \"local\"\n",
    "        \n",
    "    print(\"enclosing message {}\".format(message))\n",
    "    local()\n",
    "    print(\"enclosing message {}\".format(message))\n",
    "\n",
    "print(\"global message {}\".format(message))\n",
    "enclosing()\n",
    "print(\"global message {}\".format(message))"
   ]
  },
  {
   "cell_type": "code",
   "execution_count": 195,
   "metadata": {},
   "outputs": [],
   "source": [
    "# example for using non local\n",
    "\n",
    "import time\n",
    "\n",
    "def make_timer():\n",
    "    last_called = None\n",
    "    \n",
    "    def elapsed():\n",
    "        nonlocal last_called\n",
    "        now = time.time()\n",
    "        if last_called is None:\n",
    "            last_called = now\n",
    "            return None\n",
    "        result = now - last_called\n",
    "        last_called = now\n",
    "        return result\n",
    "    \n",
    "    return elapsed"
   ]
  },
  {
   "cell_type": "code",
   "execution_count": 196,
   "metadata": {},
   "outputs": [],
   "source": [
    "t = make_timer()\n",
    "\n",
    "t()"
   ]
  },
  {
   "cell_type": "code",
   "execution_count": 198,
   "metadata": {},
   "outputs": [
    {
     "data": {
      "text/plain": [
       "3.558131217956543"
      ]
     },
     "execution_count": 198,
     "metadata": {},
     "output_type": "execute_result"
    }
   ],
   "source": [
    "t()"
   ]
  },
  {
   "cell_type": "code",
   "execution_count": 199,
   "metadata": {},
   "outputs": [
    {
     "data": {
      "text/plain": [
       "2.398057222366333"
      ]
     },
     "execution_count": 199,
     "metadata": {},
     "output_type": "execute_result"
    }
   ],
   "source": [
    "t()"
   ]
  },
  {
   "cell_type": "code",
   "execution_count": 200,
   "metadata": {},
   "outputs": [
    {
     "data": {
      "text/plain": [
       "2.903949737548828"
      ]
     },
     "execution_count": 200,
     "metadata": {},
     "output_type": "execute_result"
    }
   ],
   "source": [
    "t()"
   ]
  },
  {
   "cell_type": "code",
   "execution_count": 201,
   "metadata": {},
   "outputs": [],
   "source": [
    "# calls to each object are different and independent"
   ]
  },
  {
   "cell_type": "markdown",
   "metadata": {},
   "source": [
    "## Decorators\n",
    "\n",
    "##### Function decorators : modify or enhance functions without changing their definition"
   ]
  },
  {
   "cell_type": "code",
   "execution_count": 210,
   "metadata": {},
   "outputs": [
    {
     "ename": "NameError",
     "evalue": "name 'new_func' is not defined",
     "output_type": "error",
     "traceback": [
      "\u001b[0;31m---------------------------------------------------------------------------\u001b[0m",
      "\u001b[0;31mNameError\u001b[0m                                 Traceback (most recent call last)",
      "\u001b[0;32m<ipython-input-210-18e7fde29ca9>\u001b[0m in \u001b[0;36m<module>\u001b[0;34m()\u001b[0m\n\u001b[1;32m     12\u001b[0m     \u001b[0;32mreturn\u001b[0m \u001b[0mnew_func\u001b[0m\u001b[0;34m\u001b[0m\u001b[0m\n\u001b[1;32m     13\u001b[0m \u001b[0;34m\u001b[0m\u001b[0m\n\u001b[0;32m---> 14\u001b[0;31m \u001b[0;34m@\u001b[0m\u001b[0mmy_decorator\u001b[0m\u001b[0;34m\u001b[0m\u001b[0m\n\u001b[0m\u001b[1;32m     15\u001b[0m \u001b[0;32mdef\u001b[0m \u001b[0mmy_function\u001b[0m\u001b[0;34m(\u001b[0m\u001b[0mx\u001b[0m\u001b[0;34m,\u001b[0m\u001b[0my\u001b[0m\u001b[0;34m)\u001b[0m\u001b[0;34m:\u001b[0m\u001b[0;34m\u001b[0m\u001b[0m\n\u001b[1;32m     16\u001b[0m     \u001b[0;32mreturn\u001b[0m \u001b[0mx\u001b[0m\u001b[0;34m+\u001b[0m\u001b[0my\u001b[0m\u001b[0;34m\u001b[0m\u001b[0m\n",
      "\u001b[0;32m<ipython-input-210-18e7fde29ca9>\u001b[0m in \u001b[0;36mmy_decorator\u001b[0;34m(func)\u001b[0m\n\u001b[1;32m     10\u001b[0m \u001b[0;34m\u001b[0m\u001b[0m\n\u001b[1;32m     11\u001b[0m \u001b[0;32mdef\u001b[0m \u001b[0mmy_decorator\u001b[0m\u001b[0;34m(\u001b[0m\u001b[0mfunc\u001b[0m\u001b[0;34m)\u001b[0m\u001b[0;34m:\u001b[0m\u001b[0;34m\u001b[0m\u001b[0m\n\u001b[0;32m---> 12\u001b[0;31m     \u001b[0;32mreturn\u001b[0m \u001b[0mnew_func\u001b[0m\u001b[0;34m\u001b[0m\u001b[0m\n\u001b[0m\u001b[1;32m     13\u001b[0m \u001b[0;34m\u001b[0m\u001b[0m\n\u001b[1;32m     14\u001b[0m \u001b[0;34m@\u001b[0m\u001b[0mmy_decorator\u001b[0m\u001b[0;34m\u001b[0m\u001b[0m\n",
      "\u001b[0;31mNameError\u001b[0m: name 'new_func' is not defined"
     ]
    }
   ],
   "source": [
    "# Decorators are implemented as callable that take and return other callables\n",
    "# ie decorators are functions that take and return other functions\n",
    "\n",
    "# python passes the function object created by return to decorator function\n",
    "# decorators only take callable object(functions) are their only argument and return a function (callable object) as well\n",
    "# python takes the return value from the decorator and binds it to the name of original function\n",
    "# decorators allow you to replace, enhance or modify existing functions without changing the original fn def\n",
    "\n",
    "# syntax\n",
    "\n",
    "def my_decorator(func):\n",
    "    return new_func\n",
    "\n",
    "@my_decorator\n",
    "def my_function(x,y):\n",
    "    return x+y"
   ]
  },
  {
   "cell_type": "code",
   "execution_count": 211,
   "metadata": {},
   "outputs": [],
   "source": [
    "# example\n",
    "\n",
    "def veg():\n",
    "    return \"tomato\"\n",
    "\n",
    "def animal():\n",
    "    return \"ox\"\n",
    "\n",
    "def mineral():\n",
    "    return \"nickel\""
   ]
  },
  {
   "cell_type": "code",
   "execution_count": 212,
   "metadata": {},
   "outputs": [],
   "source": [
    "# now we want to ensure all the strings returned are only ascii characters\n",
    "# solution 1:not scalable because we have to manually modify all functions\n",
    "# def veg():\n",
    "#     return ascii(\"tomato\")\n",
    "\n",
    "# solution 2 \n",
    "# apply decorator function to all the above mentioned function\n",
    " \n",
    "def escape_unicode(f):\n",
    "    def wrap(*args,**kwargs):\n",
    "        x = f(*args,**kwargs)\n",
    "        return ascii(x)\n",
    "    return wrap"
   ]
  },
  {
   "cell_type": "code",
   "execution_count": 215,
   "metadata": {},
   "outputs": [],
   "source": [
    "def north():\n",
    "    return \"ab ✓\""
   ]
  },
  {
   "cell_type": "code",
   "execution_count": 216,
   "metadata": {},
   "outputs": [
    {
     "data": {
      "text/plain": [
       "'ab ✓'"
      ]
     },
     "execution_count": 216,
     "metadata": {},
     "output_type": "execute_result"
    }
   ],
   "source": [
    "north()"
   ]
  },
  {
   "cell_type": "code",
   "execution_count": 217,
   "metadata": {},
   "outputs": [],
   "source": [
    "@escape_unicode\n",
    "def north():\n",
    "    return \"ab ✓\""
   ]
  },
  {
   "cell_type": "code",
   "execution_count": 218,
   "metadata": {},
   "outputs": [
    {
     "data": {
      "text/plain": [
       "\"'ab \\\\u2713'\""
      ]
     },
     "execution_count": 218,
     "metadata": {},
     "output_type": "execute_result"
    }
   ],
   "source": [
    "north()"
   ]
  },
  {
   "cell_type": "code",
   "execution_count": 220,
   "metadata": {},
   "outputs": [],
   "source": [
    "# What can be decorators ?\n",
    "# we have seen functions as decorators but other objects can be decorators as well.\n",
    "\n",
    "# 1) Classes as decorators\n",
    "\n",
    "class MyDec:\n",
    "    def __init__(self,func):\n",
    "        pass\n",
    "    \n",
    "    def __call__(self):\n",
    "        pass\n",
    " \n",
    "# using class (MyDec) as decorator\n",
    "@MyDec\n",
    "def new_function():\n",
    "    pass"
   ]
  },
  {
   "cell_type": "code",
   "execution_count": 222,
   "metadata": {},
   "outputs": [],
   "source": [
    "# example\n",
    "\n",
    "class CallCount:\n",
    "    def __init__(self,f):\n",
    "        self.f = f\n",
    "        self.count = 0\n",
    "        \n",
    "    def __call__(self,*args,**kwargs):\n",
    "        self.count += 1\n",
    "        return self.f(*args,**kwargs)\n",
    "    \n",
    "@CallCount\n",
    "def hello(name):\n",
    "    print(name)"
   ]
  },
  {
   "cell_type": "code",
   "execution_count": 223,
   "metadata": {},
   "outputs": [
    {
     "name": "stdout",
     "output_type": "stream",
     "text": [
      "foo\n"
     ]
    }
   ],
   "source": [
    "hello(\"foo\")"
   ]
  },
  {
   "cell_type": "code",
   "execution_count": 224,
   "metadata": {},
   "outputs": [
    {
     "name": "stdout",
     "output_type": "stream",
     "text": [
      "bar\n"
     ]
    }
   ],
   "source": [
    "hello(\"bar\")"
   ]
  },
  {
   "cell_type": "code",
   "execution_count": 225,
   "metadata": {},
   "outputs": [
    {
     "data": {
      "text/plain": [
       "2"
      ]
     },
     "execution_count": 225,
     "metadata": {},
     "output_type": "execute_result"
    }
   ],
   "source": [
    "hello.count"
   ]
  },
  {
   "cell_type": "code",
   "execution_count": 229,
   "metadata": {},
   "outputs": [
    {
     "ename": "TypeError",
     "evalue": "object() takes no parameters",
     "output_type": "error",
     "traceback": [
      "\u001b[0;31m---------------------------------------------------------------------------\u001b[0m",
      "\u001b[0;31mTypeError\u001b[0m                                 Traceback (most recent call last)",
      "\u001b[0;32m<ipython-input-229-f991363ccb6c>\u001b[0m in \u001b[0;36m<module>\u001b[0;34m()\u001b[0m\n\u001b[1;32m      6\u001b[0m             \u001b[0;32mreturn\u001b[0m \u001b[0mwrap\u001b[0m\u001b[0;34m\u001b[0m\u001b[0m\n\u001b[1;32m      7\u001b[0m \u001b[0;34m\u001b[0m\u001b[0m\n\u001b[0;32m----> 8\u001b[0;31m \u001b[0;34m@\u001b[0m\u001b[0mAnotherDec\u001b[0m\u001b[0;34m\u001b[0m\u001b[0m\n\u001b[0m\u001b[1;32m      9\u001b[0m \u001b[0;32mdef\u001b[0m \u001b[0mnew_func\u001b[0m\u001b[0;34m(\u001b[0m\u001b[0;34m)\u001b[0m\u001b[0;34m:\u001b[0m\u001b[0;34m\u001b[0m\u001b[0m\n\u001b[1;32m     10\u001b[0m     \u001b[0;32mpass\u001b[0m\u001b[0;34m\u001b[0m\u001b[0m\n",
      "\u001b[0;31mTypeError\u001b[0m: object() takes no parameters"
     ]
    }
   ],
   "source": [
    "# 2) Instances as decorators\n",
    "\n",
    "class AnotherDec:\n",
    "    def __call__(self,f):\n",
    "        def wrap():\n",
    "            return wrap\n",
    "        \n",
    "@AnotherDec\n",
    "def new_func():\n",
    "    pass"
   ]
  },
  {
   "cell_type": "code",
   "execution_count": 231,
   "metadata": {},
   "outputs": [],
   "source": [
    "# example\n",
    "\n",
    "class Trace:\n",
    "    def __init__(self):\n",
    "        self.enabled = True\n",
    "        \n",
    "    def __call__(self,f):\n",
    "        def wrap(*args,**kwargs):\n",
    "            if self.enabled:\n",
    "                print(\"calling {}\".format(f))\n",
    "            return f(*args,**kwargs)\n",
    "        return wrap\n",
    "    \n",
    "t = Trace()\n",
    "\n",
    "@t\n",
    "def rotate_list(l):\n",
    "    return l[1:] + [l[0]]"
   ]
  },
  {
   "cell_type": "code",
   "execution_count": 233,
   "metadata": {},
   "outputs": [
    {
     "name": "stdout",
     "output_type": "stream",
     "text": [
      "calling <function rotate_list at 0x7f36000e5ae8>\n"
     ]
    },
    {
     "data": {
      "text/plain": [
       "[2, 3, 1]"
      ]
     },
     "execution_count": 233,
     "metadata": {},
     "output_type": "execute_result"
    }
   ],
   "source": [
    "l1 = [1,2,3]\n",
    "\n",
    "rotate_list(l1)"
   ]
  },
  {
   "cell_type": "code",
   "execution_count": 234,
   "metadata": {},
   "outputs": [
    {
     "name": "stdout",
     "output_type": "stream",
     "text": [
      "calling <function rotate_list at 0x7f36000e5ae8>\n"
     ]
    },
    {
     "data": {
      "text/plain": [
       "[8, 3, 7, 4]"
      ]
     },
     "execution_count": 234,
     "metadata": {},
     "output_type": "execute_result"
    }
   ],
   "source": [
    "l2 = [4,8,3,7]\n",
    "\n",
    "rotate_list(l2)"
   ]
  },
  {
   "cell_type": "code",
   "execution_count": 236,
   "metadata": {},
   "outputs": [],
   "source": [
    "t.enabled = False"
   ]
  },
  {
   "cell_type": "code",
   "execution_count": 237,
   "metadata": {},
   "outputs": [
    {
     "data": {
      "text/plain": [
       "[5, 6, 7, 4]"
      ]
     },
     "execution_count": 237,
     "metadata": {},
     "output_type": "execute_result"
    }
   ],
   "source": [
    "l3 = [4,5,6,7]\n",
    "\n",
    "rotate_list(l3)"
   ]
  },
  {
   "cell_type": "code",
   "execution_count": 243,
   "metadata": {},
   "outputs": [
    {
     "ename": "NameError",
     "evalue": "name 'decorator1' is not defined",
     "output_type": "error",
     "traceback": [
      "\u001b[0;31m---------------------------------------------------------------------------\u001b[0m",
      "\u001b[0;31mNameError\u001b[0m                                 Traceback (most recent call last)",
      "\u001b[0;32m<ipython-input-243-461f9b271bbb>\u001b[0m in \u001b[0;36m<module>\u001b[0;34m()\u001b[0m\n\u001b[1;32m      3\u001b[0m \u001b[0;31m# syntax\u001b[0m\u001b[0;34m\u001b[0m\u001b[0;34m\u001b[0m\u001b[0m\n\u001b[1;32m      4\u001b[0m \u001b[0;34m\u001b[0m\u001b[0m\n\u001b[0;32m----> 5\u001b[0;31m \u001b[0;34m@\u001b[0m\u001b[0mdecorator1\u001b[0m\u001b[0;34m\u001b[0m\u001b[0m\n\u001b[0m\u001b[1;32m      6\u001b[0m \u001b[0;34m@\u001b[0m\u001b[0mdecorator2\u001b[0m\u001b[0;34m\u001b[0m\u001b[0m\n\u001b[1;32m      7\u001b[0m \u001b[0;34m@\u001b[0m\u001b[0mdecorator3\u001b[0m\u001b[0;34m\u001b[0m\u001b[0m\n",
      "\u001b[0;31mNameError\u001b[0m: name 'decorator1' is not defined"
     ]
    }
   ],
   "source": [
    "# Multiple decorators\n",
    "# processed in reverse order eg) decorator3 is processed first\n",
    "# syntax\n",
    "\n",
    "@decorator1\n",
    "@decorator2\n",
    "@decorator3\n",
    "def some_func():\n",
    "    pass"
   ]
  },
  {
   "cell_type": "code",
   "execution_count": 244,
   "metadata": {},
   "outputs": [],
   "source": [
    "# example\n",
    "\n",
    " \n",
    "def escape_unicode(f):\n",
    "    def wrap(*args,**kwargs):\n",
    "        x = f(*args,**kwargs)\n",
    "        return ascii(x)\n",
    "    return wrap\n",
    "\n",
    "class Trace:\n",
    "    def __init__(self):\n",
    "        self.enabled = True\n",
    "        \n",
    "    def __call__(self,f):\n",
    "        def wrap(*args,**kwargs):\n",
    "            if self.enabled:\n",
    "                print(\"calling {}\".format(f))\n",
    "            return f(*args,**kwargs)\n",
    "        return wrap\n",
    "    \n",
    "tracer = Trace()\n",
    "\n",
    "@tracer\n",
    "@escape_unicode\n",
    "def marker(name):\n",
    "    return name + \"✓\""
   ]
  },
  {
   "cell_type": "code",
   "execution_count": 245,
   "metadata": {},
   "outputs": [
    {
     "name": "stdout",
     "output_type": "stream",
     "text": [
      "calling <function escape_unicode.<locals>.wrap at 0x7f36000e5bf8>\n"
     ]
    },
    {
     "data": {
      "text/plain": [
       "\"'llama\\\\u2713'\""
      ]
     },
     "execution_count": 245,
     "metadata": {},
     "output_type": "execute_result"
    }
   ],
   "source": [
    "marker(\"llama\")"
   ]
  },
  {
   "cell_type": "code",
   "execution_count": 246,
   "metadata": {},
   "outputs": [],
   "source": [
    "tracer.enabled = False"
   ]
  },
  {
   "cell_type": "code",
   "execution_count": 247,
   "metadata": {},
   "outputs": [
    {
     "data": {
      "text/plain": [
       "\"'python\\\\u2713'\""
      ]
     },
     "execution_count": 247,
     "metadata": {},
     "output_type": "execute_result"
    }
   ],
   "source": [
    "marker(\"python\")"
   ]
  },
  {
   "cell_type": "markdown",
   "metadata": {},
   "source": [
    "###### so far we have seen decorators applied to functions\n",
    "\n",
    "### Decorating methods instead of functions"
   ]
  },
  {
   "cell_type": "code",
   "execution_count": 248,
   "metadata": {},
   "outputs": [],
   "source": [
    "class IslandMaker:\n",
    "    \n",
    "    def __init__(self,suffix):\n",
    "        self.suffix = suffix\n",
    "        \n",
    "    @tracer\n",
    "    def make_island(self,name):\n",
    "        return name + self.suffix"
   ]
  },
  {
   "cell_type": "code",
   "execution_count": 249,
   "metadata": {},
   "outputs": [],
   "source": [
    "im = IslandMaker(\"Island\")"
   ]
  },
  {
   "cell_type": "code",
   "execution_count": 251,
   "metadata": {},
   "outputs": [
    {
     "data": {
      "text/plain": [
       "'montyIsland'"
      ]
     },
     "execution_count": 251,
     "metadata": {},
     "output_type": "execute_result"
    }
   ],
   "source": [
    "im.make_island(\"monty\")"
   ]
  },
  {
   "cell_type": "code",
   "execution_count": 252,
   "metadata": {},
   "outputs": [
    {
     "data": {
      "text/plain": [
       "'pythonIsland'"
      ]
     },
     "execution_count": 252,
     "metadata": {},
     "output_type": "execute_result"
    }
   ],
   "source": [
    "im.make_island(\"python\")"
   ]
  },
  {
   "cell_type": "markdown",
   "metadata": {},
   "source": [
    "### functools.wraps()"
   ]
  },
  {
   "cell_type": "code",
   "execution_count": 253,
   "metadata": {},
   "outputs": [],
   "source": [
    "# Naive decorators can loose important meta data\n",
    "\n",
    "def hello():\n",
    "    \"\"\"print a message\"\"\"\n",
    "    print(\"Hello world\")"
   ]
  },
  {
   "cell_type": "code",
   "execution_count": 254,
   "metadata": {},
   "outputs": [
    {
     "data": {
      "text/plain": [
       "'hello'"
      ]
     },
     "execution_count": 254,
     "metadata": {},
     "output_type": "execute_result"
    }
   ],
   "source": [
    "hello.__name__"
   ]
  },
  {
   "cell_type": "code",
   "execution_count": 255,
   "metadata": {},
   "outputs": [
    {
     "data": {
      "text/plain": [
       "'print a message'"
      ]
     },
     "execution_count": 255,
     "metadata": {},
     "output_type": "execute_result"
    }
   ],
   "source": [
    "hello.__doc__"
   ]
  },
  {
   "cell_type": "code",
   "execution_count": 257,
   "metadata": {},
   "outputs": [
    {
     "name": "stdout",
     "output_type": "stream",
     "text": [
      "Help on function hello in module __main__:\n",
      "\n",
      "hello()\n",
      "    print a message\n",
      "\n"
     ]
    }
   ],
   "source": [
    "help(hello)"
   ]
  },
  {
   "cell_type": "code",
   "execution_count": 259,
   "metadata": {},
   "outputs": [],
   "source": [
    "def noop(f):\n",
    "    def noop_wrapper(f):\n",
    "        return f()\n",
    "    return noop_wrapper\n",
    "\n",
    "@noop\n",
    "def hello():\n",
    "    \"\"\"print a message\"\"\"\n",
    "    print(\"Hello world\")"
   ]
  },
  {
   "cell_type": "code",
   "execution_count": 260,
   "metadata": {},
   "outputs": [
    {
     "name": "stdout",
     "output_type": "stream",
     "text": [
      "Help on function noop_wrapper in module __main__:\n",
      "\n",
      "noop_wrapper(f)\n",
      "\n"
     ]
    }
   ],
   "source": [
    "help(hello)"
   ]
  },
  {
   "cell_type": "code",
   "execution_count": 261,
   "metadata": {},
   "outputs": [
    {
     "data": {
      "text/plain": [
       "'noop_wrapper'"
      ]
     },
     "execution_count": 261,
     "metadata": {},
     "output_type": "execute_result"
    }
   ],
   "source": [
    "hello.__name__"
   ]
  },
  {
   "cell_type": "code",
   "execution_count": 262,
   "metadata": {},
   "outputs": [],
   "source": [
    "hello.__doc__"
   ]
  },
  {
   "cell_type": "code",
   "execution_count": 263,
   "metadata": {},
   "outputs": [],
   "source": [
    "def noop(f):\n",
    "    def noop_wrapper(f):\n",
    "        return f()\n",
    "    noop_wrapper.__name__ = f.__name__\n",
    "    noop_wrapper.__doc__ = f.__doc__\n",
    "    return noop_wrapper\n",
    "\n",
    "@noop\n",
    "def hello():\n",
    "    \"\"\"print a message\"\"\"\n",
    "    print(\"Hello world\")"
   ]
  },
  {
   "cell_type": "code",
   "execution_count": 265,
   "metadata": {},
   "outputs": [
    {
     "name": "stdout",
     "output_type": "stream",
     "text": [
      "Help on function hello in module __main__:\n",
      "\n",
      "hello(f)\n",
      "    print a message\n",
      "\n"
     ]
    }
   ],
   "source": [
    "help(hello)"
   ]
  },
  {
   "cell_type": "code",
   "execution_count": 267,
   "metadata": {},
   "outputs": [],
   "source": [
    "# functools.wraps() properly inherits the attributes from the functions they wrap"
   ]
  },
  {
   "cell_type": "code",
   "execution_count": 268,
   "metadata": {},
   "outputs": [],
   "source": [
    "import functools\n",
    "\n",
    "def noop(f):\n",
    "    @functools.wraps(f)\n",
    "    def noop_wrapper():\n",
    "        return f()\n",
    "    return noop_wrapper\n",
    "\n",
    "@noop\n",
    "def hello():\n",
    "    \"\"\"print a message\"\"\"\n",
    "    print(\"Hello world\")"
   ]
  },
  {
   "cell_type": "code",
   "execution_count": 269,
   "metadata": {},
   "outputs": [
    {
     "name": "stdout",
     "output_type": "stream",
     "text": [
      "Help on function hello in module __main__:\n",
      "\n",
      "hello()\n",
      "    print a message\n",
      "\n"
     ]
    }
   ],
   "source": [
    "help(hello)"
   ]
  },
  {
   "cell_type": "code",
   "execution_count": 270,
   "metadata": {},
   "outputs": [
    {
     "data": {
      "text/plain": [
       "'hello'"
      ]
     },
     "execution_count": 270,
     "metadata": {},
     "output_type": "execute_result"
    }
   ],
   "source": [
    "hello.__name__"
   ]
  },
  {
   "cell_type": "code",
   "execution_count": 271,
   "metadata": {},
   "outputs": [
    {
     "data": {
      "text/plain": [
       "'print a message'"
      ]
     },
     "execution_count": 271,
     "metadata": {},
     "output_type": "execute_result"
    }
   ],
   "source": [
    "hello.__doc__"
   ]
  },
  {
   "cell_type": "code",
   "execution_count": 272,
   "metadata": {},
   "outputs": [],
   "source": [
    "# use of decorators to validate function arguments.\n",
    "\n",
    "def check_non_negative(index):\n",
    "    def validator(f):\n",
    "        def wrap(*args):\n",
    "            if args[index]<0:\n",
    "                raise ValueError\n",
    "            return f(*args)\n",
    "        return wrap\n",
    "    return validator\n",
    "\n",
    "@check_non_negative(1)\n",
    "def create_list(value,size):\n",
    "    return [value]*size\n"
   ]
  },
  {
   "cell_type": "code",
   "execution_count": 273,
   "metadata": {},
   "outputs": [
    {
     "data": {
      "text/plain": [
       "['a', 'a', 'a']"
      ]
     },
     "execution_count": 273,
     "metadata": {},
     "output_type": "execute_result"
    }
   ],
   "source": [
    "create_list('a',3)"
   ]
  },
  {
   "cell_type": "code",
   "execution_count": 274,
   "metadata": {},
   "outputs": [
    {
     "ename": "ValueError",
     "evalue": "",
     "output_type": "error",
     "traceback": [
      "\u001b[0;31m---------------------------------------------------------------------------\u001b[0m",
      "\u001b[0;31mValueError\u001b[0m                                Traceback (most recent call last)",
      "\u001b[0;32m<ipython-input-274-322f9eb45a6f>\u001b[0m in \u001b[0;36m<module>\u001b[0;34m()\u001b[0m\n\u001b[0;32m----> 1\u001b[0;31m \u001b[0mcreate_list\u001b[0m\u001b[0;34m(\u001b[0m\u001b[0;34m'a'\u001b[0m\u001b[0;34m,\u001b[0m\u001b[0;34m-\u001b[0m\u001b[0;36m3\u001b[0m\u001b[0;34m)\u001b[0m\u001b[0;34m\u001b[0m\u001b[0m\n\u001b[0m",
      "\u001b[0;32m<ipython-input-272-191020c96f92>\u001b[0m in \u001b[0;36mwrap\u001b[0;34m(*args)\u001b[0m\n\u001b[1;32m      5\u001b[0m         \u001b[0;32mdef\u001b[0m \u001b[0mwrap\u001b[0m\u001b[0;34m(\u001b[0m\u001b[0;34m*\u001b[0m\u001b[0margs\u001b[0m\u001b[0;34m)\u001b[0m\u001b[0;34m:\u001b[0m\u001b[0;34m\u001b[0m\u001b[0m\n\u001b[1;32m      6\u001b[0m             \u001b[0;32mif\u001b[0m \u001b[0margs\u001b[0m\u001b[0;34m[\u001b[0m\u001b[0mindex\u001b[0m\u001b[0;34m]\u001b[0m\u001b[0;34m<\u001b[0m\u001b[0;36m0\u001b[0m\u001b[0;34m:\u001b[0m\u001b[0;34m\u001b[0m\u001b[0m\n\u001b[0;32m----> 7\u001b[0;31m                 \u001b[0;32mraise\u001b[0m \u001b[0mValueError\u001b[0m\u001b[0;34m\u001b[0m\u001b[0m\n\u001b[0m\u001b[1;32m      8\u001b[0m             \u001b[0;32mreturn\u001b[0m \u001b[0mf\u001b[0m\u001b[0;34m(\u001b[0m\u001b[0;34m*\u001b[0m\u001b[0margs\u001b[0m\u001b[0;34m)\u001b[0m\u001b[0;34m\u001b[0m\u001b[0m\n\u001b[1;32m      9\u001b[0m         \u001b[0;32mreturn\u001b[0m \u001b[0mwrap\u001b[0m\u001b[0;34m\u001b[0m\u001b[0m\n",
      "\u001b[0;31mValueError\u001b[0m: "
     ]
    }
   ],
   "source": [
    "create_list('a',-3)"
   ]
  },
  {
   "cell_type": "code",
   "execution_count": null,
   "metadata": {},
   "outputs": [],
   "source": [
    "# check non negative isn't a decorator cause it doesn't take function/callable as an argument.\n",
    "# here validator() is the actual decorator.\n",
    "\n"
   ]
  }
 ],
 "metadata": {
  "kernelspec": {
   "display_name": "Python 3",
   "language": "python",
   "name": "python3"
  },
  "language_info": {
   "codemirror_mode": {
    "name": "ipython",
    "version": 3
   },
   "file_extension": ".py",
   "mimetype": "text/x-python",
   "name": "python",
   "nbconvert_exporter": "python",
   "pygments_lexer": "ipython3",
   "version": "3.4.3"
  }
 },
 "nbformat": 4,
 "nbformat_minor": 2
}
